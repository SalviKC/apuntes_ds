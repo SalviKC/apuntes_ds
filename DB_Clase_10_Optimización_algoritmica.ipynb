{
  "nbformat": 4,
  "nbformat_minor": 0,
  "metadata": {
    "colab": {
      "provenance": []
    },
    "kernelspec": {
      "name": "python3",
      "display_name": "Python 3"
    },
    "language_info": {
      "name": "python"
    }
  },
  "cells": [
    {
      "cell_type": "markdown",
      "source": [
        "<div align=\"right\">\n",
        "  <img src=\"https://drive.google.com/uc?export=view&id=1J8JpP65HsHXdpJvhb_sMwn3yROyU832m\" height=\"80\" width=\"200\" style=\"float: right;\">\n",
        "</div>\n",
        "<h1><b>Data Science and Machine Learning</b></h1>\n",
        "<h2><b>Clase 10</b>: Optimización algorítmica</h2>\n",
        "<h3><b>Docente</b>: <a href=\"https://www.linkedin.com/in/danielablanco/\">Daniela Blanco</a>"
      ],
      "metadata": {
        "id": "Wp4cyu16yiif"
      }
    },
    {
      "cell_type": "markdown",
      "source": [
        "# Contenido\n",
        "\n",
        "- [1. Algoritmo](#algoritmo)\n",
        "- [2. Complejidd temporal de los algoritmos](#complejidad)\n",
        "- [3. Buenas prácticas](#buenas_practicas)\n",
        "- [4. Links de interés](#links)\n"
      ],
      "metadata": {
        "id": "XEmijBfl2b_I"
      }
    },
    {
      "cell_type": "markdown",
      "source": [
        "## 1. Algoritmo <a name=\"algoritmo\"></a>"
      ],
      "metadata": {
        "id": "Pw6lT_8L3Bny"
      }
    },
    {
      "cell_type": "markdown",
      "source": [
        "<img src=\"https://drive.google.com/uc?export=view&id=19oWQQKGplOQ6-dEkXo0nnI9lZBvKDk--\" height=\"160\" width=\"460\" style=\"float: center;\">"
      ],
      "metadata": {
        "id": "r4PQ6VCun-6J"
      }
    },
    {
      "cell_type": "markdown",
      "source": [
        "Un **algoritmo** es un conjunto de instrucciones que se siguen para lograr un objetivo o resolver un problema.\n",
        "\n",
        "Por ejemplo, la ejecución de tareas cotidianas tan simples como cepillarse los dientes, lavarse las manos o seguir el manual de instrucciones de armado de un mueble, se pueden ver como un algoritmo.\n",
        "\n",
        "En programación, un algoritmo es un conjunto de instrucciones informáticas que constituyen una función.\n",
        "\n",
        "Hablamos de una secuencia ordenada de pasos (receta)."
      ],
      "metadata": {
        "id": "4jhbeTuX8V_T"
      }
    },
    {
      "cell_type": "code",
      "source": [
        "def calculate_triangle_area(base, height):\n",
        "    product = base * height\n",
        "    area = product / 2\n",
        "    return f\"El área es {area}\"\n",
        "\n",
        "calculate_triangle_area(20, 15)"
      ],
      "metadata": {
        "id": "5ACCr8owomEI"
      },
      "execution_count": null,
      "outputs": []
    },
    {
      "cell_type": "markdown",
      "source": [
        "**¿Cuál es el algoritmo para hacer una buena tortilla española de papas?**"
      ],
      "metadata": {
        "id": "flr4GbVipGci"
      }
    },
    {
      "cell_type": "markdown",
      "source": [
        "## 2. Complejidd temporal de los algoritmos <a name=\"complejidad\"></a>"
      ],
      "metadata": {
        "id": "ettFkGtjpJYR"
      }
    },
    {
      "cell_type": "markdown",
      "source": [
        "La **complejidad temporal de los algoritmos** es una medida que describe la cantidad de tiempo que un algoritmo necesita para completar su ejecución en función del tamaño de la entrada.\n",
        "\n",
        "Podemos verlo como el número de operaciones que realiza un algoritmo para completar su tarea (considerando que cada operación dura el mismo tiempo).\n",
        "\n",
        "El algoritmo que realiza la tarea en el menor número de operaciones (o tiempo) se considera el más eficiente en términos de complejidad temporal.\n",
        "\n",
        "Esta medida se expresa generalmente utilizando la notación **Big O**."
      ],
      "metadata": {
        "id": "pdQfRst7pPF-"
      }
    },
    {
      "cell_type": "markdown",
      "source": [
        "### 2.1. Notación O grande (big) <a name=\"notacion\"></a>"
      ],
      "metadata": {
        "id": "sTozKPT9pwQa"
      }
    },
    {
      "cell_type": "markdown",
      "source": [
        "La notación **Big O** se usa para clasificar los algoritmos según su rendimiento o el tiempo que requieren en el peor de los casos.\n",
        "\n",
        "Por ejemplo, un algoritmo con complejidad 𝑂(𝑛) se dice que tiene tiempo lineal, lo que significa que el tiempo de ejecución crece de manera proporcional al tamaño de la entrada.\n",
        "\n",
        "**Tamaño de la entrada**: denotado como 𝑛, se refiere a la cantidad de datos que se procesan. Puede ser el número de elementos en una lista, la longitud de una cadena, o cualquier otra métrica relevante según el contexto del problema."
      ],
      "metadata": {
        "id": "iBlwZMIPpr8J"
      }
    },
    {
      "cell_type": "markdown",
      "source": [
        "### 2.2. Tipos Comunes de Complejidad Temporal <a name=\"tipos\"></a>\n",
        "\n",
        "- $O(1)$ - **Tiempo constante**: La sentencia solo necesita una unidad de tiempo para terminar. Es la mejor medida de todas. No depende del tamaño de entrada.\n",
        "\n",
        "- $O(n)$ - **Tiempo lineal**: La sentencia necesita $n$ unidades de tiempo para realizar la tarea. El tiempo de ejecución crece linealmente con el tamaño de la entrada. Si por ejemplo $n = 3$, la sentencia necesitará $3$ unidades de tiempo para terminar.\n",
        "\n",
        "- $O(n^2)$ - **Tiempo cuadrático**: La sentencia necesita $n · n$ unidades de tiempo para realizar la tarea. El tiempo de ejecución crece proporcionalmente al cuadrado del tamaño de entrada. Si por ejemplo $n = 3$, la sentencia necesitará $3 · 3 = 9$ unidades de tiempo para terminar.\n",
        "\n",
        "- $O(n^3)$ - **Tiempo cúbica**: El tiempo de ejecución crece proporcionalmente al cubo del tamaño de la entrada.\n",
        "\n",
        "- $O(log (n))$ - **Tiempo logaritmico**: El tiempo de ejecución crece logarítmicamente con el tamaño de la entrada.\n",
        "\n",
        "- $O(n log (n))$ - **Tiempo log lineal**: El tiempo de ejecución crece en una combinación de lineal y logarítmica.\n",
        "\n",
        "- $O(C^n)$ - **Tiempo exponencial**: La sentencia es muy ineficiente en tiempo. Necesitará una gran cantidad de tiempo para terminar. Es la peor medida de todas."
      ],
      "metadata": {
        "id": "nssP5_UxqhO2"
      }
    },
    {
      "cell_type": "markdown",
      "source": [
        "![Gráfico comparativo de complejidad temporal](https://github.com/4GeeksAcademy/machine-learning-content/blob/master/assets/complexity_chart.PNG?raw=true)\n"
      ],
      "metadata": {
        "id": "SVWiybMyr2lX"
      }
    },
    {
      "cell_type": "markdown",
      "source": [
        "###**Ejemplos**\n",
        "\n",
        "**Ejemplo 1**: Acceso a un Elemento en un Arreglo"
      ],
      "metadata": {
        "id": "knzX8zRjqjd7"
      }
    },
    {
      "cell_type": "code",
      "source": [
        "def get_first_element(arr):\n",
        "    return arr[0]\n",
        "\n",
        "# Ejemplo de uso\n",
        "arr = [10, 20, 30, 40, 50]\n",
        "\n",
        "print(get_first_element(arr))"
      ],
      "metadata": {
        "colab": {
          "base_uri": "https://localhost:8080/"
        },
        "id": "HT4GWC1jsgkD",
        "outputId": "46bf2b0b-52e5-4678-e391-35f1e271b6ec"
      },
      "execution_count": 1,
      "outputs": [
        {
          "output_type": "stream",
          "name": "stdout",
          "text": [
            "10\n"
          ]
        }
      ]
    },
    {
      "cell_type": "markdown",
      "source": [
        "En este caso, sin importar el tamaño del arreglo arr, la operación de acceso a un elemento específico siempre toma la misma cantidad de tiempo, es decir, constante **O(1)**."
      ],
      "metadata": {
        "id": "edaX1lKpsmNF"
      }
    },
    {
      "cell_type": "markdown",
      "source": [
        "**Ejemplo 2**: Busqueda lineal"
      ],
      "metadata": {
        "id": "e_cJrHLbsphg"
      }
    },
    {
      "cell_type": "code",
      "source": [
        "def linear_search(arr, target):\n",
        "    for index, element in enumerate(arr):\n",
        "        if element == target:\n",
        "            return index\n",
        "\n",
        "    # Elemento no encontrado\n",
        "    return -1"
      ],
      "metadata": {
        "id": "O4x7O0IjtQ5y"
      },
      "execution_count": 3,
      "outputs": []
    },
    {
      "cell_type": "code",
      "source": [
        "arr = [10, 20, 30, 40, 50]\n",
        "target = 30\n",
        "\n",
        "index = linear_search(arr, target)\n",
        "\n",
        "print(f'Elemento {target} encontrado en el índice {index}')"
      ],
      "metadata": {
        "colab": {
          "base_uri": "https://localhost:8080/"
        },
        "id": "qf5gVmKotYiJ",
        "outputId": "df5c6a9c-655d-4a22-ec04-8cbe66236683"
      },
      "execution_count": 4,
      "outputs": [
        {
          "output_type": "stream",
          "name": "stdout",
          "text": [
            "Elemento 30 encontrado en el índice 2\n"
          ]
        }
      ]
    },
    {
      "cell_type": "markdown",
      "source": [
        "La búsqueda lineal es un algoritmo de búsqueda simple que tiene una complejidad temporal de **𝑂(𝑛)**\n",
        "\n",
        "Recorre cada elemento de la lista hasta encontrar el objetivo o hasta llegar al final de la lista."
      ],
      "metadata": {
        "id": "3KVHr_oXto0_"
      }
    },
    {
      "cell_type": "markdown",
      "source": [
        "**Ejemplo 3**: Ordenación por Burbuja\n",
        "\n",
        "La ordenación por burbuja es un algoritmo de ordenación simple pero ineficiente para listas grandes."
      ],
      "metadata": {
        "id": "E5gkPYTBuNC9"
      }
    },
    {
      "cell_type": "code",
      "source": [
        "def bubble_sort(arr):\n",
        "    n = len(arr)\n",
        "\n",
        "    for i in range(n):\n",
        "        for j in range(0, n-i-1):\n",
        "            if arr[j] > arr[j+1]:\n",
        "                arr[j], arr[j+1] = arr[j+1], arr[j]"
      ],
      "metadata": {
        "id": "qgTZ8Awsuyac"
      },
      "execution_count": 5,
      "outputs": []
    },
    {
      "cell_type": "code",
      "source": [
        "arr = [64, 34, 25, 12, 22, 11, 90]\n",
        "bubble_sort(arr)\n",
        "\n",
        "print(f'Lista ordenada: {arr}')"
      ],
      "metadata": {
        "colab": {
          "base_uri": "https://localhost:8080/"
        },
        "id": "9_Q6R1IGuz9F",
        "outputId": "91cbbce3-a9fe-4ce2-f927-3a4fb2bfca45"
      },
      "execution_count": 6,
      "outputs": [
        {
          "output_type": "stream",
          "name": "stdout",
          "text": [
            "Lista ordenada: [11, 12, 22, 25, 34, 64, 90]\n"
          ]
        }
      ]
    },
    {
      "cell_type": "markdown",
      "source": [
        "El algoritmo de ordenación por burbuja tiene complejidad **𝑂($n^2$)** porque, en el peor de los casos, necesita comparar y posiblemente intercambiar cada par de elementos."
      ],
      "metadata": {
        "id": "EZsN-xI_vEIt"
      }
    },
    {
      "cell_type": "markdown",
      "source": [
        "**Ejemplo 4**: Multiplicación de matrices"
      ],
      "metadata": {
        "id": "OJ7Nhj2tvNEP"
      }
    },
    {
      "cell_type": "code",
      "source": [
        "def multiply_matrices(matrix_a, matrix_b):\n",
        "    n = len(matrix_a)\n",
        "    result = [[0] * n for _ in range(n)]\n",
        "    for i in range(n):\n",
        "        for j in range(n):\n",
        "            for k in range(n):\n",
        "                result[i][j] += matrix_a[i][k] * matrix_b[k][j]\n",
        "    return result"
      ],
      "metadata": {
        "id": "oLcwn2xRvsVs"
      },
      "execution_count": null,
      "outputs": []
    },
    {
      "cell_type": "code",
      "source": [
        "matrix_a = [[1, 2], [3, 4]]\n",
        "matrix_b = [[5, 6], [7, 8]]\n",
        "\n",
        "result = multiply_matrices(matrix_a, matrix_b)\n",
        "print(result)"
      ],
      "metadata": {
        "id": "EDNoJeAAvt-A"
      },
      "execution_count": null,
      "outputs": []
    },
    {
      "cell_type": "markdown",
      "source": [
        "En este caso, la multiplicación de dos matrices de tamaño n×n requiere 𝑛3 operaciones, lo que resulta en una complejidad cúbica **O($n^3$)**."
      ],
      "metadata": {
        "id": "y58a_vVrv0Vj"
      }
    },
    {
      "cell_type": "markdown",
      "source": [
        "**Ejemplo 5**: Problema de la Subset Sum\n",
        "\n",
        "Indica dado un arreglo y un número si hay alguna forma de sumar alguno de sus elementos tal que de el número indicado."
      ],
      "metadata": {
        "id": "OF-dO_cswyaq"
      }
    },
    {
      "cell_type": "code",
      "source": [
        "def subset_sum(arr, target, index=0):\n",
        "    if target == 0:\n",
        "        return True\n",
        "    if index >= len(arr) or target < 0:\n",
        "        return False\n",
        "    # Incluir el elemento actual o no incluirlo\n",
        "    return subset_sum(arr, target - arr[index], index + 1) or subset_sum(arr, target, index + 1)"
      ],
      "metadata": {
        "id": "0uLifCvLxDbJ"
      },
      "execution_count": 7,
      "outputs": []
    },
    {
      "cell_type": "code",
      "source": [
        "# Ejemplo de uso\n",
        "arr = [3, 34, 4, 12, 5, 2]\n",
        "target = 59\n",
        "\n",
        "print(subset_sum(arr, target))"
      ],
      "metadata": {
        "colab": {
          "base_uri": "https://localhost:8080/"
        },
        "id": "fObJajwQxEyv",
        "outputId": "5e29e05f-6a49-4ece-fd12-f3479b7f0f2e"
      },
      "execution_count": 9,
      "outputs": [
        {
          "output_type": "stream",
          "name": "stdout",
          "text": [
            "False\n"
          ]
        }
      ]
    },
    {
      "cell_type": "markdown",
      "source": [
        "En este caso, el problema de la Subset Sum tiene una complejidad exponencial **O($2^n$)** porque cada elemento puede ser incluido o no, lo que resulta en **$2^n$** posibles combinaciones a considerar."
      ],
      "metadata": {
        "id": "JL9bY-fixKVR"
      }
    },
    {
      "cell_type": "markdown",
      "source": [
        "**Ejemplo 6**: Ordenación Rápida (Quicksort)"
      ],
      "metadata": {
        "id": "DeYyXu-BxZxX"
      }
    },
    {
      "cell_type": "code",
      "source": [
        "def quicksort(arr):\n",
        "    if len(arr) <= 1:\n",
        "        return arr\n",
        "    pivot = arr[len(arr) // 2]\n",
        "    left = [x for x in arr if x < pivot]\n",
        "    middle = [x for x in arr if x == pivot]\n",
        "    right = [x for x in arr if x > pivot]\n",
        "\n",
        "    return quicksort(left) + middle + quicksort(right)"
      ],
      "metadata": {
        "id": "MJ5SoagOxhEf"
      },
      "execution_count": 10,
      "outputs": []
    },
    {
      "cell_type": "code",
      "source": [
        "arr = [3, 6, 8, 10, 1, 2, 1]\n",
        "sorted_arr = quicksort(arr)\n",
        "\n",
        "print(f'Lista ordenada: {sorted_arr}')\n"
      ],
      "metadata": {
        "colab": {
          "base_uri": "https://localhost:8080/"
        },
        "id": "hYGBYvYTxi4U",
        "outputId": "9f75fc1c-483c-4bb0-b4d0-77dd1610522b"
      },
      "execution_count": 11,
      "outputs": [
        {
          "output_type": "stream",
          "name": "stdout",
          "text": [
            "Lista ordenada: [1, 1, 2, 3, 6, 8, 10]\n"
          ]
        }
      ]
    },
    {
      "cell_type": "markdown",
      "source": [
        "Selecciona un elemento como pivote.\n",
        "\n",
        "Divide la lista en tres partes: elementos menores que el pivote, elementos iguales al pivote, y elementos mayores que el pivote.\n",
        "\n",
        "Ordena recursivamente las sublistas de elementos menores y mayores.\n",
        "\n",
        "Combina las sublistas ordenadas con el pivote.\n",
        "\n",
        "El algoritmo de ordenación rápida tiene una complejidad promedio de **𝑂(𝑛 log (𝑛)**, aunque en el peor de los casos puede ser **O($n^2$)**."
      ],
      "metadata": {
        "id": "Q3xITelxxrXD"
      }
    },
    {
      "cell_type": "markdown",
      "source": [
        "**Ejemplo 7**: Búsqueda binaria"
      ],
      "metadata": {
        "id": "NCXDeeZxyQDk"
      }
    },
    {
      "cell_type": "code",
      "source": [
        "def binary_search(arr, target):\n",
        "    left, right = 0, len(arr) - 1\n",
        "    while left <= right:\n",
        "        mid = (left + right) // 2\n",
        "        if arr[mid] == target:\n",
        "            return mid\n",
        "        elif arr[mid] < target:\n",
        "            left = mid + 1\n",
        "        else:\n",
        "            right = mid - 1\n",
        "    return -1  # Elemento no encontrado"
      ],
      "metadata": {
        "id": "403SQsJ2yXKc"
      },
      "execution_count": 12,
      "outputs": []
    },
    {
      "cell_type": "code",
      "source": [
        "arr = [1, 2, 3, 4, 5, 6, 7, 8, 9, 10]\n",
        "target = 4\n",
        "index = binary_search(arr, target)\n",
        "print(f'Elemento {target} encontrado en el índice {index}')"
      ],
      "metadata": {
        "colab": {
          "base_uri": "https://localhost:8080/"
        },
        "id": "qnlXmPKbyVpl",
        "outputId": "9fccc23f-01e1-40c1-8b76-b29abc9d9255"
      },
      "execution_count": 14,
      "outputs": [
        {
          "output_type": "stream",
          "name": "stdout",
          "text": [
            "Elemento 4 encontrado en el índice 3\n"
          ]
        }
      ]
    },
    {
      "cell_type": "markdown",
      "source": [
        "Divide la lista en dos mitades y compara el elemento medio con el objetivo.\n",
        "\n",
        "Si el elemento medio es el objetivo, se devuelve el índice.\n",
        "\n",
        "Si el objetivo es menor que el elemento medio, busca en la mitad izquierda.\n",
        "\n",
        "Si el objetivo es mayor que el elemento medio, busca en la mitad derecha.\n",
        "\n",
        "Repite hasta que se encuentre el elemento o los índices se crucen.\n",
        "\n",
        "Un algoritmo de búsqueda binaria tiene complejidad **𝑂(log 𝑛)** porque divide el espacio de búsqueda a la mitad en cada paso."
      ],
      "metadata": {
        "id": "lemiZsufyaWu"
      }
    },
    {
      "cell_type": "markdown",
      "source": [
        "## 3. Buenas prácticas <a name=\"buenas_practicas\"></a>"
      ],
      "metadata": {
        "id": "-pKhX6q54evo"
      }
    },
    {
      "cell_type": "markdown",
      "source": [
        "#### 1. Mantente actualizado\n",
        "\n",
        "El primer principio de todo buen desarrollador que busque un código eficiente es **actualizar constantemente la versión de las librerías y del lenguaje de programación**.\n",
        "\n",
        "Así, por ejemplo, Python 3 es mucho más rápido que Python 2, así que parte de esa eficiencia necesaria podrías conseguirla simplemente con la actualización del lenguaje."
      ],
      "metadata": {
        "id": "bKQm2OZj4k51"
      }
    },
    {
      "cell_type": "markdown",
      "source": [
        "#### 2. No programes todo lo que quieras hacer en detalle, apóyate de las librerías\n",
        "\n",
        "Normalmente el código que hay detrás de las funciones de estas librerías estará altamente optimizado aprovechando cada recurso disponible, por lo que será más eficiente siempre utilizarlas antes que programar las tuyas propias.\n",
        "\n",
        "Además, el código va a quedar más entendible, limpio y seguramente más escalable.\n",
        "\n",
        "| ✅ Hazlo así | ❌ No lo hagas así |\n",
        "|:---------------------------------------------------------------------------|:------------------------------------------------------------------------------------------------------------|\n",
        "| `np.array([1, 2, 3]).mean()` | <br>`def mean(elements):`<br>&nbsp;&nbsp;&nbsp;&nbsp;`sum = elements.sum()`<br>&nbsp;&nbsp;&nbsp;&nbsp;`n = len(elements)`<br>&nbsp;&nbsp;&nbsp;&nbsp;`return sum/n`<br><br>`mean(np.array([1, 2, 3]))`<br><br> |\n",
        "| <br>`names['Gender'].replace('female', 'FEMALE', inplace=True)`<br><br> | `names[\"Gender'].loc[names.Gender=='female'] = 'FEMALE'` |\n",
        "\n",
        "Aquí tienes algunos trucos de los más utilizados y necesarios en el día a día trabajando con datos: https://www.turing.com/kb/22-hottest-python-tricksfor-efficient-coding"
      ],
      "metadata": {
        "id": "hq656FvQ6Y3z"
      }
    },
    {
      "cell_type": "markdown",
      "source": [
        "#### 3. Utiliza estructuras de datos eficientes\n",
        "\n",
        "`Python` proporciona muchos mecanismos para realizar tareas computacionalmente y temporalmente eficientes, como se muestra en los siguientes ejemplos:\n",
        "\n",
        "| ✅ Hazlo así | ❌ No lo hagas así |\n",
        "|:---------------------------------------------------------------------------|:------------------------------------------------------------------------------------------------------------|\n",
        "| `def good_list(elements):`<br>&nbsp;&nbsp;&nbsp;&nbsp;`my_list = [value for value in range(elements)]` | <br>`def bad_list(elements):`<br>&nbsp;&nbsp;&nbsp;&nbsp;`my_list = []`<br>&nbsp;&nbsp;&nbsp;&nbsp;`for value in range(elements):`<br>&nbsp;&nbsp;&nbsp;&nbsp;&nbsp;&nbsp;&nbsp;&nbsp;`my_list.append(value)`<br><br> |\n",
        "| `def good_string_joiner(elements):`<br>&nbsp;&nbsp;&nbsp;&nbsp;`\"\".join(elements)` | <br>`def bad_string_joiner(elements):`<br>&nbsp;&nbsp;&nbsp;&nbsp;`final_string = \"\"`<br>&nbsp;&nbsp;&nbsp;&nbsp;`for value in elements:`<br>&nbsp;&nbsp;&nbsp;&nbsp;&nbsp;&nbsp;&nbsp;&nbsp;`final_string += value`<br><br> |\n",
        "\n",
        "Más información sobre cómo puedes eficientar al máximo tu código aprovechando las herramientas nativas y paquetes de Python aquí: https://khuyentran1401.github.io/Efficient_Python_tricks_and_tools_for_data_scientists/README.html"
      ],
      "metadata": {
        "id": "5NGCUfUW6MGT"
      }
    },
    {
      "cell_type": "markdown",
      "source": [
        "#### 4. Elimina lo que no necesites\n",
        "\n",
        "En cualquier lenguaje de programación, las variables y objetos ocupan memoria, de tal forma que una buena forma de mantener el código limpio es eliminar las variables que no vayamos a necesitar más.\n",
        "\n",
        "En Python puedes ver cuánta memoria ocupa tu variable con la función `sys.getsizeof(variable)` del paquete `sys`.\n",
        "\n",
        "Si observas que una variable tiene un peso considerable, podrías plantearte eliminarla para no cargar innecesariamente la memoria del entorno de ejecución, ya que cuanto más colapsado esté y más uso de su memoria se haga, peor rendimiento tendrá.\n"
      ],
      "metadata": {
        "id": "m26UkNwn7fjf"
      }
    },
    {
      "cell_type": "markdown",
      "source": [
        "#### 5. Aprende de otros\n",
        "\n",
        "Muchas veces necesitamos inspiración de otros.\n",
        "\n",
        "Por eso, la mejor forma de eficientar el código es aprender del código de otros desarrolladores.\n",
        "\n",
        "La experiencia es la mejor vía hacia la eficiencia."
      ],
      "metadata": {
        "id": "MF1LSyaE7nvp"
      }
    },
    {
      "cell_type": "markdown",
      "source": [
        "## 4. Links de interés <a name=\"links\"></a>\n",
        "\n",
        "- [Python Enhancement Proposals (PEP)](https://peps.python.org/pep-0020/)\n",
        "- [Real python](https://realpython.com/)\n",
        "- [The Hitchhiker’s Guide to Python](https://docs.python-guide.org/)\n",
        "- [Effective Python](https://effectivepython.com/)\n",
        "- [Fluent Python](https://www.oreilly.com/library/view/fluent-python-2nd/9781492056348/)\n",
        "- [Python IDE for beginners](https://thonny.org/)"
      ],
      "metadata": {
        "id": "AhcJllZ7ExpC"
      }
    }
  ]
}