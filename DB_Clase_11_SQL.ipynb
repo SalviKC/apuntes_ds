{
  "nbformat": 4,
  "nbformat_minor": 0,
  "metadata": {
    "colab": {
      "provenance": []
    },
    "kernelspec": {
      "name": "python3",
      "display_name": "Python 3"
    },
    "language_info": {
      "name": "python"
    }
  },
  "cells": [
    {
      "cell_type": "markdown",
      "source": [
        "<div align=\"right\">\n",
        "  <img src=\"https://drive.google.com/uc?export=view&id=1J8JpP65HsHXdpJvhb_sMwn3yROyU832m\" height=\"80\" width=\"200\" style=\"float: right;\">\n",
        "</div>\n",
        "<h1><b>Data Science and Machine Learning</b></h1>\n",
        "<h2><b>Clase 11</b>: SQL</h2>\n",
        "<h3><b>Docente</b>: <a href=\"https://www.linkedin.com/in/danielablanco/\">Daniela Blanco</a>"
      ],
      "metadata": {
        "id": "Wp4cyu16yiif"
      }
    },
    {
      "cell_type": "markdown",
      "source": [
        "# Contenido\n",
        "\n",
        "- [1. Bases de datos](#bases)\n",
        "  - [1.1. Bases de datos relacionales](#relacionales)\n",
        "  - [1.2. Otros tipos de bases](#tipos_bases)\n",
        "- [2. Modelo relacional](#modelo_relacional)\n",
        "  - [2.1. Tablas](#tablas)\n",
        "  - [2.2. Tipos de relaciones](#tipos_relacionales)\n",
        "- [3. Motores de bases de datos](#motores)\n",
        "- [4. Lenguaje SQL](#sql)\n",
        "  - [4.1. Sublenguajes SQL](#sublenguajessql)\n",
        "  - [4.2. Sentencias DDL](#ddl)\n",
        "  - [4.3. Sentencias DML](#ddl)\n",
        "  - [4.4. Sentencia SELECT (o DQL)](#select)\n",
        "  - [4.5. Sentencias DCL](#dcl)\n",
        "  - [4.6. Sentencias TCL](#tcl)\n",
        "- [5. Librerías python](#librerias)\n",
        "  - [5.1. SQLAlchemy](#sqlalchemy)\n",
        "  - [5.2. Psycopg2](#psycopg2)\n",
        "  - [5.3. Mysql (mysql.connector)](#mysql)\n",
        "  - [5.4. Otras librerías](#otras_librerias)\n",
        "- [6. Links de interés](#links)\n"
      ],
      "metadata": {
        "id": "XEmijBfl2b_I"
      }
    },
    {
      "cell_type": "markdown",
      "source": [
        "## 1. Bases de datos <a name=\"bases\"></a>"
      ],
      "metadata": {
        "id": "Pw6lT_8L3Bny"
      }
    },
    {
      "cell_type": "markdown",
      "source": [
        "<img src=\"https://drive.google.com/uc?export=view&id=1VE7jDjHNDh8R1M2k4yxUv1YAtJKsBhFJ\" height=\"120\" width=\"500\" style=\"float: center;\">"
      ],
      "metadata": {
        "id": "r4PQ6VCun-6J"
      }
    },
    {
      "cell_type": "markdown",
      "source": [
        "Una base de datos es una colección organizada de datos.\n",
        "\n",
        "El uso de bases de datos permite almacenar información,\n",
        "preservarla en el tiempo, para poder acceder a ella\n",
        "posteriormente.\n",
        "\n",
        "Son esenciales para muchas aplicaciones porque permiten almacenar y acceder a grandes cantidades de datos de forma estructurada.\n",
        "\n",
        "A partir de los datos podremos llevar a cabo procesos de Data Mining, Machine Learning y automatizaciones, pero todo parte de las bases de datos."
      ],
      "metadata": {
        "id": "MrE2Gc3Ygk8X"
      }
    },
    {
      "cell_type": "markdown",
      "source": [
        "### 1.1. Bases de datos relacionales <a name=\"relacionales\"></a>"
      ],
      "metadata": {
        "id": "j_DOdQbdfMP7"
      }
    },
    {
      "cell_type": "markdown",
      "source": [
        "Utiliza un modelo basado en la lógica de **relaciones** entre datos.\n",
        "\n",
        "La información se guarda en tablas. Estructura formada por filas y columnas (similar a dataframe de pandas). Las tablas pueden estar relacionadas entre sí.\n",
        "\n",
        "Utilizan el lenguaje SQL (Structured Query Language) para gestionar y manipular los datos.\n",
        "\n",
        "Ejemplos bases relacionales: MySQL, PostgreSQL, Oracle, Microsoft SQL Server."
      ],
      "metadata": {
        "id": "UKqKzdF1hf_A"
      }
    },
    {
      "cell_type": "markdown",
      "source": [
        "### 1.2. Otros tipos de bases <a name=\"tipos_bases\"></a>"
      ],
      "metadata": {
        "id": "pnZwoX9qfNdB"
      }
    },
    {
      "cell_type": "markdown",
      "source": [
        "- Bases NoSQL: no usan lenguaje SQL. Por ejemplo Redis (almacena la información como clave-valor).\n",
        "- Bases orientadas a grafos. Por ejemplo: Neo4j\n",
        "- Bases documentales: guarda la información en documentos. Por ejemplo: MongoDB (documentos).\n",
        "- Bases de datos NewSQL: Combina la escalabilidad de las bases de datos NoSQL con las garantías ACID de las bases de datos relacionales. Ejemplo: Google Spanner.\n",
        "- Bases de Datos de Blockchain: Utilizan una cadena de bloques para asegurar la integridad y transparencia de los datos. Ejemplos: BigchainDB."
      ],
      "metadata": {
        "id": "WPJbgxlUiIX6"
      }
    },
    {
      "cell_type": "markdown",
      "source": [
        "## 2. Modelo relacional <a name=\"modelo_relacional\"></a>"
      ],
      "metadata": {
        "id": "aTAT7UQEfOoH"
      }
    },
    {
      "cell_type": "markdown",
      "source": [
        "El modelo relacional es una manera formal de representar y manipular datos en una base de datos.\n",
        "\n",
        "Se basa en conceptos matemáticos de conjuntos y lógica de primer orden.\n",
        "\n",
        "Las bases de datos relacionales implementan el modelo relacional."
      ],
      "metadata": {
        "id": "24i5xw76k6kl"
      }
    },
    {
      "cell_type": "markdown",
      "source": [
        "### 2.1. Tablas <a name=\"tablas\"></a>"
      ],
      "metadata": {
        "id": "yDpxeQoJk3KD"
      }
    },
    {
      "cell_type": "markdown",
      "source": [
        "Cada tabla representa una **entidad** específica, y las relaciones entre estas tablas permiten organizar y gestionar los datos de manera eficiente.\n",
        "\n",
        "Representan entidades del mundo real, como clientes, productos, pedidos, etc.\n",
        "\n",
        "Cada tabla tiene un nombre único y está compuesta por columnas y filas.\n",
        "\n",
        "La **fila** (o tupla o registro) representa una instancia única de la entidad descrita por la tabla.\n",
        "\n",
        "Cada fila contiene datos para una sola entidad.\n",
        "\n",
        "Las **columnas** (campos o atributos) representan las propiedades o características de la entidad.\n",
        "\n",
        "Cada columna tiene un nombre y un tipo de dato asociado (por ejemplo, entero, cadena, fecha).\n",
        "\n",
        "Las tablas además tendrán **claves: primarias** (todas) conocida como PK o **secundaría** llamada FK en los casos que tenga una relación con otra tabla."
      ],
      "metadata": {
        "id": "GikqIv4JmDc0"
      }
    },
    {
      "cell_type": "markdown",
      "source": [
        "### 2.2. Tipos de relaciones <a name=\"tipos_relacionales\"></a>"
      ],
      "metadata": {
        "id": "uT19X_Jzk4Pj"
      }
    },
    {
      "cell_type": "markdown",
      "source": [
        "Las relaciones entre tablas son la característica distintiva de las bases de datos relacionales.\n",
        "\n",
        "Hay varios tipos de relaciones:\n",
        "\n",
        "**Uno a Uno (1:1)**:\n",
        "\n",
        "Cada fila en una tabla se relaciona con una sola fila en otra tabla.\n",
        "\n",
        "Ejemplo: Si nuestro caso de uso requiere registrar la asignación de vehículos a los empleados de una empresa con la restricción que sólo se asigna uno a la vez. La relación \"asignado a\", entre las tablas Automóviles y Empleados será 1 a 1.\n",
        "\n",
        "#### Tabla Automóviles\n",
        "\n",
        "| Campo |  Tipo | Clave |\n",
        "|:-------:|:-----------:|:--:|\n",
        "| Dominio | varchar(6) | PK |\n",
        "| Marca   | varchar(15) |    |\n",
        "| Color   | varchar(15) |    |\n",
        "\n",
        "#### Tabla Empelados\n",
        "\n",
        "| Campo |  Tipo | Clave |\n",
        "|:-------:|:-----------:|:--:|\n",
        "| DNI | int | PK |\n",
        "| Nombre   | varchar(25) |    |\n",
        "| Apellido   | varchar(25) |    |\n",
        "| dominio   | varchar(6) | FK   |\n",
        "\n",
        "**Uno a Muchos (1:N)**:\n",
        "\n",
        "Cada fila en una tabla se relaciona con múltiples filas en otra tabla.\n",
        "\n",
        "Ejemplo: La relación \"realiza\" entre Clientes y Pedidos. Un cliente puede tener múltiples pedidos en la tabla de pedidos. Un pedido es de un único cliente.\n",
        "\n",
        "#### Tabla Clientes\n",
        "\n",
        "| Campo |  Tipo | Clave |\n",
        "|:-------:|:-----------:|:--:|\n",
        "| DNI | varchar(8) | PK |\n",
        "| Nombre   | varchar(25) |    |\n",
        "| Apellido   | varchar(25) |    |\n",
        "\n",
        "#### Tabla Pedidos\n",
        "\n",
        "| Campo |  Tipo | Clave |\n",
        "|:-------:|:-----------:|:--:|\n",
        "| id_pedido | int | PK |\n",
        "| DNI_cliente | int | FK |\n",
        "| fecha   | date |    |\n",
        "\n",
        "**Muchos a Muchos (M:N)**:\n",
        "\n",
        "Múltiples filas en una tabla se relacionan con múltiples filas en otra tabla.\n",
        "\n",
        "Este tipo de relación se maneja mediante una tabla intermedia.\n",
        "\n",
        "Ejemplo: Dada las entidades Estudiantes y cursos modelar \"asiste a\". Un estudiante puede inscribirse en varios cursos y cada curso puede tener muchos estudiantes.\n",
        "\n",
        "#### Tabla Estudiantes\n",
        "\n",
        "| Campo |  Tipo | Clave |\n",
        "|:-------:|:-----------:|:--:|\n",
        "| id_estudiante | int | PK |\n",
        "| Nombre   | varchar(25) |    |\n",
        "| Apellido   | varchar(25) |    |\n",
        "\n",
        "#### Tabla Cursos\n",
        "\n",
        "| Campo |  Tipo | Clave |\n",
        "|:-------:|:-----------:|:--:|\n",
        "| id_curso | int | PK |\n",
        "| nombre | varchar |  |\n",
        "\n",
        "#### Tabla Inscripciones\n",
        "\n",
        "| Campo |  Tipo | Clave |\n",
        "|:-------:|:-----------:|:--:|\n",
        "| id_curso | int | PK FK |\n",
        "| id_estudiante | int | PK FK |\n"
      ],
      "metadata": {
        "id": "ERC8Ip6jjhn6"
      }
    },
    {
      "cell_type": "markdown",
      "source": [
        "## 3. Motores de bases de datos <a name=\"motores\"></a>"
      ],
      "metadata": {
        "id": "s4vCZxYtfPu1"
      }
    },
    {
      "cell_type": "markdown",
      "source": [
        "Se requiere un sistema (software) para manejar y administrar la base de datos\n",
        "llamado DBMS por sus siglas en inglés: Database Management Systems.\n",
        "\n",
        "El DBMS actúa como intermediario entre los usuarios finales y la base de datos, proporcionando las herramientas necesarias para almacenar, modificar y extraer datos de manera eficiente y segura.\n",
        "\n",
        "Este gestor permitirá:\n",
        "- administrar los datos persistentemente,\n",
        "- acceder a grandes volúmenes de manera eficiente,\n",
        "- soporte para algún lenguaje de alto nivel que permita definir, manipular y acceder a los datos.\n",
        "\n",
        "Dependiendo del tipo de motor o sistema de gestión también permitirá:\n",
        "- administración de transacciones.\n",
        "- control de accesos y\n",
        "- recuperación ante fallas.\n",
        "\n",
        "Generalmente los gestores de bases cuentan con una interfaz gráfica y también se puede operar con ellos mediante línea de comandos.\n",
        "\n",
        "Todos \"hablan\" SQL cada cual con sus pequelas diferencias sintácticas (\"modismos\")."
      ],
      "metadata": {
        "id": "4vcabLaLqMm_"
      }
    },
    {
      "cell_type": "markdown",
      "source": [
        "## 4. Lenguaje SQL <a name=\"sql\"></a>"
      ],
      "metadata": {
        "id": "XovngEb0fRWt"
      }
    },
    {
      "cell_type": "markdown",
      "source": [
        "Para comunicarnos con una base de datos usamos el lenguaje SQL.\n",
        "\n",
        "No solo nos permite recuperar los datos almacenados sino también generar la base,\n",
        "sus componentes, manipular los datos y también manejar la seguridad e integridad de los\n",
        "mismos."
      ],
      "metadata": {
        "id": "mdI0VuSurnZT"
      }
    },
    {
      "cell_type": "markdown",
      "source": [
        "### 4.1. Sublenguajes SQL <a name=\"sublenguajessql\"></a>"
      ],
      "metadata": {
        "id": "4xubE8kYfaUI"
      }
    },
    {
      "cell_type": "markdown",
      "source": [
        "<img src=\"https://drive.google.com/uc?export=view&id=1Crm7BHSfFCgkoattRPNrufJiIFhJr0rm\" height=\"376\" width=\"667\" style=\"float: center;\">"
      ],
      "metadata": {
        "id": "wk3KvSeosQTl"
      }
    },
    {
      "cell_type": "markdown",
      "source": [
        "### 4.2. Sentencias DDL <a name=\"ddl\"></a>"
      ],
      "metadata": {
        "id": "v79JK3VUfbd0"
      }
    },
    {
      "cell_type": "markdown",
      "source": [
        "**1. CREATE**\n",
        "\n",
        "La sentencia CREATE se utiliza para crear bases de datos, tablas, índices, vistas, y otros objetos en la base de datos.\n",
        "\n",
        "```\n",
        "CREATE DATABASE tienda;\n",
        "\n",
        "CREATE TABLE clientes (\n",
        "    id_cliente INT AUTO_INCREMENT PRIMARY KEY,\n",
        "    nombre VARCHAR(100) NOT NULL,\n",
        "    email VARCHAR(100) UNIQUE,\n",
        "    fecha_registro DATE\n",
        ");\n",
        "\n",
        "CREATE INDEX idx_nombre ON clientes (nombre);\n",
        "\n",
        "CREATE VIEW vista_clientes AS\n",
        "SELECT id_cliente, nombre, email\n",
        "FROM clientes;\n",
        "```"
      ],
      "metadata": {
        "id": "vVNoSoZ5tXxe"
      }
    },
    {
      "cell_type": "markdown",
      "source": [
        "**2. ALTER**\n",
        "\n",
        "La sentencia ALTER se utiliza para modificar la estructura de una tabla existente.\n",
        "\n",
        "```\n",
        "ALTER TABLE clientes ADD COLUMN telefono VARCHAR(15);\n",
        "\n",
        "ALTER TABLE clientes MODIFY COLUMN telefono VARCHAR(20);\n",
        "\n",
        "ALTER TABLE clientes CHANGE COLUMN telefono telefono_contacto VARCHAR(20);\n",
        "```"
      ],
      "metadata": {
        "id": "86xljsvytwEH"
      }
    },
    {
      "cell_type": "markdown",
      "source": [
        "**3. DROP**\n",
        "\n",
        "La sentencia DROP se utiliza para eliminar bases de datos, tablas, índices, vistas, y otros objetos de la base de datos.\n",
        "\n",
        "```\n",
        "DROP DATABASE tienda;\n",
        "\n",
        "DROP TABLE clientes;\n",
        "\n",
        "DROP INDEX idx_nombre ON clientes;\n",
        "```"
      ],
      "metadata": {
        "id": "uGM90ZFItwpt"
      }
    },
    {
      "cell_type": "markdown",
      "source": [
        "**4. TRUNCATE**\n",
        "\n",
        "La sentencia TRUNCATE se utiliza para eliminar todos los registros de una tabla de forma rápida, sin eliminar la tabla en sí. Es más eficiente que DELETE.\n",
        "\n",
        "```\n",
        "TRUNCATE TABLE clientes;\n",
        "```"
      ],
      "metadata": {
        "id": "evjr2lNltw1n"
      }
    },
    {
      "cell_type": "markdown",
      "source": [
        "### 4.3. Sentencias DML <a name=\"ddl\"></a>"
      ],
      "metadata": {
        "id": "gKwb6Xjqfcw6"
      }
    },
    {
      "cell_type": "markdown",
      "source": [
        "**1. INSERT**\n",
        "\n",
        "La sentencia INSERT se utiliza para agregar nuevas filas a una tabla.\n",
        "\n",
        "```\n",
        "INSERT INTO clientes (nombre, email, fecha_registro)\n",
        "VALUES ('Juan Pérez', 'juan@example.com', '2024-01-01');\n",
        "\n",
        "INSERT INTO clientes (nombre, email, fecha_registro)\n",
        "VALUES\n",
        "('María López', 'maria@example.com', '2024-01-02'),\n",
        "('Pedro Martínez', 'pedro@example.com', '2024-01-03');\n",
        "```"
      ],
      "metadata": {
        "id": "mQPGDBicuQLp"
      }
    },
    {
      "cell_type": "markdown",
      "source": [
        "**2. UPDATE**\n",
        "\n",
        "La sentencia UPDATE se utiliza para modificar los datos existentes en una tabla.\n",
        "\n",
        "```\n",
        "UPDATE clientes\n",
        "SET email = 'juan.perez@example.com'\n",
        "WHERE nombre = 'Juan Pérez';\n",
        "\n",
        "UPDATE clientes\n",
        "SET email = 'maria.lopez@example.com', fecha_registro = '2024-01-05'\n",
        "WHERE nombre = 'María López';\n",
        "```"
      ],
      "metadata": {
        "id": "gs4a8NswuScS"
      }
    },
    {
      "cell_type": "markdown",
      "source": [
        "**3. DELETE**\n",
        "\n",
        "La sentencia DELETE se utiliza para eliminar filas de una tabla.\n",
        "\n",
        "```\n",
        "DELETE FROM clientes\n",
        "WHERE nombre = 'Pedro Martínez';\n",
        "\n",
        "DELETE FROM clientes;\n",
        "```"
      ],
      "metadata": {
        "id": "hYZuGt-7uSqN"
      }
    },
    {
      "cell_type": "markdown",
      "source": [
        "### 4.4. Sentencia SELECT (o DQL) <a name=\"select\"></a>"
      ],
      "metadata": {
        "id": "6XPgYToBfdvs"
      }
    },
    {
      "cell_type": "markdown",
      "source": [
        "La sentencia SELECT se utiliza para consultar datos de una o más tablas.\n",
        "\n",
        "```\n",
        "SELECT * FROM clientes;\n",
        "\n",
        "SELECT nombre, email FROM clientes;\n",
        "\n",
        "# filtrado\n",
        "SELECT * FROM clientes\n",
        "WHERE fecha_registro > '2024-01-01';\n",
        "\n",
        "# ordenamiento\n",
        "SELECT * FROM clientes\n",
        "ORDER BY nombre ASC;\n",
        "\n",
        "# limitando resultados\n",
        "SELECT * FROM clientes\n",
        "LIMIT 5;\n",
        "\n",
        "# funciones de agregación\n",
        "SELECT COUNT(*) AS TotalClientes\n",
        "FROM clientes;\n",
        "\n",
        "# agrupamiento y filtrado por grupos\n",
        "SELECT fecha_registro, COUNT(*) AS TotalClientes\n",
        "FROM clientes\n",
        "GROUP BY fecha_registro\n",
        "HAVING COUNT(*) > 1;\n",
        "\n",
        "```"
      ],
      "metadata": {
        "id": "uh1DYeaIuow0"
      }
    },
    {
      "cell_type": "markdown",
      "source": [
        "### 4.5. Sentencias DCL <a name=\"dcl\"></a>"
      ],
      "metadata": {
        "id": "mZ1C8HlXffFT"
      }
    },
    {
      "cell_type": "markdown",
      "source": [
        "**1. GRANT**\n",
        "\n",
        "La sentencia GRANT se utiliza para otorgar permisos a los usuarios para realizar operaciones específicas en la base de datos.\n",
        "\n",
        "```\n",
        "GRANT privilegios ON nombre_base_datos.nombre_tabla TO 'usuario'@'host';\n",
        "\n",
        "\n",
        "GRANT ALL PRIVILEGES ON tienda.* TO 'juan'@'localhost';\n",
        "\n",
        "GRANT SELECT, INSERT, UPDATE ON tienda.clientes TO 'maria'@'localhost';\n",
        "\n",
        "```"
      ],
      "metadata": {
        "id": "Wj_PaUlzu-zR"
      }
    },
    {
      "cell_type": "markdown",
      "source": [
        "**2. REVOKE**\n",
        "\n",
        "La sentencia REVOKE se utiliza para revocar permisos previamente otorgados a los usuarios.\n",
        "\n",
        "```\n",
        "REVOKE privilegios ON nombre_base_datos.nombre_tabla FROM 'usuario'@'host';\n",
        "\n",
        "REVOKE ALL PRIVILEGES ON tienda.* FROM 'juan'@'localhost';\n",
        "\n",
        "REVOKE SELECT, INSERT, UPDATE ON tienda.clientes FROM 'maria'@'localhost';\n",
        "\n",
        "```"
      ],
      "metadata": {
        "id": "4-RVKh1bvOTP"
      }
    },
    {
      "cell_type": "markdown",
      "source": [
        "### 4.6. Sentencias TCL <a name=\"tcl\"></a>"
      ],
      "metadata": {
        "id": "BkyJy77kfgOp"
      }
    },
    {
      "cell_type": "markdown",
      "source": [
        "**1. START TRANSACTION**\n",
        "\n",
        "La sentencia START TRANSACTION se utiliza para iniciar una nueva transacción explícitamente. Las transacciones permiten agrupar operaciones de bases de datos que deben ejecutarse como una unidad atómica.\n",
        "\n",
        "```\n",
        "START TRANSACTION;\n",
        "UPDATE cuentas SET balance = balance - 100 WHERE id = 1;\n",
        "UPDATE cuentas SET balance = balance + 100 WHERE id = 2;\n",
        "COMMIT;\n",
        "```"
      ],
      "metadata": {
        "id": "PaKDOByxvcWb"
      }
    },
    {
      "cell_type": "markdown",
      "source": [
        "**2. COMMIT**\n",
        "\n",
        "La sentencia COMMIT confirma la transacción actual y hace que todos los cambios realizados durante la transacción se vuelvan permanentes.\n",
        "\n",
        "```\n",
        "START TRANSACTION;\n",
        "UPDATE cuentas SET balance = balance - 100 WHERE id = 1;\n",
        "UPDATE cuentas SET balance = balance + 100 WHERE id = 2;\n",
        "COMMIT;\n",
        "```"
      ],
      "metadata": {
        "id": "ypkZaNz0vp8F"
      }
    },
    {
      "cell_type": "markdown",
      "source": [
        "**3. ROLLBACK**\n",
        "\n",
        "La sentencia ROLLBACK revierte la transacción actual y deshace todos los cambios realizados desde el último COMMIT o ROLLBACK. Es útil para deshacer transacciones que no se han confirmado correctamente.\n",
        "\n",
        "```\n",
        "START TRANSACTION;\n",
        "UPDATE cuentas SET balance = balance - 100 WHERE id = 1;\n",
        "UPDATE cuentas SET balance = balance + 100 WHERE id = 2;\n",
        "ROLLBACK;\n",
        "```"
      ],
      "metadata": {
        "id": "Hk4W4AKKvqfa"
      }
    },
    {
      "cell_type": "markdown",
      "source": [
        "**4. SAVEPOINT**\n",
        "\n",
        "La sentencia SAVEPOINT marca un punto dentro de la lista de transacciones a la que puedes hacer un ROLLBACK (volver atrás) más tarde.\n",
        "\n",
        "```\n",
        "START TRANSACTION;\n",
        "UPDATE cuentas SET balance = balance - 100 WHERE id = 1;\n",
        "SAVEPOINT sp1;\n",
        "UPDATE cuentas SET balance = balance + 100 WHERE id = 2;\n",
        "ROLLBACK TO sp1;\n",
        "COMMIT;\n",
        "```"
      ],
      "metadata": {
        "id": "LQTXf0oAv12y"
      }
    },
    {
      "cell_type": "markdown",
      "source": [
        "## 5. Librerías python <a name=\"librerias\"></a>"
      ],
      "metadata": {
        "id": "MMmoy-4SfhO2"
      }
    },
    {
      "cell_type": "markdown",
      "source": [
        "Contamos con diversas librerías en Python para conectar con un motor de bases de datos.\n",
        "\n",
        "Algunos especificos para un motor y otros genéricos."
      ],
      "metadata": {
        "id": "nSZ7fBMswJJZ"
      }
    },
    {
      "cell_type": "markdown",
      "source": [
        "### 5.1. SQLAlchemy <a name=\"sqlalchemy\"></a>"
      ],
      "metadata": {
        "id": "eNL0luh0fiOu"
      }
    },
    {
      "cell_type": "markdown",
      "source": [
        "SQLAlchemy permite la gestión de bases de datos relacionales a través de un enfoque de mapeo objeto-relacional (ORM).\n",
        "\n",
        "También permite trabajar con SQL puro a través de su Core SQL Expression Language. Esto significa que puedes escribir y ejecutar consultas SQL directamente utilizando SQLAlchemy.\n",
        "\n",
        "Soporta varios motores."
      ],
      "metadata": {
        "id": "RNhq81S5xK-X"
      }
    },
    {
      "cell_type": "markdown",
      "source": [
        "**Ejemplo ORM:**\n",
        "```\n",
        "# en sql\n",
        "INSERT INTO user (name, last_name) VALUES ('Bob', 'Ross');\n",
        "\n",
        "# con formato ORM\n",
        "user = User()\n",
        "user.name = \"Bob\"\n",
        "user.last_name = \"Ross\"\n",
        "\n",
        "# Agrega el user a la base de datos\n",
        "db.session.add(user)\n",
        "\n",
        "# Parecido al commit de Git, lo que hace esta función es guardar todos los cambios que hayas hecho\n",
        "db.session.commit()\n",
        "```"
      ],
      "metadata": {
        "id": "3fQ_Djn6yW7h"
      }
    },
    {
      "cell_type": "markdown",
      "source": [
        "**Ejemplo SQL:**\n",
        "```\n",
        "from sqlalchemy import create_engine, text\n",
        "\n",
        "# Crear el motor de base de datos\n",
        "engine = create_engine('sqlite:///:memory:')\n",
        "\n",
        "# Conectar con el motor\n",
        "conn = engine.connect()\n",
        "\n",
        "# Construir una consulta SQL\n",
        "query = text(\"SELECT * FROM usuarios WHERE edad > :edad\")\n",
        "result = conn.execute(query, edad=25)\n",
        "\n",
        "# Obtener los resultados\n",
        "for row in result:\n",
        "    print(row)\n",
        "```"
      ],
      "metadata": {
        "id": "fIbrZFXQyXMP"
      }
    },
    {
      "cell_type": "markdown",
      "source": [
        "### 5.2. Psycopg2 <a name=\"psycopg2\"></a>"
      ],
      "metadata": {
        "id": "vU8yusibfjNX"
      }
    },
    {
      "cell_type": "markdown",
      "source": [
        "Es el adaptador más popular para PostgreSQL en Python."
      ],
      "metadata": {
        "id": "QMhhJrwGyqj4"
      }
    },
    {
      "cell_type": "code",
      "source": [
        "# postgres\n",
        "import psycopg2\n",
        "\n",
        "# Datos de conexión a la base de datos\n",
        "hostname = 'tu_hostname'\n",
        "username = 'tu_usuario'\n",
        "password = 'tu_contraseña'\n",
        "database = 'tu_basedatos'\n",
        "\n",
        "# Conectar a la base de datos\n",
        "connection = psycopg2.connect(\n",
        "  host=hostname,\n",
        "  user=username,\n",
        "  password=password,\n",
        "  database=database\n",
        ")\n",
        "\n",
        "# Crear un cursor para ejecutar consultas\n",
        "cursor = connection.cursor()\n",
        "\n",
        "# Ejemplo de consulta SELECT\n",
        "cursor.execute(\"SELECT * FROM empleados;\")\n",
        "empleados = cursor.fetchall()\n",
        "\n",
        "# Mostrar resultados\n",
        "for empleado in empleados:\n",
        "  print(empleado)\n",
        "\n",
        "# Ejemplo de inserción de datos\n",
        "cursor.execute(\"INSERT INTO empleados (dni, nombre, apellido) VALUES (%s, %s, %s);\", ('12345678A', 'Juan', 'Pérez'))\n",
        "connection.commit()  # Confirmar la transacción"
      ],
      "metadata": {
        "id": "szx0nEvlyvCT"
      },
      "execution_count": null,
      "outputs": []
    },
    {
      "cell_type": "markdown",
      "source": [
        "### 5.3. Mysql (mysql.connector) <a name=\"mysql\"></a>"
      ],
      "metadata": {
        "id": "tYc0JjipfkXf"
      }
    },
    {
      "cell_type": "markdown",
      "source": [
        "Es una librería específica paraMySQL."
      ],
      "metadata": {
        "id": "1So26L27ywgG"
      }
    },
    {
      "cell_type": "code",
      "source": [
        "import mysql.connector\n",
        "\n",
        "# conexion\n",
        "conexion = mysql.connector.connect(host='localhost',\n",
        "                                       database='mi_base',\n",
        "                                       user='user_dev',\n",
        "                                       password='clave')\n",
        "\n",
        "if conexion.is_connected():\n",
        "    print('Connection established.')\n",
        "else:\n",
        "    print('Connection failed.')\n",
        "\n",
        "# Crear un objeto cursor\n",
        "cursor = conexion.cursor()\n",
        "\n",
        "# Ejecutar consulta SQL para crear una nueva base de datos\n",
        "query = \"SELECT nombre, apellido FROM clientes\"\n",
        "cursor.execute(query)\n",
        "\n",
        "# recorre los resultados\n",
        "rows = cursor.fetchall()\n",
        "\n",
        "for row in rows:\n",
        "    print(row)\n",
        "\n",
        "cursor.close()\n",
        "conexion.close()"
      ],
      "metadata": {
        "id": "mw8m_LaNzVIS"
      },
      "execution_count": null,
      "outputs": []
    },
    {
      "cell_type": "markdown",
      "source": [
        "### 5.4. Otras librerías <a name=\"otras_librerias\"></a>"
      ],
      "metadata": {
        "id": "M_X18ZqFflcB"
      }
    },
    {
      "cell_type": "markdown",
      "source": [
        "- sqlite3\n",
        "\n",
        "  Es un módulo de la biblioteca estándar de Python que proporciona una interfaz para SQLite.\n",
        "\n",
        "- cx_Oracle\n",
        "\n",
        "  Para interactuar con bases de datos Oracle desde Python.\n",
        "\n",
        "- pymssql\n",
        "\n",
        "  Es una biblioteca para conectarse a bases de datos Microsoft SQL Server.\n",
        "\n",
        "- pyodbc\n",
        "\n",
        "  Es una biblioteca que permite a Python usar ODBC para conectarse a cualquier base de datos que tenga un driver ODBC.\n",
        "\n",
        "  Motores de Base de Datos Soportados: Microsoft SQL Server, PostgreSQL, MySQL, SQLite, Oracle, IBM DB2."
      ],
      "metadata": {
        "id": "btOoBJpZy48E"
      }
    },
    {
      "cell_type": "markdown",
      "source": [
        "## 6. Links de interés <a name=\"links\"></a>\n",
        "\n",
        "- [Sqlbolt](https://sqlbolt.com/)\n",
        "- [Tutorials: Learn SQL step by step](https://sqlzoo.net/wiki/SQL_Tutorial)\n",
        "- [W3Schools SQL Practice](https://www.w3schools.com/sql/sql_exercises.asp)\n",
        "- [HackerRank](https://www.hackerrank.com/domains/sql)\n",
        "- [PostgreSql y Python](https://www.youtube.com/watch?v=miEFm1CyjfM)"
      ],
      "metadata": {
        "id": "AhcJllZ7ExpC"
      }
    }
  ]
}