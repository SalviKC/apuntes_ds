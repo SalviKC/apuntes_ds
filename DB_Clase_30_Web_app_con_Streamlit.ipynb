{
  "nbformat": 4,
  "nbformat_minor": 0,
  "metadata": {
    "colab": {
      "provenance": []
    },
    "kernelspec": {
      "name": "python3",
      "display_name": "Python 3"
    },
    "language_info": {
      "name": "python"
    }
  },
  "cells": [
    {
      "cell_type": "markdown",
      "source": [
        "<div align=\"right\">\n",
        "  <img src=\"https://drive.google.com/uc?export=view&id=1J8JpP65HsHXdpJvhb_sMwn3yROyU832m\" height=\"80\" width=\"200\" style=\"float: right;\">\n",
        "</div>\n",
        "<h1><b>Data Science and Machine Learning</b></h1>\n",
        "<h2><b>Clase 30</b>: Desplegar modelos IA con Streamlit</h2>\n",
        "<h3><b>Docente</b>: <a href=\"https://www.linkedin.com/in/danielablanco/\">Daniela Blanco</a>"
      ],
      "metadata": {
        "id": "Wp4cyu16yiif"
      }
    },
    {
      "cell_type": "markdown",
      "source": [
        "# Contenido\n",
        "\n",
        "- [1. Despliegue de modelos](#despliegue)\n",
        "  - [1.1. Streamlit](#streamlit)\n",
        "- [2. Características principales Streamlit](#caracteristicas)\n",
        "- [3. Entorno](#entorno)\n",
        "- [4. Ejemplos básicos en local](#local)\n",
        "  - [4.1. Hello](#hello)\n",
        "  - [4.2. Leyendo datos con cache](#leyendo)\n",
        "  - [4.3. Visualizador con filtrado](#visualizador)\n",
        "- [5. Ejemplo de uso remoto con Render](#render)\n",
        "- [6. Ejemplo de uso remoto con Streamlit share](#sshare)\n",
        "- [7. Links de interés](#links)\n"
      ],
      "metadata": {
        "id": "XEmijBfl2b_I"
      }
    },
    {
      "cell_type": "code",
      "source": [
        "import pandas as pd\n",
        "import numpy as np\n",
        "\n",
        "import matplotlib.pyplot as plt\n",
        "import seaborn as sns\n",
        "\n",
        "from google.colab import drive\n",
        "\n",
        "from sklearn.datasets import load_iris\n",
        "from sklearn.model_selection import train_test_split\n",
        "\n",
        "from sklearn import tree\n",
        "from sklearn.tree import DecisionTreeClassifier\n",
        "\n",
        "from sklearn.metrics import accuracy_score\n",
        "from sklearn.metrics import f1_score\n",
        "from sklearn.metrics import precision_score\n",
        "from sklearn.metrics import recall_score\n",
        "from sklearn.metrics import classification_report\n",
        "\n",
        "from pickle import dump\n",
        "\n",
        "import streamlit as st\n",
        "\n",
        "import warnings"
      ],
      "metadata": {
        "id": "cPtXYusox8X4",
        "colab": {
          "base_uri": "https://localhost:8080/",
          "height": 383
        },
        "outputId": "2131cd70-bdb9-4e88-f072-363abe06cf13"
      },
      "execution_count": 1,
      "outputs": [
        {
          "output_type": "error",
          "ename": "ModuleNotFoundError",
          "evalue": "No module named 'streamlit'",
          "traceback": [
            "\u001b[0;31m---------------------------------------------------------------------------\u001b[0m",
            "\u001b[0;31mModuleNotFoundError\u001b[0m                       Traceback (most recent call last)",
            "\u001b[0;32m<ipython-input-1-a3e013db8d93>\u001b[0m in \u001b[0;36m<cell line: 0>\u001b[0;34m()\u001b[0m\n\u001b[1;32m     21\u001b[0m \u001b[0;32mfrom\u001b[0m \u001b[0mpickle\u001b[0m \u001b[0;32mimport\u001b[0m \u001b[0mdump\u001b[0m\u001b[0;34m\u001b[0m\u001b[0;34m\u001b[0m\u001b[0m\n\u001b[1;32m     22\u001b[0m \u001b[0;34m\u001b[0m\u001b[0m\n\u001b[0;32m---> 23\u001b[0;31m \u001b[0;32mimport\u001b[0m \u001b[0mstreamlit\u001b[0m \u001b[0;32mas\u001b[0m \u001b[0mst\u001b[0m\u001b[0;34m\u001b[0m\u001b[0;34m\u001b[0m\u001b[0m\n\u001b[0m\u001b[1;32m     24\u001b[0m \u001b[0;34m\u001b[0m\u001b[0m\n\u001b[1;32m     25\u001b[0m \u001b[0;32mimport\u001b[0m \u001b[0mwarnings\u001b[0m\u001b[0;34m\u001b[0m\u001b[0;34m\u001b[0m\u001b[0m\n",
            "\u001b[0;31mModuleNotFoundError\u001b[0m: No module named 'streamlit'",
            "",
            "\u001b[0;31m---------------------------------------------------------------------------\u001b[0;32m\nNOTE: If your import is failing due to a missing package, you can\nmanually install dependencies using either !pip or !apt.\n\nTo view examples of installing some common dependencies, click the\n\"Open Examples\" button below.\n\u001b[0;31m---------------------------------------------------------------------------\u001b[0m\n"
          ],
          "errorDetails": {
            "actions": [
              {
                "action": "open_url",
                "actionText": "Open Examples",
                "url": "/notebooks/snippets/importing_libraries.ipynb"
              }
            ]
          }
        }
      ]
    },
    {
      "cell_type": "code",
      "source": [
        "warnings.filterwarnings(\"ignore\")"
      ],
      "metadata": {
        "id": "XQZiW-SCCQSK"
      },
      "execution_count": null,
      "outputs": []
    },
    {
      "cell_type": "markdown",
      "source": [
        "## 1. Despliegue de modelos <a name=\"despliegue\"></a>"
      ],
      "metadata": {
        "id": "Pw6lT_8L3Bny"
      }
    },
    {
      "cell_type": "markdown",
      "source": [
        "<img src=\"https://drive.google.com/uc?export=view&id=1uAYnBKtvN9K1U55KdZKz7duc8WxBrN7-\" height=\"205\" width=\"620\" style=\"float: center;\">"
      ],
      "metadata": {
        "id": "XlGxqok8qZon"
      }
    },
    {
      "cell_type": "markdown",
      "source": [
        "**Deployment** (despliegue en español) es el proceso de hacer que una aplicación o modelo de IA esté disponible para los usuarios finales.\n",
        "\n",
        "Tras la fase de desarrollo del modelo, tendremos un modelo final según nuestras expectativas y que satisface nuestras necesidades.\n",
        "\n",
        "Para que este modelo sea útil y cumpla la función para la que ha sido entrenado, debemos ponerlo a disposición en algún entorno que nos permita su utilización.\n",
        "\n",
        "Un forma de disponibilizarlo es a través de aplicaciones Web o **web app**.\n",
        "\n",
        "Generalmente las tareas de puesta en producción las hace un perfil de ingeniero de datos. No obstante al científico de datos las herramientas presentadas a contionuación le brindarán una forma rápida de **prototipar** y disponibilizar un desarrollo."
      ],
      "metadata": {
        "id": "MrE2Gc3Ygk8X"
      }
    },
    {
      "cell_type": "markdown",
      "source": [
        "### 1.1. Streamlit <a name=\"streamlit\"></a>"
      ],
      "metadata": {
        "id": "yti-U5XT_aea"
      }
    },
    {
      "cell_type": "markdown",
      "source": [
        "Streamlit es una biblioteca de Python que permite crear aplicaciones web interactivas de forma sencilla.\n",
        "\n",
        "Fue diseñada pensando en los científicos de datos y desarrolladores, permitiéndoles construir y desplegar aplicaciones web de forma rápida y sencilla, sin necesidad de conocimientos avanzados en desarrollo web."
      ],
      "metadata": {
        "id": "SYnshS3JrYdv"
      }
    },
    {
      "cell_type": "markdown",
      "source": [
        "## 2. Características principales Streamlit <a name=\"caracteristicas\"></a>"
      ],
      "metadata": {
        "id": "0EFjo2dfrz3W"
      }
    },
    {
      "cell_type": "markdown",
      "source": [
        "**1. Simplicidad**\n",
        "\n",
        "Permite convertir scripts de datos en aplicaciones web interactivas con solo unas pocas líneas de código.\n",
        "\n",
        "No requiere el aprendizaje de HTML, CSS o JavaScript.\n",
        "\n",
        "Todo se hace en Python, lo cual es ideal para científicos de datos y analistas que están más familiarizados con este lenguaje."
      ],
      "metadata": {
        "id": "iZmHz7s11EfN"
      }
    },
    {
      "cell_type": "markdown",
      "source": [
        "**2. Interactividad**\n",
        "\n",
        "Puedes agregar widgets interactivos como botones, selectores, sliders y formularios con gran facilidad.\n",
        "\n",
        "Estos componentes permiten a los usuarios interactuar directamente con los datos y obtener resultados en tiempo real."
      ],
      "metadata": {
        "id": "Feuljcx1ucrV"
      }
    },
    {
      "cell_type": "markdown",
      "source": [
        "**3. Actualización Automática**\n",
        "\n",
        "Cada vez que guardas un cambio en tu script de Streamlit, la aplicación web se actualiza automáticamente.\n",
        "\n",
        "Esto hace que el proceso de desarrollo sea extremadamente rápido y eficiente."
      ],
      "metadata": {
        "id": "_JCLUnJ0uilX"
      }
    },
    {
      "cell_type": "markdown",
      "source": [
        "**4. Almacenamiento en caché**\n",
        "\n",
        "Streamlit tiene una opción increíble que te permite almacenar en caché los datos y solo ejecutarlos si no se han ejecutado antes. Puedes almacenar en caché cualquier función que crees."
      ],
      "metadata": {
        "id": "88wlvamX5IXg"
      }
    },
    {
      "cell_type": "markdown",
      "source": [
        "**5. Integración con Herramientas de Ciencia de Datos**\n",
        "\n",
        "Se integra perfectamente con bibliotecas de ciencia de datos populares como Pandas, NumPy, Matplotlib, Plotly, Seaborn, y muchas otras.\n",
        "\n",
        "Esto facilita la visualización y el análisis de datos directamente en la aplicación web."
      ],
      "metadata": {
        "id": "n0Pd092DupBL"
      }
    },
    {
      "cell_type": "markdown",
      "source": [
        "**6. Markdown**\n",
        "\n",
        "Podemos generar Markdown y README con una sola función."
      ],
      "metadata": {
        "id": "uGtqzcl95bOI"
      }
    },
    {
      "cell_type": "markdown",
      "source": [
        "**7. Despliegue Fácil**\n",
        "\n",
        "Las aplicaciones creadas con Streamlit pueden ser desplegadas fácilmente en varias plataformas, incluyendo la plataforma de Streamlit, Heroku, AWS, GCP, entre otras."
      ],
      "metadata": {
        "id": "-TyCVFa7utLB"
      }
    },
    {
      "cell_type": "markdown",
      "source": [
        "## 3. Entorno <a name=\"entorno\"></a>"
      ],
      "metadata": {
        "id": "sRBaSV3dyGVI"
      }
    },
    {
      "cell_type": "markdown",
      "source": [
        "**Creación de un entorno virtual para el uso de la librería**\n",
        "\n",
        "Crear un entorno virtual en Python es una buena práctica para aislar las dependencias de tu proyecto y evitar conflictos con otras bibliotecas instaladas globalmente.\n",
        "\n",
        "1. Instalar virtualenv si no lo tienes ya. Puedes hacerlo usando pip:\n",
        "\n",
        "  `pip install virtualenv`\n",
        "\n",
        "2. Navega al directorio de tu proyecto y crea un entorno virtual. Puedes nombrar el entorno virtual como desees:\n",
        "\n",
        "  ```\n",
        "  cd tu_directorio_del_proyecto\n",
        "  virtualenv primer_modelo_streamlit\n",
        "  ```\n",
        "\n",
        "3. Activar el Entorno Virtual: Para activar el entorno virtual, utiliza los siguientes comandos dependiendo de tu sistema operativo:\n",
        "\n",
        "  ```\n",
        "  En Windows:\n",
        "    primer_modelo_streamlit\\Scripts\\activate\n",
        "  En macOS y Linux:\n",
        "    source primer_modelo_streamlit/bin/activate\n",
        "  ```\n",
        "\n",
        "  Una vez activado, deberías ver el nombre del entorno virtual en tu terminal, indicando que está activo.\n",
        "\n",
        "  Podemos desactivarlo con `deactivate` y luego borrar su carpeta."
      ],
      "metadata": {
        "id": "Hi7izoKLyrio"
      }
    },
    {
      "cell_type": "markdown",
      "source": [
        "**Instalación de librerías**"
      ],
      "metadata": {
        "id": "zS7Ug9ZLzB0r"
      }
    },
    {
      "cell_type": "code",
      "source": [
        "pip install streamlit --upgrade"
      ],
      "metadata": {
        "id": "7TKp_s7WyD_w"
      },
      "execution_count": null,
      "outputs": []
    },
    {
      "cell_type": "markdown",
      "source": [
        "Si da error `ModuleNotFoundError: No module named 'altair.vegalite.v4'` indica que tu entorno de Python no tiene la biblioteca altair instalada.\n",
        "\n",
        "Altair es una biblioteca de visualización declarativa que se integra con Streamlit para crear gráficos interactivos.\n",
        "\n",
        "Para resolver este problema, necesitas instalar Altair en su version previa a la 5:"
      ],
      "metadata": {
        "id": "Du34kyOixbUW"
      }
    },
    {
      "cell_type": "code",
      "source": [
        "pip install \"altair<5\""
      ],
      "metadata": {
        "id": "vq1lYMUsxiCY"
      },
      "execution_count": null,
      "outputs": []
    },
    {
      "cell_type": "markdown",
      "source": [
        "Las que vamos a necesitar en los ejemplos:"
      ],
      "metadata": {
        "id": "OpJghImS67Lf"
      }
    },
    {
      "cell_type": "code",
      "source": [
        "pip install plotly"
      ],
      "metadata": {
        "id": "qOOKLeXb69R_"
      },
      "execution_count": null,
      "outputs": []
    },
    {
      "cell_type": "markdown",
      "source": [
        "## 4. Ejemplos básicos en local <a name=\"local\"></a>"
      ],
      "metadata": {
        "id": "sNgpGNY8vXzk"
      }
    },
    {
      "cell_type": "markdown",
      "source": [
        "### 4.1. Hello <a name=\"hello\"></a>"
      ],
      "metadata": {
        "id": "qhr1LmA54J8P"
      }
    },
    {
      "cell_type": "markdown",
      "source": [
        "El comando `streamlit hello` es una forma rápida de ver lo que Streamlit puede hacer.\n",
        "\n",
        "Cuando ejecutas este comando, Streamlit lanza una aplicación de demostración interactiva que muestra varias características y capacidades de la biblioteca.\n",
        "\n",
        "Para ejecutar la aplicación de demostración, simplemente abre una terminal y escribe el siguiente comando:"
      ],
      "metadata": {
        "id": "LCmAYIeOvlr0"
      }
    },
    {
      "cell_type": "code",
      "source": [
        "streamlit hello"
      ],
      "metadata": {
        "id": "ordmmKvRwb5G"
      },
      "execution_count": null,
      "outputs": []
    },
    {
      "cell_type": "markdown",
      "source": [
        "Ahora puedes ver tu aplicación en su navegador: [http://localhost:8501](http://localhost:8501)"
      ],
      "metadata": {
        "id": "P89sYfim2qB6"
      }
    },
    {
      "cell_type": "markdown",
      "source": [
        "### 4.2. Leyendo datos con cache <a name=\"leyendo\"></a>"
      ],
      "metadata": {
        "id": "EwqucowH56WF"
      }
    },
    {
      "cell_type": "markdown",
      "source": [
        "En el método `load_data()`, estamos leyendo el archivo .csv usando la librería Pandas y estamos haciendo que nuestro código sea eficiente almacenando en caché los datos.\n",
        "\n",
        "Si estos datos siguieran cambiando, borramos nuestra memoria caché cada 5 minutos o para un máximo de 20 entradas.\n",
        "\n",
        "Si los datos no cambian con mucha frecuencia, simplemente podemos usar `@st.cache(persist=True)`. El código anterior es un ejemplo, pero para el modelo Titanic, podríamos mantener persist=True.\n",
        "\n",
        "Ahora vamos a crear un título, algo de contenido y un menú lateral.\n",
        "\n",
        "La descripción se muestra en color azul porque usamos HTML para dar el color personalizado como azul. También podemos usar encabezado y subencabezado como usamos st.title() para diferentes encabezados. O podemos usar Markdown para ese propósito."
      ],
      "metadata": {
        "id": "nazfd1KX-A0D"
      }
    },
    {
      "cell_type": "code",
      "source": [
        "import streamlit as st\n",
        "import pandas as pd\n",
        "import numpy as np\n",
        "import plotly.express as px\n",
        "\n",
        "@st.cache(ttl=60*5, max_entries=20)\n",
        "def load_data():\n",
        "    data = pd.read_csv('titanic_train.csv')\n",
        "    return data\n",
        "\n",
        "data = load_data()\n",
        "\n",
        "st.markdown('<style>description{color:blue;}</style>', unsafe_allow_html=True)\n",
        "st.title('Titanic survival prediction')\n",
        "st.markdown(\"<description>The sinking of the Titanic is one of the most infamous shipwrecks in history. \" +\n",
        "\"On April 15, 1912, during her maiden voyage, the widely considered “unsinkable” RMS Titanic sank after colliding \" +\n",
        "\"with an iceberg. Unfortunately, there weren't enough lifeboats for everyone onboard, resulting in the death of \" +\n",
        "\"1502 out of 2224 passengers and crew. While there was some element of luck involved in surviving, it seems some \" +\n",
        "\"groups of people were more likely to survive than others. </description>\", unsafe_allow_html=True)\n",
        "st.sidebar.title('Select the parameters to analyze survival prediction')\n",
        "\n",
        "st.write(data)"
      ],
      "metadata": {
        "id": "0gPXkvK36MSI"
      },
      "execution_count": null,
      "outputs": []
    },
    {
      "cell_type": "markdown",
      "source": [
        "Una vez que hayas terminado de crear tu propia aplicación, puedes ejecutarla usando:"
      ],
      "metadata": {
        "id": "Ax3ONMP0-Sh9"
      }
    },
    {
      "cell_type": "code",
      "source": [
        "streamlit run app_read.py"
      ],
      "metadata": {
        "id": "cad8M6Zc-Tbp"
      },
      "execution_count": null,
      "outputs": []
    },
    {
      "cell_type": "markdown",
      "source": [
        "### 4.3. Visualizador con filtrado <a name=\"visualizador\"></a>\n"
      ],
      "metadata": {
        "id": "p7r9Fyn44Snx"
      }
    },
    {
      "cell_type": "markdown",
      "source": [
        "Guarda el siguiente código en un archivo llamado app_visualizador.py."
      ],
      "metadata": {
        "id": "u6vSHsf64TGk"
      }
    },
    {
      "cell_type": "code",
      "source": [
        "import streamlit as st\n",
        "import pandas as pd\n",
        "import numpy as np\n",
        "\n",
        "# Título de la aplicación\n",
        "st.title('Mi Primera Aplicación con Streamlit')\n",
        "\n",
        "# Subtítulo\n",
        "st.header('Visualización de Datos de Ejemplo')\n",
        "\n",
        "# Crear un DataFrame de ejemplo\n",
        "data = pd.DataFrame({\n",
        "    'Número': np.arange(1, 11),\n",
        "    'Aleatorio': np.random.randn(10)\n",
        "})\n",
        "\n",
        "# Mostrar el DataFrame\n",
        "st.write(\"Aquí hay algunos datos de ejemplo:\")\n",
        "st.write(data)\n",
        "\n",
        "# Crear un gráfico de líneas con los datos\n",
        "st.line_chart(data)\n",
        "\n",
        "# Slider para seleccionar un valor\n",
        "valor_seleccionado = st.slider('Selecciona un valor', 0, 10, 5)\n",
        "st.write('Valor seleccionado:', valor_seleccionado)\n",
        "\n",
        "# Crear un filtro en el DataFrame basado en el valor seleccionado\n",
        "filtered_data = data[data['Número'] <= valor_seleccionado]\n",
        "\n",
        "# Mostrar el DataFrame filtrado\n",
        "st.write(\"Datos filtrados hasta el número seleccionado:\")\n",
        "st.write(filtered_data)\n",
        "\n",
        "# Crear un gráfico de barras con los datos filtrados\n",
        "st.bar_chart(filtered_data.set_index('Número'))"
      ],
      "metadata": {
        "id": "RW_FKHMr4aSf"
      },
      "execution_count": null,
      "outputs": []
    },
    {
      "cell_type": "markdown",
      "source": [
        "Para ejecutar la aplicación, abre una terminal, navega hasta el directorio donde guardaste app.py y ejecuta el siguiente comando:"
      ],
      "metadata": {
        "id": "-WhpoxyW4sQq"
      }
    },
    {
      "cell_type": "code",
      "source": [
        "streamlit run app_visualizador.py"
      ],
      "metadata": {
        "id": "HBggHbr44tm8"
      },
      "execution_count": null,
      "outputs": []
    },
    {
      "cell_type": "markdown",
      "source": [
        "## 5. Ejemplo de uso remoto con Render <a name=\"render\"></a>"
      ],
      "metadata": {
        "id": "ohpWyP-uKedH"
      }
    },
    {
      "cell_type": "markdown",
      "source": [
        "**Paso 1: Generar el modelo**"
      ],
      "metadata": {
        "id": "D6cz08Nx1o4j"
      }
    },
    {
      "cell_type": "markdown",
      "source": [
        "Integraremos el modelo de clasificación que hemos desarrollado en el módulo de los árboles de decisión.\n",
        "\n",
        "Se trabajo con el dataset iris para predecir el tipo de flor. Siendo la clase 0 una iris setosa, la 1 una iris versicolor y la 2 una iris virginica.\n",
        "\n",
        "El modelo decision_tree_classifier_default_42.sav se ha guardado en un objeto Pickle de tal forma que pueda ser utilizado para desplegarlo en un servicio web."
      ],
      "metadata": {
        "id": "TyW-RMr02wzi"
      }
    },
    {
      "cell_type": "code",
      "source": [
        "X, y = load_iris(return_X_y = True, as_frame = True)"
      ],
      "metadata": {
        "id": "PaF7CZP83Yns"
      },
      "execution_count": null,
      "outputs": []
    },
    {
      "cell_type": "code",
      "source": [
        "# split\n",
        "X_train, X_test, y_train, y_test = train_test_split(X, y, test_size = 0.2, random_state = 42)"
      ],
      "metadata": {
        "id": "QHJsHgG434kw"
      },
      "execution_count": null,
      "outputs": []
    },
    {
      "cell_type": "code",
      "source": [
        "# modelo\n",
        "model = DecisionTreeClassifier(random_state = 42)\n",
        "\n",
        "# entrenamiento\n",
        "model.fit(X_train, y_train)"
      ],
      "metadata": {
        "colab": {
          "base_uri": "https://localhost:8080/",
          "height": 75
        },
        "id": "N4mLO1NP385S",
        "outputId": "b6618d63-b2d5-4277-8435-9c5258f924a1"
      },
      "execution_count": null,
      "outputs": [
        {
          "output_type": "execute_result",
          "data": {
            "text/plain": [
              "DecisionTreeClassifier(random_state=42)"
            ],
            "text/html": [
              "<style>#sk-container-id-1 {color: black;}#sk-container-id-1 pre{padding: 0;}#sk-container-id-1 div.sk-toggleable {background-color: white;}#sk-container-id-1 label.sk-toggleable__label {cursor: pointer;display: block;width: 100%;margin-bottom: 0;padding: 0.3em;box-sizing: border-box;text-align: center;}#sk-container-id-1 label.sk-toggleable__label-arrow:before {content: \"▸\";float: left;margin-right: 0.25em;color: #696969;}#sk-container-id-1 label.sk-toggleable__label-arrow:hover:before {color: black;}#sk-container-id-1 div.sk-estimator:hover label.sk-toggleable__label-arrow:before {color: black;}#sk-container-id-1 div.sk-toggleable__content {max-height: 0;max-width: 0;overflow: hidden;text-align: left;background-color: #f0f8ff;}#sk-container-id-1 div.sk-toggleable__content pre {margin: 0.2em;color: black;border-radius: 0.25em;background-color: #f0f8ff;}#sk-container-id-1 input.sk-toggleable__control:checked~div.sk-toggleable__content {max-height: 200px;max-width: 100%;overflow: auto;}#sk-container-id-1 input.sk-toggleable__control:checked~label.sk-toggleable__label-arrow:before {content: \"▾\";}#sk-container-id-1 div.sk-estimator input.sk-toggleable__control:checked~label.sk-toggleable__label {background-color: #d4ebff;}#sk-container-id-1 div.sk-label input.sk-toggleable__control:checked~label.sk-toggleable__label {background-color: #d4ebff;}#sk-container-id-1 input.sk-hidden--visually {border: 0;clip: rect(1px 1px 1px 1px);clip: rect(1px, 1px, 1px, 1px);height: 1px;margin: -1px;overflow: hidden;padding: 0;position: absolute;width: 1px;}#sk-container-id-1 div.sk-estimator {font-family: monospace;background-color: #f0f8ff;border: 1px dotted black;border-radius: 0.25em;box-sizing: border-box;margin-bottom: 0.5em;}#sk-container-id-1 div.sk-estimator:hover {background-color: #d4ebff;}#sk-container-id-1 div.sk-parallel-item::after {content: \"\";width: 100%;border-bottom: 1px solid gray;flex-grow: 1;}#sk-container-id-1 div.sk-label:hover label.sk-toggleable__label {background-color: #d4ebff;}#sk-container-id-1 div.sk-serial::before {content: \"\";position: absolute;border-left: 1px solid gray;box-sizing: border-box;top: 0;bottom: 0;left: 50%;z-index: 0;}#sk-container-id-1 div.sk-serial {display: flex;flex-direction: column;align-items: center;background-color: white;padding-right: 0.2em;padding-left: 0.2em;position: relative;}#sk-container-id-1 div.sk-item {position: relative;z-index: 1;}#sk-container-id-1 div.sk-parallel {display: flex;align-items: stretch;justify-content: center;background-color: white;position: relative;}#sk-container-id-1 div.sk-item::before, #sk-container-id-1 div.sk-parallel-item::before {content: \"\";position: absolute;border-left: 1px solid gray;box-sizing: border-box;top: 0;bottom: 0;left: 50%;z-index: -1;}#sk-container-id-1 div.sk-parallel-item {display: flex;flex-direction: column;z-index: 1;position: relative;background-color: white;}#sk-container-id-1 div.sk-parallel-item:first-child::after {align-self: flex-end;width: 50%;}#sk-container-id-1 div.sk-parallel-item:last-child::after {align-self: flex-start;width: 50%;}#sk-container-id-1 div.sk-parallel-item:only-child::after {width: 0;}#sk-container-id-1 div.sk-dashed-wrapped {border: 1px dashed gray;margin: 0 0.4em 0.5em 0.4em;box-sizing: border-box;padding-bottom: 0.4em;background-color: white;}#sk-container-id-1 div.sk-label label {font-family: monospace;font-weight: bold;display: inline-block;line-height: 1.2em;}#sk-container-id-1 div.sk-label-container {text-align: center;}#sk-container-id-1 div.sk-container {/* jupyter's `normalize.less` sets `[hidden] { display: none; }` but bootstrap.min.css set `[hidden] { display: none !important; }` so we also need the `!important` here to be able to override the default hidden behavior on the sphinx rendered scikit-learn.org. See: https://github.com/scikit-learn/scikit-learn/issues/21755 */display: inline-block !important;position: relative;}#sk-container-id-1 div.sk-text-repr-fallback {display: none;}</style><div id=\"sk-container-id-1\" class=\"sk-top-container\"><div class=\"sk-text-repr-fallback\"><pre>DecisionTreeClassifier(random_state=42)</pre><b>In a Jupyter environment, please rerun this cell to show the HTML representation or trust the notebook. <br />On GitHub, the HTML representation is unable to render, please try loading this page with nbviewer.org.</b></div><div class=\"sk-container\" hidden><div class=\"sk-item\"><div class=\"sk-estimator sk-toggleable\"><input class=\"sk-toggleable__control sk-hidden--visually\" id=\"sk-estimator-id-1\" type=\"checkbox\" checked><label for=\"sk-estimator-id-1\" class=\"sk-toggleable__label sk-toggleable__label-arrow\">DecisionTreeClassifier</label><div class=\"sk-toggleable__content\"><pre>DecisionTreeClassifier(random_state=42)</pre></div></div></div></div></div>"
            ]
          },
          "metadata": {},
          "execution_count": 4
        }
      ]
    },
    {
      "cell_type": "code",
      "source": [
        "# predicción\n",
        "y_pred_test = model.predict(X_test)\n",
        "y_pred_test"
      ],
      "metadata": {
        "colab": {
          "base_uri": "https://localhost:8080/"
        },
        "id": "XFlRCTM94HX_",
        "outputId": "d2f73aff-e666-4fef-f12b-14c5460d7ec5"
      },
      "execution_count": null,
      "outputs": [
        {
          "output_type": "execute_result",
          "data": {
            "text/plain": [
              "array([1, 0, 2, 1, 1, 0, 1, 2, 1, 1, 2, 0, 0, 0, 0, 1, 2, 1, 1, 2, 0, 2,\n",
              "       0, 2, 2, 2, 2, 2, 0, 0])"
            ]
          },
          "metadata": {},
          "execution_count": 6
        }
      ]
    },
    {
      "cell_type": "code",
      "source": [
        "# metricas\n",
        "accuracy_test = accuracy_score(y_test, y_pred_test)\n",
        "\n",
        "f1_score_test = f1_score(y_test, y_pred_test, average='micro')\n",
        "\n",
        "precision_test = precision_score(y_test, y_pred_test, average='micro')\n",
        "\n",
        "recall_test = recall_score(y_test, y_pred_test, average='micro')\n",
        "\n",
        "print(\"Accuracy Test: \", accuracy_test)\n",
        "print(\"F1 score Test: \", f1_score_test)\n",
        "print(\"Precision Test: \", precision_test)\n",
        "print(\"Recall Test: \", recall_test)"
      ],
      "metadata": {
        "colab": {
          "base_uri": "https://localhost:8080/"
        },
        "id": "G9eE8fJG4Aek",
        "outputId": "c9258640-f9b7-441d-d3bc-0b6497984bda"
      },
      "execution_count": null,
      "outputs": [
        {
          "output_type": "stream",
          "name": "stdout",
          "text": [
            "Accuracy Test:  1.0\n",
            "F1 score Test:  1.0\n",
            "Precision Test:  1.0\n",
            "Recall Test:  1.0\n"
          ]
        }
      ]
    },
    {
      "cell_type": "code",
      "source": [
        "print(classification_report(y_test, y_pred_test, target_names=[\"iris setosa\", \"iris versicolor\", \"iris virginica\"]))"
      ],
      "metadata": {
        "colab": {
          "base_uri": "https://localhost:8080/"
        },
        "id": "K_AS9w7H4OEd",
        "outputId": "53000b96-f230-4f4e-90d8-2f7434bb06a0"
      },
      "execution_count": null,
      "outputs": [
        {
          "output_type": "stream",
          "name": "stdout",
          "text": [
            "                 precision    recall  f1-score   support\n",
            "\n",
            "    iris setosa       1.00      1.00      1.00        10\n",
            "iris versicolor       1.00      1.00      1.00         9\n",
            " iris virginica       1.00      1.00      1.00        11\n",
            "\n",
            "       accuracy                           1.00        30\n",
            "      macro avg       1.00      1.00      1.00        30\n",
            "   weighted avg       1.00      1.00      1.00        30\n",
            "\n"
          ]
        }
      ]
    },
    {
      "cell_type": "code",
      "source": [
        "dump(model, open(\"decision_tree_classifier_default_42.sav\", \"wb\"))"
      ],
      "metadata": {
        "id": "msAptIID4QAE"
      },
      "execution_count": null,
      "outputs": []
    },
    {
      "cell_type": "code",
      "source": [
        "print(sklearn.__version__)"
      ],
      "metadata": {
        "colab": {
          "base_uri": "https://localhost:8080/"
        },
        "id": "x1AHgXKAGhW2",
        "outputId": "477b7e9f-01a4-4c50-f6b8-ca61e9fa8f81"
      },
      "execution_count": null,
      "outputs": [
        {
          "output_type": "stream",
          "name": "stdout",
          "text": [
            "1.3.2\n"
          ]
        }
      ]
    },
    {
      "cell_type": "markdown",
      "source": [
        "**Paso 2. Registro en la plataforma**\n",
        "\n",
        "Para poder acceder a Render debemos tener una cuenta. Para registrarse se debe acceder al siguiente [enlace](https://dashboard.render.com/register)."
      ],
      "metadata": {
        "id": "jRomtFU2AO8v"
      }
    },
    {
      "cell_type": "markdown",
      "source": [
        "<img src=\"https://drive.google.com/uc?export=view&id=1PKKkPtbNOnOZALkFg6bhnvcB2fzimwoJ\" height=\"412\" width=\"900\" style=\"float: center;\">"
      ],
      "metadata": {
        "id": "ZQQvqegj0PKE"
      }
    },
    {
      "cell_type": "markdown",
      "source": [
        "**Paso 3. Crear un repositorio en Git**"
      ],
      "metadata": {
        "id": "Uo40OdlI0jtk"
      }
    },
    {
      "cell_type": "markdown",
      "source": [
        "Para integrar algo en Render primero debemos haber creado un repositorio en Git. El Git que vamos a generar en esta lección se encuentra [aquí](https://github.com/4GeeksAcademy/streamlit-render-integration), que deriva del Machine Learning Template de 4Geeks.\n",
        "\n",
        "El codigo de la aplicación (app.py) será:"
      ],
      "metadata": {
        "id": "n1-2jh3BLHJZ"
      }
    },
    {
      "cell_type": "code",
      "source": [
        "from pickle import load\n",
        "import streamlit as st\n",
        "\n",
        "model = load(open(\"../models/decision_tree_classifier_default_42.sav\", \"rb\"))\n",
        "class_dict = {\n",
        "    \"0\": \"Iris setosa\",\n",
        "    \"1\": \"Iris versicolor\",\n",
        "    \"2\": \"Iris virginica\"\n",
        "}\n",
        "\n",
        "st.title(\"Iris - Model prediction\")\n",
        "\n",
        "val1 = st.slider(\"Petal width\", min_value = 0.0, max_value = 4.0, step = 0.1)\n",
        "val2 = st.slider(\"Petal length\", min_value = 0.0, max_value = 4.0, step = 0.1)\n",
        "val3 = st.slider(\"Sepal width\", min_value = 0.0, max_value = 4.0, step = 0.1)\n",
        "val4 = st.slider(\"Sepal length\", min_value = 0.0, max_value = 4.0, step = 0.1)\n",
        "\n",
        "if st.button(\"Predict\"):\n",
        "    prediction = str(model.predict([[val1, val2, val3, val4]])[0])\n",
        "    pred_class = class_dict[prediction]\n",
        "    st.write(\"Prediction:\", pred_class)"
      ],
      "metadata": {
        "id": "xP5ockzdFIy4"
      },
      "execution_count": null,
      "outputs": []
    },
    {
      "cell_type": "markdown",
      "source": [
        "Con el código anterior conseguimos generar un formulario compuesto por 4 elementos deslizantes (para facilitar la tarea al usuario de introducir el valor) y un botón que lanza la predicción al modelo y lo muestra por pantalla."
      ],
      "metadata": {
        "id": "lhIIXpBuFZ-P"
      }
    },
    {
      "cell_type": "markdown",
      "source": [
        "**Paso 4: Crear servicio en Render y desplegar la aplicación**"
      ],
      "metadata": {
        "id": "ReQjgFcgLiq0"
      }
    },
    {
      "cell_type": "markdown",
      "source": [
        "El último paso es configurar el servicio en Render y conectarlo con nuestro repositorio Git. Recomendado darle permiso solo a los repositorios que queremos de forma individual.\n",
        "\n",
        "Debemos ir al Dashboard de Render, seleccionar el apartado de `Web Services` y elegir el repositorio en el que hayamos subido todo el código y las carpetas anteriores.\n",
        "\n",
        "Una vez lo seleccionemos nos aparecerá un formulario como el siguiente:"
      ],
      "metadata": {
        "id": "2nBU4kDILljC"
      }
    },
    {
      "cell_type": "markdown",
      "source": [
        "<img src=\"https://drive.google.com/uc?export=view&id=17DN7dng3Y3NhQSF56R0XZeHR_d9wpDoP\" height=\"575\" width=\"939\" style=\"float: center;\">"
      ],
      "metadata": {
        "id": "hWhoSqC1Mt1O"
      }
    },
    {
      "cell_type": "markdown",
      "source": [
        "Deberemos rellenarlo con la siguiente información:\n",
        "\n",
        "- Name: El nombre que queramos que tenga nuestro servicio. Por ejemplo: streamlit-render-integration\n",
        "\n",
        "- Language: El código es Python, así que dejaremos el valor por defecto, Python 3.\n",
        "\n",
        "- Branch: La rama en la que se encuentra nuestro código actualizado. Deberemos dejar el valor por defecto, main.\n",
        "\n",
        "- Root Directory: En este caso hemos desarrollado el código dentro de la carpeta `src`, por lo que deberemos introducir `src`.\n",
        "\n",
        "- Build Command: Dejaremos el valor por defecto, pip install -r requirements.txt.\n",
        "\n",
        "- Start Command: streamlit run app.py.\n",
        "\n",
        "Por último, elegiremos la tarifa gratuita."
      ],
      "metadata": {
        "id": "5P4WVRzUND4a"
      }
    },
    {
      "cell_type": "markdown",
      "source": [
        "En el siguiente paso nos aparecerá una consola con los registros (logs) del despliegue de la aplicación. El despliegue se hace paso a paso, clonando en primer lugar el repositorio, construyéndolo (build), instalando las dependencias, y, en último lugar, ejecutando el comando para lanzar la aplicación web."
      ],
      "metadata": {
        "id": "cGYTRMzXOJAs"
      }
    },
    {
      "cell_type": "markdown",
      "source": [
        "**Paso 4: Uso del servicio en Render**"
      ],
      "metadata": {
        "id": "31bXuLuAPMn9"
      }
    },
    {
      "cell_type": "markdown",
      "source": [
        "Una vez que el despliegue ha sido satisfactorio, accedemos a la aplicación desde el enlace situado debajo del nombre del servicio, y ya podemos utilizar la aplicación.\n",
        "\n",
        "La que hemos creado en esta lección está accesible en el siguiente enlace: [https://streamlit-render-integration-j98j.onrender.com](https://streamlit-render-integration-j98j.onrender.com)."
      ],
      "metadata": {
        "id": "UHx2ihXnPROu"
      }
    },
    {
      "cell_type": "markdown",
      "source": [
        "Probar predicciones:\n",
        "- Petal width 2.5\n",
        "- Petal length: 1.2\n",
        "- Sepal Width: 2.7\n",
        "- Sepal length: 1.5"
      ],
      "metadata": {
        "id": "7hQKYalHPcK1"
      }
    },
    {
      "cell_type": "markdown",
      "source": [
        "## 6. Ejemplo de uso remoto con Streamlit share <a name=\"sshare\"></a>"
      ],
      "metadata": {
        "id": "WT5_2z0TMquN"
      }
    },
    {
      "cell_type": "markdown",
      "source": [
        "**Paso 1. Registro en la plataforma**\n",
        "\n",
        "Para poder acceder a Render debemos tener una cuenta. Para registrarse se debe acceder al siguiente [enlace](https://share.streamlit.io/signup).\n",
        "\n",
        "**Paso 2. Crear un repositorio en Git**\n",
        "\n",
        "**Paso 3: Crear una app en Streamlit**"
      ],
      "metadata": {
        "id": "J-lm7-8OMwIu"
      }
    },
    {
      "cell_type": "markdown",
      "source": [
        "La primea vez pedirá acceso a github.\n",
        "\n",
        "Creamos una nueva app, deberemos rellenarlo con la siguiente información:\n",
        "\n",
        "- Repository: seleccioanmos el repositorio del proyecto.\n",
        "\n",
        "- Branch: La rama en la que se encuentra nuestro código actualizado. Deberemos dejar el valor por defecto, main.\n",
        "\n",
        "- Main file path: `src/app.py`.\n",
        "\n",
        "**Nota**: Dejando el repositorio tal cual daba error al acceder al modelo por no reconocer la subcarpeta. Aparentemente la aplicación share de Streamlit espera tener en raiz el archivo principal."
      ],
      "metadata": {
        "id": "rgooPad8Nm23"
      }
    },
    {
      "cell_type": "markdown",
      "source": [
        "Está accesible en el siguiente enlace con el repo original: [https://app-render-integration-db.streamlit.app/](https://app-render-integration-db.streamlit.app/).\n",
        "\n",
        "En este otro el que funciona [https://app-share-integration-db.streamlit.app/](https://app-share-integration-db.streamlit.app/)."
      ],
      "metadata": {
        "id": "2DQCLjB3UUwq"
      }
    },
    {
      "cell_type": "markdown",
      "source": [
        "## 7. Links de interés <a name=\"links\"></a>"
      ],
      "metadata": {
        "id": "4ZLwGjES0O50"
      }
    },
    {
      "cell_type": "markdown",
      "source": [
        "- [Documentación Oficial de Streamlit](https://docs.streamlit.io/)\n",
        "- [Construyendo y Desplegando tu Dashboard en la Nube: Una Guía Completa con Streamlit y Plotly](https://medium.com/datapath/construyendo-y-desplegando-tu-dashboard-en-la-nube-una-gu%C3%ADa-completa-con-streamlit-y-plotly-936cc1c8c71d)\n",
        "- [Develop GenAI Apps with Gemini and Streamlit](https://www.cloudskillsboost.google/paths/236/course_templates/978)"
      ],
      "metadata": {
        "id": "R75ytPht0dY7"
      }
    }
  ]
}