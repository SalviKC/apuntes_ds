{
  "nbformat": 4,
  "nbformat_minor": 0,
  "metadata": {
    "colab": {
      "provenance": []
    },
    "kernelspec": {
      "name": "python3",
      "display_name": "Python 3"
    },
    "language_info": {
      "name": "python"
    }
  },
  "cells": [
    {
      "cell_type": "markdown",
      "source": [
        "<div align=\"right\">\n",
        "  <img src=\"https://drive.google.com/uc?export=view&id=1J8JpP65HsHXdpJvhb_sMwn3yROyU832m\" height=\"80\" width=\"200\" style=\"float: right;\">\n",
        "</div>\n",
        "<h1><b>Data Science and Machine Learning</b></h1>\n",
        "<h2><b>Clase 5</b>: ML Ops</h2>\n",
        "<h3><b>Docente</b>: <a href=\"https://www.linkedin.com/in/danielablanco/\">Daniela Blanco</a>"
      ],
      "metadata": {
        "id": "Wp4cyu16yiif"
      }
    },
    {
      "cell_type": "markdown",
      "source": [
        "# Contenido\n",
        "\n",
        "- [1. MLOps](#mlops)\n",
        "- [2. Desarrollar local vs en la nube](#local_nube)\n",
        "- [3. Codespaces](#codespaces)\n",
        "- [4. Terminal](#terminal)\n",
        "- [5. Links de interés](#links)\n"
      ],
      "metadata": {
        "id": "XEmijBfl2b_I"
      }
    },
    {
      "cell_type": "markdown",
      "source": [
        "## 1. MLOps <a name=\"mlops\"></a>"
      ],
      "metadata": {
        "id": "Pw6lT_8L3Bny"
      }
    },
    {
      "cell_type": "markdown",
      "source": [
        "<img src=\"https://drive.google.com/uc?export=view&id=1ExGEcowMyV1MoCIx32EY-Sm7Q4mARDyN\" height=\"180\" width=\"420\" style=\"float: center;\">"
      ],
      "metadata": {
        "id": "r4PQ6VCun-6J"
      }
    },
    {
      "cell_type": "markdown",
      "source": [
        "MLOps, una combinación de \"Machine Learning\" (ML) y \"Operations\" (Ops), es una práctica que se centra en la colaboración y la comunicación entre científicos de datos y equipos de operaciones de TI.\n",
        "\n",
        "El objetivo de MLOps es hacer que el proceso de implementación y mantenimiento de modelos de machine learning sea más eficiente y escalable.\n",
        "\n",
        "MLOps aplica principios y prácticas de DevOps al mundo del machine learning, con el fin de mejorar la eficiencia y efectividad de la implementación y operación de modelos de ML en producción."
      ],
      "metadata": {
        "id": "4jhbeTuX8V_T"
      }
    },
    {
      "cell_type": "markdown",
      "source": [
        "## 2. Desarrollar local vs en la nube <a name=\"local_nube\"></a>"
      ],
      "metadata": {
        "id": "ettFkGtjpJYR"
      }
    },
    {
      "cell_type": "markdown",
      "source": [
        "La elección entre desarrollo local y en la nube depende de las necesidades específicas de un proyecto, los recursos disponibles y prioridades en términos de control, costo, seguridad y escalabilidad.\n",
        "\n",
        "Hoy la tendencias de las grandes empresas es hacerlo de forma remota en la nube.\n",
        "\n",
        "Desarrollar sistemas de forma local y en la nube tiene sus propias ventajas y desventajas.\n",
        "\n",
        "|    Aspecto    |         Desarrollo Local        |              Desarrollo en la Nube              |\n",
        "|:-------------:|:-------------------------------:|:-----------------------------------------------:|\n",
        "| Control       | Completo sobre el entorno de desarrollo, hardware y software.                                | Menos control sobre el hardware y configuraciones específicas del sistema.                                                |\n",
        "| Costos        |  Altos costos iniciales (adquisición de hardware).                               | Costos iniciales bajos, pero los costos operativos acumulativos.                                                |\n",
        "| Escalabilidad | Limitada y costosa                                | Alta y flexible                                                |\n",
        "| Accesibilidad | Local, sin dependencia de Internet                                | Global, requiere Internet                                                |\n",
        "| Seguridad     | Control local, menos exposición | Riesgos de privacidad y dependencia de terceros |\n",
        "| Mantenimiento     |Autogestionado |Gestionado por el proveedor de nube  |\n",
        "| Flexibilidad     | Menor | Mayor. Rápida adaptación |"
      ],
      "metadata": {
        "id": "pdQfRst7pPF-"
      }
    },
    {
      "cell_type": "markdown",
      "source": [
        "## 3. Codespaces <a name=\"codespaces\"></a>"
      ],
      "metadata": {
        "id": "-pKhX6q54evo"
      }
    },
    {
      "cell_type": "markdown",
      "source": [
        "- Codespaces es la propuesta de GitHub para entornos de desarrollo en la nube.\n",
        "- Es una tecnología que crea en cuestión de segundos computadoras y entornos de desarrollo en la nube, listos para ser usados por desarrolladore.\n",
        "- Como estudiante en 4Geeks, se te anima a usar estos entornos, ya que acelerarán tu aprendizaje, eliminando toda la fricción que conlleva la configuración y permitiéndote enfocarte en desarrollar.\n",
        "- Con Codespaces, puedes abrir cualquier repositorio en un entorno de desarrollo en la nube y comenzar o continuar codificando en segundos."
      ],
      "metadata": {
        "id": "bKQm2OZj4k51"
      }
    },
    {
      "cell_type": "markdown",
      "source": [
        "## ¿Cómo funciona Codespaces?"
      ],
      "metadata": {
        "id": "huu8g4UlX7SP"
      }
    },
    {
      "cell_type": "markdown",
      "source": [
        "- Si comienzas a trabajar en un proyecto y creas una nueva computadora en la nube para trabajar en tu proyecto, esta nueva computadora será un \"codespace\".\n",
        "- Tu lista de Codespaces (computadoras) actuales está aquí: github.com/codespaces.\n",
        "- La forma recomendada de crear un nuevo codespace es desde un repositorio de GitHub (pensar GitHub como una unidad de disco duro en línea de código, donde cada carpeta es uno de tus proyectos)."
      ],
      "metadata": {
        "id": "hq656FvQ6Y3z"
      }
    },
    {
      "cell_type": "markdown",
      "source": [
        "<img src=\"https://drive.google.com/uc?export=view&id=1iARTaunRrE_nQlI_BIFE1CkIac7tkHV6\" height=\"380\" width=\"580\" style=\"float: center;\">"
      ],
      "metadata": {
        "id": "ijJ47JMGYhy4"
      }
    },
    {
      "cell_type": "markdown",
      "source": [
        "- Una vez que el nuevo codespace se abra, creará una computadora vacía, pero también descargará los archivos de la carpeta del repositorio de GitHub que especificaste a esta nueva computadora.\n",
        "- Abrirá un editor de código (VSCode) y una terminal para comenzar a codificar como si el codespace estuviera en tu computadora local desde el principio.\n",
        "\n",
        "- Los cambios que hiciste en los archivos se mantendrán durante unos días; retendrás todos los datos siempre y cuando VUELVAS A ABRIR el mismo codespace en el que estabas trabajando o si desactivas la opción \"Auto-delete codespace\" en ese repositorio en específico."
      ],
      "metadata": {
        "id": "AzToCZ-wZJU-"
      }
    },
    {
      "cell_type": "markdown",
      "source": [
        "## 4. Terminal <a name=\"terminal\"></a>"
      ],
      "metadata": {
        "id": "Q-7zZlEUZ0KT"
      }
    },
    {
      "cell_type": "markdown",
      "source": [
        "- También llamada línea de comandos o consola.\n",
        "\n",
        "- Todo computador tiene una terminal, y puedes usarla para hacer casi todo lo que quieras: abrir una aplicación, crear un archivo, carpeta, etc. Sin embargo, en Codespaces, la terminal solo controlará el computador virtual."
      ],
      "metadata": {
        "id": "jJOZUW0eZ4w_"
      }
    },
    {
      "cell_type": "markdown",
      "source": [
        "<img src=\"https://drive.google.com/uc?export=view&id=1ig1ynEyquaZZxOnVH7iiM5euszGwTDWi\" height=\"300\" width=\"580\" style=\"float: center;\">\n",
        "\n",
        "<img src=\"https://drive.google.com/uc?export=view&id=1lO_N_xCV1OC5_CQgq2d0_xn94n8H9Dha\" height=\"250\" width=\"520\" style=\"float: center;\">\n",
        "\n",
        "<img src=\"https://drive.google.com/uc?export=view&id=19ymiW5DzLtKplWkGQtNgtQhoWq8Dq6t0\" height=\"300\" width=\"560\" style=\"float: center;\">\n",
        "\n",
        "<img src=\"https://drive.google.com/uc?export=view&id=1jOA2tS-MtnEr5le1KSvZOxrQ2CV4ylTw\" height=\"300\" width=\"550\" style=\"float: center;\">"
      ],
      "metadata": {
        "id": "IZZ62um-aE--"
      }
    },
    {
      "cell_type": "markdown",
      "source": [
        "- Muchos sistemas que no tengan una interface visual nos harán recurrir al uso de una terminal para darle instrucciones.\n",
        "- Es una pantalla \"negra\" que siempre está esperando un comando. Después de escribir el comando deseado y de haber presionado la tecla enter, la computadora lo ejecuta y muestra algún feedback con el resultado en la pantalla.\n",
        "- Tendremos comandos propios del sistem operativo y otros de cada software o herramienta que permita el uso de la terminal. Como GIT, MySql, Node.js, etc."
      ],
      "metadata": {
        "id": "_gQ6wS7db8tX"
      }
    },
    {
      "cell_type": "markdown",
      "source": [
        "### 4.1 Trucos <a name=\"trucos\"></a>"
      ],
      "metadata": {
        "id": "JRff1tYUfVAH"
      }
    },
    {
      "cell_type": "markdown",
      "source": [
        "- Para cancelar un comando que se está ejecutando, presiona ctrl + c.\n",
        "\n",
        "- Para completar automáticamente el nombre de un archivo o carpeta, usa la tecla tab.\n",
        "\n",
        "- Para repetir cualquier comando que hayas usado en el pasado, usa la flecha arriba ↑ y te mostrará cada comando, uno por uno.\n",
        "\n",
        "- Usa el comando clear para \"limpiar\" la consola actual (es solo un desplazamiento, pero muy útil)."
      ],
      "metadata": {
        "id": "TZt20LJ6fVPF"
      }
    },
    {
      "cell_type": "markdown",
      "source": [
        "### 4.2 Comandos útiles <a name=\"comandos\"></a>"
      ],
      "metadata": {
        "id": "0kAthmWcdIsN"
      }
    },
    {
      "cell_type": "markdown",
      "source": [
        "- **Listar extructura de directorios - Ls**:\n",
        "\n",
        "  Se usa para listar todos los archivos y directorios de la ubicación actual."
      ],
      "metadata": {
        "id": "hET1gjTZdjdP"
      }
    },
    {
      "cell_type": "code",
      "source": [
        "ls -l ./applications\n",
        "# Muestra los archivos y carpetas dentro de \"applications\"\n",
        "# El -l es para recibir una información más detallada sobre los archivos"
      ],
      "metadata": {
        "id": "06Aay-NzeADI"
      },
      "execution_count": null,
      "outputs": []
    },
    {
      "cell_type": "markdown",
      "source": [
        "- **Cambiar directorio o carpeta -cd**:"
      ],
      "metadata": {
        "id": "wHBOzUgPeGtr"
      }
    },
    {
      "cell_type": "code",
      "source": [
        "cd /path/to/directory"
      ],
      "metadata": {
        "id": "wHqjKQpveOCK"
      },
      "execution_count": null,
      "outputs": []
    },
    {
      "cell_type": "markdown",
      "source": [
        "- **Mover - mv**:\n",
        "\n",
        "  Mueve un archivo a otra carpeta o directorio."
      ],
      "metadata": {
        "id": "24xLqo5ceOkF"
      }
    },
    {
      "cell_type": "code",
      "source": [
        "mv /path/to/file.txt /math/to/destination/file.txt"
      ],
      "metadata": {
        "id": "zl8jbEOneX4_"
      },
      "execution_count": null,
      "outputs": []
    },
    {
      "cell_type": "markdown",
      "source": [
        "- **Eliminar - rm**:\n",
        "\n",
        "  Borra archivos (no directorios)."
      ],
      "metadata": {
        "id": "-ILgE2SFeaoS"
      }
    },
    {
      "cell_type": "code",
      "source": [
        "rm file1.txt file2.txt file3.txt file4.txt\n",
        "# Elimina estos cuatro archivos\n",
        "\n",
        "rm -r dbstore/\n",
        "# Elimina todos los archivos y subdirectorios recursivamente dentro del directorio \"dbstore\""
      ],
      "metadata": {
        "id": "4vikaWvCenUR"
      },
      "execution_count": null,
      "outputs": []
    },
    {
      "cell_type": "markdown",
      "source": [
        "- **Eliminar directorio - rmdir**:\n",
        "\n",
        "  Borra carpetas."
      ],
      "metadata": {
        "id": "Nfgpl9ZnexW_"
      }
    },
    {
      "cell_type": "code",
      "source": [
        "rmdir mydirectory\n",
        "# Eliminar mydirectory si está en el directorio actual\n",
        "\n",
        "rmdir path/of/targetdirectory/mydirectory\n",
        "# Eliminar mydirectory de \"targetdirectory\""
      ],
      "metadata": {
        "id": "qDQlzUw9e5TC"
      },
      "execution_count": null,
      "outputs": []
    },
    {
      "cell_type": "markdown",
      "source": [
        "- **Crear directorio - mkdir**:\n",
        "\n",
        "  Crea un nuevo directorio."
      ],
      "metadata": {
        "id": "RDLRCAp4eECB"
      }
    },
    {
      "cell_type": "code",
      "source": [
        "mkdir newdirectoryname\n",
        "# Crear newdirectoryname en el directorio actual\n",
        "\n",
        "mkdir path/of/new/newdirectoryname\n",
        "# Crear newdirectoryname dentro de /path/of/new/"
      ],
      "metadata": {
        "id": "8qi03Kyjetyn"
      },
      "execution_count": null,
      "outputs": []
    },
    {
      "cell_type": "markdown",
      "source": [
        "- **Copiar archivos - cp**:\n",
        "\n",
        "  Copiará un archivo completo y creará uno nuevo con el nombre que decidas que deba tener."
      ],
      "metadata": {
        "id": "ULRjbrvLe985"
      }
    },
    {
      "cell_type": "code",
      "source": [
        "cp path/to/file.txt path/to/new/file_copy.txt\n",
        "# Copia \"file.txt\" y crea un nuevo \"file_copy.txt\" con el mismo contenido"
      ],
      "metadata": {
        "id": "HkYW947YfEpp"
      },
      "execution_count": null,
      "outputs": []
    },
    {
      "cell_type": "markdown",
      "source": [
        "- **Buscar- find**:\n",
        "\n",
        "  Encuentra un archivo en el directorio dado y con las especificaciones dadas."
      ],
      "metadata": {
        "id": "JtCzfvkVfGtn"
      }
    },
    {
      "cell_type": "code",
      "source": [
        "find / -name game\n",
        "# Encuentra todos los archivos que contengan el nombre exacto \"game\" que se encuentran dentro de la carpeta raíz\n",
        "\n",
        "find . -name *.mp3\n",
        "# Encuentra todos los archivos que contengan la extensión \"mp3\" dentro del directorio actual y en el de su padre"
      ],
      "metadata": {
        "id": "MQ36bzG_fLpZ"
      },
      "execution_count": null,
      "outputs": []
    },
    {
      "cell_type": "markdown",
      "source": [
        "### 4.3 Desafío línea de comandos <a name=\"desafio\"></a>"
      ],
      "metadata": {
        "id": "7NSNKsa2gOfL"
      }
    },
    {
      "cell_type": "markdown",
      "source": [
        "Resolver el siguiente [desafío](https://cmdchallenge.com/)."
      ],
      "metadata": {
        "id": "uW99nOoCgVpN"
      }
    },
    {
      "cell_type": "markdown",
      "source": [
        "1. Your first challenge is to print \"hello world\" on the terminal in a single command.\n",
        "2. Print the current working directory.\n",
        "3. List names of all the files in the current directory, one file per line.\n",
        "4. There is a file named access.log in the current directory. Print the contents.\n",
        "5. Print the last 5 lines of \"access.log\".\n",
        "6. Create an empty file named take-the-command-challenge in the current working directory.\n",
        "7. Create a directory named tmp/files in the current working directory\n",
        "Hint: The directory \"tmp/\" doesn't exist, with one command you need to create both \"tmp/\" and \"tmp/files\".\n",
        "8. Copy the file named take-the-command-challenge to the directory tmp/files\n",
        "9. Move the file named take-the-command-challenge to the directory tmp/files\n",
        "10. A symbolic link is a type of file that is a reference to another file. Create a symbolic link named take-the-command-challenge that points to the file tmp/files/take-the-command-challenge.\n",
        "\n",
        "1. Tu primer desafío es imprimir \"hello world\" en la terminal en un solo comando.\n",
        "2. Imprimir el directorio de trabajo actual.\n",
        "3. Listar los nombres de todos los archivos en el directorio actual, uno por línea.\n",
        "4. Hay un archivo llamado access.log en el directorio actual. Imprimir su contenido.\n",
        "5. Imprimir las últimas 5 líneas de \"access.log\".\n",
        "6. Crear un archivo vacío llamado take-the-command-challenge en el directorio de trabajo actual.\n",
        "7. Crear un directorio llamado tmp/files en el directorio de trabajo actual.\n",
        "Nota: El directorio \"tmp/\" no existe, con un solo comando necesitas crear tanto \"tmp/\" como \"tmp/files\".\n",
        "8. Copiar el archivo llamado take-the-command-challenge al directorio tmp/files.\n",
        "9. Mover el archivo llamado take-the-command-challenge al directorio tmp/files.\n",
        "10. Un enlace simbólico es un tipo de archivo que es una referencia a otro archivo. Crear un enlace simbólico llamado take-the-command-challenge que apunte al archivo tmp/files/take-the-command-challenge."
      ],
      "metadata": {
        "id": "_0q-AeHggf-l"
      }
    },
    {
      "cell_type": "code",
      "source": [
        "# 1. Imprimir\n",
        "echo \"hello world\"\n",
        "\n",
        "# 2. directorio actual\n",
        "pwd\n",
        "\n",
        "# 3. listar los nombres de todos los archivos en el directorio actual, uno por línea\n",
        "ls -1\n",
        "\n",
        "#  4. imprimir el contenido del archivo access.log en el directorio actual\n",
        "cat access.log\n",
        "\n",
        "# 5. imprimir las últimas 5 líneas del archivo access.log\n",
        "tail -n 5 access.log\n",
        "\n",
        "# 6. crear un archivo vacío llamado take-the-command-challenge en el directorio de trabajo actual\n",
        "cat > take-the-command-challenge\n",
        "\n",
        "# 7. Crear directorio\n",
        "mkdir -p tmp/files\n",
        "\n",
        "# 8. copiar el archivo llamado take-the-command-challenge al directorio tmp/files\n",
        "cp take-the-command-challenge tmp/files/\n",
        "\n",
        "# 9. mover el archivo take-the-command-challenge al directorio tmp/files\n",
        "mv take-the-command-challenge tmp/files/\n",
        "\n",
        "# 10. crear un enlace simbólico llamado take-the-command-challenge que apunte al archivo tmp/files/take-the-command-challenge\n",
        "ln -s tmp/files/take-the-command-challenge take-the-command-challenge"
      ],
      "metadata": {
        "id": "xac9oolagii0"
      },
      "execution_count": null,
      "outputs": []
    },
    {
      "cell_type": "markdown",
      "source": [
        "## 4. Links de interés <a name=\"links\"></a>\n",
        "\n",
        "- [Your new friend: Command Line](https://www.youtube.com/watch?v=jvZLWhkzX-8&list=PLbd_WhypdBbAMyFfKgSj27JO7CEpuIcEK)\n",
        "- [The Linux Command Line](https://wiki.lib.sun.ac.za/images/c/ca/TLCL-13.07.pdf)\n",
        "- [Learn Enough Command Line to Be Dangerous](https://www.learnenough.com/command-line-tutorial/basics)\n",
        "- [Documentación oficial Codespaces](https://docs.github.com/en/codespaces)"
      ],
      "metadata": {
        "id": "AhcJllZ7ExpC"
      }
    }
  ]
}