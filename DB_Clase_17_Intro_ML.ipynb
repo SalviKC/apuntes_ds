{
  "nbformat": 4,
  "nbformat_minor": 0,
  "metadata": {
    "colab": {
      "provenance": []
    },
    "kernelspec": {
      "name": "python3",
      "display_name": "Python 3"
    },
    "language_info": {
      "name": "python"
    }
  },
  "cells": [
    {
      "cell_type": "markdown",
      "source": [
        "<div align=\"right\">\n",
        "  <img src=\"https://drive.google.com/uc?export=view&id=1J8JpP65HsHXdpJvhb_sMwn3yROyU832m\" height=\"80\" width=\"200\" style=\"float: right;\">\n",
        "</div>\n",
        "<h1><b>Data Science and Machine Learning</b></h1>\n",
        "<h2><b>Clase 17</b>: Introducción Machine Learning</h2>\n",
        "<h3><b>Docente</b>: <a href=\"https://www.linkedin.com/in/danielablanco/\">Daniela Blanco</a>"
      ],
      "metadata": {
        "id": "Wp4cyu16yiif"
      }
    },
    {
      "cell_type": "markdown",
      "source": [
        "# Contenido\n",
        "\n",
        "- [1. ¿Qué era Machine learning?](#ml)\n",
        "- [2. Tipos de aprendizaje](#aprendizajes)\n",
        "- [3. Conjunto de datos](#aprendizajes)\n",
        "- [4. Sobreajuste (overfiting) vs subajuste (underfiting)](#overfiting)\n",
        "- [5. Métricas](#metricas)\n",
        "- [6. Optimización de hiperparámetros](#hiperparametros)\n",
        "- [7. Regresión logística](#logistica)\n",
        "  - [7.1. Función logarítmica](#funcion)\n",
        "  - [7.2. Umbral de decisión](#umbral)\n",
        "  - [7.3. Hiperparámetros](#parametros)\n",
        "- [8. Links de interés](#links)\n"
      ],
      "metadata": {
        "id": "XEmijBfl2b_I"
      }
    },
    {
      "cell_type": "code",
      "source": [
        "import pandas as pd\n",
        "import numpy as np\n",
        "\n",
        "import matplotlib.pyplot as plt\n",
        "import seaborn as sns\n",
        "\n",
        "# split\n",
        "from sklearn.model_selection import train_test_split\n",
        "\n",
        "# modelado\n",
        "from sklearn.linear_model import LogisticRegression\n",
        "\n",
        "# metricas\n",
        "from sklearn.metrics import accuracy_score\n",
        "from sklearn.metrics import confusion_matrix\n",
        "\n",
        "# optimizacion\n",
        "from sklearn.model_selection import GridSearchCV\n",
        "from sklearn.model_selection import RandomizedSearchCV\n"
      ],
      "metadata": {
        "id": "cPtXYusox8X4"
      },
      "execution_count": 2,
      "outputs": []
    },
    {
      "cell_type": "markdown",
      "source": [
        "## 1. ¿Qué era Machine learning? <a name=\"ml\"></a>"
      ],
      "metadata": {
        "id": "Pw6lT_8L3Bny"
      }
    },
    {
      "cell_type": "markdown",
      "source": [
        "<img src=\"https://drive.google.com/uc?export=view&id=1IhHLl43r4akkFGJ7NRqFd8BqsG3kpnOZ\" height=\"198\" width=\"634\" style=\"float: center;\">"
      ],
      "metadata": {
        "id": "XlGxqok8qZon"
      }
    },
    {
      "cell_type": "markdown",
      "source": [
        "El Aprendizaje Automático (Machine learning) es una rama de la Inteligencia Artificial que se centra en la construcción de sistemas que pueden aprender de los datos, en lugar de seguir solo reglas programadas explícitamente.\n",
        "\n",
        "Por ejemplo, un modelo de Machine Learning podría ser entrenado para reconocer gatos al proporcionarle miles de imágenes con y sin gatos.\n",
        "\n",
        "Con suficientes ejemplos, el sistema \"aprende\" a distinguir las características que definen a un gato, así podría identificarlos en nuevas imágenes que nunca antes había visto."
      ],
      "metadata": {
        "id": "MrE2Gc3Ygk8X"
      }
    },
    {
      "cell_type": "markdown",
      "source": [
        "<img src=\"https://drive.google.com/uc?export=view&id=1syOzOeMPk3NN-X6xy7LaS-6XpSBtRFl1\" height=\"143\" width=\"994\" style=\"float: center;\">"
      ],
      "metadata": {
        "id": "r4PQ6VCun-6J"
      }
    },
    {
      "cell_type": "markdown",
      "source": [
        "## 2. Tipos de aprendizaje <a name=\"aprendizajes\"></a>"
      ],
      "metadata": {
        "id": "aTAT7UQEfOoH"
      }
    },
    {
      "cell_type": "markdown",
      "source": [
        "Existen varios tipos de aprendizajes basados en la forma en que el algoritmo aprende a partir de los datos."
      ],
      "metadata": {
        "id": "24i5xw76k6kl"
      }
    },
    {
      "cell_type": "markdown",
      "source": [
        "###Aprendizaje supervisado (Supervised Learning)\n",
        "\n",
        "El modelo se entrena con un conjunto de datos etiquetados, lo que significa que cada ejemplo de entrenamiento está asociado con una etiqueta o salida deseada (objetivo).\n",
        "\n",
        "Hay dos tipos de problemas supervisados:\n",
        "\n",
        "- **Regresión** (*regression*). Cuando la etiqueta o el valor objetivo es un número continuo (como el precio de una casa), el problema se considera un problema de regresión. El modelo debe devolver un número en una escala infinita.\n",
        "\n",
        "- **Clasificación** (*classification*). Cuando la etiqueta es categórica (como predecir si un correo es spam o no), el problema es de clasificación. El modelo debe devolver una etiqueta según se corresponda a una clase u otra.\n",
        "\n",
        "**Ejemplos de algoritmos**: regresión lineal, regresión logística, máquinas de soporte vectorial (SVM), redes neuronales, árboles de decisión.\n",
        "\n",
        "**Ejemplos de aplicaciones**: clasificación de correos electrónicos como spam o no spam, predicción de precios de viviendas."
      ],
      "metadata": {
        "id": "SkeUZSaSxghR"
      }
    },
    {
      "cell_type": "markdown",
      "source": [
        "###Aprendizaje no Supervisado (unsupervised Learning)\n",
        "\n",
        "Los modelos se entrenan usando un conjunto de datos sin etiquetas.\n",
        "\n",
        "En este tipo de aprendizaje, el objetivo es encontrar patrones o estructuras ocultas en los datos.\n",
        "\n",
        "Puesto que en este tipo de aprendizaje no hay etiquetas, los modelos deben descubrir por sí mismos las relaciones en los datos.\n",
        "\n",
        "**Ejemplos de algoritmos**: k-means, clustering jerárquico, análisis de componentes principales (PCA), redes neuronales autoencodificadoras.\n",
        "\n",
        "**Ejemplos de aplicaciones**: segmentación de clientes, reducción de dimensionalidad."
      ],
      "metadata": {
        "id": "s6Ix3KqAxp-B"
      }
    },
    {
      "cell_type": "markdown",
      "source": [
        "###Aprendizaje por refuerzo (reinforcement Learning)\n",
        "\n",
        "En este aprendizaje el modelo (también llamado agente) aprende a tomar decisiones óptimas a través de la interacción con su entorno.\n",
        "\n",
        "El objetivo es maximizar alguna noción de recompensa acumulativa.\n",
        "\n",
        "En el aprendizaje por refuerzo, el agente toma acciones, las cuales afectan el estado del ambiente, y recibe retroalimentación en forma de recompensas o penalizaciones.\n",
        "\n",
        "La meta es aprender una estrategia para maximizar su recompensa a largo plazo.\n",
        "\n",
        "Un ejemplo de este tipo de aprendizaje es un programa que aprenda a jugar al ajedrez. El agente (el programa) decide qué movimiento hacer (las acciones de mover ficha) en diferentes posiciones del tablero de ajedrez (los estados) para maximizar la posibilidad de ganar el juego (la recompensa).\n",
        "\n",
        "El aprendizaje por refuerzo está centrado en tomar decisiones óptimas y aprender a partir de la retroalimentación de esas decisiones.\n",
        "\n",
        "**Ejemplos de algoritmos**: Q-learning, SARSA, aprendizaje profundo por refuerzo (Deep Q-Networks).\n",
        "\n",
        "**Ejemplos de aplicaciones**: juegos (como AlphaGo), robótica, conducción autónoma."
      ],
      "metadata": {
        "id": "LC1WgZEryEdZ"
      }
    },
    {
      "cell_type": "markdown",
      "source": [
        "###Aprendizaje semi supervisado (semi supervised Learning)\n",
        "\n",
        "Combina una pequeña cantidad de datos etiquetados con una gran cantidad de datos no etiquetados durante el entrenamiento.\n",
        "\n",
        "Útil cuando etiquetar datos es costoso o difícil, pero se dispone de una gran cantidad de datos no etiquetados."
      ],
      "metadata": {
        "id": "cohfa9piypx_"
      }
    },
    {
      "cell_type": "markdown",
      "source": [
        "<img src=\"https://drive.google.com/uc?export=view&id=1DOaLFzqfrbOisOGYGmOgcm3KQIbvf30G\" height=\"364\" width=\"918\" style=\"float: center;\">"
      ],
      "metadata": {
        "id": "DJpBT6YDBy89"
      }
    },
    {
      "cell_type": "markdown",
      "source": [
        "Tambien podemos ampliar a otras clasificaciones como aprendizaje por transferencia (transfer learning) o profundo (deep learning).\n",
        "\n",
        "Por transferencia aprovecha un modelo previamente entrenado en una tarea específica y lo adapta a una nueva tarea relacionada. Ejemplos de aplicaciones: reconocimiento de imágenes, procesamiento del lenguaje natural (NLP).\n",
        "\n",
        "Deep learning será subcampo del aprendizaje supervisado y no supervisado que utiliza redes neuronales artificiales con muchas capas (redes neuronales profundas). Ejemplos de aplicaciones: reconocimiento de voz, traducción automática, generación de imágenes."
      ],
      "metadata": {
        "id": "x3fu4GZoBr31"
      }
    },
    {
      "cell_type": "markdown",
      "source": [
        "### Ejemplo Supervisado - Clasificación\n",
        "\n",
        "<img src=\"https://drive.google.com/uc?export=view&id=1-JhFdwVmsT2cox5byAgvaCCJtUsRCrPw\" height=\"400\" width=\"780\" style=\"float: center;\">"
      ],
      "metadata": {
        "id": "frIiIXTH0_FF"
      }
    },
    {
      "cell_type": "markdown",
      "source": [
        "### Ejemplo Supervisado - Regresión\n",
        "\n",
        "<img src=\"https://drive.google.com/uc?export=view&id=17JX1bYf8iInkw-t0lnK-l550kOV71Qyz\" height=\"450\" width=\"580\" style=\"float: center;\">"
      ],
      "metadata": {
        "id": "7KIznl1Z16QT"
      }
    },
    {
      "cell_type": "markdown",
      "source": [
        "## 3. Conjunto de datos <a name=\"aprendizajes\"></a>"
      ],
      "metadata": {
        "id": "PUGVrKIU1xED"
      }
    },
    {
      "cell_type": "markdown",
      "source": [
        "Un conjunto de datos es una colección que normalmente se representa en forma de tabla. En esta tabla, cada fila representa una observación o instancia y cada columna representa una característica, atributo o variable de esa observación.\n",
        "\n",
        "Este conjunto de datos es utilizado para entrenar y evaluar modelos.\n",
        "\n",
        "**Entrenamiento del modelo**. Un modelo de Machine Learning aprende a partir de un conjunto de datos de entrenamiento. El modelo entrena ajustando sus parámetros internamente.\n",
        "\n",
        "**Evaluación del modelo**. Una vez que el modelo ha sido entrenado, se utiliza un conjunto de datos de prueba independiente para evaluar su rendimiento. Este dataset contiene observaciones que no se utilizaron durante el entrenamiento, lo que permite obtener una evaluación imparcial de cómo se espera que el modelo realice predicciones sobre nuevos datos.\n",
        "\n",
        "En algunas situaciones, también se utiliza un conjunto de validación, que se utiliza para evaluar el rendimiento de un modelo durante el entrenamiento. Una vez que se entrenan los modelos, se evalúan en el conjunto de validación para seleccionar el mejor modelo posible."
      ],
      "metadata": {
        "id": "_rXr72LT0M2p"
      }
    },
    {
      "cell_type": "markdown",
      "source": [
        "### Split de datos\n",
        "\n",
        "El paso previo de entrenar un modelo, además del EDA, es dividir los datos en un conjunto de entrenamiento (train dataset) y un conjunto de prueba (test dataset).\n",
        "\n",
        "Seleccionaremos aleatoriamente un 80% (puede variar) de las filas y las colocaremos en el conjunto de entrenamiento y el 20% restante en el conjunto de prueba.\n",
        "\n",
        "Entrena el modelo usando el conjunto de entrenamiento (X_train, y_train).\n",
        "\n",
        "Prueba el modelo usando el conjunto de prueba (X_test, y_test)."
      ],
      "metadata": {
        "id": "i72XfcYk3Sjj"
      }
    },
    {
      "cell_type": "markdown",
      "source": [
        "<img src=\"https://drive.google.com/uc?export=view&id=1w16lin1hOU_wlPZd9DSPJXxxkJZsznij\" height=\"250\" width=\"846\" style=\"float: center;\">"
      ],
      "metadata": {
        "id": "98Fmq9x6-o07"
      }
    },
    {
      "cell_type": "code",
      "source": [
        "# Cargamos el conjunto de datos\n",
        "total_data = sns.load_dataset(\"attention\")\n",
        "\n",
        "total_data.head()"
      ],
      "metadata": {
        "id": "_p6krQ790Owx",
        "colab": {
          "base_uri": "https://localhost:8080/",
          "height": 206
        },
        "outputId": "c79a30e9-361a-403b-d3ee-df764d0263ea"
      },
      "execution_count": 3,
      "outputs": [
        {
          "output_type": "execute_result",
          "data": {
            "text/plain": [
              "   Unnamed: 0  subject attention  solutions  score\n",
              "0           0        1   divided          1    2.0\n",
              "1           1        2   divided          1    3.0\n",
              "2           2        3   divided          1    3.0\n",
              "3           3        4   divided          1    5.0\n",
              "4           4        5   divided          1    4.0"
            ],
            "text/html": [
              "\n",
              "  <div id=\"df-dba614d6-7779-4a2a-adeb-a164306ec76f\" class=\"colab-df-container\">\n",
              "    <div>\n",
              "<style scoped>\n",
              "    .dataframe tbody tr th:only-of-type {\n",
              "        vertical-align: middle;\n",
              "    }\n",
              "\n",
              "    .dataframe tbody tr th {\n",
              "        vertical-align: top;\n",
              "    }\n",
              "\n",
              "    .dataframe thead th {\n",
              "        text-align: right;\n",
              "    }\n",
              "</style>\n",
              "<table border=\"1\" class=\"dataframe\">\n",
              "  <thead>\n",
              "    <tr style=\"text-align: right;\">\n",
              "      <th></th>\n",
              "      <th>Unnamed: 0</th>\n",
              "      <th>subject</th>\n",
              "      <th>attention</th>\n",
              "      <th>solutions</th>\n",
              "      <th>score</th>\n",
              "    </tr>\n",
              "  </thead>\n",
              "  <tbody>\n",
              "    <tr>\n",
              "      <th>0</th>\n",
              "      <td>0</td>\n",
              "      <td>1</td>\n",
              "      <td>divided</td>\n",
              "      <td>1</td>\n",
              "      <td>2.0</td>\n",
              "    </tr>\n",
              "    <tr>\n",
              "      <th>1</th>\n",
              "      <td>1</td>\n",
              "      <td>2</td>\n",
              "      <td>divided</td>\n",
              "      <td>1</td>\n",
              "      <td>3.0</td>\n",
              "    </tr>\n",
              "    <tr>\n",
              "      <th>2</th>\n",
              "      <td>2</td>\n",
              "      <td>3</td>\n",
              "      <td>divided</td>\n",
              "      <td>1</td>\n",
              "      <td>3.0</td>\n",
              "    </tr>\n",
              "    <tr>\n",
              "      <th>3</th>\n",
              "      <td>3</td>\n",
              "      <td>4</td>\n",
              "      <td>divided</td>\n",
              "      <td>1</td>\n",
              "      <td>5.0</td>\n",
              "    </tr>\n",
              "    <tr>\n",
              "      <th>4</th>\n",
              "      <td>4</td>\n",
              "      <td>5</td>\n",
              "      <td>divided</td>\n",
              "      <td>1</td>\n",
              "      <td>4.0</td>\n",
              "    </tr>\n",
              "  </tbody>\n",
              "</table>\n",
              "</div>\n",
              "    <div class=\"colab-df-buttons\">\n",
              "\n",
              "  <div class=\"colab-df-container\">\n",
              "    <button class=\"colab-df-convert\" onclick=\"convertToInteractive('df-dba614d6-7779-4a2a-adeb-a164306ec76f')\"\n",
              "            title=\"Convert this dataframe to an interactive table.\"\n",
              "            style=\"display:none;\">\n",
              "\n",
              "  <svg xmlns=\"http://www.w3.org/2000/svg\" height=\"24px\" viewBox=\"0 -960 960 960\">\n",
              "    <path d=\"M120-120v-720h720v720H120Zm60-500h600v-160H180v160Zm220 220h160v-160H400v160Zm0 220h160v-160H400v160ZM180-400h160v-160H180v160Zm440 0h160v-160H620v160ZM180-180h160v-160H180v160Zm440 0h160v-160H620v160Z\"/>\n",
              "  </svg>\n",
              "    </button>\n",
              "\n",
              "  <style>\n",
              "    .colab-df-container {\n",
              "      display:flex;\n",
              "      gap: 12px;\n",
              "    }\n",
              "\n",
              "    .colab-df-convert {\n",
              "      background-color: #E8F0FE;\n",
              "      border: none;\n",
              "      border-radius: 50%;\n",
              "      cursor: pointer;\n",
              "      display: none;\n",
              "      fill: #1967D2;\n",
              "      height: 32px;\n",
              "      padding: 0 0 0 0;\n",
              "      width: 32px;\n",
              "    }\n",
              "\n",
              "    .colab-df-convert:hover {\n",
              "      background-color: #E2EBFA;\n",
              "      box-shadow: 0px 1px 2px rgba(60, 64, 67, 0.3), 0px 1px 3px 1px rgba(60, 64, 67, 0.15);\n",
              "      fill: #174EA6;\n",
              "    }\n",
              "\n",
              "    .colab-df-buttons div {\n",
              "      margin-bottom: 4px;\n",
              "    }\n",
              "\n",
              "    [theme=dark] .colab-df-convert {\n",
              "      background-color: #3B4455;\n",
              "      fill: #D2E3FC;\n",
              "    }\n",
              "\n",
              "    [theme=dark] .colab-df-convert:hover {\n",
              "      background-color: #434B5C;\n",
              "      box-shadow: 0px 1px 3px 1px rgba(0, 0, 0, 0.15);\n",
              "      filter: drop-shadow(0px 1px 2px rgba(0, 0, 0, 0.3));\n",
              "      fill: #FFFFFF;\n",
              "    }\n",
              "  </style>\n",
              "\n",
              "    <script>\n",
              "      const buttonEl =\n",
              "        document.querySelector('#df-dba614d6-7779-4a2a-adeb-a164306ec76f button.colab-df-convert');\n",
              "      buttonEl.style.display =\n",
              "        google.colab.kernel.accessAllowed ? 'block' : 'none';\n",
              "\n",
              "      async function convertToInteractive(key) {\n",
              "        const element = document.querySelector('#df-dba614d6-7779-4a2a-adeb-a164306ec76f');\n",
              "        const dataTable =\n",
              "          await google.colab.kernel.invokeFunction('convertToInteractive',\n",
              "                                                    [key], {});\n",
              "        if (!dataTable) return;\n",
              "\n",
              "        const docLinkHtml = 'Like what you see? Visit the ' +\n",
              "          '<a target=\"_blank\" href=https://colab.research.google.com/notebooks/data_table.ipynb>data table notebook</a>'\n",
              "          + ' to learn more about interactive tables.';\n",
              "        element.innerHTML = '';\n",
              "        dataTable['output_type'] = 'display_data';\n",
              "        await google.colab.output.renderOutput(dataTable, element);\n",
              "        const docLink = document.createElement('div');\n",
              "        docLink.innerHTML = docLinkHtml;\n",
              "        element.appendChild(docLink);\n",
              "      }\n",
              "    </script>\n",
              "  </div>\n",
              "\n",
              "\n",
              "<div id=\"df-48796f8d-569d-4994-aadb-b221357544a6\">\n",
              "  <button class=\"colab-df-quickchart\" onclick=\"quickchart('df-48796f8d-569d-4994-aadb-b221357544a6')\"\n",
              "            title=\"Suggest charts\"\n",
              "            style=\"display:none;\">\n",
              "\n",
              "<svg xmlns=\"http://www.w3.org/2000/svg\" height=\"24px\"viewBox=\"0 0 24 24\"\n",
              "     width=\"24px\">\n",
              "    <g>\n",
              "        <path d=\"M19 3H5c-1.1 0-2 .9-2 2v14c0 1.1.9 2 2 2h14c1.1 0 2-.9 2-2V5c0-1.1-.9-2-2-2zM9 17H7v-7h2v7zm4 0h-2V7h2v10zm4 0h-2v-4h2v4z\"/>\n",
              "    </g>\n",
              "</svg>\n",
              "  </button>\n",
              "\n",
              "<style>\n",
              "  .colab-df-quickchart {\n",
              "      --bg-color: #E8F0FE;\n",
              "      --fill-color: #1967D2;\n",
              "      --hover-bg-color: #E2EBFA;\n",
              "      --hover-fill-color: #174EA6;\n",
              "      --disabled-fill-color: #AAA;\n",
              "      --disabled-bg-color: #DDD;\n",
              "  }\n",
              "\n",
              "  [theme=dark] .colab-df-quickchart {\n",
              "      --bg-color: #3B4455;\n",
              "      --fill-color: #D2E3FC;\n",
              "      --hover-bg-color: #434B5C;\n",
              "      --hover-fill-color: #FFFFFF;\n",
              "      --disabled-bg-color: #3B4455;\n",
              "      --disabled-fill-color: #666;\n",
              "  }\n",
              "\n",
              "  .colab-df-quickchart {\n",
              "    background-color: var(--bg-color);\n",
              "    border: none;\n",
              "    border-radius: 50%;\n",
              "    cursor: pointer;\n",
              "    display: none;\n",
              "    fill: var(--fill-color);\n",
              "    height: 32px;\n",
              "    padding: 0;\n",
              "    width: 32px;\n",
              "  }\n",
              "\n",
              "  .colab-df-quickchart:hover {\n",
              "    background-color: var(--hover-bg-color);\n",
              "    box-shadow: 0 1px 2px rgba(60, 64, 67, 0.3), 0 1px 3px 1px rgba(60, 64, 67, 0.15);\n",
              "    fill: var(--button-hover-fill-color);\n",
              "  }\n",
              "\n",
              "  .colab-df-quickchart-complete:disabled,\n",
              "  .colab-df-quickchart-complete:disabled:hover {\n",
              "    background-color: var(--disabled-bg-color);\n",
              "    fill: var(--disabled-fill-color);\n",
              "    box-shadow: none;\n",
              "  }\n",
              "\n",
              "  .colab-df-spinner {\n",
              "    border: 2px solid var(--fill-color);\n",
              "    border-color: transparent;\n",
              "    border-bottom-color: var(--fill-color);\n",
              "    animation:\n",
              "      spin 1s steps(1) infinite;\n",
              "  }\n",
              "\n",
              "  @keyframes spin {\n",
              "    0% {\n",
              "      border-color: transparent;\n",
              "      border-bottom-color: var(--fill-color);\n",
              "      border-left-color: var(--fill-color);\n",
              "    }\n",
              "    20% {\n",
              "      border-color: transparent;\n",
              "      border-left-color: var(--fill-color);\n",
              "      border-top-color: var(--fill-color);\n",
              "    }\n",
              "    30% {\n",
              "      border-color: transparent;\n",
              "      border-left-color: var(--fill-color);\n",
              "      border-top-color: var(--fill-color);\n",
              "      border-right-color: var(--fill-color);\n",
              "    }\n",
              "    40% {\n",
              "      border-color: transparent;\n",
              "      border-right-color: var(--fill-color);\n",
              "      border-top-color: var(--fill-color);\n",
              "    }\n",
              "    60% {\n",
              "      border-color: transparent;\n",
              "      border-right-color: var(--fill-color);\n",
              "    }\n",
              "    80% {\n",
              "      border-color: transparent;\n",
              "      border-right-color: var(--fill-color);\n",
              "      border-bottom-color: var(--fill-color);\n",
              "    }\n",
              "    90% {\n",
              "      border-color: transparent;\n",
              "      border-bottom-color: var(--fill-color);\n",
              "    }\n",
              "  }\n",
              "</style>\n",
              "\n",
              "  <script>\n",
              "    async function quickchart(key) {\n",
              "      const quickchartButtonEl =\n",
              "        document.querySelector('#' + key + ' button');\n",
              "      quickchartButtonEl.disabled = true;  // To prevent multiple clicks.\n",
              "      quickchartButtonEl.classList.add('colab-df-spinner');\n",
              "      try {\n",
              "        const charts = await google.colab.kernel.invokeFunction(\n",
              "            'suggestCharts', [key], {});\n",
              "      } catch (error) {\n",
              "        console.error('Error during call to suggestCharts:', error);\n",
              "      }\n",
              "      quickchartButtonEl.classList.remove('colab-df-spinner');\n",
              "      quickchartButtonEl.classList.add('colab-df-quickchart-complete');\n",
              "    }\n",
              "    (() => {\n",
              "      let quickchartButtonEl =\n",
              "        document.querySelector('#df-48796f8d-569d-4994-aadb-b221357544a6 button');\n",
              "      quickchartButtonEl.style.display =\n",
              "        google.colab.kernel.accessAllowed ? 'block' : 'none';\n",
              "    })();\n",
              "  </script>\n",
              "</div>\n",
              "\n",
              "    </div>\n",
              "  </div>\n"
            ],
            "application/vnd.google.colaboratory.intrinsic+json": {
              "type": "dataframe",
              "variable_name": "total_data",
              "summary": "{\n  \"name\": \"total_data\",\n  \"rows\": 60,\n  \"fields\": [\n    {\n      \"column\": \"Unnamed: 0\",\n      \"properties\": {\n        \"dtype\": \"number\",\n        \"std\": 17,\n        \"min\": 0,\n        \"max\": 59,\n        \"num_unique_values\": 60,\n        \"samples\": [\n          0,\n          5,\n          36\n        ],\n        \"semantic_type\": \"\",\n        \"description\": \"\"\n      }\n    },\n    {\n      \"column\": \"subject\",\n      \"properties\": {\n        \"dtype\": \"number\",\n        \"std\": 5,\n        \"min\": 1,\n        \"max\": 20,\n        \"num_unique_values\": 20,\n        \"samples\": [\n          1,\n          18,\n          16\n        ],\n        \"semantic_type\": \"\",\n        \"description\": \"\"\n      }\n    },\n    {\n      \"column\": \"attention\",\n      \"properties\": {\n        \"dtype\": \"category\",\n        \"num_unique_values\": 2,\n        \"samples\": [\n          \"focused\",\n          \"divided\"\n        ],\n        \"semantic_type\": \"\",\n        \"description\": \"\"\n      }\n    },\n    {\n      \"column\": \"solutions\",\n      \"properties\": {\n        \"dtype\": \"number\",\n        \"std\": 0,\n        \"min\": 1,\n        \"max\": 3,\n        \"num_unique_values\": 3,\n        \"samples\": [\n          1,\n          2\n        ],\n        \"semantic_type\": \"\",\n        \"description\": \"\"\n      }\n    },\n    {\n      \"column\": \"score\",\n      \"properties\": {\n        \"dtype\": \"number\",\n        \"std\": 1.6216011826217402,\n        \"min\": 2.0,\n        \"max\": 9.0,\n        \"num_unique_values\": 9,\n        \"samples\": [\n          4.5,\n          3.0\n        ],\n        \"semantic_type\": \"\",\n        \"description\": \"\"\n      }\n    }\n  ]\n}"
            }
          },
          "metadata": {},
          "execution_count": 3
        }
      ]
    },
    {
      "cell_type": "code",
      "source": [
        "features = [\"subject\", \"attention\", \"solutions\"]\n",
        "target = \"score\"\n",
        "\n",
        "# Separamos las predictoras de la etiqueta\n",
        "X = total_data[features]\n",
        "y = total_data[target]\n",
        "\n",
        "# Dividimos la muestra en train y test al 80%\n",
        "X_train, X_test, y_train, y_test = train_test_split(X, y, random_state = 42, train_size = 0.80)"
      ],
      "metadata": {
        "id": "2bGdiYZ60TIZ"
      },
      "execution_count": 6,
      "outputs": []
    },
    {
      "cell_type": "code",
      "source": [
        "total_data.shape"
      ],
      "metadata": {
        "colab": {
          "base_uri": "https://localhost:8080/"
        },
        "id": "L5Rk6O5wTP0W",
        "outputId": "83aa4b21-3f2f-4801-fbbc-40771323218f"
      },
      "execution_count": 4,
      "outputs": [
        {
          "output_type": "execute_result",
          "data": {
            "text/plain": [
              "(60, 5)"
            ]
          },
          "metadata": {},
          "execution_count": 4
        }
      ]
    },
    {
      "cell_type": "code",
      "source": [
        "X_test.shape"
      ],
      "metadata": {
        "colab": {
          "base_uri": "https://localhost:8080/"
        },
        "id": "q4fSRQpzTICb",
        "outputId": "f4eb5f9a-7826-4b4d-cc86-388e0c598488"
      },
      "execution_count": 7,
      "outputs": [
        {
          "output_type": "execute_result",
          "data": {
            "text/plain": [
              "(12, 3)"
            ]
          },
          "metadata": {},
          "execution_count": 7
        }
      ]
    },
    {
      "cell_type": "code",
      "source": [
        "X_train.shape"
      ],
      "metadata": {
        "colab": {
          "base_uri": "https://localhost:8080/"
        },
        "id": "LAgVmdxKTClG",
        "outputId": "bd5f3861-7fee-40ba-e934-68fd7760d923"
      },
      "execution_count": 8,
      "outputs": [
        {
          "output_type": "execute_result",
          "data": {
            "text/plain": [
              "(48, 3)"
            ]
          },
          "metadata": {},
          "execution_count": 8
        }
      ]
    },
    {
      "cell_type": "code",
      "source": [
        "y_train"
      ],
      "metadata": {
        "colab": {
          "base_uri": "https://localhost:8080/",
          "height": 1000
        },
        "id": "gvuyC0HiTTVe",
        "outputId": "a16416e1-8540-4d8d-cbf1-1bf0a831f01f"
      },
      "execution_count": 11,
      "outputs": [
        {
          "output_type": "execute_result",
          "data": {
            "text/plain": [
              "31    9.0\n",
              "3     5.0\n",
              "52    9.0\n",
              "17    7.0\n",
              "8     2.0\n",
              "6     5.0\n",
              "40    7.0\n",
              "4     4.0\n",
              "43    5.0\n",
              "19    6.0\n",
              "34    8.0\n",
              "58    6.0\n",
              "25    5.0\n",
              "56    6.0\n",
              "15    6.0\n",
              "27    7.0\n",
              "9     6.0\n",
              "30    5.0\n",
              "26    4.5\n",
              "16    7.0\n",
              "24    5.0\n",
              "55    7.0\n",
              "11    8.0\n",
              "32    5.0\n",
              "53    7.0\n",
              "41    5.0\n",
              "37    8.0\n",
              "29    5.0\n",
              "44    8.0\n",
              "1     3.0\n",
              "21    4.0\n",
              "2     3.0\n",
              "47    8.0\n",
              "39    6.0\n",
              "35    8.0\n",
              "23    7.0\n",
              "49    6.0\n",
              "10    6.0\n",
              "22    5.0\n",
              "18    5.0\n",
              "59    5.0\n",
              "20    4.0\n",
              "7     5.0\n",
              "42    6.0\n",
              "14    8.0\n",
              "28    3.0\n",
              "51    8.0\n",
              "38    6.0\n",
              "Name: score, dtype: float64"
            ],
            "text/html": [
              "<div>\n",
              "<style scoped>\n",
              "    .dataframe tbody tr th:only-of-type {\n",
              "        vertical-align: middle;\n",
              "    }\n",
              "\n",
              "    .dataframe tbody tr th {\n",
              "        vertical-align: top;\n",
              "    }\n",
              "\n",
              "    .dataframe thead th {\n",
              "        text-align: right;\n",
              "    }\n",
              "</style>\n",
              "<table border=\"1\" class=\"dataframe\">\n",
              "  <thead>\n",
              "    <tr style=\"text-align: right;\">\n",
              "      <th></th>\n",
              "      <th>score</th>\n",
              "    </tr>\n",
              "  </thead>\n",
              "  <tbody>\n",
              "    <tr>\n",
              "      <th>31</th>\n",
              "      <td>9.0</td>\n",
              "    </tr>\n",
              "    <tr>\n",
              "      <th>3</th>\n",
              "      <td>5.0</td>\n",
              "    </tr>\n",
              "    <tr>\n",
              "      <th>52</th>\n",
              "      <td>9.0</td>\n",
              "    </tr>\n",
              "    <tr>\n",
              "      <th>17</th>\n",
              "      <td>7.0</td>\n",
              "    </tr>\n",
              "    <tr>\n",
              "      <th>8</th>\n",
              "      <td>2.0</td>\n",
              "    </tr>\n",
              "    <tr>\n",
              "      <th>6</th>\n",
              "      <td>5.0</td>\n",
              "    </tr>\n",
              "    <tr>\n",
              "      <th>40</th>\n",
              "      <td>7.0</td>\n",
              "    </tr>\n",
              "    <tr>\n",
              "      <th>4</th>\n",
              "      <td>4.0</td>\n",
              "    </tr>\n",
              "    <tr>\n",
              "      <th>43</th>\n",
              "      <td>5.0</td>\n",
              "    </tr>\n",
              "    <tr>\n",
              "      <th>19</th>\n",
              "      <td>6.0</td>\n",
              "    </tr>\n",
              "    <tr>\n",
              "      <th>34</th>\n",
              "      <td>8.0</td>\n",
              "    </tr>\n",
              "    <tr>\n",
              "      <th>58</th>\n",
              "      <td>6.0</td>\n",
              "    </tr>\n",
              "    <tr>\n",
              "      <th>25</th>\n",
              "      <td>5.0</td>\n",
              "    </tr>\n",
              "    <tr>\n",
              "      <th>56</th>\n",
              "      <td>6.0</td>\n",
              "    </tr>\n",
              "    <tr>\n",
              "      <th>15</th>\n",
              "      <td>6.0</td>\n",
              "    </tr>\n",
              "    <tr>\n",
              "      <th>27</th>\n",
              "      <td>7.0</td>\n",
              "    </tr>\n",
              "    <tr>\n",
              "      <th>9</th>\n",
              "      <td>6.0</td>\n",
              "    </tr>\n",
              "    <tr>\n",
              "      <th>30</th>\n",
              "      <td>5.0</td>\n",
              "    </tr>\n",
              "    <tr>\n",
              "      <th>26</th>\n",
              "      <td>4.5</td>\n",
              "    </tr>\n",
              "    <tr>\n",
              "      <th>16</th>\n",
              "      <td>7.0</td>\n",
              "    </tr>\n",
              "    <tr>\n",
              "      <th>24</th>\n",
              "      <td>5.0</td>\n",
              "    </tr>\n",
              "    <tr>\n",
              "      <th>55</th>\n",
              "      <td>7.0</td>\n",
              "    </tr>\n",
              "    <tr>\n",
              "      <th>11</th>\n",
              "      <td>8.0</td>\n",
              "    </tr>\n",
              "    <tr>\n",
              "      <th>32</th>\n",
              "      <td>5.0</td>\n",
              "    </tr>\n",
              "    <tr>\n",
              "      <th>53</th>\n",
              "      <td>7.0</td>\n",
              "    </tr>\n",
              "    <tr>\n",
              "      <th>41</th>\n",
              "      <td>5.0</td>\n",
              "    </tr>\n",
              "    <tr>\n",
              "      <th>37</th>\n",
              "      <td>8.0</td>\n",
              "    </tr>\n",
              "    <tr>\n",
              "      <th>29</th>\n",
              "      <td>5.0</td>\n",
              "    </tr>\n",
              "    <tr>\n",
              "      <th>44</th>\n",
              "      <td>8.0</td>\n",
              "    </tr>\n",
              "    <tr>\n",
              "      <th>1</th>\n",
              "      <td>3.0</td>\n",
              "    </tr>\n",
              "    <tr>\n",
              "      <th>21</th>\n",
              "      <td>4.0</td>\n",
              "    </tr>\n",
              "    <tr>\n",
              "      <th>2</th>\n",
              "      <td>3.0</td>\n",
              "    </tr>\n",
              "    <tr>\n",
              "      <th>47</th>\n",
              "      <td>8.0</td>\n",
              "    </tr>\n",
              "    <tr>\n",
              "      <th>39</th>\n",
              "      <td>6.0</td>\n",
              "    </tr>\n",
              "    <tr>\n",
              "      <th>35</th>\n",
              "      <td>8.0</td>\n",
              "    </tr>\n",
              "    <tr>\n",
              "      <th>23</th>\n",
              "      <td>7.0</td>\n",
              "    </tr>\n",
              "    <tr>\n",
              "      <th>49</th>\n",
              "      <td>6.0</td>\n",
              "    </tr>\n",
              "    <tr>\n",
              "      <th>10</th>\n",
              "      <td>6.0</td>\n",
              "    </tr>\n",
              "    <tr>\n",
              "      <th>22</th>\n",
              "      <td>5.0</td>\n",
              "    </tr>\n",
              "    <tr>\n",
              "      <th>18</th>\n",
              "      <td>5.0</td>\n",
              "    </tr>\n",
              "    <tr>\n",
              "      <th>59</th>\n",
              "      <td>5.0</td>\n",
              "    </tr>\n",
              "    <tr>\n",
              "      <th>20</th>\n",
              "      <td>4.0</td>\n",
              "    </tr>\n",
              "    <tr>\n",
              "      <th>7</th>\n",
              "      <td>5.0</td>\n",
              "    </tr>\n",
              "    <tr>\n",
              "      <th>42</th>\n",
              "      <td>6.0</td>\n",
              "    </tr>\n",
              "    <tr>\n",
              "      <th>14</th>\n",
              "      <td>8.0</td>\n",
              "    </tr>\n",
              "    <tr>\n",
              "      <th>28</th>\n",
              "      <td>3.0</td>\n",
              "    </tr>\n",
              "    <tr>\n",
              "      <th>51</th>\n",
              "      <td>8.0</td>\n",
              "    </tr>\n",
              "    <tr>\n",
              "      <th>38</th>\n",
              "      <td>6.0</td>\n",
              "    </tr>\n",
              "  </tbody>\n",
              "</table>\n",
              "</div><br><label><b>dtype:</b> float64</label>"
            ]
          },
          "metadata": {},
          "execution_count": 11
        }
      ]
    },
    {
      "cell_type": "markdown",
      "source": [
        "## 4. Sobreajuste (overfiting) vs subajuste (underfiting) <a name=\"overfiting\"></a>"
      ],
      "metadata": {
        "id": "1qUHhmtA0seB"
      }
    },
    {
      "cell_type": "markdown",
      "source": [
        "Se pueden dar diversos escenarios relacionados con el rendimiento de un modelo."
      ],
      "metadata": {
        "id": "K_vsW9l_0w3q"
      }
    },
    {
      "cell_type": "markdown",
      "source": [
        "<img src=\"https://drive.google.com/uc?export=view&id=1QNYn3gEE8E0EHd0rvUXCJ-fiuF-16bDF\" height=\"257\" width=\"522\" style=\"float: center;\">"
      ],
      "metadata": {
        "id": "uScee0zrAkSQ"
      }
    },
    {
      "cell_type": "markdown",
      "source": [
        "**Sobreajuste (overfiting)**\n",
        "\n",
        "Un modelo aprende demasiado bien los detalles y el ruido de los datos de entrenamiento, en lugar de aprender los patrones subyacentes que son realmente útiles para predecir datos nuevos.\n",
        "\n",
        "Esto hace que el modelo funcione extremadamente bien en los datos de entrenamiento, pero falle al generalizar y predecir correctamente en datos no vistos (datos de prueba o datos nuevos).\n",
        "\n",
        "Indicadores de overfiting:\n",
        "- Alto rendimiento en train y bajo en test.\n",
        "- Grandes diferencias entre el error de train y test.\n",
        "- Usando validaciones cruzadas sigue dando sobreajuste.\n",
        "\n",
        "Posibles causas:\n",
        "- Modelo demasiado complejo para el problema.\n",
        "- Datos insuficientes para entrenar.\n",
        "- Ruido en los datos.\n",
        "\n",
        "Técnicas para prevenir:\n",
        "- Usar bien el split de datos.\n",
        "- Validazión cruzdaa.\n",
        "- Reducir la complejidad del modelo. Por ejemplo: con regularización.\n",
        "- Aumentar la cantidad de datos.\n",
        "- Usar métodos de ensamble.\n"
      ],
      "metadata": {
        "id": "m4_jckf015_R"
      }
    },
    {
      "cell_type": "markdown",
      "source": [
        "**Subajuste (underfiting)**\n",
        "\n",
        "Ocurre cuando un modelo es demasiado simple para capturar la estructura subyacente de los datos.\n",
        "\n",
        "Esto resulta en un bajo rendimiento tanto en el conjunto de entrenamiento como en el de prueba.\n",
        "\n",
        "Indicadores de underfiting:\n",
        "- Bajo rendimiento en train y test.\n",
        "\n",
        "Posibles causas:\n",
        "- Modelo demasiado simple para el problema.\n",
        "- Datos insuficientes para entrenar.\n",
        "- Faltas de carácteristicas relevantes en los datos para el objetivo.\n",
        "\n",
        "Técnicas para prevenir:\n",
        "- Aumentar la complejidad del modelo.\n",
        "- Añadir carácterísticas relevantes.\n",
        "- Aumentar la cantidad de datos."
      ],
      "metadata": {
        "id": "MFc5U8RX2RlV"
      }
    },
    {
      "cell_type": "markdown",
      "source": [
        "**Ajuste justo (good fit)**\n",
        "\n",
        "Este es el escenario ideal donde el modelo generaliza bien tanto en los datos de entrenamiento como en los datos de prueba.\n",
        "\n",
        "El modelo ha aprendido los patrones subyacentes sin sobreajustarse al ruido de los datos de entrenamiento.\n",
        "\n",
        "Indicadores de ajuste justo:\n",
        "- Buena métrica tanto en train como test.\n",
        "- Los errores no son muy distintos en ambos conjuntos.\n",
        "\n",
        "Técnicas para mantener un ajuste bueno:\n",
        "- Validar los modelos con nuevos datos continuamente.\n",
        "- Evitar añadir complejidad innecesaria."
      ],
      "metadata": {
        "id": "asSJstHR2fal"
      }
    },
    {
      "cell_type": "markdown",
      "source": [
        "## 5. Métricas <a name=\"metricas\"></a>"
      ],
      "metadata": {
        "id": "EoZ6P8ui3jq6"
      }
    },
    {
      "cell_type": "markdown",
      "source": [
        "La **evaluación** de un modelo es uno de los pasos más importantes en el proceso de Machine Learning, ya que nos va a permitir saber cómo de bueno es nuestro modelo, cuánto ha aprendido de la muestra de entrenamiento (`train`) y cómo procederá para datos nunca vistos o nuevos (`test` y/o `validación`).\n",
        "\n",
        "Para evaluar un modelo existen métricas según el tipo de problema y aprendizaje.\n",
        "\n",
        "El paquete `scikit-learn` permite fácilmente aplicar estas funciones a los modelos. La documentación está accesible [aquí](https://scikit-learn.org/stable/modules/model_evaluation.html#classification-metrics)."
      ],
      "metadata": {
        "id": "DDM_PG6T30Cn"
      }
    },
    {
      "cell_type": "markdown",
      "source": [
        "### Métricas para modelos de clasificación\n",
        "\n",
        "Un **modelo de clasificación** se utiliza para predecir una categoría o la clase de una observación.\n",
        "\n",
        "Conceptos claves:\n",
        "\n",
        "- Verdaderos Positivos (TP): Número de ejemplos positivos que el modelo clasificó correctamente como positivas.\n",
        "\n",
        "- Verdaderos Negativos (TN): Número de ejemplos negativos que el modelo clasificó correctamente como negativas.\n",
        "\n",
        "- Falsos Positivos (FP): Número de ejemplos negativos que el modelo clasificó incorrectamente como positivas.\n",
        "\n",
        "- Falsos Negativos (FN): Número de ejemplos positivos que el modelo clasificó incorrectamente como negativas.\n"
      ],
      "metadata": {
        "id": "_n83n5Y3EIv3"
      }
    },
    {
      "cell_type": "markdown",
      "source": [
        "Las métricas que se pueden aplicar a este tipo de modelos son las siguientes:\n",
        "\n",
        "- **Matriz de confusión**: La matriz compara los valores predichos con los valores reales.\n",
        "\n",
        "Buscamos valores altos en la diagonal.\n",
        "\n",
        "<img src=\"https://drive.google.com/uc?export=view&id=1OfBaMi2o8XbdognBPs9uK2xM3kNSf-GP\" height=\"230\" width=\"238\" style=\"float: center;\">\n",
        "\n",
        "<img src=\"https://drive.google.com/uc?export=view&id=1kY0DgyGy5UZvmv1lIsz4-TfQAWGRKISE\" height=\"353\" width=\"741\" style=\"float: center;\">"
      ],
      "metadata": {
        "id": "E6rvsBMfEf5T"
      }
    },
    {
      "cell_type": "markdown",
      "source": [
        "- **Exactitud** (*accuracy*).\n",
        "\n",
        "Es la proporción de instancias correctamente clasificadas (positivas o negativas) entre el total de predicciones realizadas.\n",
        "\n",
        "Mide el porcentaje de predicciones que el modelo acertó con respecto al total que hizo. Efectividad general del modelo.\n",
        "\n",
        "```\n",
        "accuracy = TP + TN / TP + TN + FP + FN\n",
        "```"
      ],
      "metadata": {
        "id": "Bd4nKsGyIITI"
      }
    },
    {
      "cell_type": "markdown",
      "source": [
        "- **Precisión** (*precision*).\n",
        "\n",
        "Es la proporción de instancias correctamente clasificadas positivas en relacion con todas las instancias clasificadas como positivas por el modelo.\n",
        "\n",
        "```\n",
        "precision = TP / TP + FP\n",
        "```"
      ],
      "metadata": {
        "id": "WxkhDTCEKE4l"
      }
    },
    {
      "cell_type": "markdown",
      "source": [
        "- **Sensibilidad** (*recall*).\n",
        "\n",
        "Es la proporción de instancias positivas correctamente clasificadas en relacion con todas las instancias que realmente son positivas.\n",
        "\n",
        "Se interpreta como la capacidad del modelo para capturar todas las instancias positivas, sin importar las falsas alarmas ( falsos negativos).\n",
        "\n",
        "```\n",
        "recall = TP / TP + FN\n",
        "```"
      ],
      "metadata": {
        "id": "qTdR1xZAJxwf"
      }
    },
    {
      "cell_type": "markdown",
      "source": [
        "- **Especificidad** (*specificity*).\n",
        "\n",
        "Es la proporción de instancias negativas correctamente clasificadas en relacion con todas las instancias que realmente son negativas.\n",
        "\n",
        "Se interpreta como la capacidad del modelo para capturar todas las instancias negativas, sin importar las falsas alarmas ( falsos positivos).\n",
        "\n",
        "```\n",
        "specificity = TN / TN + FN\n",
        "```"
      ],
      "metadata": {
        "id": "eui4FUD5NL0I"
      }
    },
    {
      "cell_type": "markdown",
      "source": [
        "- **Puntaje F1** (*F1 score*).\n",
        "\n",
        "Es una métrica que combina precisión y sensibilidad. Es útil cuando hay un desbalanceo de clases.\n",
        "\n",
        "Un valor alto de F1 indica buen equilibrio entre la capacidad de predecir instancias positivas correctamente y la capacidad de capturar todas las instancias positivas.\n",
        "\n",
        "```\n",
        "F1 score = 2 * (Precision * Recall) / (Precision + Recall)\n",
        "```\n"
      ],
      "metadata": {
        "id": "wWA1FnAgJzEX"
      }
    },
    {
      "cell_type": "markdown",
      "source": [
        "- **Área Bajo la Curva** (*AUC*):\n",
        "\n",
        "Sirve para modelos binarios.\n",
        "\n",
        "Es una representación gráfica del rendimiento de un modelo de clasificación en varios umbrales de decisión.\n",
        "\n",
        "La curva ROC es una gráfica que muestra la relación entre la tasa de verdaderos positivos (TPR) y la tasa de falsos positivos (FPR) para diferentes umbrales de decisión.\n",
        "\n",
        "El AUC es el área total bajo la curva ROC y proporciona una medida agregada del rendimiento del modelo en todos los posibles umbrales.\n",
        "\n",
        "La AUC puede interpretarse de las siguientes maneras:\n",
        "\n",
        "- AUC = 1: El modelo tiene un rendimiento perfecto. Puede distinguir perfectamente entre las clases positivas y negativas.\n",
        "\n",
        "- 0.5 < AUC < 1: El modelo tiene mejor rendimiento que el azar, con mayor capacidad de discriminación entre las clases.\n",
        "\n",
        "- AUC = 0.5: El modelo no tiene capacidad de discriminación. Su rendimiento es equivalente al azar.\n",
        "\n",
        "- AUC < 0.5: El modelo tiene peor rendimiento que el azar, lo que implica que está clasificando incorrectamente con frecuencia."
      ],
      "metadata": {
        "id": "Q1-xlOH5J0Vc"
      }
    },
    {
      "cell_type": "markdown",
      "source": [
        "<img src=\"https://drive.google.com/uc?export=view&id=1_Cagvhg8ucIA5wDuYuHRwdhbKjPOA5bo\" height=\"325\" width=\"418\" style=\"float: center;\">"
      ],
      "metadata": {
        "id": "ZYn92CBlOgTt"
      }
    },
    {
      "cell_type": "markdown",
      "source": [
        "### Métricas para modelos de regresión\n",
        "\n",
        "Un **modelo de regresión** se utiliza para predecir un valor continuo.\n"
      ],
      "metadata": {
        "id": "u4fB-uvROyxL"
      }
    },
    {
      "cell_type": "markdown",
      "source": [
        "- **Error absoluto medio** (*Mean Absolute Error, MAE*).\n",
        "\n",
        "Media de la diferencia absoluta entre las predicciones y los valores reales.\n",
        "\n",
        "Es menos sensible a valores extremos que el MSE.\n",
        "\n",
        "Valores bajos me indica que predice bien. Se equivoca poco en promedio.\n",
        "\n",
        "   $$\n",
        "   MAE = \\frac{1}{n} \\sum_{i=1}^n \\left| y_i - \\hat{y}_i \\right|\n",
        "   $$"
      ],
      "metadata": {
        "id": "MBm4cYwcO9CM"
      }
    },
    {
      "cell_type": "markdown",
      "source": [
        "- **Error cuadrático medio** (*Mean Squared Error, MSE*).\n",
        "\n",
        "Similar al anterior, pero eleva al cuadrado las diferencias antes de realizar la división.\n",
        "\n",
        "Penaliza más las diferencias grandes que el MAE.\n",
        "\n",
        "Un MSE más bajo indica que las predicicones están más cerca de los valores reales en promedio. No se puede interpretar en la unidad de la variable objetivo por elevar al cuadrado.\n",
        "\n",
        "   $$\n",
        "   MSE = \\frac{1}{n} \\sum_{i=1}^n \\left( y_i - \\hat{y}_i \\right)^2\n",
        "   $$"
      ],
      "metadata": {
        "id": "666LY4f4O-Nv"
      }
    },
    {
      "cell_type": "markdown",
      "source": [
        "- **Error cuadrático medio de la raíz** (*Root Mean Squared Error, RMSE*).\n",
        "\n",
        "Es la raíz cuadrada del MSE.\n",
        "\n",
        "Similar al MSE pero las unidades son las mismas que las de la variable objetivo. Fácil interpretación.\n",
        "\n",
        "   $$\n",
        "   RMSE = \\sqrt{\\frac{1}{n} \\sum_{i=1}^n \\left( y_i - \\hat{y}_i \\right)^2}\n",
        "   $$"
      ],
      "metadata": {
        "id": "kUOQpXFtO-5V"
      }
    },
    {
      "cell_type": "markdown",
      "source": [
        "- **Coeficiente de determinación** ($R^2$).\n",
        "\n",
        "Mide la proporción de la variación en la variable objetivo que es explicada por las carácterísticas del modelo.\n",
        "\n",
        "Será un valor entre 0 y 1. Donde a más alto valor mejor predice. El modelo explica una mayor proporcion de la variabilidad de los datos.\n",
        "\n",
        "   $$\n",
        "   R^2 = 1 - \\frac{\\sum_{i=1}^n \\left( y_i - \\hat{y}_i \\right)^2}{\\sum_{i=1}^n \\left( y_i - \\bar{y} \\right)^2}\n",
        "   $$"
      ],
      "metadata": {
        "id": "cYysOdNtO_ZV"
      }
    },
    {
      "cell_type": "markdown",
      "source": [
        "## 6. Optimización de hiperparámetros <a name=\"hiperparametros\"></a>"
      ],
      "metadata": {
        "id": "z6sHs4dY4PNt"
      }
    },
    {
      "cell_type": "markdown",
      "source": [
        "Un **hiperparámetro** (*hyperparameter*) es una variable de configuración externa al modelo que se utiliza para entrenarlo.\n",
        "\n",
        "Un **parámetro** de un modelo son las características que se optimizan para entrenarlo y que conforman su aprendizaje. Estos valores no son accesibles por nosotros como desarrolladores.\n",
        "\n",
        "Tendremos distintos hiperparámetros disponibles según el modelo.\n",
        "\n",
        "Optimizar los hiperparámetros será una técnica usada para buscar mejorar el rendimiento del modelo.\n",
        "\n",
        "Tendremos distintas formas de buscar los mejores hiperparámetros."
      ],
      "metadata": {
        "id": "Fua2Z-Mu4TsP"
      }
    },
    {
      "cell_type": "markdown",
      "source": [
        "#### 1. Búsqueda en cuadrícula (*grid search*)\n",
        "\n",
        "Realiza una búsqueda exhaustiva a través de un subconjunto específico (establecido manualmente) de valores y luego probar todas las posibles combinaciones hasta encontrar el mejor de los modelos.\n",
        "\n",
        "##### Pros y contras de esta estrategia\n",
        "\n",
        "Como puntos a favor podemos encontrar:\n",
        "- Exhaustividad: Prueba todas las combinaciones posibles de hiperparámetros dentro de la cuadrícula proporcionada, por lo que si la combinación óptima está dentro de ella, esta metodología la encontrará.\n",
        "- Reproducibilidad: Debido a su naturaleza determinista (no aleatoria), siempre se obtendrá el mismo resultado con los mismos parámetros e input.\n",
        "\n",
        "Sin embargo, caben destacar los siguientes puntos negativos:\n",
        "- Eficiencia: Es muy costoso computacionalmente. Puede llevar mucho tiempo y requerir muchos recursos, especialmente si la cantidad de hiperparámetros es grande y/o el rango de valores es amplio.\n",
        "- No garantiza llegar al mejor de los resultados, ya que depende de los hiperparámetros y de los valores que el desarrollador establezca."
      ],
      "metadata": {
        "id": "HWO2ymu4TvqG"
      }
    },
    {
      "cell_type": "markdown",
      "source": [
        "#### 2. Búsqueda aleatoria (*random search*)\n",
        "\n",
        "Similar al anterior, pero, en lugar de probar todas las combinaciones posibles de unos valores de hiperparámetros previamente establecidos, esta metodología selecciona aleatoriamente combinaciones de hiperparámetros para probar."
      ],
      "metadata": {
        "id": "jhHju8JhUBYg"
      }
    },
    {
      "cell_type": "markdown",
      "source": [
        "## 7. Regresión logística <a name=\"logistica\"></a>"
      ],
      "metadata": {
        "id": "HHYjEENu6WNT"
      }
    },
    {
      "cell_type": "markdown",
      "source": [
        "Técnica que permite realizar un **clasificador binario**.\n",
        "\n",
        "La regresión logística es un modelo estadístico utilizado para predecir la probabilidad de que ocurra un evento binario, es decir, uno de dos posibles resultados.\n",
        "\n",
        "**Aunque el nombre sugiere relación con la regresión lineal, la regresión logística se utiliza para problemas de clasificación binaria, no para problemas de regresión.**\n",
        "\n",
        "Además, esta predicción se obtiene en términos de probabilidad; esto es, la probabilidad de que se dé un resultado determinado en un evento dicotómico. Luego, esta probabilidad se puede modificar para generar la predicción de una clase."
      ],
      "metadata": {
        "id": "PpwfIZ_U-Xbz"
      }
    },
    {
      "cell_type": "markdown",
      "source": [
        "### 7.1. Función logarítmica <a name=\"funcion\"></a>\n"
      ],
      "metadata": {
        "id": "R5_lhcj6QgI0"
      }
    },
    {
      "cell_type": "markdown",
      "source": [
        "Variable Dependiente: En la regresión logística, la variable dependiente\n",
        "𝑦 representa una variable categórica binaria, típicamente codificada como 0 o 1.\n",
        "\n",
        "Variables Independientes: Son variables predictoras 𝑋1,𝑋2,…,𝑋𝑝 que se utilizan para predecir la probabilidad de que 𝑦 sea 1.\n",
        "\n",
        "Utiliza la función logística (también conocida como sigmoide) para modelar la relación entre las variables independientes y la probabilidad de que\n",
        "𝑦 sea 1:"
      ],
      "metadata": {
        "id": "zVfN7OcWQ7BA"
      }
    },
    {
      "cell_type": "markdown",
      "source": [
        "<img src=\"https://drive.google.com/uc?export=view&id=1wgOP2JB8goNkZVKv9FOmpLKoDNI7D7Vv\" height=\"334\" width=\"576\" style=\"float: center;\">"
      ],
      "metadata": {
        "id": "8bb0rcL8ReYy"
      }
    },
    {
      "cell_type": "markdown",
      "source": [
        "### 7.2. Umbral de decisión <a name=\"umbral\"></a>"
      ],
      "metadata": {
        "id": "9hfbmNwJQuhw"
      }
    },
    {
      "cell_type": "markdown",
      "source": [
        "Dado que la regresión logística predice la probabilidad de que\n",
        "𝑦 sea 1, es necesario definir un umbral (por ejemplo, 0.5) para convertir estas probabilidades en predicciones binarias (0 o 1).\n",
        "\n",
        "Por defecto, predict() en scikit-learn utiliza un umbral de 0.5 para transformar las probabilidades pronosticadas en etiquetas binarias.\n",
        "\n",
        "Puedes ajustar el umbral de decisión para convertir las probabilidades pronosticadas."
      ],
      "metadata": {
        "id": "6E0Gx4OAR2U-"
      }
    },
    {
      "cell_type": "code",
      "source": [
        "# Suponiendo que 'model' es tu modelo de regresión logística ya entrenado\n",
        "y_proba = model.predict_proba(X_test)\n",
        "\n",
        "# Suponiendo que deseas ajustar el umbral a 0.3\n",
        "threshold = 0.3\n",
        "y_pred_threshold = np.where(y_proba[:, 1] > threshold, 1, 0)\n",
        "\n",
        "# Evaluar el rendimiento con el nuevo umbral\n",
        "print(accuracy_score(y_test, y_pred_threshold))\n",
        "print(accuracy_score(y_test, y_pred_threshold))"
      ],
      "metadata": {
        "id": "AuSr-IdDSI_m"
      },
      "execution_count": null,
      "outputs": []
    },
    {
      "cell_type": "markdown",
      "source": [
        "### 7.3. Hiperparámetros <a name=\"parametros\"></a>  "
      ],
      "metadata": {
        "id": "lCvHRM1jQvm3"
      }
    },
    {
      "cell_type": "markdown",
      "source": [
        "Podemos construir un modelo de regresión logística fácilmente en Python utilizando la librería `scikit-learn` y la función `LogisticRegression`.\n",
        "\n",
        "Algunos de sus parámetros más importantes y los primeros en los que debemos centrarnos son:\n",
        "\n",
        "- `penalty`: Este parámetro se usa para prevenir el sobreajuste (*overfitting*) del modelo. Este parámetro se puede configurar para que no exista penalización y para graduarla desde niveles muy leves hasta muy altos.\n",
        "\n",
        "- `C`: Este parámetro determina la complejidad del modelo. Es el inverso del parámetro anterior. Es un número decimal que determina cómo de simple queremos que sea el modelo. Cuanto mayor sea el número, más complejo será el modelo y más se adaptará a la muestra de entrenamiento (aumentando la probabilidad del [sobreajuste](https://4geeks.com/es/lesson/basicos-de-machine-learning#Sobreajuste-de-modelos)).\n",
        "\n",
        "- `solver`: Algoritmo de regresión que se utilizará para entrenar al modelo. Dependiendo del tamaño del conjunto de datos, de las clases a predecir, del nivel de sobreajuste que estemos dispuestos a asumir o del nivel de precisión, elegiremos una implementación u otra.\n",
        "\n",
        "- `max_iter`: Número máximo de iteraciones.\n",
        "\n",
        "Otro parámetro muy importante es el `random_state`, que controla la semilla de generación aleatoria que requieren algunos de los solvers del modelo. Este parámetro es crucial para asegurar la replicabilidad."
      ],
      "metadata": {
        "id": "op-uOnrqPn9y"
      }
    },
    {
      "cell_type": "markdown",
      "source": [
        "#### Ejemplo Titanic\n",
        "\n",
        "En el conjunto de datos del Titanic tenemos más de una característica, y con la regresión logística predecimos si sobrevivirán o no.\n",
        "\n",
        "Si el valor que predice el modelo fuera 0.85, eso significaría que la persona tiene un 85% de probabilidades de sobrevivir y un 15% de no hacerlo.\n",
        "\n",
        "Así, debemos establecer un límite (threshold) para poder realizar la clasificación (respondemos a la siguiente pregunta: ¿a partir de qué valor de probabilidad podemos asumir que la persona sobrevive o no?).\n",
        "\n",
        "Supongamos que ese valor es el 50%, es decir, que cuando la probabilidad es mayor o igual a 0.5, el valor es 1 (sobrevive), y cuando la probabilidad es menor a 0.5, el valor es 0 (no sobrevive).\n",
        "\n",
        "Además, tenemos que saber también que el proceso de entrenar y usar el modelo viene después del análisis exploratorio (EDA), así que necesitaremos partir de él."
      ],
      "metadata": {
        "id": "grVRXirY-oNk"
      }
    },
    {
      "cell_type": "code",
      "source": [
        "train_data = pd.read_csv(\"https://raw.githubusercontent.com/4GeeksAcademy/machine-learning-content/master/assets/clean_titanic_train.csv\")\n",
        "test_data = pd.read_csv(\"https://raw.githubusercontent.com/4GeeksAcademy/machine-learning-content/master/assets/clean_titanic_test.csv\")\n",
        "\n",
        "train_data.head()"
      ],
      "metadata": {
        "id": "dzYRZSBnVnNI",
        "colab": {
          "base_uri": "https://localhost:8080/",
          "height": 206
        },
        "outputId": "ce42597a-3d78-4767-dd7f-4049b791b881"
      },
      "execution_count": 12,
      "outputs": [
        {
          "output_type": "execute_result",
          "data": {
            "text/plain": [
              "   Pclass    Fare  Sex_n  Embarked_n  FamMembers  Survived\n",
              "0     2.0  10.500    1.0         0.0         0.0         0\n",
              "1     2.0  26.000    0.0         0.0         1.0         1\n",
              "2     3.0   7.750    1.0         2.0         0.0         1\n",
              "3     3.0  16.700    1.0         0.0         2.0         1\n",
              "4     3.0  34.375    1.0         0.0         4.0         0"
            ],
            "text/html": [
              "\n",
              "  <div id=\"df-cd8a8dc7-f0eb-4595-aa6d-aa9f74d05309\" class=\"colab-df-container\">\n",
              "    <div>\n",
              "<style scoped>\n",
              "    .dataframe tbody tr th:only-of-type {\n",
              "        vertical-align: middle;\n",
              "    }\n",
              "\n",
              "    .dataframe tbody tr th {\n",
              "        vertical-align: top;\n",
              "    }\n",
              "\n",
              "    .dataframe thead th {\n",
              "        text-align: right;\n",
              "    }\n",
              "</style>\n",
              "<table border=\"1\" class=\"dataframe\">\n",
              "  <thead>\n",
              "    <tr style=\"text-align: right;\">\n",
              "      <th></th>\n",
              "      <th>Pclass</th>\n",
              "      <th>Fare</th>\n",
              "      <th>Sex_n</th>\n",
              "      <th>Embarked_n</th>\n",
              "      <th>FamMembers</th>\n",
              "      <th>Survived</th>\n",
              "    </tr>\n",
              "  </thead>\n",
              "  <tbody>\n",
              "    <tr>\n",
              "      <th>0</th>\n",
              "      <td>2.0</td>\n",
              "      <td>10.500</td>\n",
              "      <td>1.0</td>\n",
              "      <td>0.0</td>\n",
              "      <td>0.0</td>\n",
              "      <td>0</td>\n",
              "    </tr>\n",
              "    <tr>\n",
              "      <th>1</th>\n",
              "      <td>2.0</td>\n",
              "      <td>26.000</td>\n",
              "      <td>0.0</td>\n",
              "      <td>0.0</td>\n",
              "      <td>1.0</td>\n",
              "      <td>1</td>\n",
              "    </tr>\n",
              "    <tr>\n",
              "      <th>2</th>\n",
              "      <td>3.0</td>\n",
              "      <td>7.750</td>\n",
              "      <td>1.0</td>\n",
              "      <td>2.0</td>\n",
              "      <td>0.0</td>\n",
              "      <td>1</td>\n",
              "    </tr>\n",
              "    <tr>\n",
              "      <th>3</th>\n",
              "      <td>3.0</td>\n",
              "      <td>16.700</td>\n",
              "      <td>1.0</td>\n",
              "      <td>0.0</td>\n",
              "      <td>2.0</td>\n",
              "      <td>1</td>\n",
              "    </tr>\n",
              "    <tr>\n",
              "      <th>4</th>\n",
              "      <td>3.0</td>\n",
              "      <td>34.375</td>\n",
              "      <td>1.0</td>\n",
              "      <td>0.0</td>\n",
              "      <td>4.0</td>\n",
              "      <td>0</td>\n",
              "    </tr>\n",
              "  </tbody>\n",
              "</table>\n",
              "</div>\n",
              "    <div class=\"colab-df-buttons\">\n",
              "\n",
              "  <div class=\"colab-df-container\">\n",
              "    <button class=\"colab-df-convert\" onclick=\"convertToInteractive('df-cd8a8dc7-f0eb-4595-aa6d-aa9f74d05309')\"\n",
              "            title=\"Convert this dataframe to an interactive table.\"\n",
              "            style=\"display:none;\">\n",
              "\n",
              "  <svg xmlns=\"http://www.w3.org/2000/svg\" height=\"24px\" viewBox=\"0 -960 960 960\">\n",
              "    <path d=\"M120-120v-720h720v720H120Zm60-500h600v-160H180v160Zm220 220h160v-160H400v160Zm0 220h160v-160H400v160ZM180-400h160v-160H180v160Zm440 0h160v-160H620v160ZM180-180h160v-160H180v160Zm440 0h160v-160H620v160Z\"/>\n",
              "  </svg>\n",
              "    </button>\n",
              "\n",
              "  <style>\n",
              "    .colab-df-container {\n",
              "      display:flex;\n",
              "      gap: 12px;\n",
              "    }\n",
              "\n",
              "    .colab-df-convert {\n",
              "      background-color: #E8F0FE;\n",
              "      border: none;\n",
              "      border-radius: 50%;\n",
              "      cursor: pointer;\n",
              "      display: none;\n",
              "      fill: #1967D2;\n",
              "      height: 32px;\n",
              "      padding: 0 0 0 0;\n",
              "      width: 32px;\n",
              "    }\n",
              "\n",
              "    .colab-df-convert:hover {\n",
              "      background-color: #E2EBFA;\n",
              "      box-shadow: 0px 1px 2px rgba(60, 64, 67, 0.3), 0px 1px 3px 1px rgba(60, 64, 67, 0.15);\n",
              "      fill: #174EA6;\n",
              "    }\n",
              "\n",
              "    .colab-df-buttons div {\n",
              "      margin-bottom: 4px;\n",
              "    }\n",
              "\n",
              "    [theme=dark] .colab-df-convert {\n",
              "      background-color: #3B4455;\n",
              "      fill: #D2E3FC;\n",
              "    }\n",
              "\n",
              "    [theme=dark] .colab-df-convert:hover {\n",
              "      background-color: #434B5C;\n",
              "      box-shadow: 0px 1px 3px 1px rgba(0, 0, 0, 0.15);\n",
              "      filter: drop-shadow(0px 1px 2px rgba(0, 0, 0, 0.3));\n",
              "      fill: #FFFFFF;\n",
              "    }\n",
              "  </style>\n",
              "\n",
              "    <script>\n",
              "      const buttonEl =\n",
              "        document.querySelector('#df-cd8a8dc7-f0eb-4595-aa6d-aa9f74d05309 button.colab-df-convert');\n",
              "      buttonEl.style.display =\n",
              "        google.colab.kernel.accessAllowed ? 'block' : 'none';\n",
              "\n",
              "      async function convertToInteractive(key) {\n",
              "        const element = document.querySelector('#df-cd8a8dc7-f0eb-4595-aa6d-aa9f74d05309');\n",
              "        const dataTable =\n",
              "          await google.colab.kernel.invokeFunction('convertToInteractive',\n",
              "                                                    [key], {});\n",
              "        if (!dataTable) return;\n",
              "\n",
              "        const docLinkHtml = 'Like what you see? Visit the ' +\n",
              "          '<a target=\"_blank\" href=https://colab.research.google.com/notebooks/data_table.ipynb>data table notebook</a>'\n",
              "          + ' to learn more about interactive tables.';\n",
              "        element.innerHTML = '';\n",
              "        dataTable['output_type'] = 'display_data';\n",
              "        await google.colab.output.renderOutput(dataTable, element);\n",
              "        const docLink = document.createElement('div');\n",
              "        docLink.innerHTML = docLinkHtml;\n",
              "        element.appendChild(docLink);\n",
              "      }\n",
              "    </script>\n",
              "  </div>\n",
              "\n",
              "\n",
              "<div id=\"df-fa44b559-34e9-4bae-9b01-9037d6c30163\">\n",
              "  <button class=\"colab-df-quickchart\" onclick=\"quickchart('df-fa44b559-34e9-4bae-9b01-9037d6c30163')\"\n",
              "            title=\"Suggest charts\"\n",
              "            style=\"display:none;\">\n",
              "\n",
              "<svg xmlns=\"http://www.w3.org/2000/svg\" height=\"24px\"viewBox=\"0 0 24 24\"\n",
              "     width=\"24px\">\n",
              "    <g>\n",
              "        <path d=\"M19 3H5c-1.1 0-2 .9-2 2v14c0 1.1.9 2 2 2h14c1.1 0 2-.9 2-2V5c0-1.1-.9-2-2-2zM9 17H7v-7h2v7zm4 0h-2V7h2v10zm4 0h-2v-4h2v4z\"/>\n",
              "    </g>\n",
              "</svg>\n",
              "  </button>\n",
              "\n",
              "<style>\n",
              "  .colab-df-quickchart {\n",
              "      --bg-color: #E8F0FE;\n",
              "      --fill-color: #1967D2;\n",
              "      --hover-bg-color: #E2EBFA;\n",
              "      --hover-fill-color: #174EA6;\n",
              "      --disabled-fill-color: #AAA;\n",
              "      --disabled-bg-color: #DDD;\n",
              "  }\n",
              "\n",
              "  [theme=dark] .colab-df-quickchart {\n",
              "      --bg-color: #3B4455;\n",
              "      --fill-color: #D2E3FC;\n",
              "      --hover-bg-color: #434B5C;\n",
              "      --hover-fill-color: #FFFFFF;\n",
              "      --disabled-bg-color: #3B4455;\n",
              "      --disabled-fill-color: #666;\n",
              "  }\n",
              "\n",
              "  .colab-df-quickchart {\n",
              "    background-color: var(--bg-color);\n",
              "    border: none;\n",
              "    border-radius: 50%;\n",
              "    cursor: pointer;\n",
              "    display: none;\n",
              "    fill: var(--fill-color);\n",
              "    height: 32px;\n",
              "    padding: 0;\n",
              "    width: 32px;\n",
              "  }\n",
              "\n",
              "  .colab-df-quickchart:hover {\n",
              "    background-color: var(--hover-bg-color);\n",
              "    box-shadow: 0 1px 2px rgba(60, 64, 67, 0.3), 0 1px 3px 1px rgba(60, 64, 67, 0.15);\n",
              "    fill: var(--button-hover-fill-color);\n",
              "  }\n",
              "\n",
              "  .colab-df-quickchart-complete:disabled,\n",
              "  .colab-df-quickchart-complete:disabled:hover {\n",
              "    background-color: var(--disabled-bg-color);\n",
              "    fill: var(--disabled-fill-color);\n",
              "    box-shadow: none;\n",
              "  }\n",
              "\n",
              "  .colab-df-spinner {\n",
              "    border: 2px solid var(--fill-color);\n",
              "    border-color: transparent;\n",
              "    border-bottom-color: var(--fill-color);\n",
              "    animation:\n",
              "      spin 1s steps(1) infinite;\n",
              "  }\n",
              "\n",
              "  @keyframes spin {\n",
              "    0% {\n",
              "      border-color: transparent;\n",
              "      border-bottom-color: var(--fill-color);\n",
              "      border-left-color: var(--fill-color);\n",
              "    }\n",
              "    20% {\n",
              "      border-color: transparent;\n",
              "      border-left-color: var(--fill-color);\n",
              "      border-top-color: var(--fill-color);\n",
              "    }\n",
              "    30% {\n",
              "      border-color: transparent;\n",
              "      border-left-color: var(--fill-color);\n",
              "      border-top-color: var(--fill-color);\n",
              "      border-right-color: var(--fill-color);\n",
              "    }\n",
              "    40% {\n",
              "      border-color: transparent;\n",
              "      border-right-color: var(--fill-color);\n",
              "      border-top-color: var(--fill-color);\n",
              "    }\n",
              "    60% {\n",
              "      border-color: transparent;\n",
              "      border-right-color: var(--fill-color);\n",
              "    }\n",
              "    80% {\n",
              "      border-color: transparent;\n",
              "      border-right-color: var(--fill-color);\n",
              "      border-bottom-color: var(--fill-color);\n",
              "    }\n",
              "    90% {\n",
              "      border-color: transparent;\n",
              "      border-bottom-color: var(--fill-color);\n",
              "    }\n",
              "  }\n",
              "</style>\n",
              "\n",
              "  <script>\n",
              "    async function quickchart(key) {\n",
              "      const quickchartButtonEl =\n",
              "        document.querySelector('#' + key + ' button');\n",
              "      quickchartButtonEl.disabled = true;  // To prevent multiple clicks.\n",
              "      quickchartButtonEl.classList.add('colab-df-spinner');\n",
              "      try {\n",
              "        const charts = await google.colab.kernel.invokeFunction(\n",
              "            'suggestCharts', [key], {});\n",
              "      } catch (error) {\n",
              "        console.error('Error during call to suggestCharts:', error);\n",
              "      }\n",
              "      quickchartButtonEl.classList.remove('colab-df-spinner');\n",
              "      quickchartButtonEl.classList.add('colab-df-quickchart-complete');\n",
              "    }\n",
              "    (() => {\n",
              "      let quickchartButtonEl =\n",
              "        document.querySelector('#df-fa44b559-34e9-4bae-9b01-9037d6c30163 button');\n",
              "      quickchartButtonEl.style.display =\n",
              "        google.colab.kernel.accessAllowed ? 'block' : 'none';\n",
              "    })();\n",
              "  </script>\n",
              "</div>\n",
              "\n",
              "    </div>\n",
              "  </div>\n"
            ],
            "application/vnd.google.colaboratory.intrinsic+json": {
              "type": "dataframe",
              "variable_name": "train_data",
              "summary": "{\n  \"name\": \"train_data\",\n  \"rows\": 1047,\n  \"fields\": [\n    {\n      \"column\": \"Pclass\",\n      \"properties\": {\n        \"dtype\": \"number\",\n        \"std\": 0.8450761534405969,\n        \"min\": 1.0,\n        \"max\": 3.0,\n        \"num_unique_values\": 3,\n        \"samples\": [\n          2.0,\n          3.0,\n          1.0\n        ],\n        \"semantic_type\": \"\",\n        \"description\": \"\"\n      }\n    },\n    {\n      \"column\": \"Fare\",\n      \"properties\": {\n        \"dtype\": \"number\",\n        \"std\": 48.85230694744094,\n        \"min\": 0.0,\n        \"max\": 512.3292,\n        \"num_unique_values\": 260,\n        \"samples\": [\n          7.7333,\n          8.4333,\n          18.75\n        ],\n        \"semantic_type\": \"\",\n        \"description\": \"\"\n      }\n    },\n    {\n      \"column\": \"Sex_n\",\n      \"properties\": {\n        \"dtype\": \"number\",\n        \"std\": 0.47795702243478316,\n        \"min\": 0.0,\n        \"max\": 1.0,\n        \"num_unique_values\": 2,\n        \"samples\": [\n          0.0,\n          1.0\n        ],\n        \"semantic_type\": \"\",\n        \"description\": \"\"\n      }\n    },\n    {\n      \"column\": \"Embarked_n\",\n      \"properties\": {\n        \"dtype\": \"number\",\n        \"std\": 0.6407782677497298,\n        \"min\": -1.0,\n        \"max\": 2.0,\n        \"num_unique_values\": 4,\n        \"samples\": [\n          2.0,\n          -1.0\n        ],\n        \"semantic_type\": \"\",\n        \"description\": \"\"\n      }\n    },\n    {\n      \"column\": \"FamMembers\",\n      \"properties\": {\n        \"dtype\": \"number\",\n        \"std\": 1.6194528458546815,\n        \"min\": 0.0,\n        \"max\": 10.0,\n        \"num_unique_values\": 9,\n        \"samples\": [\n          6.0,\n          1.0\n        ],\n        \"semantic_type\": \"\",\n        \"description\": \"\"\n      }\n    },\n    {\n      \"column\": \"Survived\",\n      \"properties\": {\n        \"dtype\": \"number\",\n        \"std\": 0,\n        \"min\": 0,\n        \"max\": 1,\n        \"num_unique_values\": 2,\n        \"samples\": [\n          1,\n          0\n        ],\n        \"semantic_type\": \"\",\n        \"description\": \"\"\n      }\n    }\n  ]\n}"
            }
          },
          "metadata": {},
          "execution_count": 12
        }
      ]
    },
    {
      "cell_type": "markdown",
      "source": [
        "El conjunto `train` lo utilizaremos para entrenar el modelo, mientras que con el `test` lo evaluaremos para medir su grado de efectividad. Dividiremos también las predictoras de las características."
      ],
      "metadata": {
        "id": "u3mukWSSV_kO"
      }
    },
    {
      "cell_type": "code",
      "source": [
        "X_train = train_data.drop([\"Survived\"], axis = 1)\n",
        "y_train = train_data[\"Survived\"]\n",
        "\n",
        "X_test = test_data.drop([\"Survived\"], axis = 1)\n",
        "y_test = test_data[\"Survived\"]"
      ],
      "metadata": {
        "id": "-20JHCERV_63"
      },
      "execution_count": 13,
      "outputs": []
    },
    {
      "cell_type": "markdown",
      "source": [
        "##### Paso 2: Inicialización y entrenamiento del modelo"
      ],
      "metadata": {
        "id": "sLK1FkX-WEHT"
      }
    },
    {
      "cell_type": "code",
      "source": [
        "# genera el modelo\n",
        "model = LogisticRegression()\n",
        "\n",
        "# entrna\n",
        "model.fit(X_train, y_train)"
      ],
      "metadata": {
        "id": "2ZVmGXg5WEnc",
        "colab": {
          "base_uri": "https://localhost:8080/",
          "height": 80
        },
        "outputId": "6e93b988-04e8-47c8-dd3e-3c2d8a67f0e2"
      },
      "execution_count": 14,
      "outputs": [
        {
          "output_type": "execute_result",
          "data": {
            "text/plain": [
              "LogisticRegression()"
            ],
            "text/html": [
              "<style>#sk-container-id-1 {\n",
              "  /* Definition of color scheme common for light and dark mode */\n",
              "  --sklearn-color-text: #000;\n",
              "  --sklearn-color-text-muted: #666;\n",
              "  --sklearn-color-line: gray;\n",
              "  /* Definition of color scheme for unfitted estimators */\n",
              "  --sklearn-color-unfitted-level-0: #fff5e6;\n",
              "  --sklearn-color-unfitted-level-1: #f6e4d2;\n",
              "  --sklearn-color-unfitted-level-2: #ffe0b3;\n",
              "  --sklearn-color-unfitted-level-3: chocolate;\n",
              "  /* Definition of color scheme for fitted estimators */\n",
              "  --sklearn-color-fitted-level-0: #f0f8ff;\n",
              "  --sklearn-color-fitted-level-1: #d4ebff;\n",
              "  --sklearn-color-fitted-level-2: #b3dbfd;\n",
              "  --sklearn-color-fitted-level-3: cornflowerblue;\n",
              "\n",
              "  /* Specific color for light theme */\n",
              "  --sklearn-color-text-on-default-background: var(--sg-text-color, var(--theme-code-foreground, var(--jp-content-font-color1, black)));\n",
              "  --sklearn-color-background: var(--sg-background-color, var(--theme-background, var(--jp-layout-color0, white)));\n",
              "  --sklearn-color-border-box: var(--sg-text-color, var(--theme-code-foreground, var(--jp-content-font-color1, black)));\n",
              "  --sklearn-color-icon: #696969;\n",
              "\n",
              "  @media (prefers-color-scheme: dark) {\n",
              "    /* Redefinition of color scheme for dark theme */\n",
              "    --sklearn-color-text-on-default-background: var(--sg-text-color, var(--theme-code-foreground, var(--jp-content-font-color1, white)));\n",
              "    --sklearn-color-background: var(--sg-background-color, var(--theme-background, var(--jp-layout-color0, #111)));\n",
              "    --sklearn-color-border-box: var(--sg-text-color, var(--theme-code-foreground, var(--jp-content-font-color1, white)));\n",
              "    --sklearn-color-icon: #878787;\n",
              "  }\n",
              "}\n",
              "\n",
              "#sk-container-id-1 {\n",
              "  color: var(--sklearn-color-text);\n",
              "}\n",
              "\n",
              "#sk-container-id-1 pre {\n",
              "  padding: 0;\n",
              "}\n",
              "\n",
              "#sk-container-id-1 input.sk-hidden--visually {\n",
              "  border: 0;\n",
              "  clip: rect(1px 1px 1px 1px);\n",
              "  clip: rect(1px, 1px, 1px, 1px);\n",
              "  height: 1px;\n",
              "  margin: -1px;\n",
              "  overflow: hidden;\n",
              "  padding: 0;\n",
              "  position: absolute;\n",
              "  width: 1px;\n",
              "}\n",
              "\n",
              "#sk-container-id-1 div.sk-dashed-wrapped {\n",
              "  border: 1px dashed var(--sklearn-color-line);\n",
              "  margin: 0 0.4em 0.5em 0.4em;\n",
              "  box-sizing: border-box;\n",
              "  padding-bottom: 0.4em;\n",
              "  background-color: var(--sklearn-color-background);\n",
              "}\n",
              "\n",
              "#sk-container-id-1 div.sk-container {\n",
              "  /* jupyter's `normalize.less` sets `[hidden] { display: none; }`\n",
              "     but bootstrap.min.css set `[hidden] { display: none !important; }`\n",
              "     so we also need the `!important` here to be able to override the\n",
              "     default hidden behavior on the sphinx rendered scikit-learn.org.\n",
              "     See: https://github.com/scikit-learn/scikit-learn/issues/21755 */\n",
              "  display: inline-block !important;\n",
              "  position: relative;\n",
              "}\n",
              "\n",
              "#sk-container-id-1 div.sk-text-repr-fallback {\n",
              "  display: none;\n",
              "}\n",
              "\n",
              "div.sk-parallel-item,\n",
              "div.sk-serial,\n",
              "div.sk-item {\n",
              "  /* draw centered vertical line to link estimators */\n",
              "  background-image: linear-gradient(var(--sklearn-color-text-on-default-background), var(--sklearn-color-text-on-default-background));\n",
              "  background-size: 2px 100%;\n",
              "  background-repeat: no-repeat;\n",
              "  background-position: center center;\n",
              "}\n",
              "\n",
              "/* Parallel-specific style estimator block */\n",
              "\n",
              "#sk-container-id-1 div.sk-parallel-item::after {\n",
              "  content: \"\";\n",
              "  width: 100%;\n",
              "  border-bottom: 2px solid var(--sklearn-color-text-on-default-background);\n",
              "  flex-grow: 1;\n",
              "}\n",
              "\n",
              "#sk-container-id-1 div.sk-parallel {\n",
              "  display: flex;\n",
              "  align-items: stretch;\n",
              "  justify-content: center;\n",
              "  background-color: var(--sklearn-color-background);\n",
              "  position: relative;\n",
              "}\n",
              "\n",
              "#sk-container-id-1 div.sk-parallel-item {\n",
              "  display: flex;\n",
              "  flex-direction: column;\n",
              "}\n",
              "\n",
              "#sk-container-id-1 div.sk-parallel-item:first-child::after {\n",
              "  align-self: flex-end;\n",
              "  width: 50%;\n",
              "}\n",
              "\n",
              "#sk-container-id-1 div.sk-parallel-item:last-child::after {\n",
              "  align-self: flex-start;\n",
              "  width: 50%;\n",
              "}\n",
              "\n",
              "#sk-container-id-1 div.sk-parallel-item:only-child::after {\n",
              "  width: 0;\n",
              "}\n",
              "\n",
              "/* Serial-specific style estimator block */\n",
              "\n",
              "#sk-container-id-1 div.sk-serial {\n",
              "  display: flex;\n",
              "  flex-direction: column;\n",
              "  align-items: center;\n",
              "  background-color: var(--sklearn-color-background);\n",
              "  padding-right: 1em;\n",
              "  padding-left: 1em;\n",
              "}\n",
              "\n",
              "\n",
              "/* Toggleable style: style used for estimator/Pipeline/ColumnTransformer box that is\n",
              "clickable and can be expanded/collapsed.\n",
              "- Pipeline and ColumnTransformer use this feature and define the default style\n",
              "- Estimators will overwrite some part of the style using the `sk-estimator` class\n",
              "*/\n",
              "\n",
              "/* Pipeline and ColumnTransformer style (default) */\n",
              "\n",
              "#sk-container-id-1 div.sk-toggleable {\n",
              "  /* Default theme specific background. It is overwritten whether we have a\n",
              "  specific estimator or a Pipeline/ColumnTransformer */\n",
              "  background-color: var(--sklearn-color-background);\n",
              "}\n",
              "\n",
              "/* Toggleable label */\n",
              "#sk-container-id-1 label.sk-toggleable__label {\n",
              "  cursor: pointer;\n",
              "  display: flex;\n",
              "  width: 100%;\n",
              "  margin-bottom: 0;\n",
              "  padding: 0.5em;\n",
              "  box-sizing: border-box;\n",
              "  text-align: center;\n",
              "  align-items: start;\n",
              "  justify-content: space-between;\n",
              "  gap: 0.5em;\n",
              "}\n",
              "\n",
              "#sk-container-id-1 label.sk-toggleable__label .caption {\n",
              "  font-size: 0.6rem;\n",
              "  font-weight: lighter;\n",
              "  color: var(--sklearn-color-text-muted);\n",
              "}\n",
              "\n",
              "#sk-container-id-1 label.sk-toggleable__label-arrow:before {\n",
              "  /* Arrow on the left of the label */\n",
              "  content: \"▸\";\n",
              "  float: left;\n",
              "  margin-right: 0.25em;\n",
              "  color: var(--sklearn-color-icon);\n",
              "}\n",
              "\n",
              "#sk-container-id-1 label.sk-toggleable__label-arrow:hover:before {\n",
              "  color: var(--sklearn-color-text);\n",
              "}\n",
              "\n",
              "/* Toggleable content - dropdown */\n",
              "\n",
              "#sk-container-id-1 div.sk-toggleable__content {\n",
              "  max-height: 0;\n",
              "  max-width: 0;\n",
              "  overflow: hidden;\n",
              "  text-align: left;\n",
              "  /* unfitted */\n",
              "  background-color: var(--sklearn-color-unfitted-level-0);\n",
              "}\n",
              "\n",
              "#sk-container-id-1 div.sk-toggleable__content.fitted {\n",
              "  /* fitted */\n",
              "  background-color: var(--sklearn-color-fitted-level-0);\n",
              "}\n",
              "\n",
              "#sk-container-id-1 div.sk-toggleable__content pre {\n",
              "  margin: 0.2em;\n",
              "  border-radius: 0.25em;\n",
              "  color: var(--sklearn-color-text);\n",
              "  /* unfitted */\n",
              "  background-color: var(--sklearn-color-unfitted-level-0);\n",
              "}\n",
              "\n",
              "#sk-container-id-1 div.sk-toggleable__content.fitted pre {\n",
              "  /* unfitted */\n",
              "  background-color: var(--sklearn-color-fitted-level-0);\n",
              "}\n",
              "\n",
              "#sk-container-id-1 input.sk-toggleable__control:checked~div.sk-toggleable__content {\n",
              "  /* Expand drop-down */\n",
              "  max-height: 200px;\n",
              "  max-width: 100%;\n",
              "  overflow: auto;\n",
              "}\n",
              "\n",
              "#sk-container-id-1 input.sk-toggleable__control:checked~label.sk-toggleable__label-arrow:before {\n",
              "  content: \"▾\";\n",
              "}\n",
              "\n",
              "/* Pipeline/ColumnTransformer-specific style */\n",
              "\n",
              "#sk-container-id-1 div.sk-label input.sk-toggleable__control:checked~label.sk-toggleable__label {\n",
              "  color: var(--sklearn-color-text);\n",
              "  background-color: var(--sklearn-color-unfitted-level-2);\n",
              "}\n",
              "\n",
              "#sk-container-id-1 div.sk-label.fitted input.sk-toggleable__control:checked~label.sk-toggleable__label {\n",
              "  background-color: var(--sklearn-color-fitted-level-2);\n",
              "}\n",
              "\n",
              "/* Estimator-specific style */\n",
              "\n",
              "/* Colorize estimator box */\n",
              "#sk-container-id-1 div.sk-estimator input.sk-toggleable__control:checked~label.sk-toggleable__label {\n",
              "  /* unfitted */\n",
              "  background-color: var(--sklearn-color-unfitted-level-2);\n",
              "}\n",
              "\n",
              "#sk-container-id-1 div.sk-estimator.fitted input.sk-toggleable__control:checked~label.sk-toggleable__label {\n",
              "  /* fitted */\n",
              "  background-color: var(--sklearn-color-fitted-level-2);\n",
              "}\n",
              "\n",
              "#sk-container-id-1 div.sk-label label.sk-toggleable__label,\n",
              "#sk-container-id-1 div.sk-label label {\n",
              "  /* The background is the default theme color */\n",
              "  color: var(--sklearn-color-text-on-default-background);\n",
              "}\n",
              "\n",
              "/* On hover, darken the color of the background */\n",
              "#sk-container-id-1 div.sk-label:hover label.sk-toggleable__label {\n",
              "  color: var(--sklearn-color-text);\n",
              "  background-color: var(--sklearn-color-unfitted-level-2);\n",
              "}\n",
              "\n",
              "/* Label box, darken color on hover, fitted */\n",
              "#sk-container-id-1 div.sk-label.fitted:hover label.sk-toggleable__label.fitted {\n",
              "  color: var(--sklearn-color-text);\n",
              "  background-color: var(--sklearn-color-fitted-level-2);\n",
              "}\n",
              "\n",
              "/* Estimator label */\n",
              "\n",
              "#sk-container-id-1 div.sk-label label {\n",
              "  font-family: monospace;\n",
              "  font-weight: bold;\n",
              "  display: inline-block;\n",
              "  line-height: 1.2em;\n",
              "}\n",
              "\n",
              "#sk-container-id-1 div.sk-label-container {\n",
              "  text-align: center;\n",
              "}\n",
              "\n",
              "/* Estimator-specific */\n",
              "#sk-container-id-1 div.sk-estimator {\n",
              "  font-family: monospace;\n",
              "  border: 1px dotted var(--sklearn-color-border-box);\n",
              "  border-radius: 0.25em;\n",
              "  box-sizing: border-box;\n",
              "  margin-bottom: 0.5em;\n",
              "  /* unfitted */\n",
              "  background-color: var(--sklearn-color-unfitted-level-0);\n",
              "}\n",
              "\n",
              "#sk-container-id-1 div.sk-estimator.fitted {\n",
              "  /* fitted */\n",
              "  background-color: var(--sklearn-color-fitted-level-0);\n",
              "}\n",
              "\n",
              "/* on hover */\n",
              "#sk-container-id-1 div.sk-estimator:hover {\n",
              "  /* unfitted */\n",
              "  background-color: var(--sklearn-color-unfitted-level-2);\n",
              "}\n",
              "\n",
              "#sk-container-id-1 div.sk-estimator.fitted:hover {\n",
              "  /* fitted */\n",
              "  background-color: var(--sklearn-color-fitted-level-2);\n",
              "}\n",
              "\n",
              "/* Specification for estimator info (e.g. \"i\" and \"?\") */\n",
              "\n",
              "/* Common style for \"i\" and \"?\" */\n",
              "\n",
              ".sk-estimator-doc-link,\n",
              "a:link.sk-estimator-doc-link,\n",
              "a:visited.sk-estimator-doc-link {\n",
              "  float: right;\n",
              "  font-size: smaller;\n",
              "  line-height: 1em;\n",
              "  font-family: monospace;\n",
              "  background-color: var(--sklearn-color-background);\n",
              "  border-radius: 1em;\n",
              "  height: 1em;\n",
              "  width: 1em;\n",
              "  text-decoration: none !important;\n",
              "  margin-left: 0.5em;\n",
              "  text-align: center;\n",
              "  /* unfitted */\n",
              "  border: var(--sklearn-color-unfitted-level-1) 1pt solid;\n",
              "  color: var(--sklearn-color-unfitted-level-1);\n",
              "}\n",
              "\n",
              ".sk-estimator-doc-link.fitted,\n",
              "a:link.sk-estimator-doc-link.fitted,\n",
              "a:visited.sk-estimator-doc-link.fitted {\n",
              "  /* fitted */\n",
              "  border: var(--sklearn-color-fitted-level-1) 1pt solid;\n",
              "  color: var(--sklearn-color-fitted-level-1);\n",
              "}\n",
              "\n",
              "/* On hover */\n",
              "div.sk-estimator:hover .sk-estimator-doc-link:hover,\n",
              ".sk-estimator-doc-link:hover,\n",
              "div.sk-label-container:hover .sk-estimator-doc-link:hover,\n",
              ".sk-estimator-doc-link:hover {\n",
              "  /* unfitted */\n",
              "  background-color: var(--sklearn-color-unfitted-level-3);\n",
              "  color: var(--sklearn-color-background);\n",
              "  text-decoration: none;\n",
              "}\n",
              "\n",
              "div.sk-estimator.fitted:hover .sk-estimator-doc-link.fitted:hover,\n",
              ".sk-estimator-doc-link.fitted:hover,\n",
              "div.sk-label-container:hover .sk-estimator-doc-link.fitted:hover,\n",
              ".sk-estimator-doc-link.fitted:hover {\n",
              "  /* fitted */\n",
              "  background-color: var(--sklearn-color-fitted-level-3);\n",
              "  color: var(--sklearn-color-background);\n",
              "  text-decoration: none;\n",
              "}\n",
              "\n",
              "/* Span, style for the box shown on hovering the info icon */\n",
              ".sk-estimator-doc-link span {\n",
              "  display: none;\n",
              "  z-index: 9999;\n",
              "  position: relative;\n",
              "  font-weight: normal;\n",
              "  right: .2ex;\n",
              "  padding: .5ex;\n",
              "  margin: .5ex;\n",
              "  width: min-content;\n",
              "  min-width: 20ex;\n",
              "  max-width: 50ex;\n",
              "  color: var(--sklearn-color-text);\n",
              "  box-shadow: 2pt 2pt 4pt #999;\n",
              "  /* unfitted */\n",
              "  background: var(--sklearn-color-unfitted-level-0);\n",
              "  border: .5pt solid var(--sklearn-color-unfitted-level-3);\n",
              "}\n",
              "\n",
              ".sk-estimator-doc-link.fitted span {\n",
              "  /* fitted */\n",
              "  background: var(--sklearn-color-fitted-level-0);\n",
              "  border: var(--sklearn-color-fitted-level-3);\n",
              "}\n",
              "\n",
              ".sk-estimator-doc-link:hover span {\n",
              "  display: block;\n",
              "}\n",
              "\n",
              "/* \"?\"-specific style due to the `<a>` HTML tag */\n",
              "\n",
              "#sk-container-id-1 a.estimator_doc_link {\n",
              "  float: right;\n",
              "  font-size: 1rem;\n",
              "  line-height: 1em;\n",
              "  font-family: monospace;\n",
              "  background-color: var(--sklearn-color-background);\n",
              "  border-radius: 1rem;\n",
              "  height: 1rem;\n",
              "  width: 1rem;\n",
              "  text-decoration: none;\n",
              "  /* unfitted */\n",
              "  color: var(--sklearn-color-unfitted-level-1);\n",
              "  border: var(--sklearn-color-unfitted-level-1) 1pt solid;\n",
              "}\n",
              "\n",
              "#sk-container-id-1 a.estimator_doc_link.fitted {\n",
              "  /* fitted */\n",
              "  border: var(--sklearn-color-fitted-level-1) 1pt solid;\n",
              "  color: var(--sklearn-color-fitted-level-1);\n",
              "}\n",
              "\n",
              "/* On hover */\n",
              "#sk-container-id-1 a.estimator_doc_link:hover {\n",
              "  /* unfitted */\n",
              "  background-color: var(--sklearn-color-unfitted-level-3);\n",
              "  color: var(--sklearn-color-background);\n",
              "  text-decoration: none;\n",
              "}\n",
              "\n",
              "#sk-container-id-1 a.estimator_doc_link.fitted:hover {\n",
              "  /* fitted */\n",
              "  background-color: var(--sklearn-color-fitted-level-3);\n",
              "}\n",
              "</style><div id=\"sk-container-id-1\" class=\"sk-top-container\"><div class=\"sk-text-repr-fallback\"><pre>LogisticRegression()</pre><b>In a Jupyter environment, please rerun this cell to show the HTML representation or trust the notebook. <br />On GitHub, the HTML representation is unable to render, please try loading this page with nbviewer.org.</b></div><div class=\"sk-container\" hidden><div class=\"sk-item\"><div class=\"sk-estimator fitted sk-toggleable\"><input class=\"sk-toggleable__control sk-hidden--visually\" id=\"sk-estimator-id-1\" type=\"checkbox\" checked><label for=\"sk-estimator-id-1\" class=\"sk-toggleable__label fitted sk-toggleable__label-arrow\"><div><div>LogisticRegression</div></div><div><a class=\"sk-estimator-doc-link fitted\" rel=\"noreferrer\" target=\"_blank\" href=\"https://scikit-learn.org/1.6/modules/generated/sklearn.linear_model.LogisticRegression.html\">?<span>Documentation for LogisticRegression</span></a><span class=\"sk-estimator-doc-link fitted\">i<span>Fitted</span></span></div></label><div class=\"sk-toggleable__content fitted\"><pre>LogisticRegression()</pre></div> </div></div></div></div>"
            ]
          },
          "metadata": {},
          "execution_count": 14
        }
      ]
    },
    {
      "cell_type": "markdown",
      "source": [
        "##### Paso 3: Predicción del modelo\n",
        "\n",
        "Una vez se ha entrenado el modelo, se puede utilizar para predecir con el conjunto de datos de prueba."
      ],
      "metadata": {
        "id": "f6J35ItCWNC9"
      }
    },
    {
      "cell_type": "code",
      "source": [
        "# prediccion\n",
        "y_pred = model.predict(X_test)\n",
        "y_pred"
      ],
      "metadata": {
        "id": "pfKqOwrvWNWw",
        "colab": {
          "base_uri": "https://localhost:8080/"
        },
        "outputId": "83db7168-93b0-4f7f-b996-246285f9bd5e"
      },
      "execution_count": 15,
      "outputs": [
        {
          "output_type": "execute_result",
          "data": {
            "text/plain": [
              "array([0, 0, 0, 0, 1, 1, 1, 1, 1, 0, 0, 0, 0, 1, 0, 1, 1, 0, 0, 0, 0, 0,\n",
              "       0, 0, 0, 1, 0, 0, 0, 1, 0, 1, 1, 0, 0, 0, 1, 1, 0, 1, 0, 1, 1, 0,\n",
              "       0, 0, 0, 0, 1, 1, 1, 1, 0, 0, 1, 0, 0, 1, 0, 0, 0, 0, 1, 1, 1, 0,\n",
              "       1, 1, 0, 0, 0, 0, 0, 0, 0, 0, 1, 0, 1, 0, 1, 0, 0, 0, 0, 0, 0, 0,\n",
              "       1, 1, 1, 0, 0, 1, 0, 1, 0, 0, 1, 1, 0, 0, 0, 1, 1, 0, 1, 0, 0, 1,\n",
              "       0, 1, 1, 0, 1, 0, 1, 1, 0, 0, 0, 1, 0, 0, 0, 1, 1, 0, 0, 1, 0, 1,\n",
              "       0, 1, 0, 0, 1, 0, 0, 0, 0, 1, 0, 0, 0, 1, 0, 1, 0, 0, 0, 0, 0, 0,\n",
              "       1, 1, 0, 1, 0, 1, 0, 0, 0, 1, 0, 0, 0, 1, 0, 0, 0, 1, 0, 1, 0, 1,\n",
              "       1, 0, 0, 0, 0, 0, 1, 1, 1, 0, 0, 0, 1, 0, 0, 1, 0, 0, 0, 0, 1, 1,\n",
              "       0, 0, 0, 1, 1, 0, 1, 0, 0, 0, 0, 0, 0, 0, 0, 0, 0, 0, 1, 1, 0, 0,\n",
              "       0, 1, 0, 1, 0, 1, 0, 0, 0, 0, 1, 0, 0, 1, 1, 0, 1, 0, 1, 0, 0, 0,\n",
              "       0, 0, 0, 1, 0, 0, 1, 1, 0, 1, 0, 1, 1, 1, 0, 0, 1, 1, 1, 1])"
            ]
          },
          "metadata": {},
          "execution_count": 15
        }
      ]
    },
    {
      "cell_type": "markdown",
      "source": [
        "Existe una gran cantidad de métricas para medir la efectividad de un modelo a la hora de predecir, entre ellas la **precisión** (*accuracy*), que es la fracción de predicciones que el modelo realizó correctamente."
      ],
      "metadata": {
        "id": "zGYBJUwhWRz-"
      }
    },
    {
      "cell_type": "code",
      "source": [
        "accuracy_score(y_test, y_pred)"
      ],
      "metadata": {
        "id": "F5Kiuc1EWSWm",
        "colab": {
          "base_uri": "https://localhost:8080/"
        },
        "outputId": "0267cd19-e9da-418f-9cde-3462f290d09c"
      },
      "execution_count": 16,
      "outputs": [
        {
          "output_type": "execute_result",
          "data": {
            "text/plain": [
              "0.851145038167939"
            ]
          },
          "metadata": {},
          "execution_count": 16
        }
      ]
    },
    {
      "cell_type": "code",
      "source": [
        "y_pred_train = model.predict(X_train)\n",
        "\n",
        "accuracy_score(y_train, y_pred_train)"
      ],
      "metadata": {
        "colab": {
          "base_uri": "https://localhost:8080/"
        },
        "id": "QI5K96FntNRH",
        "outputId": "1db2df26-3329-4ee1-99cd-a8558905883e"
      },
      "execution_count": 17,
      "outputs": [
        {
          "output_type": "execute_result",
          "data": {
            "text/plain": [
              "0.8586437440305635"
            ]
          },
          "metadata": {},
          "execution_count": 17
        }
      ]
    },
    {
      "cell_type": "markdown",
      "source": [
        "El modelo predice con un  85% de efectividad.\n",
        "\n",
        "El valor anterior se interpretaría como que el modelo ha predicho, de 262 pasajeros, el resultado de supervivencia de 222 de ellos (si sobrevivían o no) correctamente.\n",
        "\n",
        "Además de la puntuación (*score*) del modelo observada, es común que en los problemas de clasificación se construya una **matriz de confusión** (*confusion matrix*), que es una tabla que se organiza de tal manera que cada fila de la matriz representa las instancias de una clase predicha, mientras que cada columna representa las instancias de una clase real:"
      ],
      "metadata": {
        "id": "Ug_JVSdCWZWG"
      }
    },
    {
      "cell_type": "code",
      "source": [
        "titanic_cm = confusion_matrix(y_test, y_pred)\n",
        "\n",
        "# Dibujaremos esta matriz para hacerla más visual\n",
        "cm_df = pd.DataFrame(titanic_cm)\n",
        "\n",
        "plt.figure(figsize = (3, 3))\n",
        "sns.heatmap(cm_df, annot=True, fmt=\"d\", cbar=False)\n",
        "\n",
        "plt.tight_layout()\n",
        "\n",
        "plt.xlabel('Predicted')\n",
        "plt.ylabel('Actual')\n",
        "plt.title('Confusion Matrix')\n",
        "plt.show()"
      ],
      "metadata": {
        "id": "dTKsMDFyWlaG",
        "colab": {
          "base_uri": "https://localhost:8080/",
          "height": 348
        },
        "outputId": "44f16252-bf56-4ccb-95fc-8e4ac09012b9"
      },
      "execution_count": 18,
      "outputs": [
        {
          "output_type": "display_data",
          "data": {
            "text/plain": [
              "<Figure size 300x300 with 1 Axes>"
            ],
            "image/png": "[encoded data removed]"
          },
          "metadata": {}
        }
      ]
    },
    {
      "cell_type": "markdown",
      "source": [
        "La interpretación de una matriz de confusión es la siguiente:\n",
        "\n",
        "- **Verdaderos positivos** (*TP, True positive*): Se corresponde con el número `142` y son los casos en los que el modelo predijo positivo (no supervivencia) y la clase real también es positiva.\n",
        "- **Verdaderos negativos** (*TN, False negative*): Se corresponde con el número `81` y son los casos en los que el modelo predijo negativo (supervivencia) y la clase real también es negativa.\n",
        "- **Falsos positivos** (*FP, False positive*): Se corresponde con el número `22` y son los casos en los que el modelo predijo positivo y la clase real es negativa.\n",
        "- **Falsos negativos** (*FN, False negative*): Se corresponde con el número `17` y son los casos en los que el modelo predijo negativo y la clase real es positiva.\n",
        "\n",
        "Estas cuatro medidas se utilizan a menudo para calcular métricas más complejas."
      ],
      "metadata": {
        "id": "3SV1VsDfWttW"
      }
    },
    {
      "cell_type": "markdown",
      "source": [
        "##### Paso 4: Optimización de resultados\n",
        "\n",
        "Como hemos visto, el modelo base (con todos los parámetros predefinidos) de la regresión logística obtiene poco más de un 84% de precisión. Sin embargo, el hecho de modificar los parámetros del modelo podría suponer una mejora (o empeoramiento) significativos de los resultados. Existen varias estrategias como los modelos regularizados."
      ],
      "metadata": {
        "id": "MO9gAJn5W56B"
      }
    },
    {
      "cell_type": "code",
      "source": [
        "def warn(*args, **kwargs):\n",
        "    pass\n",
        "import warnings\n",
        "warnings.warn = warn"
      ],
      "metadata": {
        "id": "5iP1Xcy-X7eq"
      },
      "execution_count": 19,
      "outputs": []
    },
    {
      "cell_type": "code",
      "source": [
        "# genera el modelo\n",
        "model = LogisticRegression()\n",
        "\n",
        "# Definimos los parámetros que queremos ajustar a mano\n",
        "hyperparams = {\n",
        "    \"C\": [0.001, 0.01, 0.1, 1, 10, 100, 1000],\n",
        "    \"penalty\": [\"l1\", \"l2\", \"elasticnet\", None],\n",
        "    \"solver\": [\"newton-cg\", \"lbfgs\", \"liblinear\", \"sag\", \"saga\"]\n",
        "}\n",
        "\n",
        "# Inicializamos la cuadrícula\n",
        "grid = GridSearchCV(model, hyperparams, scoring = \"accuracy\", cv = 5)\n",
        "grid"
      ],
      "metadata": {
        "id": "Be-W7RRsXnVu",
        "colab": {
          "base_uri": "https://localhost:8080/",
          "height": 166
        },
        "outputId": "3329817d-307c-451b-998e-88c86531b970"
      },
      "execution_count": 22,
      "outputs": [
        {
          "output_type": "execute_result",
          "data": {
            "text/plain": [
              "GridSearchCV(cv=5, estimator=LogisticRegression(),\n",
              "             param_grid={'C': [0.001, 0.01, 0.1, 1, 10, 100, 1000],\n",
              "                         'penalty': ['l1', 'l2', 'elasticnet', None],\n",
              "                         'solver': ['newton-cg', 'lbfgs', 'liblinear', 'sag',\n",
              "                                    'saga']},\n",
              "             scoring='accuracy')"
            ],
            "text/html": [
              "<style>#sk-container-id-2 {\n",
              "  /* Definition of color scheme common for light and dark mode */\n",
              "  --sklearn-color-text: #000;\n",
              "  --sklearn-color-text-muted: #666;\n",
              "  --sklearn-color-line: gray;\n",
              "  /* Definition of color scheme for unfitted estimators */\n",
              "  --sklearn-color-unfitted-level-0: #fff5e6;\n",
              "  --sklearn-color-unfitted-level-1: #f6e4d2;\n",
              "  --sklearn-color-unfitted-level-2: #ffe0b3;\n",
              "  --sklearn-color-unfitted-level-3: chocolate;\n",
              "  /* Definition of color scheme for fitted estimators */\n",
              "  --sklearn-color-fitted-level-0: #f0f8ff;\n",
              "  --sklearn-color-fitted-level-1: #d4ebff;\n",
              "  --sklearn-color-fitted-level-2: #b3dbfd;\n",
              "  --sklearn-color-fitted-level-3: cornflowerblue;\n",
              "\n",
              "  /* Specific color for light theme */\n",
              "  --sklearn-color-text-on-default-background: var(--sg-text-color, var(--theme-code-foreground, var(--jp-content-font-color1, black)));\n",
              "  --sklearn-color-background: var(--sg-background-color, var(--theme-background, var(--jp-layout-color0, white)));\n",
              "  --sklearn-color-border-box: var(--sg-text-color, var(--theme-code-foreground, var(--jp-content-font-color1, black)));\n",
              "  --sklearn-color-icon: #696969;\n",
              "\n",
              "  @media (prefers-color-scheme: dark) {\n",
              "    /* Redefinition of color scheme for dark theme */\n",
              "    --sklearn-color-text-on-default-background: var(--sg-text-color, var(--theme-code-foreground, var(--jp-content-font-color1, white)));\n",
              "    --sklearn-color-background: var(--sg-background-color, var(--theme-background, var(--jp-layout-color0, #111)));\n",
              "    --sklearn-color-border-box: var(--sg-text-color, var(--theme-code-foreground, var(--jp-content-font-color1, white)));\n",
              "    --sklearn-color-icon: #878787;\n",
              "  }\n",
              "}\n",
              "\n",
              "#sk-container-id-2 {\n",
              "  color: var(--sklearn-color-text);\n",
              "}\n",
              "\n",
              "#sk-container-id-2 pre {\n",
              "  padding: 0;\n",
              "}\n",
              "\n",
              "#sk-container-id-2 input.sk-hidden--visually {\n",
              "  border: 0;\n",
              "  clip: rect(1px 1px 1px 1px);\n",
              "  clip: rect(1px, 1px, 1px, 1px);\n",
              "  height: 1px;\n",
              "  margin: -1px;\n",
              "  overflow: hidden;\n",
              "  padding: 0;\n",
              "  position: absolute;\n",
              "  width: 1px;\n",
              "}\n",
              "\n",
              "#sk-container-id-2 div.sk-dashed-wrapped {\n",
              "  border: 1px dashed var(--sklearn-color-line);\n",
              "  margin: 0 0.4em 0.5em 0.4em;\n",
              "  box-sizing: border-box;\n",
              "  padding-bottom: 0.4em;\n",
              "  background-color: var(--sklearn-color-background);\n",
              "}\n",
              "\n",
              "#sk-container-id-2 div.sk-container {\n",
              "  /* jupyter's `normalize.less` sets `[hidden] { display: none; }`\n",
              "     but bootstrap.min.css set `[hidden] { display: none !important; }`\n",
              "     so we also need the `!important` here to be able to override the\n",
              "     default hidden behavior on the sphinx rendered scikit-learn.org.\n",
              "     See: https://github.com/scikit-learn/scikit-learn/issues/21755 */\n",
              "  display: inline-block !important;\n",
              "  position: relative;\n",
              "}\n",
              "\n",
              "#sk-container-id-2 div.sk-text-repr-fallback {\n",
              "  display: none;\n",
              "}\n",
              "\n",
              "div.sk-parallel-item,\n",
              "div.sk-serial,\n",
              "div.sk-item {\n",
              "  /* draw centered vertical line to link estimators */\n",
              "  background-image: linear-gradient(var(--sklearn-color-text-on-default-background), var(--sklearn-color-text-on-default-background));\n",
              "  background-size: 2px 100%;\n",
              "  background-repeat: no-repeat;\n",
              "  background-position: center center;\n",
              "}\n",
              "\n",
              "/* Parallel-specific style estimator block */\n",
              "\n",
              "#sk-container-id-2 div.sk-parallel-item::after {\n",
              "  content: \"\";\n",
              "  width: 100%;\n",
              "  border-bottom: 2px solid var(--sklearn-color-text-on-default-background);\n",
              "  flex-grow: 1;\n",
              "}\n",
              "\n",
              "#sk-container-id-2 div.sk-parallel {\n",
              "  display: flex;\n",
              "  align-items: stretch;\n",
              "  justify-content: center;\n",
              "  background-color: var(--sklearn-color-background);\n",
              "  position: relative;\n",
              "}\n",
              "\n",
              "#sk-container-id-2 div.sk-parallel-item {\n",
              "  display: flex;\n",
              "  flex-direction: column;\n",
              "}\n",
              "\n",
              "#sk-container-id-2 div.sk-parallel-item:first-child::after {\n",
              "  align-self: flex-end;\n",
              "  width: 50%;\n",
              "}\n",
              "\n",
              "#sk-container-id-2 div.sk-parallel-item:last-child::after {\n",
              "  align-self: flex-start;\n",
              "  width: 50%;\n",
              "}\n",
              "\n",
              "#sk-container-id-2 div.sk-parallel-item:only-child::after {\n",
              "  width: 0;\n",
              "}\n",
              "\n",
              "/* Serial-specific style estimator block */\n",
              "\n",
              "#sk-container-id-2 div.sk-serial {\n",
              "  display: flex;\n",
              "  flex-direction: column;\n",
              "  align-items: center;\n",
              "  background-color: var(--sklearn-color-background);\n",
              "  padding-right: 1em;\n",
              "  padding-left: 1em;\n",
              "}\n",
              "\n",
              "\n",
              "/* Toggleable style: style used for estimator/Pipeline/ColumnTransformer box that is\n",
              "clickable and can be expanded/collapsed.\n",
              "- Pipeline and ColumnTransformer use this feature and define the default style\n",
              "- Estimators will overwrite some part of the style using the `sk-estimator` class\n",
              "*/\n",
              "\n",
              "/* Pipeline and ColumnTransformer style (default) */\n",
              "\n",
              "#sk-container-id-2 div.sk-toggleable {\n",
              "  /* Default theme specific background. It is overwritten whether we have a\n",
              "  specific estimator or a Pipeline/ColumnTransformer */\n",
              "  background-color: var(--sklearn-color-background);\n",
              "}\n",
              "\n",
              "/* Toggleable label */\n",
              "#sk-container-id-2 label.sk-toggleable__label {\n",
              "  cursor: pointer;\n",
              "  display: flex;\n",
              "  width: 100%;\n",
              "  margin-bottom: 0;\n",
              "  padding: 0.5em;\n",
              "  box-sizing: border-box;\n",
              "  text-align: center;\n",
              "  align-items: start;\n",
              "  justify-content: space-between;\n",
              "  gap: 0.5em;\n",
              "}\n",
              "\n",
              "#sk-container-id-2 label.sk-toggleable__label .caption {\n",
              "  font-size: 0.6rem;\n",
              "  font-weight: lighter;\n",
              "  color: var(--sklearn-color-text-muted);\n",
              "}\n",
              "\n",
              "#sk-container-id-2 label.sk-toggleable__label-arrow:before {\n",
              "  /* Arrow on the left of the label */\n",
              "  content: \"▸\";\n",
              "  float: left;\n",
              "  margin-right: 0.25em;\n",
              "  color: var(--sklearn-color-icon);\n",
              "}\n",
              "\n",
              "#sk-container-id-2 label.sk-toggleable__label-arrow:hover:before {\n",
              "  color: var(--sklearn-color-text);\n",
              "}\n",
              "\n",
              "/* Toggleable content - dropdown */\n",
              "\n",
              "#sk-container-id-2 div.sk-toggleable__content {\n",
              "  max-height: 0;\n",
              "  max-width: 0;\n",
              "  overflow: hidden;\n",
              "  text-align: left;\n",
              "  /* unfitted */\n",
              "  background-color: var(--sklearn-color-unfitted-level-0);\n",
              "}\n",
              "\n",
              "#sk-container-id-2 div.sk-toggleable__content.fitted {\n",
              "  /* fitted */\n",
              "  background-color: var(--sklearn-color-fitted-level-0);\n",
              "}\n",
              "\n",
              "#sk-container-id-2 div.sk-toggleable__content pre {\n",
              "  margin: 0.2em;\n",
              "  border-radius: 0.25em;\n",
              "  color: var(--sklearn-color-text);\n",
              "  /* unfitted */\n",
              "  background-color: var(--sklearn-color-unfitted-level-0);\n",
              "}\n",
              "\n",
              "#sk-container-id-2 div.sk-toggleable__content.fitted pre {\n",
              "  /* unfitted */\n",
              "  background-color: var(--sklearn-color-fitted-level-0);\n",
              "}\n",
              "\n",
              "#sk-container-id-2 input.sk-toggleable__control:checked~div.sk-toggleable__content {\n",
              "  /* Expand drop-down */\n",
              "  max-height: 200px;\n",
              "  max-width: 100%;\n",
              "  overflow: auto;\n",
              "}\n",
              "\n",
              "#sk-container-id-2 input.sk-toggleable__control:checked~label.sk-toggleable__label-arrow:before {\n",
              "  content: \"▾\";\n",
              "}\n",
              "\n",
              "/* Pipeline/ColumnTransformer-specific style */\n",
              "\n",
              "#sk-container-id-2 div.sk-label input.sk-toggleable__control:checked~label.sk-toggleable__label {\n",
              "  color: var(--sklearn-color-text);\n",
              "  background-color: var(--sklearn-color-unfitted-level-2);\n",
              "}\n",
              "\n",
              "#sk-container-id-2 div.sk-label.fitted input.sk-toggleable__control:checked~label.sk-toggleable__label {\n",
              "  background-color: var(--sklearn-color-fitted-level-2);\n",
              "}\n",
              "\n",
              "/* Estimator-specific style */\n",
              "\n",
              "/* Colorize estimator box */\n",
              "#sk-container-id-2 div.sk-estimator input.sk-toggleable__control:checked~label.sk-toggleable__label {\n",
              "  /* unfitted */\n",
              "  background-color: var(--sklearn-color-unfitted-level-2);\n",
              "}\n",
              "\n",
              "#sk-container-id-2 div.sk-estimator.fitted input.sk-toggleable__control:checked~label.sk-toggleable__label {\n",
              "  /* fitted */\n",
              "  background-color: var(--sklearn-color-fitted-level-2);\n",
              "}\n",
              "\n",
              "#sk-container-id-2 div.sk-label label.sk-toggleable__label,\n",
              "#sk-container-id-2 div.sk-label label {\n",
              "  /* The background is the default theme color */\n",
              "  color: var(--sklearn-color-text-on-default-background);\n",
              "}\n",
              "\n",
              "/* On hover, darken the color of the background */\n",
              "#sk-container-id-2 div.sk-label:hover label.sk-toggleable__label {\n",
              "  color: var(--sklearn-color-text);\n",
              "  background-color: var(--sklearn-color-unfitted-level-2);\n",
              "}\n",
              "\n",
              "/* Label box, darken color on hover, fitted */\n",
              "#sk-container-id-2 div.sk-label.fitted:hover label.sk-toggleable__label.fitted {\n",
              "  color: var(--sklearn-color-text);\n",
              "  background-color: var(--sklearn-color-fitted-level-2);\n",
              "}\n",
              "\n",
              "/* Estimator label */\n",
              "\n",
              "#sk-container-id-2 div.sk-label label {\n",
              "  font-family: monospace;\n",
              "  font-weight: bold;\n",
              "  display: inline-block;\n",
              "  line-height: 1.2em;\n",
              "}\n",
              "\n",
              "#sk-container-id-2 div.sk-label-container {\n",
              "  text-align: center;\n",
              "}\n",
              "\n",
              "/* Estimator-specific */\n",
              "#sk-container-id-2 div.sk-estimator {\n",
              "  font-family: monospace;\n",
              "  border: 1px dotted var(--sklearn-color-border-box);\n",
              "  border-radius: 0.25em;\n",
              "  box-sizing: border-box;\n",
              "  margin-bottom: 0.5em;\n",
              "  /* unfitted */\n",
              "  background-color: var(--sklearn-color-unfitted-level-0);\n",
              "}\n",
              "\n",
              "#sk-container-id-2 div.sk-estimator.fitted {\n",
              "  /* fitted */\n",
              "  background-color: var(--sklearn-color-fitted-level-0);\n",
              "}\n",
              "\n",
              "/* on hover */\n",
              "#sk-container-id-2 div.sk-estimator:hover {\n",
              "  /* unfitted */\n",
              "  background-color: var(--sklearn-color-unfitted-level-2);\n",
              "}\n",
              "\n",
              "#sk-container-id-2 div.sk-estimator.fitted:hover {\n",
              "  /* fitted */\n",
              "  background-color: var(--sklearn-color-fitted-level-2);\n",
              "}\n",
              "\n",
              "/* Specification for estimator info (e.g. \"i\" and \"?\") */\n",
              "\n",
              "/* Common style for \"i\" and \"?\" */\n",
              "\n",
              ".sk-estimator-doc-link,\n",
              "a:link.sk-estimator-doc-link,\n",
              "a:visited.sk-estimator-doc-link {\n",
              "  float: right;\n",
              "  font-size: smaller;\n",
              "  line-height: 1em;\n",
              "  font-family: monospace;\n",
              "  background-color: var(--sklearn-color-background);\n",
              "  border-radius: 1em;\n",
              "  height: 1em;\n",
              "  width: 1em;\n",
              "  text-decoration: none !important;\n",
              "  margin-left: 0.5em;\n",
              "  text-align: center;\n",
              "  /* unfitted */\n",
              "  border: var(--sklearn-color-unfitted-level-1) 1pt solid;\n",
              "  color: var(--sklearn-color-unfitted-level-1);\n",
              "}\n",
              "\n",
              ".sk-estimator-doc-link.fitted,\n",
              "a:link.sk-estimator-doc-link.fitted,\n",
              "a:visited.sk-estimator-doc-link.fitted {\n",
              "  /* fitted */\n",
              "  border: var(--sklearn-color-fitted-level-1) 1pt solid;\n",
              "  color: var(--sklearn-color-fitted-level-1);\n",
              "}\n",
              "\n",
              "/* On hover */\n",
              "div.sk-estimator:hover .sk-estimator-doc-link:hover,\n",
              ".sk-estimator-doc-link:hover,\n",
              "div.sk-label-container:hover .sk-estimator-doc-link:hover,\n",
              ".sk-estimator-doc-link:hover {\n",
              "  /* unfitted */\n",
              "  background-color: var(--sklearn-color-unfitted-level-3);\n",
              "  color: var(--sklearn-color-background);\n",
              "  text-decoration: none;\n",
              "}\n",
              "\n",
              "div.sk-estimator.fitted:hover .sk-estimator-doc-link.fitted:hover,\n",
              ".sk-estimator-doc-link.fitted:hover,\n",
              "div.sk-label-container:hover .sk-estimator-doc-link.fitted:hover,\n",
              ".sk-estimator-doc-link.fitted:hover {\n",
              "  /* fitted */\n",
              "  background-color: var(--sklearn-color-fitted-level-3);\n",
              "  color: var(--sklearn-color-background);\n",
              "  text-decoration: none;\n",
              "}\n",
              "\n",
              "/* Span, style for the box shown on hovering the info icon */\n",
              ".sk-estimator-doc-link span {\n",
              "  display: none;\n",
              "  z-index: 9999;\n",
              "  position: relative;\n",
              "  font-weight: normal;\n",
              "  right: .2ex;\n",
              "  padding: .5ex;\n",
              "  margin: .5ex;\n",
              "  width: min-content;\n",
              "  min-width: 20ex;\n",
              "  max-width: 50ex;\n",
              "  color: var(--sklearn-color-text);\n",
              "  box-shadow: 2pt 2pt 4pt #999;\n",
              "  /* unfitted */\n",
              "  background: var(--sklearn-color-unfitted-level-0);\n",
              "  border: .5pt solid var(--sklearn-color-unfitted-level-3);\n",
              "}\n",
              "\n",
              ".sk-estimator-doc-link.fitted span {\n",
              "  /* fitted */\n",
              "  background: var(--sklearn-color-fitted-level-0);\n",
              "  border: var(--sklearn-color-fitted-level-3);\n",
              "}\n",
              "\n",
              ".sk-estimator-doc-link:hover span {\n",
              "  display: block;\n",
              "}\n",
              "\n",
              "/* \"?\"-specific style due to the `<a>` HTML tag */\n",
              "\n",
              "#sk-container-id-2 a.estimator_doc_link {\n",
              "  float: right;\n",
              "  font-size: 1rem;\n",
              "  line-height: 1em;\n",
              "  font-family: monospace;\n",
              "  background-color: var(--sklearn-color-background);\n",
              "  border-radius: 1rem;\n",
              "  height: 1rem;\n",
              "  width: 1rem;\n",
              "  text-decoration: none;\n",
              "  /* unfitted */\n",
              "  color: var(--sklearn-color-unfitted-level-1);\n",
              "  border: var(--sklearn-color-unfitted-level-1) 1pt solid;\n",
              "}\n",
              "\n",
              "#sk-container-id-2 a.estimator_doc_link.fitted {\n",
              "  /* fitted */\n",
              "  border: var(--sklearn-color-fitted-level-1) 1pt solid;\n",
              "  color: var(--sklearn-color-fitted-level-1);\n",
              "}\n",
              "\n",
              "/* On hover */\n",
              "#sk-container-id-2 a.estimator_doc_link:hover {\n",
              "  /* unfitted */\n",
              "  background-color: var(--sklearn-color-unfitted-level-3);\n",
              "  color: var(--sklearn-color-background);\n",
              "  text-decoration: none;\n",
              "}\n",
              "\n",
              "#sk-container-id-2 a.estimator_doc_link.fitted:hover {\n",
              "  /* fitted */\n",
              "  background-color: var(--sklearn-color-fitted-level-3);\n",
              "}\n",
              "</style><div id=\"sk-container-id-2\" class=\"sk-top-container\"><div class=\"sk-text-repr-fallback\"><pre>GridSearchCV(cv=5, estimator=LogisticRegression(),\n",
              "             param_grid={&#x27;C&#x27;: [0.001, 0.01, 0.1, 1, 10, 100, 1000],\n",
              "                         &#x27;penalty&#x27;: [&#x27;l1&#x27;, &#x27;l2&#x27;, &#x27;elasticnet&#x27;, None],\n",
              "                         &#x27;solver&#x27;: [&#x27;newton-cg&#x27;, &#x27;lbfgs&#x27;, &#x27;liblinear&#x27;, &#x27;sag&#x27;,\n",
              "                                    &#x27;saga&#x27;]},\n",
              "             scoring=&#x27;accuracy&#x27;)</pre><b>In a Jupyter environment, please rerun this cell to show the HTML representation or trust the notebook. <br />On GitHub, the HTML representation is unable to render, please try loading this page with nbviewer.org.</b></div><div class=\"sk-container\" hidden><div class=\"sk-item sk-dashed-wrapped\"><div class=\"sk-label-container\"><div class=\"sk-label  sk-toggleable\"><input class=\"sk-toggleable__control sk-hidden--visually\" id=\"sk-estimator-id-2\" type=\"checkbox\" ><label for=\"sk-estimator-id-2\" class=\"sk-toggleable__label  sk-toggleable__label-arrow\"><div><div>GridSearchCV</div></div><div><a class=\"sk-estimator-doc-link \" rel=\"noreferrer\" target=\"_blank\" href=\"https://scikit-learn.org/1.6/modules/generated/sklearn.model_selection.GridSearchCV.html\">?<span>Documentation for GridSearchCV</span></a><span class=\"sk-estimator-doc-link \">i<span>Not fitted</span></span></div></label><div class=\"sk-toggleable__content \"><pre>GridSearchCV(cv=5, estimator=LogisticRegression(),\n",
              "             param_grid={&#x27;C&#x27;: [0.001, 0.01, 0.1, 1, 10, 100, 1000],\n",
              "                         &#x27;penalty&#x27;: [&#x27;l1&#x27;, &#x27;l2&#x27;, &#x27;elasticnet&#x27;, None],\n",
              "                         &#x27;solver&#x27;: [&#x27;newton-cg&#x27;, &#x27;lbfgs&#x27;, &#x27;liblinear&#x27;, &#x27;sag&#x27;,\n",
              "                                    &#x27;saga&#x27;]},\n",
              "             scoring=&#x27;accuracy&#x27;)</pre></div> </div></div><div class=\"sk-parallel\"><div class=\"sk-parallel-item\"><div class=\"sk-item\"><div class=\"sk-label-container\"><div class=\"sk-label  sk-toggleable\"><input class=\"sk-toggleable__control sk-hidden--visually\" id=\"sk-estimator-id-3\" type=\"checkbox\" ><label for=\"sk-estimator-id-3\" class=\"sk-toggleable__label  sk-toggleable__label-arrow\"><div><div>estimator: LogisticRegression</div></div></label><div class=\"sk-toggleable__content \"><pre>LogisticRegression()</pre></div> </div></div><div class=\"sk-serial\"><div class=\"sk-item\"><div class=\"sk-estimator  sk-toggleable\"><input class=\"sk-toggleable__control sk-hidden--visually\" id=\"sk-estimator-id-4\" type=\"checkbox\" ><label for=\"sk-estimator-id-4\" class=\"sk-toggleable__label  sk-toggleable__label-arrow\"><div><div>LogisticRegression</div></div><div><a class=\"sk-estimator-doc-link \" rel=\"noreferrer\" target=\"_blank\" href=\"https://scikit-learn.org/1.6/modules/generated/sklearn.linear_model.LogisticRegression.html\">?<span>Documentation for LogisticRegression</span></a></div></label><div class=\"sk-toggleable__content \"><pre>LogisticRegression()</pre></div> </div></div></div></div></div></div></div></div></div>"
            ]
          },
          "metadata": {},
          "execution_count": 22
        }
      ]
    },
    {
      "cell_type": "code",
      "source": [
        "grid.fit(X_train, y_train)\n",
        "\n",
        "print(f\"Mejores hiperparámetros: {grid.best_params_}\")"
      ],
      "metadata": {
        "id": "vmUzbEAgXuX0",
        "colab": {
          "base_uri": "https://localhost:8080/"
        },
        "outputId": "f35578c0-a6bb-41dc-d8c3-7f23c7006b7b"
      },
      "execution_count": 23,
      "outputs": [
        {
          "output_type": "stream",
          "name": "stdout",
          "text": [
            "Mejores hiperparámetros: {'C': 1, 'penalty': 'l1', 'solver': 'liblinear'}\n"
          ]
        }
      ]
    },
    {
      "cell_type": "markdown",
      "source": [
        "Como vemos, los parámetros optimizados utilizando esta técnica son:\n",
        "\n",
        "- `C`: 1\n",
        "- `penalty`: l1\n",
        "- `solver`: liblinear\n",
        "\n",
        "Además, siempre debemos utilizar el conjunto de datos de entrenamiento para ajustarlo. Ahora solo tenemos que repetir el entrenamiento estableciendo estos parámetros en el modelo:"
      ],
      "metadata": {
        "id": "btR8w5udXwmC"
      }
    },
    {
      "cell_type": "code",
      "source": [
        "model_grid = LogisticRegression(penalty = \"l1\", C = 1, solver = \"liblinear\")\n",
        "model_grid.fit(X_train, y_train)\n",
        "y_pred = model_grid.predict(X_test)\n",
        "\n",
        "grid_accuracy = accuracy_score(y_test, y_pred)\n",
        "grid_accuracy"
      ],
      "metadata": {
        "id": "Q9pbyQo0X_xj",
        "colab": {
          "base_uri": "https://localhost:8080/"
        },
        "outputId": "102a5229-330e-427e-b5c8-72185c8f9566"
      },
      "execution_count": 24,
      "outputs": [
        {
          "output_type": "execute_result",
          "data": {
            "text/plain": [
              "0.851145038167939"
            ]
          },
          "metadata": {},
          "execution_count": 24
        }
      ]
    },
    {
      "cell_type": "markdown",
      "source": [
        "Observamos que no hay una gran mejora."
      ],
      "metadata": {
        "id": "2VEuhRQjYMCy"
      }
    },
    {
      "cell_type": "code",
      "source": [
        "# Definimos los parámetros que queremos ajustar\n",
        "hyperparams = {\n",
        "    \"C\": np.logspace(-4, 4, 20),\n",
        "    \"penalty\": [\"l1\", \"l2\", \"elasticnet\", None],\n",
        "    \"solver\": [\"newton-cg\", \"lbfgs\", \"liblinear\", \"sag\", \"saga\"]\n",
        "}\n",
        "\n",
        "# Inicializamos la búsqueda aleatoria\n",
        "random_search = RandomizedSearchCV(model, hyperparams, n_iter = 100, scoring = \"accuracy\", cv = 5, random_state = 42)\n",
        "random_search"
      ],
      "metadata": {
        "id": "BtSQMtGqYSOh"
      },
      "execution_count": null,
      "outputs": []
    },
    {
      "cell_type": "code",
      "source": [
        "random_search.fit(X_train, y_train)\n",
        "\n",
        "print(f\"Mejores hiperparámetros: {random_search.best_params_}\")"
      ],
      "metadata": {
        "id": "bfsKFP-DYfTU"
      },
      "execution_count": null,
      "outputs": []
    },
    {
      "cell_type": "markdown",
      "source": [
        "Como vemos, los parámetros optimizados utilizando esta técnica son:\n",
        "\n",
        "- `C`: 29.7635\n",
        "- `penalty`: l2\n",
        "- `solver`: lbfgs\n",
        "\n",
        "Con esta nueva hiperparametrización, reentrenamos el modelo:"
      ],
      "metadata": {
        "id": "5oqqd6iNYlsL"
      }
    },
    {
      "cell_type": "code",
      "source": [
        "model_random_search = LogisticRegression(penalty = \"l2\", C = 29.7635, solver = \"lbfgs\")\n",
        "model_random_search.fit(X_train, y_train)\n",
        "y_pred = model_random_search.predict(X_test)\n",
        "\n",
        "random_search_accuracy = accuracy_score(y_test, y_pred)\n",
        "random_search_accuracy"
      ],
      "metadata": {
        "id": "1EFYNaHuYrpF"
      },
      "execution_count": null,
      "outputs": []
    },
    {
      "cell_type": "markdown",
      "source": [
        "Como vemos, arroja el mismo nivel de precisión que la estrategia anterior. Esto quiere decir que con los medios e hiperparámetros que hemos intentado optimizar nos encontramos en un **máximo local**, esto es, que tendríamos que repetir la estrategia de optimización incluyendo otros hiperparámetros para mejorar los resultados del modelo, ya que solo jugando con el `penalty`, `C` y `solver` no vamos a mejorar el modelo más de lo que ya está."
      ],
      "metadata": {
        "id": "s03XDwNuYu7N"
      }
    },
    {
      "cell_type": "markdown",
      "source": [
        "## 7. Links de interés <a name=\"links\"></a>"
      ],
      "metadata": {
        "id": "4ZLwGjES0O50"
      }
    },
    {
      "cell_type": "markdown",
      "source": [
        "- [Types of Machine Learning Algorithms ](https://pdfs.semanticscholar.org/c4ae/802491724aee021f31f02327b9671cead3dc.pdf)\n",
        "- [Comprensión de la Matriz de Confusión](https://www.datasource.ai/es/data-science-articles/comprension-de-la-matriz-de-confusion-y-como-implementarla-en-python)\n",
        "- [Métricas en regresión](https://medium.com/@nicolasarrioja/m%C3%A9tricas-en-regresi%C3%B3n-5e5d4259430b)\n",
        "- [Understanding Overfitting and Underfitting in Machine Learning](https://medium.com/@brandon93.w/understanding-overfitting-and-underfitting-in-machine-learning-b699e0ed5b28#:~:text=Overfitting%20occurs%20when%20a%20model,generalize%20to%20new%2C%20unseen%20data.)\n",
        "- [¿Qué es la regresión logística?](https://aws.amazon.com/es/what-is/logistic-regression/)\n"
      ],
      "metadata": {
        "id": "R75ytPht0dY7"
      }
    }
  ]
}