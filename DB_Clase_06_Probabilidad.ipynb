{
  "nbformat": 4,
  "nbformat_minor": 0,
  "metadata": {
    "colab": {
      "provenance": []
    },
    "kernelspec": {
      "name": "python3",
      "display_name": "Python 3"
    },
    "language_info": {
      "name": "python"
    }
  },
  "cells": [
    {
      "cell_type": "markdown",
      "source": [
        "<div align=\"right\">\n",
        "  <img src=\"https://drive.google.com/uc?export=view&id=1J8JpP65HsHXdpJvhb_sMwn3yROyU832m\" height=\"80\" width=\"200\" style=\"float: right;\">\n",
        "</div>\n",
        "<h1><b>Data Science and Machine Learning</b></h1>\n",
        "<h2><b>Clase 6</b>: Probabilidad</h2>\n",
        "<h3><b>Docente</b>: <a href=\"https://www.linkedin.com/in/danielablanco/\">Daniela Blanco</a>"
      ],
      "metadata": {
        "id": "Wp4cyu16yiif"
      }
    },
    {
      "cell_type": "markdown",
      "source": [
        "# Contenido\n",
        "\n",
        "- [1. ¿Qué es la probabilidad?](#probabilidad)\n",
        "- [2. Conceptos asociados](#cenceptos)\n",
        "- [3. Probabilidad de un evento](#proba_evento)\n",
        "- [4. Operaciones entre eventos](#operaciones)\n",
        "- [5. Tipos de probabilidades](#tipos)\n",
        "- [6. Regla de Probabilidad total](#regla)\n",
        "- [7. Teorema de bayes](#bayes)\n"
      ],
      "metadata": {
        "id": "XEmijBfl2b_I"
      }
    },
    {
      "cell_type": "markdown",
      "source": [
        "## 1. ¿Qué es la probabilidad? <a name=\"probabilidad\"></a>"
      ],
      "metadata": {
        "id": "Pw6lT_8L3Bny"
      }
    },
    {
      "cell_type": "markdown",
      "source": [
        "<img src=\"https://drive.google.com/uc?export=view&id=1R3APCKi_7zfAzD-p3zWYBCdqzFTVPepc\" height=\"220\" width=\"420\" style=\"float: center;\">"
      ],
      "metadata": {
        "id": "r4PQ6VCun-6J"
      }
    },
    {
      "cell_type": "markdown",
      "source": [
        "- **Rama de las matemáticas** que se ocupa de medir cuantitivamente la posibilidad de que un suceso produzca un determinado resultado.\n",
        "- La **probabilidad** de un sucesao indica el grado de confianza que podemos tener en que sese suceso ocurra.\n",
        "- Toma **valores entre 0 y 1**. Expresado en porcentajes va de 0 a 100%.\n",
        "- Una probabilidad 0 indica que el resultado no ocurrirá nunca.\n",
        "- Un probabilidad 1 que el resultado ocurrirá siempre."
      ],
      "metadata": {
        "id": "4jhbeTuX8V_T"
      }
    },
    {
      "cell_type": "markdown",
      "source": [
        "## 2. Conceptos asociados <a name=\"conceptos\"></a>"
      ],
      "metadata": {
        "id": "nF-jwaADRLuP"
      }
    },
    {
      "cell_type": "markdown",
      "source": [
        "**Experimento (experiment)**: acción que puede producir resultados bien definidos. No se puede predecir el resultado (aleatorio). Puede repetirse infinitas veces. Ejemplo: lanzar un dado.\n",
        "\n",
        "**Espacio muestral (sample space)**: Es el conjunto de todos los posibles resultados de un experimento. Para el ejemplo del dado, el espacio muestral es un número del 1 al 6.\n",
        "\n",
        "**Evento (event)** o suceso: subconjunto de resultados de un experimento. Estará dentro de un espacio muestral. Se les asigna una probabilidad. En nuestro ejemplo, refiriéndonos al evento de obtener un número par se representaría como `E=2,4,6` (ya que todos esos números son pares)."
      ],
      "metadata": {
        "id": "TjbtiSPVRQPJ"
      }
    },
    {
      "cell_type": "markdown",
      "source": [
        "## 3. Probabilidad de un evento <a name=\"proba_evento\"></a>"
      ],
      "metadata": {
        "id": "fgaAEEQUoX9p"
      }
    },
    {
      "cell_type": "markdown",
      "source": [
        "La probabilidad de un evento se calcula como la relación entre el número de resultados favorables para ese evento y el número total de resultados en el espacio muestral.\n",
        "\n",
        "$$ P(A) = \\frac{\\text{Número de resultados favorables}}{\\text{Número total de resultados posibles}} $$\n",
        "\n",
        "### Ejemplos:\n",
        "\n",
        "1. ¿Cuál es la probabilidad de que al lanzar una moneda salga cara?\n",
        "\n",
        "La moneda tiene dos lados: cara y cruz.\n",
        "\n",
        "La probabilidad de que salga cara es:\n",
        "\n",
        "$$P(cara) =  1 / 2 = 0.5$$\n",
        "\n",
        "2. ¿Cuál es la probabilidad de obtener un número par al lanzar un dado?\n",
        "\n",
        "Los números pares en un dado son 2, 4 y 6. Hay 3 resultados posibles entre los 6 números del dado:\n",
        "\n",
        "$$P(E) = 3 / 6 = 0.5$$\n",
        "\n",
        "3. ¿Cuál es la probabilidad de sacar un As de un mazo estándar de 52 cartas?\n",
        "\n",
        "Un mazo tiene 4 Ases (uno por cada palo).\n",
        "\n",
        "$$P(As) =  4 / 52 = 1 / 13 ≈ 0.0769$$\n",
        "\n",
        "4. En una caja hay 5 bolitas rojas y 3 bolitas azules. ¿Cuál es la probabilidad de sacar una bolita roja?\n",
        "\n",
        "El total de bolitas es 5 + 3 = 8.\n",
        "\n",
        "La probabilidad de sacar una bolita roja es:\n",
        "\n",
        "$$𝑃(roja) = 5 / 8 = 0.625$$\n",
        "\n",
        "5. ¿Cuál es la probabilidad de que al lanzar dos monedas ambas salgan caras?\n",
        "\n",
        "Las combinaciones posibles al lanzar dos monedas son: (cara, cara), (cara, cruz), (cruz, cara), (cruz, cruz). Solo hay una combinación de dos caras.:\n",
        "\n",
        "$$𝑃(cara, cara) = 1 / 4 = 0.25$$"
      ],
      "metadata": {
        "id": "cfsufu2bocHU"
      }
    },
    {
      "cell_type": "markdown",
      "source": [
        "## 4. Operaciones entre  eventos <a name=\"operaciones\"></a>\n",
        "\n",
        "A menudo puede que nos interese relacionar las probabilidades entre dos sucesos, y esto se lleva a cabo a través de las operaciones entre sucesos."
      ],
      "metadata": {
        "id": "9ajUep2IJZcO"
      }
    },
    {
      "cell_type": "markdown",
      "source": [
        "**Unión de eventos**\n",
        "\n",
        "Es el suceso que tiene lugar si ocurre al menos uno de los dos sucesos.\n",
        "Se denota por 𝐴∪𝐵\n",
        "\n",
        "Por ejemplo:\n",
        "\n",
        "A = es el suceso de obtener un 2 en un lanzamiento de dado y\n",
        "\n",
        "B = es el suceso de obtener un 3\n",
        "\n",
        "A∪B = es el suceso de obtener un 2 o un 3.\n",
        "\n",
        "<img src=\"https://drive.google.com/uc?export=view&id=1uqSPZ4s3zp1u_mvs1qoc6rymeCAg8Gsy\" height=\"150\" width=\"220\" style=\"float: center;\">\n",
        "\n",
        "Como se calcula su probabilidad depende si son eventos excluyentes o no.\n",
        "\n",
        "Si los eventos son excluyentes (no pueden ocurrir al mismo tiempo): $$P(A∪B) = P(A) + P(B)$$\n",
        "\n",
        "Si los eventos no son excluyentes: $$P(A∪B) = P(A) + P(B) - P(A)∩P(B)$$"
      ],
      "metadata": {
        "id": "Z9C2S0XGJk5z"
      }
    },
    {
      "cell_type": "markdown",
      "source": [
        "**Intersección de eventos**\n",
        "\n",
        "Es el suceso que tiene lugar si ocurren ambos sucesos a la vez.\n",
        "\n",
        "Se denota por A∩B\n",
        "\n",
        "Por ejemplo:\n",
        "\n",
        "A = es el suceso de obtener un número menor que 4 y\n",
        "\n",
        "B = es el suceso de obtener un número par\n",
        "\n",
        "A∩B = es el suceso de obtener un 2 (porque es par y el único número menor que 4).\n",
        "\n",
        "<img src=\"https://drive.google.com/uc?export=view&id=1Y201Wjnc3EiDcVl9dcpU1PleGgAj-hPJ\" height=\"150\" width=\"220\" style=\"float: center;\">\n",
        "\n",
        "Como se calcula su probabilidad depende si son independientes uno de otro.\n",
        "\n",
        "Si A y B son independientes (la ocurrencia de uno no modifica la probabilidad del otro): $$P(A∩B) = P(A) * P(B)$$\n",
        "\n",
        "Si A y B son dependientes (la ocurrencia de uno modifica la probabilidad del otro): $$P(A∩B) = P(A) * P(B|A)$$"
      ],
      "metadata": {
        "id": "A1hEuuBIKKH_"
      }
    },
    {
      "cell_type": "markdown",
      "source": [
        "**Conplemento de un evento**\n",
        "\n",
        "Es el suceso que tiene lugar si no ocurre el suceso dado.\n",
        "\n",
        "Se denota por 𝐴′\n",
        "\n",
        "Por ejemplo, si 𝐴 es el suceso de obtener un número par al lanzar un dado, entonces 𝐴′ es el suceso de obtener un número impar.\n",
        "\n",
        "<img src=\"https://drive.google.com/uc?export=view&id=1-o576VMeOPZE7ZH7CLKt2IDKLNQ3eNqp\" height=\"150\" width=\"220\" style=\"float: center;\">\n",
        "\n",
        "$$P(𝐴′) = 1 - P(A)$$"
      ],
      "metadata": {
        "id": "HTVMYh1-KtOC"
      }
    },
    {
      "cell_type": "markdown",
      "source": [
        "**Diferencia entre eventos**\n",
        "\n",
        "Es el suceso que tiene lugar si ocurre el primer suceso pero no el segundo.\n",
        "\n",
        "Se denota por 𝐴−𝐵\n",
        "\n",
        "Por ejemplo, si 𝐴 es el suceso de obtener un número menor que 4 y\n",
        "\n",
        "𝐵 es el suceso de obtener un número par, entonces\n",
        "\n",
        "A−B es el suceso de obtener un 1 o un 3.\n",
        "\n",
        "<img src=\"https://drive.google.com/uc?export=view&id=11uMKdkErq6iDmNIma5a2FMXlaV8q6EPQ\" height=\"150\" width=\"220\" style=\"float: center;\">\n",
        "\n",
        "$$P(𝐴−𝐵) = P(A)−P(A∩B)$$"
      ],
      "metadata": {
        "id": "o9TWXf5PLJSS"
      }
    },
    {
      "cell_type": "markdown",
      "source": [
        "### **Dependientes vs Independientes**\n",
        "\n",
        "**Ejemplos dependientes**\n",
        "\n",
        "- Ejemplo 1: Sacar cartas de una baraja sin reemplazo\n",
        "\n",
        "Evento A: Sacar un As de una baraja de 52 cartas.\n",
        "\n",
        "Evento B: Sacar una carta de corazones después de haber sacado un As y no devolverlo a la baraja.\n",
        "\n",
        "*La probabilidad del evento B cambia porque la baraja ya no tiene el As que se sacó en el evento A.*\n",
        "\n",
        "- Ejemplo 2: Sacar bolas de una urna sin reemplazo\n",
        "\n",
        "Evento A: Sacar una bola roja de una urna que contiene 5 bolas rojas y 5 bolas azules.\n",
        "\n",
        "Evento B: Sacar una bola azul después de haber sacado una bola roja y no devolverla a la urna.\n",
        "\n",
        "*La probabilidad del evento B cambia porque la urna ahora tiene una bola menos después del evento A.*\n",
        "\n",
        "**Ejemplos independientes**\n",
        "\n",
        "- Ejemplo 1: Lanzar dos monedas\n",
        "\n",
        "Evento A: Lanzar una moneda y obtener cara.\n",
        "\n",
        "Evento B: Lanzar una segunda moneda y obtener cara.\n",
        "\n",
        "*La probabilidad de obtener cara en el segundo lanzamiento no se ve afectada por el resultado del primer lanzamiento.*\n",
        "\n",
        "- Ejemplo 2: Lanzar un dado y una moneda\n",
        "\n",
        "Evento A: Lanzar un dado y obtener un 6.\n",
        "\n",
        "Evento B: Lanzar una moneda y obtener cara.\n",
        "\n",
        "*La probabilidad de obtener cara al lanzar la moneda no se ve afectada por el resultado de lanzar el dado.*"
      ],
      "metadata": {
        "id": "BvTB7himwmFD"
      }
    },
    {
      "cell_type": "markdown",
      "source": [
        "### Dependencia de Sucesos\n",
        "\n",
        "Dos eventos se consideran **dependientes** si la ocurrencia de uno afecta la probabilidad de que ocurra el otro. En otras palabras, la probabilidad de que ocurra un evento depende de la ocurrencia de otro.\n",
        "\n",
        "Si A y B son eventos dependientes, la probabilidad condicional se usa para describir su relación:\n",
        "\n",
        "$$ P(A | B) = \\frac{P(A \\cap B)}{P(B)} $$\n",
        "\n",
        "### Independencia de Sucesos\n",
        "\n",
        "Dos eventos son **independientes** si la ocurrencia de uno no afecta la probabilidad de que ocurra el otro. Es decir, la probabilidad de que ocurra A es la misma independientemente de si B ha ocurrido o no.\n",
        "\n",
        "Si A y B son eventos independientes, entonces la probabilidad condicional satisface la siguiente propiedad:\n",
        "\n",
        "$$ P(A | B) = P(A) $$\n",
        "\n",
        "Esto significa que el conocimiento de que B ha ocurrido no cambia la probabilidad de que A ocurra. También, para eventos independientes:\n",
        "\n",
        "$$ P(A \\cap B) = P(A) \\cdot P(B) $$"
      ],
      "metadata": {
        "id": "cPYU5KYutKYx"
      }
    },
    {
      "cell_type": "markdown",
      "source": [
        "## 5. Tipos de probabilidades <a name=\"tipos\"></a>\n",
        "\n",
        "Existen varios tipos cada uno adecuado para diferentes contextos.\n",
        "\n",
        "- Probabilidad clásica: Se basa en situaciones donde todos los posibles resultados son igual de probables. Por ejemplo, si lanzamos una moneda al aire, cada cara tiene una probabilidad del 50% de salir.\n",
        "\n",
        "- Probabilidad empírica: Se denomina también frecuentista porque se basa en experimentos y observaciones reales.\n",
        "\n",
        "  La **probabilidad** de un evento se determina observando la frecuencia con la que ocurre después de realizar muchas pruebas o experimentos. Por ejemplo, si al lanzar una moneda 100 veces, cae cara 55 veces, la probabilidad empírica de obtener cara sería de 55 / 100 = 0.55. Es decir c**antidad de exitos / cantidad de experimentos**.\n",
        "\n",
        "- Probabilidad subjetiva: Es una estimación basada en la creencia de una persona, a menudo sin base empírica sólida. Por ejemplo, un meteorólogo podría decir que hay un 70% de probabilidad de lluvia basándose en su experiencia e intuición, además de los datos disponibles.\n",
        "\n",
        "- Probabilidad condicional: Es la probabilidad de que ocurra un evento A dado que otro evento 𝐵 ya ha ocurrido. Se denota como P(A∣B). Es una de las probabilidades más estudiadas en el campo del Machine Learning, ya que de ella deriva el teorema de Bayes.\n",
        "\n",
        "- Probabilidad conjunta: Es la probabilidad de que ocurran dos o más eventos simultáneamente. Se denota como P(A∩B)."
      ],
      "metadata": {
        "id": "QvKtbWQSNQz-"
      }
    },
    {
      "cell_type": "markdown",
      "source": [
        "## 6. Regla de Probabilidad total<a name=\"regla\"></a>\n",
        "\n",
        "Permite calcular la probabilidad de un evento considerando todas las formas posibles en que puede ocurrir, basándose en un conjunto de eventos mutuamente excluyentes y exhaustivos. Esta regla es muy útil cuando un evento puede ser descompuesto en varios escenarios diferentes.\n",
        "\n",
        "Supongamos que tenemos un conjunto de eventos 𝐵1,𝐵2,…,𝐵𝑛 que son mutuamente excluyentes (no pueden ocurrir al mismo tiempo) y exhaustivos (cubren todas las posibilidades).\n",
        "  \n",
        "La probabilidad de un evento 𝐴 se puede calcular como:\n",
        "\n",
        "$$P(A) = P(A∩B1) + P(A∩B2) +⋯+ P(A∩Bn​)$$\n",
        "\n",
        "Usando la regla de la multiplicación de probabilidades condicionadas, esto se puede expresar como:\n",
        "\n",
        "$$P(A)= P(A∣B1) P(B1​) + P(A∣B2) P(B2)+⋯+ P(A∣Bn) P(Bn)$$"
      ],
      "metadata": {
        "id": "t6Sf0beYdQw1"
      }
    },
    {
      "cell_type": "markdown",
      "source": [
        "**Ejemplo: Pasar el examen**\n",
        "\n",
        "Imaginemos que queremos calcular la probabilidad de que un estudiante pase un examen 𝐴\n",
        "\n",
        "Sabemos que hay tres posibles niveles de preparación del estudiante: bajo (𝐵1), medio (𝐵2), y alto (𝐵3).\n",
        "\n",
        "También conocemos las siguientes probabilidades:\n",
        "\n",
        "𝑃(𝐵1) = 0.2 (20% de los estudiantes tienen preparación baja)\n",
        "\n",
        "P(B2) = 0.5 (50% de los estudiantes tienen preparación media)\n",
        "\n",
        "P(B3) = 0.3 (30% de los estudiantes tienen preparación alta)\n",
        "\n",
        "Y las probabilidades condicionales de pasar el examen dado cada nivel de preparación son:\n",
        "\n",
        "P(A∣B1) = 0.3 (probabilidad de pasar con preparación baja)\n",
        "\n",
        "P(A∣B2) = 0.6 (probabilidad de pasar con preparación media)\n",
        "\n",
        "P(A∣B3) = 0.9 (probabilidad de pasar con preparación alta)\n",
        "\n",
        "Usamos la regla de la probabilidad total para encontrar P(A):"
      ],
      "metadata": {
        "id": "jqtV3whUya_o"
      }
    },
    {
      "cell_type": "markdown",
      "source": [
        "$$\n",
        "P(A) = P(A|B_1)P(B_1) + P(A|B_2)P(B_2) + P(A|B_3)P(B_3)\n",
        "$$\n",
        "\n",
        "$$\n",
        "P(A) = (0.3 \\cdot 0.2) + (0.6 \\cdot 0.5) + (0.9 \\cdot 0.3)\n",
        "$$\n",
        "\n",
        "$$\n",
        "P(A) = 0.06 + 0.30 + 0.27\n",
        "$$\n",
        "\n",
        "$$\n",
        "P(A) = 0.63\n",
        "$$"
      ],
      "metadata": {
        "id": "lsCANNoQRKWi"
      }
    },
    {
      "cell_type": "markdown",
      "source": [
        "Por lo tanto, la probabilidad de que un estudiante pase el examen es 0.63, o el 63%."
      ],
      "metadata": {
        "id": "LIbh2YSzzpcg"
      }
    },
    {
      "cell_type": "markdown",
      "source": [
        "## 7. Teorema de bayes <a name=\"bayes\"></a>\n",
        "\n",
        "Formula para determinar la probabilidad de un suceso.\n",
        "\n",
        "El Teorema de Bayes nos ayuda a actualizar nuestras creencias sobre la probabilidad de un evento basándonos en nueva información.\n",
        "\n",
        "$$P(A|B) = \\frac{P(B|A)P(A)}{P(B)}$$\n",
        "\n",
        "P(A∣B) es la probabilidad de A dado que 𝐵 ha ocurrido.\n",
        "\n",
        "P(B∣A) es la probabilidad de 𝐵 dado que 𝐴 ha ocurrido.\n",
        "\n",
        "P(A) es la probabilidad de 𝐴. A que ocurre sin información adicional.\n",
        "\n",
        "P(B) es la probabilidad de 𝐵. B que ocurre sin información adicional.\n",
        "\n"
      ],
      "metadata": {
        "id": "xFSxL4v9OakN"
      }
    },
    {
      "cell_type": "markdown",
      "source": [
        "**Ejemplo**\n",
        "\n",
        "- El 1% de las personas tiene una enfermedad rara:\n",
        "\n",
        "  `𝑃(𝐸nfermedad) = 0.01`\n",
        "\n",
        "- Una prueba para esta enfermedad da positivo el 99% de las veces si la persona tiene la enfermedad:\n",
        "\n",
        "  `P(testPositivo ∣ Enfermedad)=0.99)`\n",
        "\n",
        "- La prueba también da un falso positivo el 5% de las veces, es decir, da positivo cuando la persona no tiene la enfermedad:\n",
        "\n",
        "  `P(testPositivo ∣ ¬Enfermedad)=0.05)`\n",
        "\n",
        "- Si alguien da positivo en la prueba, queremos saber la probabilidad de que realmente tenga la enfermedad\n",
        "\n",
        "  `P(Enfermedad ∣ testPositivo))`\n",
        "\n",
        "-​ Calculamos 𝑃(testPositivo) usando la regla de la probabilidad total:\n",
        "\n",
        "  `P(testPositivo) = P(testPositivo ∣ Enfermedad) * P(Enfermedad)+ P(testPositivo ∣ ¬Enfermedad) * P(¬Enfermedad)`\n",
        "\n",
        "  `P(testPositivo) = (0.99 * 0.01) + (0.05 * 0.99)`\n",
        "    \n",
        "  `P(testPositivo) = 0.0099 + 0.0495 = 0.0594`\n",
        "\n",
        "- Aplicando el Teorema de Bayes\n",
        "  \n",
        "  𝑃(Enfermedad ∣ testPositivo) = (P(testPositivo ∣ Enfermedad) * P(Enfermdad)) / P(testPositivo)\n",
        "\n",
        "  𝑃(Enfermedad ∣ testPositivo) = (0.99 * 0.01) / 0.0594\n",
        "\n",
        "  𝑃(Enfermedad ∣ testPositivo) = 0.167"
      ],
      "metadata": {
        "id": "oRJzIqSMPipl"
      }
    },
    {
      "cell_type": "markdown",
      "source": [
        "**Esto significa que, aunque la prueba dio positivo, la probabilidad de que realmente tenga la enfermedad es aproximadamente del 16.7%. Esto se debe a que, aunque la prueba es bastante precisa, la enfermedad es muy rara, lo que hace que los falsos positivos tengan un impacto significativo.**"
      ],
      "metadata": {
        "id": "yrI9786E9JQ8"
      }
    }
  ]
}