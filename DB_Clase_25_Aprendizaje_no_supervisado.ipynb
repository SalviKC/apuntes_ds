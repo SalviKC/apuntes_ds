{
  "nbformat": 4,
  "nbformat_minor": 0,
  "metadata": {
    "colab": {
      "provenance": []
    },
    "kernelspec": {
      "name": "python3",
      "display_name": "Python 3"
    },
    "language_info": {
      "name": "python"
    }
  },
  "cells": [
    {
      "cell_type": "markdown",
      "source": [
        "<div align=\"right\">\n",
        "  <img src=\"https://drive.google.com/uc?export=view&id=1J8JpP65HsHXdpJvhb_sMwn3yROyU832m\" height=\"80\" width=\"200\" style=\"float: right;\">\n",
        "</div>\n",
        "<h1><b>Data Science and Machine Learning</b></h1>\n",
        "<h2><b>Clase 25</b>: Aprendizaje no supervisado</h2>\n",
        "<h3><b>Docente</b>: <a href=\"https://www.linkedin.com/in/danielablanco/\">Daniela Blanco</a>"
      ],
      "metadata": {
        "id": "Wp4cyu16yiif"
      }
    },
    {
      "cell_type": "markdown",
      "source": [
        "# Contenido\n",
        "\n",
        "- [1. ¿Aprendizaje no supervisado?](#nosupervisado)\n",
        "  - [1.1. Aplicaciones](#aplicaciones)\n",
        "  - [1.2. Desafíos](#desafios)\n",
        "- [2. Clustering](#clustering)\n",
        "  - [2.1. KMeans](#kmeans)\n",
        "  - [2.2. Jerárquico](#jerarquico)\n",
        "  - [2.3. DBScan](#dbscan)\n",
        "- [3. Métricas para clustering](#metricas)\n",
        "  - [3.1. Método del codo](#elbow)\n",
        "  - [3.2. Indice silueta](#silhouette)\n",
        "- [4. Reducción de dimensionalidad](#dimensionalidad)\n",
        "  - [4.1. Análisis de Componentes Principales](#pca)\n",
        "- [5. Links de interés](#links)\n"
      ],
      "metadata": {
        "id": "XEmijBfl2b_I"
      }
    },
    {
      "cell_type": "code",
      "source": [
        "import pandas as pd\n",
        "import numpy as np\n",
        "\n",
        "import matplotlib.pyplot as plt\n",
        "import seaborn as sns\n",
        "\n",
        "from sklearn.datasets import make_blobs\n",
        "from sklearn.datasets import load_iris\n",
        "\n",
        "from sklearn.cluster import KMeans\n",
        "from scipy.cluster.hierarchy import dendrogram, linkage\n",
        "from sklearn.cluster import AgglomerativeClustering\n",
        "from sklearn.cluster import DBSCAN\n",
        "\n",
        "from sklearn.metrics import silhouette_score\n",
        "\n",
        "from sklearn.decomposition import PCA\n",
        "\n",
        "import warnings"
      ],
      "metadata": {
        "id": "cPtXYusox8X4"
      },
      "execution_count": 1,
      "outputs": []
    },
    {
      "cell_type": "code",
      "source": [
        "warnings.filterwarnings(\"ignore\")"
      ],
      "metadata": {
        "id": "XQZiW-SCCQSK"
      },
      "execution_count": null,
      "outputs": []
    },
    {
      "cell_type": "markdown",
      "source": [
        "## 1. ¿Aprendizaje no supervisado? <a name=\"nosupervisado\"></a>"
      ],
      "metadata": {
        "id": "Pw6lT_8L3Bny"
      }
    },
    {
      "cell_type": "markdown",
      "source": [
        "<img src=\"https://drive.google.com/uc?export=view&id=19zYfuob5MTjbURFYFkYlM8CSg8RD4CVq\" height=\"232\" width=\"526\" style=\"float: center;\">"
      ],
      "metadata": {
        "id": "XlGxqok8qZon"
      }
    },
    {
      "cell_type": "markdown",
      "source": [
        "El aprendizaje no supervisado (unsupervised learning) es un tipo de aprendizaje automático en el que el modelo se entrena usando datos que no están etiquetados.\n",
        "\n",
        "El objetivo principal del aprendizaje no supervisado es explorar la estructura inherente de los datos y extraer información valiosa sin ninguna guía explícita sobre qué buscar (supervización).\n",
        "\n",
        "Hay dos tipos principales de técnicas de aprendizaje no supervisado:\n",
        "\n",
        "- **Agrupamiento** (o clusterización): consiste en dividir el conjunto de datos en grupos (clusters) basados en similitudes o patrones en los datos.\n",
        "\n",
        "- **Reducción de dimensionalidad** (dimensionality reduction): El objetivo es reducir la cantidad de características en el conjunto de datos sin perder información importante.\n",
        "\n",
        "  Estas técnicas permiten representar los datos en un espacio de menor dimensión, facilitando la visualización y comprensión de la estructura de los datos."
      ],
      "metadata": {
        "id": "MrE2Gc3Ygk8X"
      }
    },
    {
      "cell_type": "markdown",
      "source": [
        "### 1.1. Aplicaciones <a name=\"aplicaciones\"></a>"
      ],
      "metadata": {
        "id": "I9OaaXoXVgRY"
      }
    },
    {
      "cell_type": "markdown",
      "source": [
        "- Agrupamiento de clientes: Identificar segmentos de clientes con comportamientos similares para estrategias de marketing.\n",
        "\n",
        "- Detección de anomalías: Identificar datos atípicos o inusuales que no se ajustan a los patrones generales.\n",
        "\n",
        "- Recomendación de productos: Sugerir productos basados en similitudes entre diferentes usuarios o ítems."
      ],
      "metadata": {
        "id": "xfFxPiG4YPJG"
      }
    },
    {
      "cell_type": "markdown",
      "source": [
        "### 1.2. Desafíos <a name=\"desafios\"></a>"
      ],
      "metadata": {
        "id": "_5YdIWcHYNPm"
      }
    },
    {
      "cell_type": "markdown",
      "source": [
        "- Interpretación de los resultados puede ser difícil, ya que no hay una referencia clara de lo que es correcto.\n",
        "\n",
        "  Evaluar modelos de aprendizaje no supervisado puede ser un desafío, ya que no tenemos etiquetas o resultados conocidos para comparar directamente.\n",
        "\n",
        "- Elección de hiperparámetros: La selección de la cantidad de clusters o componentes principales es generalmente subjetiva."
      ],
      "metadata": {
        "id": "Ewmd-LRpVmzB"
      }
    },
    {
      "cell_type": "markdown",
      "source": [
        "## 2. Clustering <a name=\"clustering\"></a>"
      ],
      "metadata": {
        "id": "0EFjo2dfrz3W"
      }
    },
    {
      "cell_type": "markdown",
      "source": [
        "<img src=\"https://drive.google.com/uc?export=view&id=1QESDKSP80wD90ZaSrkacAI_foU-5lvtw\" height=\"211\" width=\"457\" style=\"float: center;\">"
      ],
      "metadata": {
        "id": "LL9jWb9LXUo1"
      }
    },
    {
      "cell_type": "markdown",
      "source": [
        "El clustering es una técnica del aprendizaje no supervisado que se utiliza para dividir un conjunto de datos en grupos basados en similitudes entre las observaciones.\n",
        "\n",
        "El objetivo es agrupar elementos similares en un mismo cluster y separar observaciones diferentes en clusters distintos.\n",
        "\n",
        "Este proceso ayuda a descubrir estructuras y patrones ocultos en los datos, que a simple vista no podemos determinar.\n",
        "\n",
        "Existen varios algoritmos de clustering, pero los más comunes son: kMeans, clustering jerárquico o DBSCAN.\n",
        "\n",
        "**Aplicaciones**:\n",
        "- Segmentación de clientes en marketing.\n",
        "- Análisis de redes sociales (generación de comunidades).\n",
        "- Análisis de datos biológicos como interacción entre genes.\n"
      ],
      "metadata": {
        "id": "WatAvMCC09qF"
      }
    },
    {
      "cell_type": "markdown",
      "source": [
        "<img src=\"https://drive.google.com/uc?export=view&id=1gXQ3kLPeW0L2MMPMH4Ae5xuxV-FD49XO\" height=\"262\" width=\"358\" style=\"float: center;\">"
      ],
      "metadata": {
        "id": "gEzEOcTZxf0l"
      }
    },
    {
      "cell_type": "markdown",
      "source": [
        "### Terminología\n",
        "\n",
        "- Cluster: Un grupo de datos que son similares entre sí.\n",
        "\n",
        "- Centroide: El punto medio de un cluster, que se utiliza para definir la posición del cluster.\n",
        "\n",
        "- Distancia: Medida de similitud entre dos puntos de datos. Las métricas de distancia comunes incluyen la distancia euclidiana, Manhattan y Coseno."
      ],
      "metadata": {
        "id": "Osr4IOvQblG-"
      }
    },
    {
      "cell_type": "markdown",
      "source": [
        "### 2.1. K-Means <a name=\"kmeans\"></a>"
      ],
      "metadata": {
        "id": "fOlKHUOFB2Kp"
      }
    },
    {
      "cell_type": "markdown",
      "source": [
        "Es uno de los algoritmos de clustering más populares.\n",
        "\n",
        "Tiene como objetivo dividir un conjunto de datos en ***K*** clústeres (hiperparámetro), de manera que los puntos dentro de cada clúster sean similares entre sí y diferentes a los puntos en otros clústeres.\n",
        "\n",
        "El reto de encontrar el K óptimo.\n",
        "\n",
        "Este algoritmo es rápido y efectivo para el agrupamiento de datos, pero depende mucho del reparto inicial de centroides y no siempre encuentra la mejor solución global."
      ],
      "metadata": {
        "id": "0xILgZKzCGgR"
      }
    },
    {
      "cell_type": "markdown",
      "source": [
        "### Algoritmo\n",
        "\n",
        "1. **Inicialización**: Toma k puntos al azar como los centros de cada grupo (centroide).\n",
        "\n",
        "2. **Asignación**: Asigna cada dato al grupo más cercano. Basado en una medida de distancia.\n",
        "\n",
        "  Esto se hace calculando la distancia entre cada punto y los centroides, y asignando el punto al cluster cuyo centroide tiene la distancia más pequeña.\n",
        "\n",
        "3. **Actualización**: Ajusta los centroides tomando la media en cada grupo. Este paso reubica los centroides al centro geométrico de cada grupo.\n",
        "\n",
        "4. **Iteración**: Repite 2 y 3 hasta que se cumple un criterio de parada (cantidad iteraciones o centros que no cambian).\n",
        "\n",
        "5. **Resultado**. los puntos del conjunto de datos están agrupados en K clusters. Los grupos obtenidos representan conjuntos de puntos similares.\n"
      ],
      "metadata": {
        "id": "8CrXSuJ-ciyZ"
      }
    },
    {
      "cell_type": "markdown",
      "source": [
        "<img src=\"https://drive.google.com/uc?export=view&id=1p5OjMjXaEGdAz-aQymAUJloULcky_cb3\" height=\"285\" width=\"423\" style=\"float: center;\">"
      ],
      "metadata": {
        "id": "ZMvd52AaeD22"
      }
    },
    {
      "cell_type": "markdown",
      "source": [
        "<img src=\"https://drive.google.com/uc?export=view&id=1WBfqJe9NUG746dIjq-grD-P0gV0rzp_Z\" height=\"350\" width=\"580\" style=\"float: center;\">"
      ],
      "metadata": {
        "id": "UK0TAQaGeU8E"
      }
    },
    {
      "cell_type": "markdown",
      "source": [
        "### Ejemplo"
      ],
      "metadata": {
        "id": "4p5hi2amftc_"
      }
    },
    {
      "cell_type": "code",
      "source": [
        "# Generar un conjunto de datos de ejemplo\n",
        "X, _ = make_blobs(n_samples = 300, centers = 3, random_state = 42)"
      ],
      "metadata": {
        "id": "bK1B0Fm-f4I9"
      },
      "execution_count": 2,
      "outputs": []
    },
    {
      "cell_type": "code",
      "source": [
        "X"
      ],
      "metadata": {
        "colab": {
          "base_uri": "https://localhost:8080/"
        },
        "id": "tc2dab4_gtb-",
        "outputId": "03e37819-8a93-4df7-ccdd-e8e89066b0db"
      },
      "execution_count": 3,
      "outputs": [
        {
          "output_type": "execute_result",
          "data": {
            "text/plain": [
              "array([[-7.33898809, -7.72995396],\n",
              "       [-7.74004056, -7.26466514],\n",
              "       [-1.68665271,  7.79344248],\n",
              "       [ 4.42219763,  3.07194654],\n",
              "       [-8.91775173, -7.8881959 ],\n",
              "       [ 5.49753846,  1.81323115],\n",
              "       [-2.3360167 ,  9.39960351],\n",
              "       [ 5.05281029,  1.40944513],\n",
              "       [-2.98837186,  8.82862715],\n",
              "       [-3.70050112,  9.67083974],\n",
              "       [-3.11090424, 10.86656431],\n",
              "       [ 4.99689432,  1.28026009],\n",
              "       [-2.30033403,  7.054616  ],\n",
              "       [-3.92456837,  8.59364081],\n",
              "       [-7.53026976, -7.36723498],\n",
              "       [-3.21125072,  8.68662398],\n",
              "       [-8.50716963, -6.83202465],\n",
              "       [ 2.61473625,  2.159624  ],\n",
              "       [-2.41212007,  9.98293112],\n",
              "       [-1.92234053, 11.20474175],\n",
              "       [-1.35060204,  8.19360381],\n",
              "       [-2.67048333,  9.41833699],\n",
              "       [ 5.61499857,  1.8261123 ],\n",
              "       [-6.99195524, -7.10107919],\n",
              "       [-2.97261532,  8.54855637],\n",
              "       [-6.34982301, -5.43854097],\n",
              "       [-7.45639852, -6.12471837],\n",
              "       [ 3.82165815,  4.06555696],\n",
              "       [ 4.62763206,  1.07591531],\n",
              "       [-3.39871205,  8.19847584],\n",
              "       [-3.49973395,  8.4479884 ],\n",
              "       [-3.58009012,  9.49675854],\n",
              "       [-6.04929137, -7.73619342],\n",
              "       [-2.29510388,  7.76854735],\n",
              "       [-8.39481825, -5.51323533],\n",
              "       [-2.28173769, 10.32142888],\n",
              "       [-6.12263857, -7.80227492],\n",
              "       [ 4.88484541,  1.46622651],\n",
              "       [-6.98665755, -7.91535192],\n",
              "       [ 4.98163481,  3.84934052],\n",
              "       [ 5.90678999,  1.26550022],\n",
              "       [-2.25164723,  8.93984021],\n",
              "       [-7.36723342, -7.31266778],\n",
              "       [ 4.52533899,  3.210986  ],\n",
              "       [-2.54390939,  7.84560809],\n",
              "       [-2.14780202, 10.55232269],\n",
              "       [-6.80806095, -7.35776704],\n",
              "       [ 4.15451529,  2.05504382],\n",
              "       [-6.54202453, -7.29198656],\n",
              "       [ 6.22589565,  0.73535419],\n",
              "       [ 4.71568339,  1.29600797],\n",
              "       [-6.88759983, -5.40016545],\n",
              "       [-6.51302895, -7.81998938],\n",
              "       [-1.03130358,  8.49601591],\n",
              "       [-5.70033001, -6.81259111],\n",
              "       [ 5.15492652,  5.82590117],\n",
              "       [-6.48517505, -7.30109407],\n",
              "       [-1.54582149,  9.42706706],\n",
              "       [ 4.75339618,  2.63530036],\n",
              "       [-2.96983639, 10.07140835],\n",
              "       [-6.64401263, -6.1092444 ],\n",
              "       [ 6.77291221,  0.02108188],\n",
              "       [ 5.53947871,  2.2804692 ],\n",
              "       [-3.80074638, -5.76053468],\n",
              "       [-7.12859134, -5.90853864],\n",
              "       [ 3.74146416,  2.46508886],\n",
              "       [ 3.92143461,  1.75972253],\n",
              "       [-6.16801231, -8.00475169],\n",
              "       [-8.58300963, -6.93565729],\n",
              "       [-3.57150134,  9.48787856],\n",
              "       [ 5.94535764,  1.99417353],\n",
              "       [-5.8212027 , -8.63884908],\n",
              "       [-7.5793527 , -6.66612968],\n",
              "       [-2.03596   ,  8.94145722],\n",
              "       [-2.90130578,  7.55077118],\n",
              "       [-6.60917037, -6.9303477 ],\n",
              "       [-8.94706929, -6.96922963],\n",
              "       [ 3.88074617,  2.12356347],\n",
              "       [-3.10983631,  8.72259238],\n",
              "       [ 5.81931896,  1.50399403],\n",
              "       [-3.52202874,  9.32853346],\n",
              "       [-2.58120774, 10.01781903],\n",
              "       [-6.37871   , -7.85766484],\n",
              "       [-2.17793419,  9.98983126],\n",
              "       [ 5.59030267,  1.39626603],\n",
              "       [-6.04393508, -8.00981645],\n",
              "       [-5.71184513, -6.62568875],\n",
              "       [-0.64342311,  9.48811905],\n",
              "       [ 6.40533308,  2.37815139],\n",
              "       [-3.88686699,  8.07646109],\n",
              "       [-8.54903247, -6.3367494 ],\n",
              "       [-2.54502366, 10.57892978],\n",
              "       [-6.40064737, -6.54644749],\n",
              "       [-1.59379551,  9.34303724],\n",
              "       [-3.03895783,  9.52755356],\n",
              "       [-7.4332765 , -8.07798749],\n",
              "       [-7.94724762, -7.02248908],\n",
              "       [-2.24931483,  9.796109  ],\n",
              "       [-7.64288635, -8.68499169],\n",
              "       [-6.46619229, -5.00331378],\n",
              "       [ 4.16493353,  1.31984045],\n",
              "       [-2.15141026,  9.57507065],\n",
              "       [ 4.43175659,  1.48016875],\n",
              "       [-1.71816568,  8.10489867],\n",
              "       [-3.34841515,  8.70507375],\n",
              "       [-2.26723535,  7.10100588],\n",
              "       [-2.16557933,  7.25124597],\n",
              "       [-2.25870477,  9.36073434],\n",
              "       [ 6.79306129,  1.20582212],\n",
              "       [-8.27819476, -6.31714036],\n",
              "       [ 5.32613903,  0.36045381],\n",
              "       [-3.29245092,  8.69222461],\n",
              "       [-3.31769123,  8.51252908],\n",
              "       [-2.44166942,  7.58953794],\n",
              "       [-2.52269485,  7.9565752 ],\n",
              "       [ 4.83893853,  1.37295281],\n",
              "       [-7.91687335, -7.07044827],\n",
              "       [ 2.92674431,  3.32704206],\n",
              "       [-8.75041911, -7.23162308],\n",
              "       [ 3.63386145,  0.75898107],\n",
              "       [ 5.15922535,  3.5059086 ],\n",
              "       [ 4.86397132,  1.98576208],\n",
              "       [-1.10640331,  7.61243507],\n",
              "       [-6.30307023, -6.56885944],\n",
              "       [-6.54731318, -7.62859613],\n",
              "       [-7.00754478, -7.83565003],\n",
              "       [-6.26546049, -6.12260188],\n",
              "       [-3.18611962,  9.62596242],\n",
              "       [-5.84208725, -7.39012599],\n",
              "       [-7.40988481, -7.67298243],\n",
              "       [-1.42614638, 10.06808818],\n",
              "       [-4.42796884,  8.98777225],\n",
              "       [-2.41743685,  7.02671721],\n",
              "       [-4.23411546,  8.4519986 ],\n",
              "       [-3.98771961,  8.29444192],\n",
              "       [ 5.14486612,  2.83892488],\n",
              "       [ 4.38731068,  0.7253865 ],\n",
              "       [-7.14950213, -7.85887331],\n",
              "       [-2.50408417,  8.77969899],\n",
              "       [-7.39349411, -7.93932312],\n",
              "       [-2.97867201,  9.55684617],\n",
              "       [-2.75458574,  8.26054996],\n",
              "       [-4.81887927, -5.12476875],\n",
              "       [-2.42215055,  8.71527878],\n",
              "       [ 3.12050887,  1.48893561],\n",
              "       [ 3.92457513,  2.65276743],\n",
              "       [ 5.45274096,  2.60279853],\n",
              "       [-2.23250682,  9.84146938],\n",
              "       [ 5.91754373,  1.3815983 ],\n",
              "       [-3.18922234,  9.24653983],\n",
              "       [-3.4172217 ,  7.60198243],\n",
              "       [-4.91490206, -6.84484604],\n",
              "       [ 4.9208707 ,  1.35047016],\n",
              "       [-8.41374136, -5.60243277],\n",
              "       [-2.21307735,  9.2753414 ],\n",
              "       [ 3.43958243,  1.63866845],\n",
              "       [ 4.6213657 ,  1.68451105],\n",
              "       [-7.41012834, -7.45592783],\n",
              "       [-6.24103473, -8.54162966],\n",
              "       [-3.39305506,  9.16801123],\n",
              "       [-5.12894273,  9.83618863],\n",
              "       [-7.75524544, -8.26290932],\n",
              "       [-5.32847522, -6.76443496],\n",
              "       [-5.67841327, -7.28818497],\n",
              "       [-2.4509889 ,  7.87131583],\n",
              "       [-6.00850249, -7.20613313],\n",
              "       [ 4.16884053,  2.20521962],\n",
              "       [-2.44896741, 11.47752824],\n",
              "       [-1.98725606,  9.3112708 ],\n",
              "       [-1.69568041,  7.78342181],\n",
              "       [-1.36637481,  9.76621916],\n",
              "       [-3.42862186, 10.56422053],\n",
              "       [ 3.80015699,  1.37377704],\n",
              "       [-2.95571258,  9.87068492],\n",
              "       [ 3.65837019,  2.43527316],\n",
              "       [ 4.66438901,  2.47116798],\n",
              "       [ 5.51219947,  2.15651169],\n",
              "       [-2.77385446, 11.73445529],\n",
              "       [ 6.76203503,  3.00563494],\n",
              "       [ 5.26399865,  2.60151519],\n",
              "       [-6.7930374 , -7.03578683],\n",
              "       [-3.05358035,  9.12520872],\n",
              "       [-7.54225095, -6.30951092],\n",
              "       [ 6.27229014,  0.54302831],\n",
              "       [ 5.21076935,  3.10873532],\n",
              "       [-9.35127169, -7.67700485],\n",
              "       [ 4.96404519,  1.84302663],\n",
              "       [-1.04354885,  8.78850983],\n",
              "       [ 1.3986115 ,  0.94878204],\n",
              "       [ 4.19983435,  2.10391026],\n",
              "       [-6.94230629, -5.92496727],\n",
              "       [-5.25101165, -8.26021105],\n",
              "       [ 3.81438164,  1.65178384],\n",
              "       [-8.48607351, -6.67664596],\n",
              "       [ 3.9095122 ,  2.18962827],\n",
              "       [ 3.31964563,  3.80462845],\n",
              "       [ 4.62086263,  0.97064032],\n",
              "       [ 6.78382293,  2.60708871],\n",
              "       [-3.48387929,  9.80137073],\n",
              "       [-6.69776094, -6.63188901],\n",
              "       [-1.77073104,  9.18565441],\n",
              "       [-2.62484591,  8.71318243],\n",
              "       [ 3.81765844,  2.2168569 ],\n",
              "       [ 4.05051408,  2.82277178],\n",
              "       [-1.6966718 , 10.37052616],\n",
              "       [ 4.9507864 ,  3.4485259 ],\n",
              "       [-7.86535324, -6.37606308],\n",
              "       [-7.52620008, -7.9616576 ],\n",
              "       [ 4.7368748 ,  2.56832671],\n",
              "       [-2.1475616 ,  8.36916637],\n",
              "       [-2.40954626,  8.51081047],\n",
              "       [-7.84455065, -6.19405813],\n",
              "       [ 6.09102244,  2.93244051],\n",
              "       [ 3.37899488,  2.89103163],\n",
              "       [-6.83110556, -7.71105971],\n",
              "       [-5.37727014, -6.80601481],\n",
              "       [-6.24684533, -4.60941674],\n",
              "       [-6.30255506, -7.08315498],\n",
              "       [-3.74614833,  7.69382952],\n",
              "       [-7.15467889, -9.18203076],\n",
              "       [-6.05022161, -9.0912449 ],\n",
              "       [ 2.51598311,  1.44741466],\n",
              "       [-7.63597794, -8.3023633 ],\n",
              "       [-8.18409669, -6.21043704],\n",
              "       [-2.49619573, 10.46782021],\n",
              "       [ 3.8473581 ,  1.85843324],\n",
              "       [-7.32392045, -6.5028091 ],\n",
              "       [-5.19248556, -5.99846984],\n",
              "       [ 4.32460959,  2.7321389 ],\n",
              "       [-2.58629933,  9.3554381 ],\n",
              "       [-1.68713746, 10.91107911],\n",
              "       [-5.95344964, -4.97069295],\n",
              "       [-2.85191214,  8.21200886],\n",
              "       [-8.0628857 , -8.91934177],\n",
              "       [ 4.68545068,  1.32156934],\n",
              "       [ 5.32183181,  1.66290293],\n",
              "       [-7.5314633 , -6.83271092],\n",
              "       [ 4.61897724,  2.09049707],\n",
              "       [-5.23465948, -7.12914563],\n",
              "       [-6.94570699, -8.09112579],\n",
              "       [-6.58985233, -4.80470879],\n",
              "       [ 4.9625974 ,  1.14593874],\n",
              "       [ 5.79798971,  2.76483238],\n",
              "       [-1.88353028,  8.15712857],\n",
              "       [-5.35650311, -6.34119955],\n",
              "       [ 3.04545118,  1.37379466],\n",
              "       [ 5.33002283,  1.57194921],\n",
              "       [ 4.64512254,  2.02015028],\n",
              "       [-6.61990469, -7.78442622],\n",
              "       [ 5.18697622,  1.77097703],\n",
              "       [-6.50848132, -7.48409478],\n",
              "       [ 4.53111869,  2.37488141],\n",
              "       [-7.47202112, -7.74410036],\n",
              "       [ 6.9545374 ,  0.10590449],\n",
              "       [ 6.82968177,  1.1648714 ],\n",
              "       [-6.55269982, -7.09921012],\n",
              "       [ 3.71294836,  1.91364433],\n",
              "       [-3.83738367,  9.21114736],\n",
              "       [-8.35821344, -5.73635555],\n",
              "       [-2.21612515,  8.29993471],\n",
              "       [-2.73266041,  9.72828662],\n",
              "       [-1.4781981 ,  9.94556625],\n",
              "       [-6.80225888, -7.74139379],\n",
              "       [-4.05986105,  9.0828491 ],\n",
              "       [ 5.46529519,  2.78667932],\n",
              "       [ 3.97809237,  2.82560302],\n",
              "       [-6.75933156, -6.36567076],\n",
              "       [ 4.70968092,  1.58785609],\n",
              "       [ 5.38717244,  2.58353995],\n",
              "       [-2.70155859,  9.31583347],\n",
              "       [-0.92998481,  9.78172086],\n",
              "       [ 4.73755493,  1.2001599 ],\n",
              "       [ 4.16794697,  3.06212028],\n",
              "       [ 5.1549141 ,  2.48695563],\n",
              "       [-6.78029489, -6.12872247],\n",
              "       [-5.87333438, -7.45700146],\n",
              "       [-7.14903403, -6.16256734],\n",
              "       [-3.6155326 ,  7.8180795 ],\n",
              "       [-0.62301172,  9.18886394],\n",
              "       [-3.35599134,  7.4994389 ],\n",
              "       [ 3.86705362,  1.73635108],\n",
              "       [ 5.08369826,  2.74780374],\n",
              "       [ 6.08115213,  0.53730753],\n",
              "       [ 3.19179449,  0.56570591],\n",
              "       [-6.54113078, -7.29539751],\n",
              "       [ 4.70415886,  0.89542491],\n",
              "       [-6.23425124, -5.51147804],\n",
              "       [ 5.5938806 ,  2.62456094],\n",
              "       [ 4.48809374,  2.56148689],\n",
              "       [-6.49556174, -6.91280434],\n",
              "       [-2.18511365,  8.62920385],\n",
              "       [ 4.18981336,  2.59601962],\n",
              "       [ 5.80304259,  1.98340274],\n",
              "       [-2.72886951,  9.3713987 ],\n",
              "       [-7.11857524, -7.78767326],\n",
              "       [-3.6601912 ,  9.38998415],\n",
              "       [ 3.81088383,  1.41298864],\n",
              "       [-4.11668086,  9.19891999],\n",
              "       [-6.86120881, -5.20367228],\n",
              "       [-6.01002127, -5.52447173]])"
            ]
          },
          "metadata": {},
          "execution_count": 3
        }
      ]
    },
    {
      "cell_type": "code",
      "source": [
        "# Visualizar los datos antes del clustering\n",
        "# s tamaño\n",
        "plt.scatter(X[:, 0], X[:, 1], s=50)\n",
        "plt.title(\"Datos de ejemplo antes del clustering\")\n",
        "plt.xlabel(\"Feature 1\")\n",
        "plt.ylabel(\"Feature 2\")\n",
        "plt.show()"
      ],
      "metadata": {
        "colab": {
          "base_uri": "https://localhost:8080/",
          "height": 472
        },
        "id": "CovSkN9Zg-cQ",
        "outputId": "a49c014c-8130-439c-ecfb-506c9b16279c"
      },
      "execution_count": 4,
      "outputs": [
        {
          "output_type": "display_data",
          "data": {
            "text/plain": [
              "<Figure size 640x480 with 1 Axes>"
            ],
            "image/png": "[encoded data removed]"
          },
          "metadata": {}
        }
      ]
    },
    {
      "cell_type": "code",
      "source": [
        "# Entrenar el modelo\n",
        "model = KMeans(n_clusters = 3, random_state = 42)\n",
        "model.fit(X)"
      ],
      "metadata": {
        "colab": {
          "base_uri": "https://localhost:8080/",
          "height": 80
        },
        "id": "EHZ92tL8gsOm",
        "outputId": "4da95b13-f52f-4855-b9f7-6029df4b3bda"
      },
      "execution_count": 21,
      "outputs": [
        {
          "output_type": "execute_result",
          "data": {
            "text/plain": [
              "KMeans(n_clusters=3, random_state=42)"
            ],
            "text/html": [
              "<style>#sk-container-id-3 {\n",
              "  /* Definition of color scheme common for light and dark mode */\n",
              "  --sklearn-color-text: #000;\n",
              "  --sklearn-color-text-muted: #666;\n",
              "  --sklearn-color-line: gray;\n",
              "  /* Definition of color scheme for unfitted estimators */\n",
              "  --sklearn-color-unfitted-level-0: #fff5e6;\n",
              "  --sklearn-color-unfitted-level-1: #f6e4d2;\n",
              "  --sklearn-color-unfitted-level-2: #ffe0b3;\n",
              "  --sklearn-color-unfitted-level-3: chocolate;\n",
              "  /* Definition of color scheme for fitted estimators */\n",
              "  --sklearn-color-fitted-level-0: #f0f8ff;\n",
              "  --sklearn-color-fitted-level-1: #d4ebff;\n",
              "  --sklearn-color-fitted-level-2: #b3dbfd;\n",
              "  --sklearn-color-fitted-level-3: cornflowerblue;\n",
              "\n",
              "  /* Specific color for light theme */\n",
              "  --sklearn-color-text-on-default-background: var(--sg-text-color, var(--theme-code-foreground, var(--jp-content-font-color1, black)));\n",
              "  --sklearn-color-background: var(--sg-background-color, var(--theme-background, var(--jp-layout-color0, white)));\n",
              "  --sklearn-color-border-box: var(--sg-text-color, var(--theme-code-foreground, var(--jp-content-font-color1, black)));\n",
              "  --sklearn-color-icon: #696969;\n",
              "\n",
              "  @media (prefers-color-scheme: dark) {\n",
              "    /* Redefinition of color scheme for dark theme */\n",
              "    --sklearn-color-text-on-default-background: var(--sg-text-color, var(--theme-code-foreground, var(--jp-content-font-color1, white)));\n",
              "    --sklearn-color-background: var(--sg-background-color, var(--theme-background, var(--jp-layout-color0, #111)));\n",
              "    --sklearn-color-border-box: var(--sg-text-color, var(--theme-code-foreground, var(--jp-content-font-color1, white)));\n",
              "    --sklearn-color-icon: #878787;\n",
              "  }\n",
              "}\n",
              "\n",
              "#sk-container-id-3 {\n",
              "  color: var(--sklearn-color-text);\n",
              "}\n",
              "\n",
              "#sk-container-id-3 pre {\n",
              "  padding: 0;\n",
              "}\n",
              "\n",
              "#sk-container-id-3 input.sk-hidden--visually {\n",
              "  border: 0;\n",
              "  clip: rect(1px 1px 1px 1px);\n",
              "  clip: rect(1px, 1px, 1px, 1px);\n",
              "  height: 1px;\n",
              "  margin: -1px;\n",
              "  overflow: hidden;\n",
              "  padding: 0;\n",
              "  position: absolute;\n",
              "  width: 1px;\n",
              "}\n",
              "\n",
              "#sk-container-id-3 div.sk-dashed-wrapped {\n",
              "  border: 1px dashed var(--sklearn-color-line);\n",
              "  margin: 0 0.4em 0.5em 0.4em;\n",
              "  box-sizing: border-box;\n",
              "  padding-bottom: 0.4em;\n",
              "  background-color: var(--sklearn-color-background);\n",
              "}\n",
              "\n",
              "#sk-container-id-3 div.sk-container {\n",
              "  /* jupyter's `normalize.less` sets `[hidden] { display: none; }`\n",
              "     but bootstrap.min.css set `[hidden] { display: none !important; }`\n",
              "     so we also need the `!important` here to be able to override the\n",
              "     default hidden behavior on the sphinx rendered scikit-learn.org.\n",
              "     See: https://github.com/scikit-learn/scikit-learn/issues/21755 */\n",
              "  display: inline-block !important;\n",
              "  position: relative;\n",
              "}\n",
              "\n",
              "#sk-container-id-3 div.sk-text-repr-fallback {\n",
              "  display: none;\n",
              "}\n",
              "\n",
              "div.sk-parallel-item,\n",
              "div.sk-serial,\n",
              "div.sk-item {\n",
              "  /* draw centered vertical line to link estimators */\n",
              "  background-image: linear-gradient(var(--sklearn-color-text-on-default-background), var(--sklearn-color-text-on-default-background));\n",
              "  background-size: 2px 100%;\n",
              "  background-repeat: no-repeat;\n",
              "  background-position: center center;\n",
              "}\n",
              "\n",
              "/* Parallel-specific style estimator block */\n",
              "\n",
              "#sk-container-id-3 div.sk-parallel-item::after {\n",
              "  content: \"\";\n",
              "  width: 100%;\n",
              "  border-bottom: 2px solid var(--sklearn-color-text-on-default-background);\n",
              "  flex-grow: 1;\n",
              "}\n",
              "\n",
              "#sk-container-id-3 div.sk-parallel {\n",
              "  display: flex;\n",
              "  align-items: stretch;\n",
              "  justify-content: center;\n",
              "  background-color: var(--sklearn-color-background);\n",
              "  position: relative;\n",
              "}\n",
              "\n",
              "#sk-container-id-3 div.sk-parallel-item {\n",
              "  display: flex;\n",
              "  flex-direction: column;\n",
              "}\n",
              "\n",
              "#sk-container-id-3 div.sk-parallel-item:first-child::after {\n",
              "  align-self: flex-end;\n",
              "  width: 50%;\n",
              "}\n",
              "\n",
              "#sk-container-id-3 div.sk-parallel-item:last-child::after {\n",
              "  align-self: flex-start;\n",
              "  width: 50%;\n",
              "}\n",
              "\n",
              "#sk-container-id-3 div.sk-parallel-item:only-child::after {\n",
              "  width: 0;\n",
              "}\n",
              "\n",
              "/* Serial-specific style estimator block */\n",
              "\n",
              "#sk-container-id-3 div.sk-serial {\n",
              "  display: flex;\n",
              "  flex-direction: column;\n",
              "  align-items: center;\n",
              "  background-color: var(--sklearn-color-background);\n",
              "  padding-right: 1em;\n",
              "  padding-left: 1em;\n",
              "}\n",
              "\n",
              "\n",
              "/* Toggleable style: style used for estimator/Pipeline/ColumnTransformer box that is\n",
              "clickable and can be expanded/collapsed.\n",
              "- Pipeline and ColumnTransformer use this feature and define the default style\n",
              "- Estimators will overwrite some part of the style using the `sk-estimator` class\n",
              "*/\n",
              "\n",
              "/* Pipeline and ColumnTransformer style (default) */\n",
              "\n",
              "#sk-container-id-3 div.sk-toggleable {\n",
              "  /* Default theme specific background. It is overwritten whether we have a\n",
              "  specific estimator or a Pipeline/ColumnTransformer */\n",
              "  background-color: var(--sklearn-color-background);\n",
              "}\n",
              "\n",
              "/* Toggleable label */\n",
              "#sk-container-id-3 label.sk-toggleable__label {\n",
              "  cursor: pointer;\n",
              "  display: flex;\n",
              "  width: 100%;\n",
              "  margin-bottom: 0;\n",
              "  padding: 0.5em;\n",
              "  box-sizing: border-box;\n",
              "  text-align: center;\n",
              "  align-items: start;\n",
              "  justify-content: space-between;\n",
              "  gap: 0.5em;\n",
              "}\n",
              "\n",
              "#sk-container-id-3 label.sk-toggleable__label .caption {\n",
              "  font-size: 0.6rem;\n",
              "  font-weight: lighter;\n",
              "  color: var(--sklearn-color-text-muted);\n",
              "}\n",
              "\n",
              "#sk-container-id-3 label.sk-toggleable__label-arrow:before {\n",
              "  /* Arrow on the left of the label */\n",
              "  content: \"▸\";\n",
              "  float: left;\n",
              "  margin-right: 0.25em;\n",
              "  color: var(--sklearn-color-icon);\n",
              "}\n",
              "\n",
              "#sk-container-id-3 label.sk-toggleable__label-arrow:hover:before {\n",
              "  color: var(--sklearn-color-text);\n",
              "}\n",
              "\n",
              "/* Toggleable content - dropdown */\n",
              "\n",
              "#sk-container-id-3 div.sk-toggleable__content {\n",
              "  max-height: 0;\n",
              "  max-width: 0;\n",
              "  overflow: hidden;\n",
              "  text-align: left;\n",
              "  /* unfitted */\n",
              "  background-color: var(--sklearn-color-unfitted-level-0);\n",
              "}\n",
              "\n",
              "#sk-container-id-3 div.sk-toggleable__content.fitted {\n",
              "  /* fitted */\n",
              "  background-color: var(--sklearn-color-fitted-level-0);\n",
              "}\n",
              "\n",
              "#sk-container-id-3 div.sk-toggleable__content pre {\n",
              "  margin: 0.2em;\n",
              "  border-radius: 0.25em;\n",
              "  color: var(--sklearn-color-text);\n",
              "  /* unfitted */\n",
              "  background-color: var(--sklearn-color-unfitted-level-0);\n",
              "}\n",
              "\n",
              "#sk-container-id-3 div.sk-toggleable__content.fitted pre {\n",
              "  /* unfitted */\n",
              "  background-color: var(--sklearn-color-fitted-level-0);\n",
              "}\n",
              "\n",
              "#sk-container-id-3 input.sk-toggleable__control:checked~div.sk-toggleable__content {\n",
              "  /* Expand drop-down */\n",
              "  max-height: 200px;\n",
              "  max-width: 100%;\n",
              "  overflow: auto;\n",
              "}\n",
              "\n",
              "#sk-container-id-3 input.sk-toggleable__control:checked~label.sk-toggleable__label-arrow:before {\n",
              "  content: \"▾\";\n",
              "}\n",
              "\n",
              "/* Pipeline/ColumnTransformer-specific style */\n",
              "\n",
              "#sk-container-id-3 div.sk-label input.sk-toggleable__control:checked~label.sk-toggleable__label {\n",
              "  color: var(--sklearn-color-text);\n",
              "  background-color: var(--sklearn-color-unfitted-level-2);\n",
              "}\n",
              "\n",
              "#sk-container-id-3 div.sk-label.fitted input.sk-toggleable__control:checked~label.sk-toggleable__label {\n",
              "  background-color: var(--sklearn-color-fitted-level-2);\n",
              "}\n",
              "\n",
              "/* Estimator-specific style */\n",
              "\n",
              "/* Colorize estimator box */\n",
              "#sk-container-id-3 div.sk-estimator input.sk-toggleable__control:checked~label.sk-toggleable__label {\n",
              "  /* unfitted */\n",
              "  background-color: var(--sklearn-color-unfitted-level-2);\n",
              "}\n",
              "\n",
              "#sk-container-id-3 div.sk-estimator.fitted input.sk-toggleable__control:checked~label.sk-toggleable__label {\n",
              "  /* fitted */\n",
              "  background-color: var(--sklearn-color-fitted-level-2);\n",
              "}\n",
              "\n",
              "#sk-container-id-3 div.sk-label label.sk-toggleable__label,\n",
              "#sk-container-id-3 div.sk-label label {\n",
              "  /* The background is the default theme color */\n",
              "  color: var(--sklearn-color-text-on-default-background);\n",
              "}\n",
              "\n",
              "/* On hover, darken the color of the background */\n",
              "#sk-container-id-3 div.sk-label:hover label.sk-toggleable__label {\n",
              "  color: var(--sklearn-color-text);\n",
              "  background-color: var(--sklearn-color-unfitted-level-2);\n",
              "}\n",
              "\n",
              "/* Label box, darken color on hover, fitted */\n",
              "#sk-container-id-3 div.sk-label.fitted:hover label.sk-toggleable__label.fitted {\n",
              "  color: var(--sklearn-color-text);\n",
              "  background-color: var(--sklearn-color-fitted-level-2);\n",
              "}\n",
              "\n",
              "/* Estimator label */\n",
              "\n",
              "#sk-container-id-3 div.sk-label label {\n",
              "  font-family: monospace;\n",
              "  font-weight: bold;\n",
              "  display: inline-block;\n",
              "  line-height: 1.2em;\n",
              "}\n",
              "\n",
              "#sk-container-id-3 div.sk-label-container {\n",
              "  text-align: center;\n",
              "}\n",
              "\n",
              "/* Estimator-specific */\n",
              "#sk-container-id-3 div.sk-estimator {\n",
              "  font-family: monospace;\n",
              "  border: 1px dotted var(--sklearn-color-border-box);\n",
              "  border-radius: 0.25em;\n",
              "  box-sizing: border-box;\n",
              "  margin-bottom: 0.5em;\n",
              "  /* unfitted */\n",
              "  background-color: var(--sklearn-color-unfitted-level-0);\n",
              "}\n",
              "\n",
              "#sk-container-id-3 div.sk-estimator.fitted {\n",
              "  /* fitted */\n",
              "  background-color: var(--sklearn-color-fitted-level-0);\n",
              "}\n",
              "\n",
              "/* on hover */\n",
              "#sk-container-id-3 div.sk-estimator:hover {\n",
              "  /* unfitted */\n",
              "  background-color: var(--sklearn-color-unfitted-level-2);\n",
              "}\n",
              "\n",
              "#sk-container-id-3 div.sk-estimator.fitted:hover {\n",
              "  /* fitted */\n",
              "  background-color: var(--sklearn-color-fitted-level-2);\n",
              "}\n",
              "\n",
              "/* Specification for estimator info (e.g. \"i\" and \"?\") */\n",
              "\n",
              "/* Common style for \"i\" and \"?\" */\n",
              "\n",
              ".sk-estimator-doc-link,\n",
              "a:link.sk-estimator-doc-link,\n",
              "a:visited.sk-estimator-doc-link {\n",
              "  float: right;\n",
              "  font-size: smaller;\n",
              "  line-height: 1em;\n",
              "  font-family: monospace;\n",
              "  background-color: var(--sklearn-color-background);\n",
              "  border-radius: 1em;\n",
              "  height: 1em;\n",
              "  width: 1em;\n",
              "  text-decoration: none !important;\n",
              "  margin-left: 0.5em;\n",
              "  text-align: center;\n",
              "  /* unfitted */\n",
              "  border: var(--sklearn-color-unfitted-level-1) 1pt solid;\n",
              "  color: var(--sklearn-color-unfitted-level-1);\n",
              "}\n",
              "\n",
              ".sk-estimator-doc-link.fitted,\n",
              "a:link.sk-estimator-doc-link.fitted,\n",
              "a:visited.sk-estimator-doc-link.fitted {\n",
              "  /* fitted */\n",
              "  border: var(--sklearn-color-fitted-level-1) 1pt solid;\n",
              "  color: var(--sklearn-color-fitted-level-1);\n",
              "}\n",
              "\n",
              "/* On hover */\n",
              "div.sk-estimator:hover .sk-estimator-doc-link:hover,\n",
              ".sk-estimator-doc-link:hover,\n",
              "div.sk-label-container:hover .sk-estimator-doc-link:hover,\n",
              ".sk-estimator-doc-link:hover {\n",
              "  /* unfitted */\n",
              "  background-color: var(--sklearn-color-unfitted-level-3);\n",
              "  color: var(--sklearn-color-background);\n",
              "  text-decoration: none;\n",
              "}\n",
              "\n",
              "div.sk-estimator.fitted:hover .sk-estimator-doc-link.fitted:hover,\n",
              ".sk-estimator-doc-link.fitted:hover,\n",
              "div.sk-label-container:hover .sk-estimator-doc-link.fitted:hover,\n",
              ".sk-estimator-doc-link.fitted:hover {\n",
              "  /* fitted */\n",
              "  background-color: var(--sklearn-color-fitted-level-3);\n",
              "  color: var(--sklearn-color-background);\n",
              "  text-decoration: none;\n",
              "}\n",
              "\n",
              "/* Span, style for the box shown on hovering the info icon */\n",
              ".sk-estimator-doc-link span {\n",
              "  display: none;\n",
              "  z-index: 9999;\n",
              "  position: relative;\n",
              "  font-weight: normal;\n",
              "  right: .2ex;\n",
              "  padding: .5ex;\n",
              "  margin: .5ex;\n",
              "  width: min-content;\n",
              "  min-width: 20ex;\n",
              "  max-width: 50ex;\n",
              "  color: var(--sklearn-color-text);\n",
              "  box-shadow: 2pt 2pt 4pt #999;\n",
              "  /* unfitted */\n",
              "  background: var(--sklearn-color-unfitted-level-0);\n",
              "  border: .5pt solid var(--sklearn-color-unfitted-level-3);\n",
              "}\n",
              "\n",
              ".sk-estimator-doc-link.fitted span {\n",
              "  /* fitted */\n",
              "  background: var(--sklearn-color-fitted-level-0);\n",
              "  border: var(--sklearn-color-fitted-level-3);\n",
              "}\n",
              "\n",
              ".sk-estimator-doc-link:hover span {\n",
              "  display: block;\n",
              "}\n",
              "\n",
              "/* \"?\"-specific style due to the `<a>` HTML tag */\n",
              "\n",
              "#sk-container-id-3 a.estimator_doc_link {\n",
              "  float: right;\n",
              "  font-size: 1rem;\n",
              "  line-height: 1em;\n",
              "  font-family: monospace;\n",
              "  background-color: var(--sklearn-color-background);\n",
              "  border-radius: 1rem;\n",
              "  height: 1rem;\n",
              "  width: 1rem;\n",
              "  text-decoration: none;\n",
              "  /* unfitted */\n",
              "  color: var(--sklearn-color-unfitted-level-1);\n",
              "  border: var(--sklearn-color-unfitted-level-1) 1pt solid;\n",
              "}\n",
              "\n",
              "#sk-container-id-3 a.estimator_doc_link.fitted {\n",
              "  /* fitted */\n",
              "  border: var(--sklearn-color-fitted-level-1) 1pt solid;\n",
              "  color: var(--sklearn-color-fitted-level-1);\n",
              "}\n",
              "\n",
              "/* On hover */\n",
              "#sk-container-id-3 a.estimator_doc_link:hover {\n",
              "  /* unfitted */\n",
              "  background-color: var(--sklearn-color-unfitted-level-3);\n",
              "  color: var(--sklearn-color-background);\n",
              "  text-decoration: none;\n",
              "}\n",
              "\n",
              "#sk-container-id-3 a.estimator_doc_link.fitted:hover {\n",
              "  /* fitted */\n",
              "  background-color: var(--sklearn-color-fitted-level-3);\n",
              "}\n",
              "</style><div id=\"sk-container-id-3\" class=\"sk-top-container\"><div class=\"sk-text-repr-fallback\"><pre>KMeans(n_clusters=3, random_state=42)</pre><b>In a Jupyter environment, please rerun this cell to show the HTML representation or trust the notebook. <br />On GitHub, the HTML representation is unable to render, please try loading this page with nbviewer.org.</b></div><div class=\"sk-container\" hidden><div class=\"sk-item\"><div class=\"sk-estimator fitted sk-toggleable\"><input class=\"sk-toggleable__control sk-hidden--visually\" id=\"sk-estimator-id-3\" type=\"checkbox\" checked><label for=\"sk-estimator-id-3\" class=\"sk-toggleable__label fitted sk-toggleable__label-arrow\"><div><div>KMeans</div></div><div><a class=\"sk-estimator-doc-link fitted\" rel=\"noreferrer\" target=\"_blank\" href=\"https://scikit-learn.org/1.6/modules/generated/sklearn.cluster.KMeans.html\">?<span>Documentation for KMeans</span></a><span class=\"sk-estimator-doc-link fitted\">i<span>Fitted</span></span></div></label><div class=\"sk-toggleable__content fitted\"><pre>KMeans(n_clusters=3, random_state=42)</pre></div> </div></div></div></div>"
            ]
          },
          "metadata": {},
          "execution_count": 21
        }
      ]
    },
    {
      "cell_type": "markdown",
      "source": [
        "Una vez hemos entrenado el modelo podemos obtener las etiquetas de qué cluster se asocia a cada punto con el atributo `labels_` del modelo. También podemos obtener las coordenadas de los centroides de cada cluster con el atributo `cluster_centers_` del modelo."
      ],
      "metadata": {
        "id": "nQAul9EOiGGy"
      }
    },
    {
      "cell_type": "code",
      "source": [
        "# Obtener los centros de los clusters y las etiquetas\n",
        "centroids = model.cluster_centers_\n",
        "labels = model.labels_"
      ],
      "metadata": {
        "id": "b4YAzymShR4O"
      },
      "execution_count": 22,
      "outputs": []
    },
    {
      "cell_type": "code",
      "source": [
        "centroids"
      ],
      "metadata": {
        "colab": {
          "base_uri": "https://localhost:8080/"
        },
        "id": "ibkaF4_uhx0T",
        "outputId": "1722bb86-684f-420d-8909-cf3ddd7e1c4f"
      },
      "execution_count": 7,
      "outputs": [
        {
          "output_type": "execute_result",
          "data": {
            "text/plain": [
              "array([[-2.63323268,  9.04356978],\n",
              "       [-6.88387179, -6.98398415],\n",
              "       [ 4.74710337,  2.01059427]])"
            ]
          },
          "metadata": {},
          "execution_count": 7
        }
      ]
    },
    {
      "cell_type": "code",
      "source": [
        "labels"
      ],
      "metadata": {
        "colab": {
          "base_uri": "https://localhost:8080/"
        },
        "id": "G5iztf93-Qrk",
        "outputId": "059e95d9-2238-4ed4-be89-891dc42b2b37"
      },
      "execution_count": 23,
      "outputs": [
        {
          "output_type": "execute_result",
          "data": {
            "text/plain": [
              "array([1, 1, 0, 2, 1, 2, 0, 2, 0, 0, 0, 2, 0, 0, 1, 0, 1, 2, 0, 0, 0, 0,\n",
              "       2, 1, 0, 1, 1, 2, 2, 0, 0, 0, 1, 0, 1, 0, 1, 2, 1, 2, 2, 0, 1, 2,\n",
              "       0, 0, 1, 2, 1, 2, 2, 1, 1, 0, 1, 2, 1, 0, 2, 0, 1, 2, 2, 1, 1, 2,\n",
              "       2, 1, 1, 0, 2, 1, 1, 0, 0, 1, 1, 2, 0, 2, 0, 0, 1, 0, 2, 1, 1, 0,\n",
              "       2, 0, 1, 0, 1, 0, 0, 1, 1, 0, 1, 1, 2, 0, 2, 0, 0, 0, 0, 0, 2, 1,\n",
              "       2, 0, 0, 0, 0, 2, 1, 2, 1, 2, 2, 2, 0, 1, 1, 1, 1, 0, 1, 1, 0, 0,\n",
              "       0, 0, 0, 2, 2, 1, 0, 1, 0, 0, 1, 0, 2, 2, 2, 0, 2, 0, 0, 1, 2, 1,\n",
              "       0, 2, 2, 1, 1, 0, 0, 1, 1, 1, 0, 1, 2, 0, 0, 0, 0, 0, 2, 0, 2, 2,\n",
              "       2, 0, 2, 2, 1, 0, 1, 2, 2, 1, 2, 0, 2, 2, 1, 1, 2, 1, 2, 2, 2, 2,\n",
              "       0, 1, 0, 0, 2, 2, 0, 2, 1, 1, 2, 0, 0, 1, 2, 2, 1, 1, 1, 1, 0, 1,\n",
              "       1, 2, 1, 1, 0, 2, 1, 1, 2, 0, 0, 1, 0, 1, 2, 2, 1, 2, 1, 1, 1, 2,\n",
              "       2, 0, 1, 2, 2, 2, 1, 2, 1, 2, 1, 2, 2, 1, 2, 0, 1, 0, 0, 0, 1, 0,\n",
              "       2, 2, 1, 2, 2, 0, 0, 2, 2, 2, 1, 1, 1, 0, 0, 0, 2, 2, 2, 2, 1, 2,\n",
              "       1, 2, 2, 1, 0, 2, 2, 0, 1, 0, 2, 0, 1, 1], dtype=int32)"
            ]
          },
          "metadata": {},
          "execution_count": 23
        }
      ]
    },
    {
      "cell_type": "code",
      "source": [
        "# Visualizar los resultados\n",
        "plt.scatter(X[:, 0], X[:, 1], c=labels, s=50, cmap='viridis')\n",
        "plt.scatter(centroids[:, 0], centroids[:, 1], c='red', s=200, alpha=0.75, marker='X')\n",
        "\n",
        "plt.title(\"KMeans Clustering\")\n",
        "plt.xlabel(\"Feature 1\")\n",
        "plt.ylabel(\"Feature 2\")\n",
        "plt.show()"
      ],
      "metadata": {
        "colab": {
          "base_uri": "https://localhost:8080/",
          "height": 472
        },
        "id": "s3nq8ehuhTpj",
        "outputId": "47410012-2a20-4cd2-e93e-22b4ce9ff17a"
      },
      "execution_count": 24,
      "outputs": [
        {
          "output_type": "display_data",
          "data": {
            "text/plain": [
              "<Figure size 640x480 with 1 Axes>"
            ],
            "image/png": "[encoded data removed]"
          },
          "metadata": {}
        }
      ]
    },
    {
      "cell_type": "code",
      "source": [
        "# Realizar predicciones con datos nuevos\n",
        "new_data = np.array([[2, 3], [-5, -5], [-1, 8], [-1, -2.5]])\n",
        "predictions = model.predict(new_data)\n",
        "\n",
        "predictions"
      ],
      "metadata": {
        "colab": {
          "base_uri": "https://localhost:8080/"
        },
        "id": "LH6jDp6khQIO",
        "outputId": "51dcb482-ef6e-4029-b661-f33215f7d379"
      },
      "execution_count": 15,
      "outputs": [
        {
          "output_type": "execute_result",
          "data": {
            "text/plain": [
              "array([2, 1, 0, 2], dtype=int32)"
            ]
          },
          "metadata": {},
          "execution_count": 15
        }
      ]
    },
    {
      "cell_type": "markdown",
      "source": [
        "### 2.2. Jerárquico <a name=\"jerarquico\"></a>"
      ],
      "metadata": {
        "id": "yti-U5XT_aea"
      }
    },
    {
      "cell_type": "markdown",
      "source": [
        "El clustering jerárquico (Hierarchical Clustering) es una técnica de agrupamiento que busca construir una jerarquía de clusters.\n",
        "\n",
        "A diferencia de KMeans, el clustering jerárquico no requiere especificar el número de clusters de antemano. En lugar de eso, crea una estructura de árbol  que representa cómo los puntos de datos se agrupan en diferentes niveles de similitud.\n",
        "\n",
        "Elegiremos el K óptimo utilizando un dendograma.\n",
        "\n",
        "Hay dos tipos principales de clustering jerárquico:\n",
        "\n",
        "- Aglomerativo (bottom up): comienza con cada dato en un grupo distinto (propio). Se van agrupando grupos según sus similitudes.\n",
        "\n",
        "- Divisivo (top down): comienza con todos los datos en un único cluster y se va dividiendo según similitudes.\n",
        "\n",
        "El clustering jerárquico es útil cuando no se conoce el número óptimo de clústeres de antemano o cuando se desea explorar la estructura jerárquica de los datos. Sin embargo, puede ser computacionalmente costoso en conjuntos de datos grandes debido a la necesidad de calcular todas las distancias entre los puntos de datos."
      ],
      "metadata": {
        "id": "vLS7OWZYBCHa"
      }
    },
    {
      "cell_type": "markdown",
      "source": [
        "<img src=\"https://drive.google.com/uc?export=view&id=1KcrQZv_E1bj0otqkKtJhYYC39W8jEy9s\" height=\"268\" width=\"550\" style=\"float: center;\">"
      ],
      "metadata": {
        "id": "rR6-XNTiBkAa"
      }
    },
    {
      "cell_type": "markdown",
      "source": [
        "### Dendograma\n",
        "\n",
        "El resultado del clustering jerárquico se muestra en un dendrograma, que es un diagrama de árbol que muestra la jerarquía de los grupos. Los puntos de datos se encuentran en las hojas del árbol, y los clusters más grandes se forman combinando clusters más pequeños lo largo de las ramas del árbol.\n",
        "\n",
        "Los cortes horizontales en el dendrograma determinan la cantidad de clústeres obtenidos al cortar el árbol a una cierta altura."
      ],
      "metadata": {
        "id": "IJcb4ikOknad"
      }
    },
    {
      "cell_type": "markdown",
      "source": [
        "<img src=\"https://drive.google.com/uc?export=view&id=1pj_J3sb52F0rDco-FaEVAfrU0lqConJQ\" height=\"256\" width=\"450\" style=\"float: center;\">"
      ],
      "metadata": {
        "id": "BGjnLbgkk-Ch"
      }
    },
    {
      "cell_type": "markdown",
      "source": [
        "### Ejemplo"
      ],
      "metadata": {
        "id": "cVdDCqV6lief"
      }
    },
    {
      "cell_type": "code",
      "source": [
        "# Generar un conjunto de datos de ejemplo\n",
        "X, _ = make_blobs(n_samples = 100, centers = 3, random_state = 42)"
      ],
      "metadata": {
        "id": "BSvLt8_Xliz0"
      },
      "execution_count": 28,
      "outputs": []
    },
    {
      "cell_type": "code",
      "source": [
        "# Realizar el clustering jerárquico\n",
        "Z = linkage(X, 'ward')\n",
        "\n",
        "# Mostrar el dendrograma\n",
        "plt.figure(figsize = (10, 6))\n",
        "\n",
        "dendrogram(Z)\n",
        "plt.axhline(c='k',linestyle='--', y=65)\n",
        "\n",
        "plt.title(\"Dendrograma de Clustering Jerárquico\")\n",
        "plt.xlabel(\"Índice de las muestras\")\n",
        "plt.ylabel(\"Distancia\")\n",
        "plt.show()"
      ],
      "metadata": {
        "colab": {
          "base_uri": "https://localhost:8080/",
          "height": 560
        },
        "id": "lL9o35e2lr-_",
        "outputId": "4aed1126-0a4b-4fa2-a22b-c2415d57d1dd"
      },
      "execution_count": 30,
      "outputs": [
        {
          "output_type": "display_data",
          "data": {
            "text/plain": [
              "<Figure size 1000x600 with 1 Axes>"
            ],
            "image/png": "[encoded data removed]"
          },
          "metadata": {}
        }
      ]
    },
    {
      "cell_type": "code",
      "source": [
        "hc = AgglomerativeClustering(n_clusters = 3)\n",
        "\n",
        "hc.fit(X)"
      ],
      "metadata": {
        "colab": {
          "base_uri": "https://localhost:8080/",
          "height": 80
        },
        "id": "OBDCQfpMmyHd",
        "outputId": "bbe6deac-39e8-456e-b86e-5f0ed12a62bf"
      },
      "execution_count": 31,
      "outputs": [
        {
          "output_type": "execute_result",
          "data": {
            "text/plain": [
              "AgglomerativeClustering(n_clusters=3)"
            ],
            "text/html": [
              "<style>#sk-container-id-4 {\n",
              "  /* Definition of color scheme common for light and dark mode */\n",
              "  --sklearn-color-text: #000;\n",
              "  --sklearn-color-text-muted: #666;\n",
              "  --sklearn-color-line: gray;\n",
              "  /* Definition of color scheme for unfitted estimators */\n",
              "  --sklearn-color-unfitted-level-0: #fff5e6;\n",
              "  --sklearn-color-unfitted-level-1: #f6e4d2;\n",
              "  --sklearn-color-unfitted-level-2: #ffe0b3;\n",
              "  --sklearn-color-unfitted-level-3: chocolate;\n",
              "  /* Definition of color scheme for fitted estimators */\n",
              "  --sklearn-color-fitted-level-0: #f0f8ff;\n",
              "  --sklearn-color-fitted-level-1: #d4ebff;\n",
              "  --sklearn-color-fitted-level-2: #b3dbfd;\n",
              "  --sklearn-color-fitted-level-3: cornflowerblue;\n",
              "\n",
              "  /* Specific color for light theme */\n",
              "  --sklearn-color-text-on-default-background: var(--sg-text-color, var(--theme-code-foreground, var(--jp-content-font-color1, black)));\n",
              "  --sklearn-color-background: var(--sg-background-color, var(--theme-background, var(--jp-layout-color0, white)));\n",
              "  --sklearn-color-border-box: var(--sg-text-color, var(--theme-code-foreground, var(--jp-content-font-color1, black)));\n",
              "  --sklearn-color-icon: #696969;\n",
              "\n",
              "  @media (prefers-color-scheme: dark) {\n",
              "    /* Redefinition of color scheme for dark theme */\n",
              "    --sklearn-color-text-on-default-background: var(--sg-text-color, var(--theme-code-foreground, var(--jp-content-font-color1, white)));\n",
              "    --sklearn-color-background: var(--sg-background-color, var(--theme-background, var(--jp-layout-color0, #111)));\n",
              "    --sklearn-color-border-box: var(--sg-text-color, var(--theme-code-foreground, var(--jp-content-font-color1, white)));\n",
              "    --sklearn-color-icon: #878787;\n",
              "  }\n",
              "}\n",
              "\n",
              "#sk-container-id-4 {\n",
              "  color: var(--sklearn-color-text);\n",
              "}\n",
              "\n",
              "#sk-container-id-4 pre {\n",
              "  padding: 0;\n",
              "}\n",
              "\n",
              "#sk-container-id-4 input.sk-hidden--visually {\n",
              "  border: 0;\n",
              "  clip: rect(1px 1px 1px 1px);\n",
              "  clip: rect(1px, 1px, 1px, 1px);\n",
              "  height: 1px;\n",
              "  margin: -1px;\n",
              "  overflow: hidden;\n",
              "  padding: 0;\n",
              "  position: absolute;\n",
              "  width: 1px;\n",
              "}\n",
              "\n",
              "#sk-container-id-4 div.sk-dashed-wrapped {\n",
              "  border: 1px dashed var(--sklearn-color-line);\n",
              "  margin: 0 0.4em 0.5em 0.4em;\n",
              "  box-sizing: border-box;\n",
              "  padding-bottom: 0.4em;\n",
              "  background-color: var(--sklearn-color-background);\n",
              "}\n",
              "\n",
              "#sk-container-id-4 div.sk-container {\n",
              "  /* jupyter's `normalize.less` sets `[hidden] { display: none; }`\n",
              "     but bootstrap.min.css set `[hidden] { display: none !important; }`\n",
              "     so we also need the `!important` here to be able to override the\n",
              "     default hidden behavior on the sphinx rendered scikit-learn.org.\n",
              "     See: https://github.com/scikit-learn/scikit-learn/issues/21755 */\n",
              "  display: inline-block !important;\n",
              "  position: relative;\n",
              "}\n",
              "\n",
              "#sk-container-id-4 div.sk-text-repr-fallback {\n",
              "  display: none;\n",
              "}\n",
              "\n",
              "div.sk-parallel-item,\n",
              "div.sk-serial,\n",
              "div.sk-item {\n",
              "  /* draw centered vertical line to link estimators */\n",
              "  background-image: linear-gradient(var(--sklearn-color-text-on-default-background), var(--sklearn-color-text-on-default-background));\n",
              "  background-size: 2px 100%;\n",
              "  background-repeat: no-repeat;\n",
              "  background-position: center center;\n",
              "}\n",
              "\n",
              "/* Parallel-specific style estimator block */\n",
              "\n",
              "#sk-container-id-4 div.sk-parallel-item::after {\n",
              "  content: \"\";\n",
              "  width: 100%;\n",
              "  border-bottom: 2px solid var(--sklearn-color-text-on-default-background);\n",
              "  flex-grow: 1;\n",
              "}\n",
              "\n",
              "#sk-container-id-4 div.sk-parallel {\n",
              "  display: flex;\n",
              "  align-items: stretch;\n",
              "  justify-content: center;\n",
              "  background-color: var(--sklearn-color-background);\n",
              "  position: relative;\n",
              "}\n",
              "\n",
              "#sk-container-id-4 div.sk-parallel-item {\n",
              "  display: flex;\n",
              "  flex-direction: column;\n",
              "}\n",
              "\n",
              "#sk-container-id-4 div.sk-parallel-item:first-child::after {\n",
              "  align-self: flex-end;\n",
              "  width: 50%;\n",
              "}\n",
              "\n",
              "#sk-container-id-4 div.sk-parallel-item:last-child::after {\n",
              "  align-self: flex-start;\n",
              "  width: 50%;\n",
              "}\n",
              "\n",
              "#sk-container-id-4 div.sk-parallel-item:only-child::after {\n",
              "  width: 0;\n",
              "}\n",
              "\n",
              "/* Serial-specific style estimator block */\n",
              "\n",
              "#sk-container-id-4 div.sk-serial {\n",
              "  display: flex;\n",
              "  flex-direction: column;\n",
              "  align-items: center;\n",
              "  background-color: var(--sklearn-color-background);\n",
              "  padding-right: 1em;\n",
              "  padding-left: 1em;\n",
              "}\n",
              "\n",
              "\n",
              "/* Toggleable style: style used for estimator/Pipeline/ColumnTransformer box that is\n",
              "clickable and can be expanded/collapsed.\n",
              "- Pipeline and ColumnTransformer use this feature and define the default style\n",
              "- Estimators will overwrite some part of the style using the `sk-estimator` class\n",
              "*/\n",
              "\n",
              "/* Pipeline and ColumnTransformer style (default) */\n",
              "\n",
              "#sk-container-id-4 div.sk-toggleable {\n",
              "  /* Default theme specific background. It is overwritten whether we have a\n",
              "  specific estimator or a Pipeline/ColumnTransformer */\n",
              "  background-color: var(--sklearn-color-background);\n",
              "}\n",
              "\n",
              "/* Toggleable label */\n",
              "#sk-container-id-4 label.sk-toggleable__label {\n",
              "  cursor: pointer;\n",
              "  display: flex;\n",
              "  width: 100%;\n",
              "  margin-bottom: 0;\n",
              "  padding: 0.5em;\n",
              "  box-sizing: border-box;\n",
              "  text-align: center;\n",
              "  align-items: start;\n",
              "  justify-content: space-between;\n",
              "  gap: 0.5em;\n",
              "}\n",
              "\n",
              "#sk-container-id-4 label.sk-toggleable__label .caption {\n",
              "  font-size: 0.6rem;\n",
              "  font-weight: lighter;\n",
              "  color: var(--sklearn-color-text-muted);\n",
              "}\n",
              "\n",
              "#sk-container-id-4 label.sk-toggleable__label-arrow:before {\n",
              "  /* Arrow on the left of the label */\n",
              "  content: \"▸\";\n",
              "  float: left;\n",
              "  margin-right: 0.25em;\n",
              "  color: var(--sklearn-color-icon);\n",
              "}\n",
              "\n",
              "#sk-container-id-4 label.sk-toggleable__label-arrow:hover:before {\n",
              "  color: var(--sklearn-color-text);\n",
              "}\n",
              "\n",
              "/* Toggleable content - dropdown */\n",
              "\n",
              "#sk-container-id-4 div.sk-toggleable__content {\n",
              "  max-height: 0;\n",
              "  max-width: 0;\n",
              "  overflow: hidden;\n",
              "  text-align: left;\n",
              "  /* unfitted */\n",
              "  background-color: var(--sklearn-color-unfitted-level-0);\n",
              "}\n",
              "\n",
              "#sk-container-id-4 div.sk-toggleable__content.fitted {\n",
              "  /* fitted */\n",
              "  background-color: var(--sklearn-color-fitted-level-0);\n",
              "}\n",
              "\n",
              "#sk-container-id-4 div.sk-toggleable__content pre {\n",
              "  margin: 0.2em;\n",
              "  border-radius: 0.25em;\n",
              "  color: var(--sklearn-color-text);\n",
              "  /* unfitted */\n",
              "  background-color: var(--sklearn-color-unfitted-level-0);\n",
              "}\n",
              "\n",
              "#sk-container-id-4 div.sk-toggleable__content.fitted pre {\n",
              "  /* unfitted */\n",
              "  background-color: var(--sklearn-color-fitted-level-0);\n",
              "}\n",
              "\n",
              "#sk-container-id-4 input.sk-toggleable__control:checked~div.sk-toggleable__content {\n",
              "  /* Expand drop-down */\n",
              "  max-height: 200px;\n",
              "  max-width: 100%;\n",
              "  overflow: auto;\n",
              "}\n",
              "\n",
              "#sk-container-id-4 input.sk-toggleable__control:checked~label.sk-toggleable__label-arrow:before {\n",
              "  content: \"▾\";\n",
              "}\n",
              "\n",
              "/* Pipeline/ColumnTransformer-specific style */\n",
              "\n",
              "#sk-container-id-4 div.sk-label input.sk-toggleable__control:checked~label.sk-toggleable__label {\n",
              "  color: var(--sklearn-color-text);\n",
              "  background-color: var(--sklearn-color-unfitted-level-2);\n",
              "}\n",
              "\n",
              "#sk-container-id-4 div.sk-label.fitted input.sk-toggleable__control:checked~label.sk-toggleable__label {\n",
              "  background-color: var(--sklearn-color-fitted-level-2);\n",
              "}\n",
              "\n",
              "/* Estimator-specific style */\n",
              "\n",
              "/* Colorize estimator box */\n",
              "#sk-container-id-4 div.sk-estimator input.sk-toggleable__control:checked~label.sk-toggleable__label {\n",
              "  /* unfitted */\n",
              "  background-color: var(--sklearn-color-unfitted-level-2);\n",
              "}\n",
              "\n",
              "#sk-container-id-4 div.sk-estimator.fitted input.sk-toggleable__control:checked~label.sk-toggleable__label {\n",
              "  /* fitted */\n",
              "  background-color: var(--sklearn-color-fitted-level-2);\n",
              "}\n",
              "\n",
              "#sk-container-id-4 div.sk-label label.sk-toggleable__label,\n",
              "#sk-container-id-4 div.sk-label label {\n",
              "  /* The background is the default theme color */\n",
              "  color: var(--sklearn-color-text-on-default-background);\n",
              "}\n",
              "\n",
              "/* On hover, darken the color of the background */\n",
              "#sk-container-id-4 div.sk-label:hover label.sk-toggleable__label {\n",
              "  color: var(--sklearn-color-text);\n",
              "  background-color: var(--sklearn-color-unfitted-level-2);\n",
              "}\n",
              "\n",
              "/* Label box, darken color on hover, fitted */\n",
              "#sk-container-id-4 div.sk-label.fitted:hover label.sk-toggleable__label.fitted {\n",
              "  color: var(--sklearn-color-text);\n",
              "  background-color: var(--sklearn-color-fitted-level-2);\n",
              "}\n",
              "\n",
              "/* Estimator label */\n",
              "\n",
              "#sk-container-id-4 div.sk-label label {\n",
              "  font-family: monospace;\n",
              "  font-weight: bold;\n",
              "  display: inline-block;\n",
              "  line-height: 1.2em;\n",
              "}\n",
              "\n",
              "#sk-container-id-4 div.sk-label-container {\n",
              "  text-align: center;\n",
              "}\n",
              "\n",
              "/* Estimator-specific */\n",
              "#sk-container-id-4 div.sk-estimator {\n",
              "  font-family: monospace;\n",
              "  border: 1px dotted var(--sklearn-color-border-box);\n",
              "  border-radius: 0.25em;\n",
              "  box-sizing: border-box;\n",
              "  margin-bottom: 0.5em;\n",
              "  /* unfitted */\n",
              "  background-color: var(--sklearn-color-unfitted-level-0);\n",
              "}\n",
              "\n",
              "#sk-container-id-4 div.sk-estimator.fitted {\n",
              "  /* fitted */\n",
              "  background-color: var(--sklearn-color-fitted-level-0);\n",
              "}\n",
              "\n",
              "/* on hover */\n",
              "#sk-container-id-4 div.sk-estimator:hover {\n",
              "  /* unfitted */\n",
              "  background-color: var(--sklearn-color-unfitted-level-2);\n",
              "}\n",
              "\n",
              "#sk-container-id-4 div.sk-estimator.fitted:hover {\n",
              "  /* fitted */\n",
              "  background-color: var(--sklearn-color-fitted-level-2);\n",
              "}\n",
              "\n",
              "/* Specification for estimator info (e.g. \"i\" and \"?\") */\n",
              "\n",
              "/* Common style for \"i\" and \"?\" */\n",
              "\n",
              ".sk-estimator-doc-link,\n",
              "a:link.sk-estimator-doc-link,\n",
              "a:visited.sk-estimator-doc-link {\n",
              "  float: right;\n",
              "  font-size: smaller;\n",
              "  line-height: 1em;\n",
              "  font-family: monospace;\n",
              "  background-color: var(--sklearn-color-background);\n",
              "  border-radius: 1em;\n",
              "  height: 1em;\n",
              "  width: 1em;\n",
              "  text-decoration: none !important;\n",
              "  margin-left: 0.5em;\n",
              "  text-align: center;\n",
              "  /* unfitted */\n",
              "  border: var(--sklearn-color-unfitted-level-1) 1pt solid;\n",
              "  color: var(--sklearn-color-unfitted-level-1);\n",
              "}\n",
              "\n",
              ".sk-estimator-doc-link.fitted,\n",
              "a:link.sk-estimator-doc-link.fitted,\n",
              "a:visited.sk-estimator-doc-link.fitted {\n",
              "  /* fitted */\n",
              "  border: var(--sklearn-color-fitted-level-1) 1pt solid;\n",
              "  color: var(--sklearn-color-fitted-level-1);\n",
              "}\n",
              "\n",
              "/* On hover */\n",
              "div.sk-estimator:hover .sk-estimator-doc-link:hover,\n",
              ".sk-estimator-doc-link:hover,\n",
              "div.sk-label-container:hover .sk-estimator-doc-link:hover,\n",
              ".sk-estimator-doc-link:hover {\n",
              "  /* unfitted */\n",
              "  background-color: var(--sklearn-color-unfitted-level-3);\n",
              "  color: var(--sklearn-color-background);\n",
              "  text-decoration: none;\n",
              "}\n",
              "\n",
              "div.sk-estimator.fitted:hover .sk-estimator-doc-link.fitted:hover,\n",
              ".sk-estimator-doc-link.fitted:hover,\n",
              "div.sk-label-container:hover .sk-estimator-doc-link.fitted:hover,\n",
              ".sk-estimator-doc-link.fitted:hover {\n",
              "  /* fitted */\n",
              "  background-color: var(--sklearn-color-fitted-level-3);\n",
              "  color: var(--sklearn-color-background);\n",
              "  text-decoration: none;\n",
              "}\n",
              "\n",
              "/* Span, style for the box shown on hovering the info icon */\n",
              ".sk-estimator-doc-link span {\n",
              "  display: none;\n",
              "  z-index: 9999;\n",
              "  position: relative;\n",
              "  font-weight: normal;\n",
              "  right: .2ex;\n",
              "  padding: .5ex;\n",
              "  margin: .5ex;\n",
              "  width: min-content;\n",
              "  min-width: 20ex;\n",
              "  max-width: 50ex;\n",
              "  color: var(--sklearn-color-text);\n",
              "  box-shadow: 2pt 2pt 4pt #999;\n",
              "  /* unfitted */\n",
              "  background: var(--sklearn-color-unfitted-level-0);\n",
              "  border: .5pt solid var(--sklearn-color-unfitted-level-3);\n",
              "}\n",
              "\n",
              ".sk-estimator-doc-link.fitted span {\n",
              "  /* fitted */\n",
              "  background: var(--sklearn-color-fitted-level-0);\n",
              "  border: var(--sklearn-color-fitted-level-3);\n",
              "}\n",
              "\n",
              ".sk-estimator-doc-link:hover span {\n",
              "  display: block;\n",
              "}\n",
              "\n",
              "/* \"?\"-specific style due to the `<a>` HTML tag */\n",
              "\n",
              "#sk-container-id-4 a.estimator_doc_link {\n",
              "  float: right;\n",
              "  font-size: 1rem;\n",
              "  line-height: 1em;\n",
              "  font-family: monospace;\n",
              "  background-color: var(--sklearn-color-background);\n",
              "  border-radius: 1rem;\n",
              "  height: 1rem;\n",
              "  width: 1rem;\n",
              "  text-decoration: none;\n",
              "  /* unfitted */\n",
              "  color: var(--sklearn-color-unfitted-level-1);\n",
              "  border: var(--sklearn-color-unfitted-level-1) 1pt solid;\n",
              "}\n",
              "\n",
              "#sk-container-id-4 a.estimator_doc_link.fitted {\n",
              "  /* fitted */\n",
              "  border: var(--sklearn-color-fitted-level-1) 1pt solid;\n",
              "  color: var(--sklearn-color-fitted-level-1);\n",
              "}\n",
              "\n",
              "/* On hover */\n",
              "#sk-container-id-4 a.estimator_doc_link:hover {\n",
              "  /* unfitted */\n",
              "  background-color: var(--sklearn-color-unfitted-level-3);\n",
              "  color: var(--sklearn-color-background);\n",
              "  text-decoration: none;\n",
              "}\n",
              "\n",
              "#sk-container-id-4 a.estimator_doc_link.fitted:hover {\n",
              "  /* fitted */\n",
              "  background-color: var(--sklearn-color-fitted-level-3);\n",
              "}\n",
              "</style><div id=\"sk-container-id-4\" class=\"sk-top-container\"><div class=\"sk-text-repr-fallback\"><pre>AgglomerativeClustering(n_clusters=3)</pre><b>In a Jupyter environment, please rerun this cell to show the HTML representation or trust the notebook. <br />On GitHub, the HTML representation is unable to render, please try loading this page with nbviewer.org.</b></div><div class=\"sk-container\" hidden><div class=\"sk-item\"><div class=\"sk-estimator fitted sk-toggleable\"><input class=\"sk-toggleable__control sk-hidden--visually\" id=\"sk-estimator-id-4\" type=\"checkbox\" checked><label for=\"sk-estimator-id-4\" class=\"sk-toggleable__label fitted sk-toggleable__label-arrow\"><div><div>AgglomerativeClustering</div></div><div><a class=\"sk-estimator-doc-link fitted\" rel=\"noreferrer\" target=\"_blank\" href=\"https://scikit-learn.org/1.6/modules/generated/sklearn.cluster.AgglomerativeClustering.html\">?<span>Documentation for AgglomerativeClustering</span></a><span class=\"sk-estimator-doc-link fitted\">i<span>Fitted</span></span></div></label><div class=\"sk-toggleable__content fitted\"><pre>AgglomerativeClustering(n_clusters=3)</pre></div> </div></div></div></div>"
            ]
          },
          "metadata": {},
          "execution_count": 31
        }
      ]
    },
    {
      "cell_type": "code",
      "source": [
        "# Visualize the clusters\n",
        "plt.scatter(X[:, 0], X[:, 1], c = hc.labels_)\n",
        "\n",
        "plt.title(\"KMeans Clustering\")\n",
        "plt.xlabel(\"Feature 1\")\n",
        "plt.ylabel(\"Feature 2\")"
      ],
      "metadata": {
        "colab": {
          "base_uri": "https://localhost:8080/",
          "height": 489
        },
        "id": "doFU_A2Mm22u",
        "outputId": "7073cb38-d526-4e8b-b050-e49ea72d4261"
      },
      "execution_count": 32,
      "outputs": [
        {
          "output_type": "execute_result",
          "data": {
            "text/plain": [
              "Text(0, 0.5, 'Feature 2')"
            ]
          },
          "metadata": {},
          "execution_count": 32
        },
        {
          "output_type": "display_data",
          "data": {
            "text/plain": [
              "<Figure size 640x480 with 1 Axes>"
            ],
            "image/png": "[encoded data removed]"
          },
          "metadata": {}
        }
      ]
    },
    {
      "cell_type": "markdown",
      "source": [
        "### 2.3. DBSCAN (Density-Based Spatial Clustering of Applications with Noise) <a name=\"dbscan\"></a>"
      ],
      "metadata": {
        "id": "W-t_qx8ABBT7"
      }
    },
    {
      "cell_type": "markdown",
      "source": [
        "Es capaz de encontrar clusters de forma arbitraria y detectar ruido (puntos que no pertenecen a ningún cluster).\n",
        "\n",
        "A diferencia de métodos como KMeans, DBSCAN no requiere que se especifique el número de clusters de antemano.\n",
        "\n",
        "Encuentra los grupos basado en la densidad de los datos.\n",
        "\n",
        "**Ventajas**: Puede encontrar clusters de formas arbitrarias y es robusto frente al ruido.\n",
        "\n",
        "**Desventajas**: Requiere definir los parámetros ε y el número mínimo de puntos, lo que puede ser difícil."
      ],
      "metadata": {
        "id": "EXzHINDeB2o5"
      }
    },
    {
      "cell_type": "markdown",
      "source": [
        "###Terminología\n",
        "\n",
        "- Épsilon (𝜖): Es el radio de un vecindario circular alrededor de un punto de datos.\n",
        "\n",
        "  Este parámetro define la distancia máxima entre dos puntos para que uno sea considerado en el vecindario del otro.\n",
        "\n",
        "- MinPts: Es el número mínimo de puntos que deben estar dentro del radio\n",
        "𝜖 para que un punto sea considerado un punto central.\n",
        "\n",
        "  Si un punto tiene al menos MinPts puntos en su vecindario 𝜖, se considera un punto central.\n",
        "\n",
        "- Punto Central: Un punto que tiene al menos MinPts puntos en su vecindario\n",
        "ϵ.\n",
        "\n",
        "- Punto de Borde: Un punto que no es un punto central, pero está dentro del vecindario ϵ de un punto central.\n",
        "\n",
        "- Punto de Ruido: Un punto que no es ni un punto central ni un punto de borde."
      ],
      "metadata": {
        "id": "IPOIXWWE9n2p"
      }
    },
    {
      "cell_type": "markdown",
      "source": [
        "<img src=\"https://drive.google.com/uc?export=view&id=1h3Uz5C5FcrY_UPvkcVCbvSAgcFJncvSd\" height=\"287\" width=\"438\" style=\"float: center;\">"
      ],
      "metadata": {
        "id": "sCkNMkhe-GVz"
      }
    },
    {
      "cell_type": "markdown",
      "source": [
        "###Algoritmo:\n",
        "\n",
        "1. Para cada dato cuenta cuantas instancias están a una distancia ε (vecindario epsilon).\n",
        "\n",
        "2. Si una instancia tiene al menos MinPts instancias en su vecindario se llama core o central. Forma un cluster.\n",
        "\n",
        "3. Todas las instancias en el vecindario de una instancia core pertenecen al mismo cluster.\n",
        "\n",
        "4. Cualquiera no core o fuera de vecindario es ruido.\n"
      ],
      "metadata": {
        "id": "oBEVuyFM9piB"
      }
    },
    {
      "cell_type": "markdown",
      "source": [
        "### Ejemplo"
      ],
      "metadata": {
        "id": "mJpMAcWu_sGi"
      }
    },
    {
      "cell_type": "code",
      "source": [
        "# Generar datos de ejemplo\n",
        "X, y = make_blobs(n_samples=300, centers=4, cluster_std=0.60, random_state=0)\n",
        "\n",
        "# Aplicar el algoritmo DBSCAN\n",
        "dbscan = DBSCAN(eps=0.5, min_samples=5)\n",
        "labels = dbscan.fit_predict(X)\n",
        "\n",
        "# Visualizar los resultados\n",
        "plt.scatter(X[:, 0], X[:, 1], c=labels, cmap='plasma')\n",
        "plt.title(\"Clustering con DBSCAN\")\n",
        "plt.xlabel(\"Feature 1\")\n",
        "plt.ylabel(\"Feature 2\")\n",
        "plt.show()"
      ],
      "metadata": {
        "colab": {
          "base_uri": "https://localhost:8080/",
          "height": 472
        },
        "id": "H0vKTGXT_oms",
        "outputId": "95091b28-b182-4f9f-f791-923256af33ac"
      },
      "execution_count": 33,
      "outputs": [
        {
          "output_type": "display_data",
          "data": {
            "text/plain": [
              "<Figure size 640x480 with 1 Axes>"
            ],
            "image/png": "[encoded data removed]"
          },
          "metadata": {}
        }
      ]
    },
    {
      "cell_type": "markdown",
      "source": [
        "## 3. Métricas para clustering <a name=\"metricas\"></a>"
      ],
      "metadata": {
        "id": "ohpWyP-uKedH"
      }
    },
    {
      "cell_type": "markdown",
      "source": [
        "No tenemos un resultado válido o real para comparar.\n",
        "\n",
        "Se busca minimizar la distancia entre datos de un mismo grupo.  Datos similares entre sí.\n",
        "\n",
        "También maximizar la distancia entre grupos. Clusters lo más distintos posibles.\n",
        "\n",
        "La calidad del resultado la podemos medir con la inercia.\n",
        "\n",
        "## Inercia\n",
        "\n",
        "Medida para conocer cuánta distancia hay entre los datos y el centroide de su grupo.\n",
        "\n",
        "Si todos los datos están cerca de sus centroides la inercia es baja. Indica buen agrupamieto!\n",
        "\n",
        "Si los puntos están dispersos y lejos de los centroides, dará una inercia alta.\n",
        "Mal agrupados!\n"
      ],
      "metadata": {
        "id": "jRomtFU2AO8v"
      }
    },
    {
      "cell_type": "markdown",
      "source": [
        "<img src=\"https://drive.google.com/uc?export=view&id=11tIZ-1bnF8w19xZcSMeNjp3mOiJT44IY\" height=\"257\" width=\"552\" style=\"float: center;\">"
      ],
      "metadata": {
        "id": "eEquBYq_BL98"
      }
    },
    {
      "cell_type": "code",
      "source": [
        "# Generar datos de ejemplo\n",
        "n_samples = 300\n",
        "n_features = 2\n",
        "random_state = 42\n",
        "\n",
        "X, y = make_blobs(n_samples=n_samples, n_features=n_features, centers=3, random_state=random_state)\n",
        "\n",
        "# Definir el rango de valores para k\n",
        "k_values = range(3, 7)\n",
        "inertias = []\n",
        "\n",
        "# Calcular la inercia para cada valor de k\n",
        "for k in k_values:\n",
        "    kmeans = KMeans(n_clusters=k, random_state=random_state)\n",
        "    kmeans.fit(X)\n",
        "    inertias.append(kmeans.inertia_)\n",
        "\n",
        "# Imprimir las inercias para cada k\n",
        "for k, inertia in zip(k_values, inertias):\n",
        "    print(f'k = {k}, Inercia = {inertia}')"
      ],
      "metadata": {
        "colab": {
          "base_uri": "https://localhost:8080/"
        },
        "id": "xBDYYVlTBrhU",
        "outputId": "0cf76b71-b38b-4898-f6f6-fa39bbc819ef"
      },
      "execution_count": 36,
      "outputs": [
        {
          "output_type": "stream",
          "name": "stdout",
          "text": [
            "k = 3, Inercia = 566.8595511244134\n",
            "k = 4, Inercia = 497.03398814952124\n",
            "k = 5, Inercia = 428.21421299328415\n",
            "k = 6, Inercia = 375.0659248776243\n"
          ]
        }
      ]
    },
    {
      "cell_type": "markdown",
      "source": [
        "### 3.1. Método del codo (elbow) <a name=\"elbow\"></a>\n"
      ],
      "metadata": {
        "id": "3XjQ2C_P_9hE"
      }
    },
    {
      "cell_type": "markdown",
      "source": [
        "El método del codo (Elbow Method) es una técnica visual utilizada para determinar el número óptimo de clusters (𝑘) en un algoritmo de clustering.\n",
        "\n",
        "La idea principal detrás de este método es encontrar el punto donde agregar más clusters no proporciona una mejora significativa en la compactación de los clusters, medido por la inercia.\n",
        "\n",
        "Se grafica la inercia para un rango de K grupos.\n",
        "\n",
        "Se busca el “codo” en el gráfico resultante.\n",
        "  - Observa la gráfica para identificar el punto donde la tasa de disminución de la inercia se vuelve más lenta.\n",
        "  - Se produce el último decrecimiento importante.\n",
        "  - El \"codo\" en la curva es el punto donde agregar más clusters ya no resulta en una disminución significativa de la inercia. Este punto sugiere el número óptimo de clusters."
      ],
      "metadata": {
        "id": "tMqHjwidAIpm"
      }
    },
    {
      "cell_type": "markdown",
      "source": [
        "<img src=\"https://drive.google.com/uc?export=view&id=1OajkMba49ZMlYnSC80nAtMz_rIxrMdDx\" height=\"313\" width=\"459\" style=\"float: center;\">"
      ],
      "metadata": {
        "id": "P4CTnL2HCz2N"
      }
    },
    {
      "cell_type": "code",
      "source": [
        "# Generar datos de ejemplo\n",
        "n_samples = 300\n",
        "n_features = 2\n",
        "random_state = 42\n",
        "\n",
        "X, y = make_blobs(n_samples=n_samples, n_features=n_features, centers=3, random_state=random_state)\n",
        "\n",
        "# Definir el rango de valores para k\n",
        "k_values = range(2, 11)\n",
        "inertias = []\n",
        "\n",
        "# Calcular la inercia para cada valor de k\n",
        "for k in k_values:\n",
        "    kmeans = KMeans(n_clusters=k, random_state=random_state)\n",
        "    kmeans.fit(X)\n",
        "    inertias.append(kmeans.inertia_)\n",
        "\n",
        "# Imprimir las inercias para cada k\n",
        "for k, inertia in zip(k_values, inertias):\n",
        "    print(f'k = {k}, Inercia = {inertia}')\n",
        "\n",
        "# Graficar la inercia en función de k\n",
        "plt.plot(k_values, inertias, marker='o')\n",
        "plt.xlabel('Número de Clusters (k)')\n",
        "plt.ylabel('Inercia')\n",
        "plt.title('Inercia vs. Número de Clusters')\n",
        "plt.xticks(k_values)\n",
        "plt.grid(True)\n",
        "plt.show()\n"
      ],
      "metadata": {
        "colab": {
          "base_uri": "https://localhost:8080/",
          "height": 628
        },
        "id": "oTomk3rJDU7a",
        "outputId": "454ad62a-202b-4720-c845-427a90238a99"
      },
      "execution_count": 37,
      "outputs": [
        {
          "output_type": "stream",
          "name": "stdout",
          "text": [
            "k = 2, Inercia = 5763.4647894614345\n",
            "k = 3, Inercia = 566.8595511244134\n",
            "k = 4, Inercia = 497.03398814952124\n",
            "k = 5, Inercia = 428.21421299328415\n",
            "k = 6, Inercia = 375.0659248776243\n",
            "k = 7, Inercia = 308.19836610418264\n",
            "k = 8, Inercia = 272.405731498748\n",
            "k = 9, Inercia = 234.28072349591122\n",
            "k = 10, Inercia = 219.0405333899987\n"
          ]
        },
        {
          "output_type": "display_data",
          "data": {
            "text/plain": [
              "<Figure size 640x480 with 1 Axes>"
            ],
            "image/png": "[encoded data removed]"
          },
          "metadata": {}
        }
      ]
    },
    {
      "cell_type": "markdown",
      "source": [
        "  ### 3.2. Indice silueta (silhouette) <a name=\"silhouette\"></a>"
      ],
      "metadata": {
        "id": "0oE_mzxtAE4K"
      }
    },
    {
      "cell_type": "markdown",
      "source": [
        "El índice de silueta (Silhouette Index) es una medida utilizada para evaluar la calidad de los clusters creados por un algoritmo de clustering.\n",
        "\n",
        "Este índice proporciona una forma de cuantificar cuán bien se agrupan los puntos de datos dentro de sus clusters y cuán distintos son los clusters entre sí.\n",
        "\n",
        "El valor de la silueta para un punto de datos 𝑖 se define como:\n",
        "\n",
        "<img src=\"https://drive.google.com/uc?export=view&id=1TLjLIl4hiVliJU1HSr0zGYHfs55eXRQR\" height=\"81\" width=\"245\" style=\"float: center;\">\n",
        "\n",
        "donde\n",
        "\n",
        "  a(x)= distancia promedio de x a todos los demás puntos en el mismo cluster.\n",
        "\n",
        "  b(x)= distancia promedio de x a todos los demás puntos en el cluster más cercano al que no pertenece x.\n",
        "\n",
        "El valor de 𝑠(𝑖) oscila entre -1 y 1:\n",
        "- 𝑠(𝑖) cercano a 1 indica que el punto está bien agrupado.\n",
        "- 𝑠(𝑖) cercano a 0 indica que el punto está en el límite entre dos clusters.\n",
        "- 𝑠(𝑖) cercano a -1 indica que el punto probablemente está mal asignado a su cluster.\n",
        "\n",
        "<img src=\"https://drive.google.com/uc?export=view&id=1Xb1nvxj0pmWZEkIQAb6VC-64vJi3gn5T\" height=\"84\" width=\"160\" style=\"float: center;\">"
      ],
      "metadata": {
        "id": "x7snkoEoKiVC"
      }
    },
    {
      "cell_type": "code",
      "source": [
        "# Generar datos de ejemplo\n",
        "n_samples = 300\n",
        "n_features = 2\n",
        "random_state = 42\n",
        "\n",
        "X, y = make_blobs(n_samples=n_samples, n_features=n_features, centers=3, random_state=random_state)\n",
        "\n",
        "# Definir el rango de valores para k\n",
        "k_values = range(2, 11)\n",
        "inertias = []\n",
        "silhouette_scores = []\n",
        "\n",
        "# Calcular la inercia y el índice de silueta para cada valor de k\n",
        "for k in k_values:\n",
        "    kmeans = KMeans(n_clusters=k, random_state=random_state)\n",
        "    kmeans.fit(X)\n",
        "    inertias.append(kmeans.inertia_)\n",
        "    silhouette_scores.append(silhouette_score(X, kmeans.labels_))\n",
        "\n",
        "# Imprimir las inercias y los índices de silueta para cada k\n",
        "for k, inertia, silhouette in zip(k_values, inertias, silhouette_scores):\n",
        "    print(f'k = {k}, Inercia = {inertia}, Índice de Silueta = {silhouette}')\n",
        "\n",
        "# Graficar la inercia en función de k\n",
        "plt.figure(figsize=(12, 5))\n",
        "\n",
        "plt.subplot(1, 2, 1)\n",
        "plt.plot(k_values, inertias, marker='o')\n",
        "plt.xlabel('Número de Clusters (k)')\n",
        "plt.ylabel('Inercia')\n",
        "plt.title('Inercia vs. Número de Clusters')\n",
        "plt.xticks(k_values)\n",
        "plt.grid(True)\n",
        "\n",
        "# Graficar el índice de silueta en función de k\n",
        "plt.subplot(1, 2, 2)\n",
        "plt.plot(k_values, silhouette_scores, marker='o')\n",
        "plt.xlabel('Número de Clusters (k)')\n",
        "plt.ylabel('Índice de Silueta')\n",
        "plt.title('Índice de Silueta vs. Número de Clusters')\n",
        "plt.xticks(k_values)\n",
        "plt.grid(True)\n",
        "\n",
        "plt.tight_layout()\n",
        "plt.show()\n"
      ],
      "metadata": {
        "colab": {
          "base_uri": "https://localhost:8080/",
          "height": 663
        },
        "id": "Lq_kWQqWGGMB",
        "outputId": "e3731bcf-8a0b-4ee2-d57b-7d4f210a617d"
      },
      "execution_count": 38,
      "outputs": [
        {
          "output_type": "stream",
          "name": "stdout",
          "text": [
            "k = 2, Inercia = 5763.4647894614345, Índice de Silueta = 0.7049437310743717\n",
            "k = 3, Inercia = 566.8595511244134, Índice de Silueta = 0.8480303059596955\n",
            "k = 4, Inercia = 497.03398814952124, Índice de Silueta = 0.6764211610337508\n",
            "k = 5, Inercia = 428.21421299328415, Índice de Silueta = 0.49631564306271647\n",
            "k = 6, Inercia = 375.0659248776243, Índice de Silueta = 0.5170399982662364\n",
            "k = 7, Inercia = 308.19836610418264, Índice de Silueta = 0.358030586983425\n",
            "k = 8, Inercia = 272.405731498748, Índice de Silueta = 0.3625632360122803\n",
            "k = 9, Inercia = 234.28072349591122, Índice de Silueta = 0.37134027555333055\n",
            "k = 10, Inercia = 219.0405333899987, Índice de Silueta = 0.3638824656870273\n"
          ]
        },
        {
          "output_type": "display_data",
          "data": {
            "text/plain": [
              "<Figure size 1200x500 with 2 Axes>"
            ],
            "image/png": "[encoded data removed]"
          },
          "metadata": {}
        }
      ]
    },
    {
      "cell_type": "markdown",
      "source": [
        "## 4. Reducción de dimensionalidad <a name=\"dimensionalidad\"></a>"
      ],
      "metadata": {
        "id": "EoZ6P8ui3jq6"
      }
    },
    {
      "cell_type": "markdown",
      "source": [
        "La reducción de dimensionalidad (dimensionality reduction) es una técnica utilizada para disminuir la cantidad de características o variables en un conjunto de datos.\n",
        "\n",
        "El objetivo principal de este modelo es simplificar la representación de los datos, manteniendo al mismo tiempo la mayor cantidad posible de información relevante.\n",
        "\n",
        "Existen muchos motivos por los cuales querríamos utilizar este tipo de modelos para simplificar los datos. Podemos destacar:\n",
        "\n",
        "- Simplificación y visualización de datos: En conjuntos de datos con muchas características, la reducción de dimensionalidad permite simplificar la representación de los datos y visualizarlos en espacios de menor dimensión.\n",
        "\n",
        "- Reducción de ruido: Al reducir la dimensionalidad, se puede eliminar información redundante o ruidosa, lo que puede mejorar la calidad de los datos y el rendimiento de los modelos de aprendizaje automático.\n",
        "\n",
        "- Eficiencia computacional: Conjuntos de datos con muchas características pueden requerir una mayor capacidad de cómputo y memoria. La reducción de dimensionalidad puede ayudar a reducir esta complejidad, lo que resulta en tiempos de entrenamiento y predicción más rápidos.\n",
        "\n",
        "- Regularización: En algunos casos, la reducción de dimensionalidad actúa como una forma de regularización, evitando el sobreajuste (overfitting) al disminuir la complejidad del modelo."
      ],
      "metadata": {
        "id": "ehua81xxG7sQ"
      }
    },
    {
      "cell_type": "markdown",
      "source": [
        "## 4.1. Análisis de Componentes Principales <a name=\"pca\"></a>\n"
      ],
      "metadata": {
        "id": "LgsqDXNLGh_F"
      }
    },
    {
      "cell_type": "markdown",
      "source": [
        "PCA es un método lineal que transforma los datos a un nuevo espacio de menor dimensión utilizando componentes principales que capturan la mayor variabilidad de los datos.\n",
        "\n",
        "Imaginemos que tenemos un conjunto de datos con muchas características, como la altura, el peso, la edad, los ingresos y el nivel educativo de diferentes personas.\n",
        "\n",
        "Cada persona representa un punto en un espacio de alta dimensión, donde cada característica es una dimensión.\n",
        "\n",
        "El PCA nos permite encontrar nuevas direcciones o ejes en este espacio de alta dimensión, conocidos como componentes principales.\n",
        "\n",
        "Estas direcciones representan las combinaciones lineales de las características originales que explican la mayor parte de la variabilidad de los datos.\n",
        "\n",
        "El primer componente principal captura la mayor variabilidad posible en el conjunto de datos, el segundo componente principal captura la siguiente mayor variabilidad, y así sucesivamente.\n",
        "\n",
        "Al utilizar el PCA, podemos elegir cuántos componentes principales deseamos mantener o que porcentaje de variabilidad preservar."
      ],
      "metadata": {
        "id": "LSh38vwGG9hI"
      }
    },
    {
      "cell_type": "markdown",
      "source": [
        "####Ejemplo 1: indicando cantidad de componentes"
      ],
      "metadata": {
        "id": "bTnaPg3LJxWE"
      }
    },
    {
      "cell_type": "code",
      "source": [
        "# Cargar el conjunto de datos Iris\n",
        "iris = load_iris()\n",
        "X = iris.data\n",
        "y = iris.target\n",
        "\n",
        "# Crear un objeto PCA y ajustarlo a los datos\n",
        "pca = PCA(n_components = 2)\n",
        "X_pca = pca.fit_transform(X)"
      ],
      "metadata": {
        "id": "pwgcfNjzI-bo"
      },
      "execution_count": 39,
      "outputs": []
    },
    {
      "cell_type": "code",
      "source": [
        "X"
      ],
      "metadata": {
        "colab": {
          "base_uri": "https://localhost:8080/"
        },
        "id": "qE50ESnTJGgH",
        "outputId": "9441726c-6eb1-4d53-82a2-68cf93077246"
      },
      "execution_count": 40,
      "outputs": [
        {
          "output_type": "execute_result",
          "data": {
            "text/plain": [
              "array([[5.1, 3.5, 1.4, 0.2],\n",
              "       [4.9, 3. , 1.4, 0.2],\n",
              "       [4.7, 3.2, 1.3, 0.2],\n",
              "       [4.6, 3.1, 1.5, 0.2],\n",
              "       [5. , 3.6, 1.4, 0.2],\n",
              "       [5.4, 3.9, 1.7, 0.4],\n",
              "       [4.6, 3.4, 1.4, 0.3],\n",
              "       [5. , 3.4, 1.5, 0.2],\n",
              "       [4.4, 2.9, 1.4, 0.2],\n",
              "       [4.9, 3.1, 1.5, 0.1],\n",
              "       [5.4, 3.7, 1.5, 0.2],\n",
              "       [4.8, 3.4, 1.6, 0.2],\n",
              "       [4.8, 3. , 1.4, 0.1],\n",
              "       [4.3, 3. , 1.1, 0.1],\n",
              "       [5.8, 4. , 1.2, 0.2],\n",
              "       [5.7, 4.4, 1.5, 0.4],\n",
              "       [5.4, 3.9, 1.3, 0.4],\n",
              "       [5.1, 3.5, 1.4, 0.3],\n",
              "       [5.7, 3.8, 1.7, 0.3],\n",
              "       [5.1, 3.8, 1.5, 0.3],\n",
              "       [5.4, 3.4, 1.7, 0.2],\n",
              "       [5.1, 3.7, 1.5, 0.4],\n",
              "       [4.6, 3.6, 1. , 0.2],\n",
              "       [5.1, 3.3, 1.7, 0.5],\n",
              "       [4.8, 3.4, 1.9, 0.2],\n",
              "       [5. , 3. , 1.6, 0.2],\n",
              "       [5. , 3.4, 1.6, 0.4],\n",
              "       [5.2, 3.5, 1.5, 0.2],\n",
              "       [5.2, 3.4, 1.4, 0.2],\n",
              "       [4.7, 3.2, 1.6, 0.2],\n",
              "       [4.8, 3.1, 1.6, 0.2],\n",
              "       [5.4, 3.4, 1.5, 0.4],\n",
              "       [5.2, 4.1, 1.5, 0.1],\n",
              "       [5.5, 4.2, 1.4, 0.2],\n",
              "       [4.9, 3.1, 1.5, 0.2],\n",
              "       [5. , 3.2, 1.2, 0.2],\n",
              "       [5.5, 3.5, 1.3, 0.2],\n",
              "       [4.9, 3.6, 1.4, 0.1],\n",
              "       [4.4, 3. , 1.3, 0.2],\n",
              "       [5.1, 3.4, 1.5, 0.2],\n",
              "       [5. , 3.5, 1.3, 0.3],\n",
              "       [4.5, 2.3, 1.3, 0.3],\n",
              "       [4.4, 3.2, 1.3, 0.2],\n",
              "       [5. , 3.5, 1.6, 0.6],\n",
              "       [5.1, 3.8, 1.9, 0.4],\n",
              "       [4.8, 3. , 1.4, 0.3],\n",
              "       [5.1, 3.8, 1.6, 0.2],\n",
              "       [4.6, 3.2, 1.4, 0.2],\n",
              "       [5.3, 3.7, 1.5, 0.2],\n",
              "       [5. , 3.3, 1.4, 0.2],\n",
              "       [7. , 3.2, 4.7, 1.4],\n",
              "       [6.4, 3.2, 4.5, 1.5],\n",
              "       [6.9, 3.1, 4.9, 1.5],\n",
              "       [5.5, 2.3, 4. , 1.3],\n",
              "       [6.5, 2.8, 4.6, 1.5],\n",
              "       [5.7, 2.8, 4.5, 1.3],\n",
              "       [6.3, 3.3, 4.7, 1.6],\n",
              "       [4.9, 2.4, 3.3, 1. ],\n",
              "       [6.6, 2.9, 4.6, 1.3],\n",
              "       [5.2, 2.7, 3.9, 1.4],\n",
              "       [5. , 2. , 3.5, 1. ],\n",
              "       [5.9, 3. , 4.2, 1.5],\n",
              "       [6. , 2.2, 4. , 1. ],\n",
              "       [6.1, 2.9, 4.7, 1.4],\n",
              "       [5.6, 2.9, 3.6, 1.3],\n",
              "       [6.7, 3.1, 4.4, 1.4],\n",
              "       [5.6, 3. , 4.5, 1.5],\n",
              "       [5.8, 2.7, 4.1, 1. ],\n",
              "       [6.2, 2.2, 4.5, 1.5],\n",
              "       [5.6, 2.5, 3.9, 1.1],\n",
              "       [5.9, 3.2, 4.8, 1.8],\n",
              "       [6.1, 2.8, 4. , 1.3],\n",
              "       [6.3, 2.5, 4.9, 1.5],\n",
              "       [6.1, 2.8, 4.7, 1.2],\n",
              "       [6.4, 2.9, 4.3, 1.3],\n",
              "       [6.6, 3. , 4.4, 1.4],\n",
              "       [6.8, 2.8, 4.8, 1.4],\n",
              "       [6.7, 3. , 5. , 1.7],\n",
              "       [6. , 2.9, 4.5, 1.5],\n",
              "       [5.7, 2.6, 3.5, 1. ],\n",
              "       [5.5, 2.4, 3.8, 1.1],\n",
              "       [5.5, 2.4, 3.7, 1. ],\n",
              "       [5.8, 2.7, 3.9, 1.2],\n",
              "       [6. , 2.7, 5.1, 1.6],\n",
              "       [5.4, 3. , 4.5, 1.5],\n",
              "       [6. , 3.4, 4.5, 1.6],\n",
              "       [6.7, 3.1, 4.7, 1.5],\n",
              "       [6.3, 2.3, 4.4, 1.3],\n",
              "       [5.6, 3. , 4.1, 1.3],\n",
              "       [5.5, 2.5, 4. , 1.3],\n",
              "       [5.5, 2.6, 4.4, 1.2],\n",
              "       [6.1, 3. , 4.6, 1.4],\n",
              "       [5.8, 2.6, 4. , 1.2],\n",
              "       [5. , 2.3, 3.3, 1. ],\n",
              "       [5.6, 2.7, 4.2, 1.3],\n",
              "       [5.7, 3. , 4.2, 1.2],\n",
              "       [5.7, 2.9, 4.2, 1.3],\n",
              "       [6.2, 2.9, 4.3, 1.3],\n",
              "       [5.1, 2.5, 3. , 1.1],\n",
              "       [5.7, 2.8, 4.1, 1.3],\n",
              "       [6.3, 3.3, 6. , 2.5],\n",
              "       [5.8, 2.7, 5.1, 1.9],\n",
              "       [7.1, 3. , 5.9, 2.1],\n",
              "       [6.3, 2.9, 5.6, 1.8],\n",
              "       [6.5, 3. , 5.8, 2.2],\n",
              "       [7.6, 3. , 6.6, 2.1],\n",
              "       [4.9, 2.5, 4.5, 1.7],\n",
              "       [7.3, 2.9, 6.3, 1.8],\n",
              "       [6.7, 2.5, 5.8, 1.8],\n",
              "       [7.2, 3.6, 6.1, 2.5],\n",
              "       [6.5, 3.2, 5.1, 2. ],\n",
              "       [6.4, 2.7, 5.3, 1.9],\n",
              "       [6.8, 3. , 5.5, 2.1],\n",
              "       [5.7, 2.5, 5. , 2. ],\n",
              "       [5.8, 2.8, 5.1, 2.4],\n",
              "       [6.4, 3.2, 5.3, 2.3],\n",
              "       [6.5, 3. , 5.5, 1.8],\n",
              "       [7.7, 3.8, 6.7, 2.2],\n",
              "       [7.7, 2.6, 6.9, 2.3],\n",
              "       [6. , 2.2, 5. , 1.5],\n",
              "       [6.9, 3.2, 5.7, 2.3],\n",
              "       [5.6, 2.8, 4.9, 2. ],\n",
              "       [7.7, 2.8, 6.7, 2. ],\n",
              "       [6.3, 2.7, 4.9, 1.8],\n",
              "       [6.7, 3.3, 5.7, 2.1],\n",
              "       [7.2, 3.2, 6. , 1.8],\n",
              "       [6.2, 2.8, 4.8, 1.8],\n",
              "       [6.1, 3. , 4.9, 1.8],\n",
              "       [6.4, 2.8, 5.6, 2.1],\n",
              "       [7.2, 3. , 5.8, 1.6],\n",
              "       [7.4, 2.8, 6.1, 1.9],\n",
              "       [7.9, 3.8, 6.4, 2. ],\n",
              "       [6.4, 2.8, 5.6, 2.2],\n",
              "       [6.3, 2.8, 5.1, 1.5],\n",
              "       [6.1, 2.6, 5.6, 1.4],\n",
              "       [7.7, 3. , 6.1, 2.3],\n",
              "       [6.3, 3.4, 5.6, 2.4],\n",
              "       [6.4, 3.1, 5.5, 1.8],\n",
              "       [6. , 3. , 4.8, 1.8],\n",
              "       [6.9, 3.1, 5.4, 2.1],\n",
              "       [6.7, 3.1, 5.6, 2.4],\n",
              "       [6.9, 3.1, 5.1, 2.3],\n",
              "       [5.8, 2.7, 5.1, 1.9],\n",
              "       [6.8, 3.2, 5.9, 2.3],\n",
              "       [6.7, 3.3, 5.7, 2.5],\n",
              "       [6.7, 3. , 5.2, 2.3],\n",
              "       [6.3, 2.5, 5. , 1.9],\n",
              "       [6.5, 3. , 5.2, 2. ],\n",
              "       [6.2, 3.4, 5.4, 2.3],\n",
              "       [5.9, 3. , 5.1, 1.8]])"
            ]
          },
          "metadata": {},
          "execution_count": 40
        }
      ]
    },
    {
      "cell_type": "code",
      "source": [
        "X_pca"
      ],
      "metadata": {
        "colab": {
          "base_uri": "https://localhost:8080/"
        },
        "id": "u6DI5FBaJFZc",
        "outputId": "e6a9c44a-d61b-46ab-824d-b4404f8b9767"
      },
      "execution_count": 41,
      "outputs": [
        {
          "output_type": "execute_result",
          "data": {
            "text/plain": [
              "array([[-2.68412563,  0.31939725],\n",
              "       [-2.71414169, -0.17700123],\n",
              "       [-2.88899057, -0.14494943],\n",
              "       [-2.74534286, -0.31829898],\n",
              "       [-2.72871654,  0.32675451],\n",
              "       [-2.28085963,  0.74133045],\n",
              "       [-2.82053775, -0.08946138],\n",
              "       [-2.62614497,  0.16338496],\n",
              "       [-2.88638273, -0.57831175],\n",
              "       [-2.6727558 , -0.11377425],\n",
              "       [-2.50694709,  0.6450689 ],\n",
              "       [-2.61275523,  0.01472994],\n",
              "       [-2.78610927, -0.235112  ],\n",
              "       [-3.22380374, -0.51139459],\n",
              "       [-2.64475039,  1.17876464],\n",
              "       [-2.38603903,  1.33806233],\n",
              "       [-2.62352788,  0.81067951],\n",
              "       [-2.64829671,  0.31184914],\n",
              "       [-2.19982032,  0.87283904],\n",
              "       [-2.5879864 ,  0.51356031],\n",
              "       [-2.31025622,  0.39134594],\n",
              "       [-2.54370523,  0.43299606],\n",
              "       [-3.21593942,  0.13346807],\n",
              "       [-2.30273318,  0.09870885],\n",
              "       [-2.35575405, -0.03728186],\n",
              "       [-2.50666891, -0.14601688],\n",
              "       [-2.46882007,  0.13095149],\n",
              "       [-2.56231991,  0.36771886],\n",
              "       [-2.63953472,  0.31203998],\n",
              "       [-2.63198939, -0.19696122],\n",
              "       [-2.58739848, -0.20431849],\n",
              "       [-2.4099325 ,  0.41092426],\n",
              "       [-2.64886233,  0.81336382],\n",
              "       [-2.59873675,  1.09314576],\n",
              "       [-2.63692688, -0.12132235],\n",
              "       [-2.86624165,  0.06936447],\n",
              "       [-2.62523805,  0.59937002],\n",
              "       [-2.80068412,  0.26864374],\n",
              "       [-2.98050204, -0.48795834],\n",
              "       [-2.59000631,  0.22904384],\n",
              "       [-2.77010243,  0.26352753],\n",
              "       [-2.84936871, -0.94096057],\n",
              "       [-2.99740655, -0.34192606],\n",
              "       [-2.40561449,  0.18887143],\n",
              "       [-2.20948924,  0.43666314],\n",
              "       [-2.71445143, -0.2502082 ],\n",
              "       [-2.53814826,  0.50377114],\n",
              "       [-2.83946217, -0.22794557],\n",
              "       [-2.54308575,  0.57941002],\n",
              "       [-2.70335978,  0.10770608],\n",
              "       [ 1.28482569,  0.68516047],\n",
              "       [ 0.93248853,  0.31833364],\n",
              "       [ 1.46430232,  0.50426282],\n",
              "       [ 0.18331772, -0.82795901],\n",
              "       [ 1.08810326,  0.07459068],\n",
              "       [ 0.64166908, -0.41824687],\n",
              "       [ 1.09506066,  0.28346827],\n",
              "       [-0.74912267, -1.00489096],\n",
              "       [ 1.04413183,  0.2283619 ],\n",
              "       [-0.0087454 , -0.72308191],\n",
              "       [-0.50784088, -1.26597119],\n",
              "       [ 0.51169856, -0.10398124],\n",
              "       [ 0.26497651, -0.55003646],\n",
              "       [ 0.98493451, -0.12481785],\n",
              "       [-0.17392537, -0.25485421],\n",
              "       [ 0.92786078,  0.46717949],\n",
              "       [ 0.66028376, -0.35296967],\n",
              "       [ 0.23610499, -0.33361077],\n",
              "       [ 0.94473373, -0.54314555],\n",
              "       [ 0.04522698, -0.58383438],\n",
              "       [ 1.11628318, -0.08461685],\n",
              "       [ 0.35788842, -0.06892503],\n",
              "       [ 1.29818388, -0.32778731],\n",
              "       [ 0.92172892, -0.18273779],\n",
              "       [ 0.71485333,  0.14905594],\n",
              "       [ 0.90017437,  0.32850447],\n",
              "       [ 1.33202444,  0.24444088],\n",
              "       [ 1.55780216,  0.26749545],\n",
              "       [ 0.81329065, -0.1633503 ],\n",
              "       [-0.30558378, -0.36826219],\n",
              "       [-0.06812649, -0.70517213],\n",
              "       [-0.18962247, -0.68028676],\n",
              "       [ 0.13642871, -0.31403244],\n",
              "       [ 1.38002644, -0.42095429],\n",
              "       [ 0.58800644, -0.48428742],\n",
              "       [ 0.80685831,  0.19418231],\n",
              "       [ 1.22069088,  0.40761959],\n",
              "       [ 0.81509524, -0.37203706],\n",
              "       [ 0.24595768, -0.2685244 ],\n",
              "       [ 0.16641322, -0.68192672],\n",
              "       [ 0.46480029, -0.67071154],\n",
              "       [ 0.8908152 , -0.03446444],\n",
              "       [ 0.23054802, -0.40438585],\n",
              "       [-0.70453176, -1.01224823],\n",
              "       [ 0.35698149, -0.50491009],\n",
              "       [ 0.33193448, -0.21265468],\n",
              "       [ 0.37621565, -0.29321893],\n",
              "       [ 0.64257601,  0.01773819],\n",
              "       [-0.90646986, -0.75609337],\n",
              "       [ 0.29900084, -0.34889781],\n",
              "       [ 2.53119273, -0.00984911],\n",
              "       [ 1.41523588, -0.57491635],\n",
              "       [ 2.61667602,  0.34390315],\n",
              "       [ 1.97153105, -0.1797279 ],\n",
              "       [ 2.35000592, -0.04026095],\n",
              "       [ 3.39703874,  0.55083667],\n",
              "       [ 0.52123224, -1.19275873],\n",
              "       [ 2.93258707,  0.3555    ],\n",
              "       [ 2.32122882, -0.2438315 ],\n",
              "       [ 2.91675097,  0.78279195],\n",
              "       [ 1.66177415,  0.24222841],\n",
              "       [ 1.80340195, -0.21563762],\n",
              "       [ 2.1655918 ,  0.21627559],\n",
              "       [ 1.34616358, -0.77681835],\n",
              "       [ 1.58592822, -0.53964071],\n",
              "       [ 1.90445637,  0.11925069],\n",
              "       [ 1.94968906,  0.04194326],\n",
              "       [ 3.48705536,  1.17573933],\n",
              "       [ 3.79564542,  0.25732297],\n",
              "       [ 1.30079171, -0.76114964],\n",
              "       [ 2.42781791,  0.37819601],\n",
              "       [ 1.19900111, -0.60609153],\n",
              "       [ 3.49992004,  0.4606741 ],\n",
              "       [ 1.38876613, -0.20439933],\n",
              "       [ 2.2754305 ,  0.33499061],\n",
              "       [ 2.61409047,  0.56090136],\n",
              "       [ 1.25850816, -0.17970479],\n",
              "       [ 1.29113206, -0.11666865],\n",
              "       [ 2.12360872, -0.20972948],\n",
              "       [ 2.38800302,  0.4646398 ],\n",
              "       [ 2.84167278,  0.37526917],\n",
              "       [ 3.23067366,  1.37416509],\n",
              "       [ 2.15943764, -0.21727758],\n",
              "       [ 1.44416124, -0.14341341],\n",
              "       [ 1.78129481, -0.49990168],\n",
              "       [ 3.07649993,  0.68808568],\n",
              "       [ 2.14424331,  0.1400642 ],\n",
              "       [ 1.90509815,  0.04930053],\n",
              "       [ 1.16932634, -0.16499026],\n",
              "       [ 2.10761114,  0.37228787],\n",
              "       [ 2.31415471,  0.18365128],\n",
              "       [ 1.9222678 ,  0.40920347],\n",
              "       [ 1.41523588, -0.57491635],\n",
              "       [ 2.56301338,  0.2778626 ],\n",
              "       [ 2.41874618,  0.3047982 ],\n",
              "       [ 1.94410979,  0.1875323 ],\n",
              "       [ 1.52716661, -0.37531698],\n",
              "       [ 1.76434572,  0.07885885],\n",
              "       [ 1.90094161,  0.11662796],\n",
              "       [ 1.39018886, -0.28266094]])"
            ]
          },
          "metadata": {},
          "execution_count": 41
        }
      ]
    },
    {
      "cell_type": "markdown",
      "source": [
        "####Ejemplo 2: indicando porcentaje de variabilidad"
      ],
      "metadata": {
        "id": "D6HRbjKiJ16w"
      }
    },
    {
      "cell_type": "code",
      "source": [
        "# Cargar el conjunto de datos Iris\n",
        "iris = load_iris()\n",
        "X = iris.data\n",
        "y = iris.target\n",
        "\n",
        "# Crear un objeto PCA y ajustarlo a los datos\n",
        "percentage_variability = 0.98\n",
        "pca = PCA(n_components = percentage_variability)\n",
        "X_pca = pca.fit_transform(X)"
      ],
      "metadata": {
        "id": "vn05xL9jJ7l1"
      },
      "execution_count": 47,
      "outputs": []
    },
    {
      "cell_type": "code",
      "source": [
        "X_pca"
      ],
      "metadata": {
        "colab": {
          "base_uri": "https://localhost:8080/"
        },
        "id": "wTdIo2V1KCjN",
        "outputId": "c4c5b37f-9dd5-43c6-86de-794be102c1fc"
      },
      "execution_count": 48,
      "outputs": [
        {
          "output_type": "execute_result",
          "data": {
            "text/plain": [
              "array([[-2.68412563,  0.31939725, -0.02791483],\n",
              "       [-2.71414169, -0.17700123, -0.21046427],\n",
              "       [-2.88899057, -0.14494943,  0.01790026],\n",
              "       [-2.74534286, -0.31829898,  0.03155937],\n",
              "       [-2.72871654,  0.32675451,  0.09007924],\n",
              "       [-2.28085963,  0.74133045,  0.16867766],\n",
              "       [-2.82053775, -0.08946138,  0.25789216],\n",
              "       [-2.62614497,  0.16338496, -0.02187932],\n",
              "       [-2.88638273, -0.57831175,  0.02075957],\n",
              "       [-2.6727558 , -0.11377425, -0.19763272],\n",
              "       [-2.50694709,  0.6450689 , -0.07531801],\n",
              "       [-2.61275523,  0.01472994,  0.10215026],\n",
              "       [-2.78610927, -0.235112  , -0.20684443],\n",
              "       [-3.22380374, -0.51139459,  0.06129967],\n",
              "       [-2.64475039,  1.17876464, -0.15162752],\n",
              "       [-2.38603903,  1.33806233,  0.2777769 ],\n",
              "       [-2.62352788,  0.81067951,  0.13818323],\n",
              "       [-2.64829671,  0.31184914,  0.02666832],\n",
              "       [-2.19982032,  0.87283904, -0.12030552],\n",
              "       [-2.5879864 ,  0.51356031,  0.21366517],\n",
              "       [-2.31025622,  0.39134594, -0.23944404],\n",
              "       [-2.54370523,  0.43299606,  0.20845723],\n",
              "       [-3.21593942,  0.13346807,  0.29239675],\n",
              "       [-2.30273318,  0.09870885,  0.03912326],\n",
              "       [-2.35575405, -0.03728186,  0.12502108],\n",
              "       [-2.50666891, -0.14601688, -0.25342004],\n",
              "       [-2.46882007,  0.13095149,  0.09491058],\n",
              "       [-2.56231991,  0.36771886, -0.07849421],\n",
              "       [-2.63953472,  0.31203998, -0.1459089 ],\n",
              "       [-2.63198939, -0.19696122,  0.04077108],\n",
              "       [-2.58739848, -0.20431849, -0.07722299],\n",
              "       [-2.4099325 ,  0.41092426, -0.14552497],\n",
              "       [-2.64886233,  0.81336382,  0.22566915],\n",
              "       [-2.59873675,  1.09314576,  0.15781081],\n",
              "       [-2.63692688, -0.12132235, -0.14304958],\n",
              "       [-2.86624165,  0.06936447, -0.16433231],\n",
              "       [-2.62523805,  0.59937002, -0.26835038],\n",
              "       [-2.80068412,  0.26864374,  0.09369908],\n",
              "       [-2.98050204, -0.48795834,  0.07292705],\n",
              "       [-2.59000631,  0.22904384, -0.0800823 ],\n",
              "       [-2.77010243,  0.26352753,  0.07724769],\n",
              "       [-2.84936871, -0.94096057, -0.34923038],\n",
              "       [-2.99740655, -0.34192606,  0.19250921],\n",
              "       [-2.40561449,  0.18887143,  0.26386795],\n",
              "       [-2.20948924,  0.43666314,  0.29874275],\n",
              "       [-2.71445143, -0.2502082 , -0.09767814],\n",
              "       [-2.53814826,  0.50377114,  0.16670564],\n",
              "       [-2.83946217, -0.22794557,  0.08372685],\n",
              "       [-2.54308575,  0.57941002, -0.01711502],\n",
              "       [-2.70335978,  0.10770608, -0.08929401],\n",
              "       [ 1.28482569,  0.68516047, -0.40656803],\n",
              "       [ 0.93248853,  0.31833364, -0.01801419],\n",
              "       [ 1.46430232,  0.50426282, -0.33832576],\n",
              "       [ 0.18331772, -0.82795901, -0.17959139],\n",
              "       [ 1.08810326,  0.07459068, -0.3077579 ],\n",
              "       [ 0.64166908, -0.41824687,  0.04107609],\n",
              "       [ 1.09506066,  0.28346827,  0.16981024],\n",
              "       [-0.74912267, -1.00489096,  0.01230292],\n",
              "       [ 1.04413183,  0.2283619 , -0.41533608],\n",
              "       [-0.0087454 , -0.72308191,  0.28114143],\n",
              "       [-0.50784088, -1.26597119, -0.26981718],\n",
              "       [ 0.51169856, -0.10398124,  0.13054775],\n",
              "       [ 0.26497651, -0.55003646, -0.69414683],\n",
              "       [ 0.98493451, -0.12481785, -0.06211441],\n",
              "       [-0.17392537, -0.25485421,  0.09045769],\n",
              "       [ 0.92786078,  0.46717949, -0.31462098],\n",
              "       [ 0.66028376, -0.35296967,  0.32802753],\n",
              "       [ 0.23610499, -0.33361077, -0.27116184],\n",
              "       [ 0.94473373, -0.54314555, -0.49951905],\n",
              "       [ 0.04522698, -0.58383438, -0.2350021 ],\n",
              "       [ 1.11628318, -0.08461685,  0.45962099],\n",
              "       [ 0.35788842, -0.06892503, -0.22985389],\n",
              "       [ 1.29818388, -0.32778731, -0.34785435],\n",
              "       [ 0.92172892, -0.18273779, -0.23107178],\n",
              "       [ 0.71485333,  0.14905594, -0.32180094],\n",
              "       [ 0.90017437,  0.32850447, -0.31620907],\n",
              "       [ 1.33202444,  0.24444088, -0.52170278],\n",
              "       [ 1.55780216,  0.26749545, -0.16492098],\n",
              "       [ 0.81329065, -0.1633503 ,  0.0354245 ],\n",
              "       [-0.30558378, -0.36826219, -0.31849158],\n",
              "       [-0.06812649, -0.70517213, -0.24421381],\n",
              "       [-0.18962247, -0.68028676, -0.30642056],\n",
              "       [ 0.13642871, -0.31403244, -0.17724277],\n",
              "       [ 1.38002644, -0.42095429,  0.01616713],\n",
              "       [ 0.58800644, -0.48428742,  0.4444335 ],\n",
              "       [ 0.80685831,  0.19418231,  0.38896306],\n",
              "       [ 1.22069088,  0.40761959, -0.23716701],\n",
              "       [ 0.81509524, -0.37203706, -0.61472084],\n",
              "       [ 0.24595768, -0.2685244 ,  0.18836681],\n",
              "       [ 0.16641322, -0.68192672, -0.06000923],\n",
              "       [ 0.46480029, -0.67071154, -0.02430686],\n",
              "       [ 0.8908152 , -0.03446444, -0.00994693],\n",
              "       [ 0.23054802, -0.40438585, -0.22941024],\n",
              "       [-0.70453176, -1.01224823, -0.10569115],\n",
              "       [ 0.35698149, -0.50491009,  0.01661717],\n",
              "       [ 0.33193448, -0.21265468,  0.08320429],\n",
              "       [ 0.37621565, -0.29321893,  0.07799635],\n",
              "       [ 0.64257601,  0.01773819, -0.20539497],\n",
              "       [-0.90646986, -0.75609337, -0.01259965],\n",
              "       [ 0.29900084, -0.34889781,  0.01058166],\n",
              "       [ 2.53119273, -0.00984911,  0.76016543],\n",
              "       [ 1.41523588, -0.57491635,  0.29632253],\n",
              "       [ 2.61667602,  0.34390315, -0.11078788],\n",
              "       [ 1.97153105, -0.1797279 ,  0.10842466],\n",
              "       [ 2.35000592, -0.04026095,  0.28538956],\n",
              "       [ 3.39703874,  0.55083667, -0.34843756],\n",
              "       [ 0.52123224, -1.19275873,  0.5456593 ],\n",
              "       [ 2.93258707,  0.3555    , -0.42023994],\n",
              "       [ 2.32122882, -0.2438315 , -0.34830439],\n",
              "       [ 2.91675097,  0.78279195,  0.42333542],\n",
              "       [ 1.66177415,  0.24222841,  0.24244019],\n",
              "       [ 1.80340195, -0.21563762, -0.03764817],\n",
              "       [ 2.1655918 ,  0.21627559,  0.03332664],\n",
              "       [ 1.34616358, -0.77681835,  0.28190288],\n",
              "       [ 1.58592822, -0.53964071,  0.62902933],\n",
              "       [ 1.90445637,  0.11925069,  0.47963982],\n",
              "       [ 1.94968906,  0.04194326,  0.04418617],\n",
              "       [ 3.48705536,  1.17573933,  0.13389487],\n",
              "       [ 3.79564542,  0.25732297, -0.51376776],\n",
              "       [ 1.30079171, -0.76114964, -0.34499504],\n",
              "       [ 2.42781791,  0.37819601,  0.21911932],\n",
              "       [ 1.19900111, -0.60609153,  0.51185551],\n",
              "       [ 3.49992004,  0.4606741 , -0.57318224],\n",
              "       [ 1.38876613, -0.20439933, -0.06452276],\n",
              "       [ 2.2754305 ,  0.33499061,  0.28615009],\n",
              "       [ 2.61409047,  0.56090136, -0.20553452],\n",
              "       [ 1.25850816, -0.17970479,  0.0458477 ],\n",
              "       [ 1.29113206, -0.11666865,  0.23125646],\n",
              "       [ 2.12360872, -0.20972948,  0.15418002],\n",
              "       [ 2.38800302,  0.4646398 , -0.44953019],\n",
              "       [ 2.84167278,  0.37526917, -0.49889808],\n",
              "       [ 3.23067366,  1.37416509, -0.11454821],\n",
              "       [ 2.15943764, -0.21727758,  0.20876317],\n",
              "       [ 1.44416124, -0.14341341, -0.15323389],\n",
              "       [ 1.78129481, -0.49990168, -0.17287519],\n",
              "       [ 3.07649993,  0.68808568, -0.33559229],\n",
              "       [ 2.14424331,  0.1400642 ,  0.73487894],\n",
              "       [ 1.90509815,  0.04930053,  0.16218024],\n",
              "       [ 1.16932634, -0.16499026,  0.28183584],\n",
              "       [ 2.10761114,  0.37228787,  0.02729113],\n",
              "       [ 2.31415471,  0.18365128,  0.32269375],\n",
              "       [ 1.9222678 ,  0.40920347,  0.1135866 ],\n",
              "       [ 1.41523588, -0.57491635,  0.29632253],\n",
              "       [ 2.56301338,  0.2778626 ,  0.29256952],\n",
              "       [ 2.41874618,  0.3047982 ,  0.50448266],\n",
              "       [ 1.94410979,  0.1875323 ,  0.17782509],\n",
              "       [ 1.52716661, -0.37531698, -0.12189817],\n",
              "       [ 1.76434572,  0.07885885,  0.13048163],\n",
              "       [ 1.90094161,  0.11662796,  0.72325156],\n",
              "       [ 1.39018886, -0.28266094,  0.36290965]])"
            ]
          },
          "metadata": {},
          "execution_count": 48
        }
      ]
    },
    {
      "cell_type": "markdown",
      "source": [
        "#### ¿Cuánto aporta cada componente? ¿Por qué se quedo con 2?"
      ],
      "metadata": {
        "id": "44_vESThKHSE"
      }
    },
    {
      "cell_type": "code",
      "source": [
        "# Crear un objeto PCA sin especificar el número de componentes\n",
        "pca = PCA()\n",
        "\n",
        "# Ajustar PCA a los datos\n",
        "pca.fit(X)\n",
        "\n",
        "# Obtener la proporción de varianza explicada por cada componente\n",
        "explained_variance_ratio = pca.explained_variance_ratio_\n",
        "\n",
        "# Calcular la varianza acumulada explicada por los componentes\n",
        "cumulative_variance_ratio = np.cumsum(explained_variance_ratio)"
      ],
      "metadata": {
        "id": "hZabMuNGJK9J"
      },
      "execution_count": 44,
      "outputs": []
    },
    {
      "cell_type": "code",
      "source": [
        "explained_variance_ratio"
      ],
      "metadata": {
        "colab": {
          "base_uri": "https://localhost:8080/"
        },
        "id": "HVrDg-AhJeqi",
        "outputId": "f7b49ad1-af3a-4692-92de-f9ba50579acb"
      },
      "execution_count": 45,
      "outputs": [
        {
          "output_type": "execute_result",
          "data": {
            "text/plain": [
              "array([0.92461872, 0.05306648, 0.01710261, 0.00521218])"
            ]
          },
          "metadata": {},
          "execution_count": 45
        }
      ]
    },
    {
      "cell_type": "code",
      "source": [
        "cumulative_variance_ratio"
      ],
      "metadata": {
        "colab": {
          "base_uri": "https://localhost:8080/"
        },
        "id": "Xtduzb2nJg3t",
        "outputId": "d6962fed-97f1-4e6f-8ce0-0b67d6ccf011"
      },
      "execution_count": 46,
      "outputs": [
        {
          "output_type": "execute_result",
          "data": {
            "text/plain": [
              "array([0.92461872, 0.97768521, 0.99478782, 1.        ])"
            ]
          },
          "metadata": {},
          "execution_count": 46
        }
      ]
    },
    {
      "cell_type": "markdown",
      "source": [
        "## 5. Links de interés <a name=\"links\"></a>"
      ],
      "metadata": {
        "id": "4ZLwGjES0O50"
      }
    },
    {
      "cell_type": "markdown",
      "source": [
        "- [Clustering in Machine Learning](https://www.geeksforgeeks.org/clustering-in-machine-learning/)\n",
        "- [Machine Learning & Clustering: el algoritmo DBSCAN](https://datascientest.com/es/machine-learning-clustering-dbscan)\n",
        "- [Comprende Principal Component Analysis](https://www.aprendemachinelearning.com/comprende-principal-component-analysis/)"
      ],
      "metadata": {
        "id": "R75ytPht0dY7"
      }
    }
  ]
}