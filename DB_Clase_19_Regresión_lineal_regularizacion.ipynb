{
  "nbformat": 4,
  "nbformat_minor": 0,
  "metadata": {
    "colab": {
      "provenance": []
    },
    "kernelspec": {
      "name": "python3",
      "display_name": "Python 3"
    },
    "language_info": {
      "name": "python"
    }
  },
  "cells": [
    {
      "cell_type": "markdown",
      "source": [
        "<div align=\"right\">\n",
        "  <img src=\"https://drive.google.com/uc?export=view&id=1J8JpP65HsHXdpJvhb_sMwn3yROyU832m\" height=\"80\" width=\"200\" style=\"float: right;\">\n",
        "</div>\n",
        "<h1><b>Data Science and Machine Learning</b></h1>\n",
        "<h2><b>Clase 19</b>: Regresión lineal con regularización</h2>\n",
        "<h3><b>Docente</b>: <a href=\"https://www.linkedin.com/in/danielablanco/\">Daniela Blanco</a>"
      ],
      "metadata": {
        "id": "Wp4cyu16yiif"
      }
    },
    {
      "cell_type": "markdown",
      "source": [
        "# Contenido\n",
        "\n",
        "- [1. Regresión lineal](#lineal)\n",
        "- [2. Regularización](#regularizacion)\n",
        "  - [2.1. Lasso o L1](#lasso)\n",
        "  - [2.2. Ridge o L2](#ridge)\n",
        "- [3. Ejemplo práctico](#ejemplo)\n",
        "- [4. Links de interés](#links)\n"
      ],
      "metadata": {
        "id": "XEmijBfl2b_I"
      }
    },
    {
      "cell_type": "code",
      "source": [
        "import pandas as pd\n",
        "import numpy as np\n",
        "\n",
        "import matplotlib.pyplot as plt\n",
        "import seaborn as sns\n",
        "\n",
        "from google.colab import drive\n",
        "\n",
        "from sklearn.linear_model import LinearRegression\n",
        "from sklearn.linear_model import Lasso\n",
        "from sklearn.linear_model import Ridge\n",
        "\n",
        "from sklearn.metrics import mean_squared_error, r2_score"
      ],
      "metadata": {
        "id": "cPtXYusox8X4"
      },
      "execution_count": 2,
      "outputs": []
    },
    {
      "cell_type": "markdown",
      "source": [
        "## 1. Regresión lineal <a name=\"lineal\"></a>"
      ],
      "metadata": {
        "id": "Pw6lT_8L3Bny"
      }
    },
    {
      "cell_type": "markdown",
      "source": [
        "<img src=\"https://drive.google.com/uc?export=view&id=19fbPfEO1uDUKc6Qr738X7LGnpEBPOpVJ\" height=\"232\" width=\"446\" style=\"float: center;\">"
      ],
      "metadata": {
        "id": "XlGxqok8qZon"
      }
    },
    {
      "cell_type": "markdown",
      "source": [
        "La regresión lineal (linear regression) es un tipo de modelo que se utiliza para predecir el valor de una variable dependiente (o variable objetivo) basado en el valor de una o más variables independientes (o variables predictoras).\n",
        "\n",
        "Es decir para problemas **supervisados** de **regresión** ya que predice un valor continuo.\n",
        "\n",
        "Si la relación entre la variable objetivo es con una única variable predictora, se dice que la **regresión** es **simple**. Si es con varias predictoras, recibe el nombre de **regresión múltiple**."
      ],
      "metadata": {
        "id": "MrE2Gc3Ygk8X"
      }
    },
    {
      "cell_type": "markdown",
      "source": [
        "## 2. Regularización <a name=\"regularizacion\"></a>"
      ],
      "metadata": {
        "id": "1qUHhmtA0seB"
      }
    },
    {
      "cell_type": "markdown",
      "source": [
        "El sobreajuste ocurre cuando un modelo se ajusta demasiado bien a los datos de entrenamiento, capturando ruido y patrones irrelevantes, lo que resulta en un desempeño pobre en datos no vistos.\n",
        "\n",
        "La regularización en modelos lineales es una técnica utilizada para prevenir el sobreajuste (overfitting) y mejorar la capacidad de generalización del modelo.\n",
        "\n",
        "Agrega una penalización a la función de costo del modelo para evitar este problema.\n",
        "\n",
        "Ambas técnicas intentan limitar o \"penalizar\" el tamaño de los coeficientes del modelo."
      ],
      "metadata": {
        "id": "OT9LITPwSd3u"
      }
    },
    {
      "cell_type": "markdown",
      "source": [
        "**Ventajas de la Regularización**\n",
        "\n",
        "- Prevención del Sobreajuste: reduce la varianza del modelo y lo hace más robusto frente a nuevos datos.\n",
        "\n",
        "- Mejora de la Interpretabilidad: Especialmente con L1, se pueden obtener modelos más simples y fáciles de interpretar, ya que puede reducir el número de características.\n",
        "\n",
        "- Reducción de la Complejidad del Modelo: La penalización ayuda a controlar la magnitud de los coeficientes dejando algunos sin utilizar."
      ],
      "metadata": {
        "id": "uIUboY4FVBO8"
      }
    },
    {
      "cell_type": "markdown",
      "source": [
        "### 2.1. Lasso o L1 <a name=\"lasso\"></a>"
      ],
      "metadata": {
        "id": "aTAT7UQEfOoH"
      }
    },
    {
      "cell_type": "markdown",
      "source": [
        "Añade una penalización igual al valor absoluto de la magnitud de los coeficientes.\n",
        "\n",
        "Puede resultar en coeficientes iguales a cero, lo que indica que la característica correspondiente no se utiliza en el modelo.\n",
        "\n",
        "Lo que resulta en modelos más sencillos y con menos características, también conocido como técnica de selección de características."
      ],
      "metadata": {
        "id": "24i5xw76k6kl"
      }
    },
    {
      "cell_type": "markdown",
      "source": [
        "$$\n",
        "\\underset{\\beta}{\\text{Minimizar}} \\quad \\text{RSS} + \\lambda \\sum_{j=1}^{p} |\\beta_j|\n",
        "$$\n",
        "\n",
        "Donde:\n",
        "- $\\text{RSS}$ es la suma de los errores cuadrados residuales.\n",
        "- $\\lambda$ es el parámetro de regularización.\n",
        "- $|\\beta_j|$ es el valor absoluto de los coeficientes."
      ],
      "metadata": {
        "id": "q2AciFiHN04k"
      }
    },
    {
      "cell_type": "markdown",
      "source": [
        "### 2.2. Ridge o L2 <a name=\"ridge\"></a>"
      ],
      "metadata": {
        "id": "PUGVrKIU1xED"
      }
    },
    {
      "cell_type": "markdown",
      "source": [
        "Añade una penalización igual al cuadrado de la magnitud de los coeficientes.\n",
        "\n",
        "Esto tiende a reducir los coeficientes, pero no los hace exactamente cero, por lo que todas las características se mantienen en el modelo.\n",
        "\n",
        "Esto puede ser útil para mantener todas las características en el modelo, pero con una influencia reducida."
      ],
      "metadata": {
        "id": "_rXr72LT0M2p"
      }
    },
    {
      "cell_type": "markdown",
      "source": [
        "$$\n",
        "\\underset{\\beta}{\\text{Minimizar}} \\quad \\text{RSS} + \\lambda \\sum_{j=1}^{p} \\beta_j^2\n",
        "$$\n",
        "\n",
        "Donde:\n",
        "- $\\text{RSS}$ es la suma de los errores cuadrados residuales: $\\sum_{i=1}^n (y_i - \\hat{y}_i)^2$\n",
        "- $\\lambda$ es el parámetro de regularización (controla la penalización).\n",
        "- $\\beta_j$ son los coeficientes del modelo."
      ],
      "metadata": {
        "id": "cp-4T4foUYya"
      }
    },
    {
      "cell_type": "markdown",
      "source": [
        "## 3. Ejemplo práctico <a name=\"ejemplo\"></a>"
      ],
      "metadata": {
        "id": "EoZ6P8ui3jq6"
      }
    },
    {
      "cell_type": "markdown",
      "source": [
        "Podemos construir un modelo lineal regularizado fácilmente en Python utilizando la librería `scikit-learn` y las funciones `Lasso` y `Ridge`.\n",
        "\n",
        "Hiperparámetros más importantes:\n",
        "\n",
        "- `alpha`: Este es el hiperparámetro de regularización. Controla cuánto queremos penalizar los coeficientes altos.\n",
        "\n",
        "Un valor más alto aumenta la regularización y, por lo tanto, los coeficientes del modelo tienden a ser más pequeños.\n",
        "\n",
        "Por el contrario, un valor más bajo la reduce y permite coeficientes más altos.\n",
        "\n",
        "El valor por defecto es 1.0 y su rango de valores va desde 0.0 hasta infinito.\n",
        "\n",
        "- `max_iter`: Es el número máximo de iteraciones del modelo."
      ],
      "metadata": {
        "id": "DDM_PG6T30Cn"
      }
    },
    {
      "cell_type": "markdown",
      "source": [
        "Para ejemplificar la implementación de un modelo de regresión múltiple simple utilizaremos un conjunto de datos que ya ha sido previamente tratado con un EDA completo."
      ],
      "metadata": {
        "id": "ZKiAVOcnLcX4"
      }
    },
    {
      "cell_type": "markdown",
      "source": [
        "## 1. Lectura del conjunto de datos procesado"
      ],
      "metadata": {
        "id": "Mmz4gfZEMtUX"
      }
    },
    {
      "cell_type": "code",
      "source": [
        "# conexion drive\n",
        "drive.mount('/content/drive')"
      ],
      "metadata": {
        "colab": {
          "base_uri": "https://localhost:8080/"
        },
        "id": "N69JsRU-WL-Y",
        "outputId": "5e4e43ad-603f-468d-a43e-d8555bf6a32a"
      },
      "execution_count": 3,
      "outputs": [
        {
          "output_type": "stream",
          "name": "stdout",
          "text": [
            "Mounted at /content/drive\n"
          ]
        }
      ]
    },
    {
      "cell_type": "code",
      "source": [
        "archivo = '/content/drive/MyDrive/4Geeks/cursadas/ds_pt_8/data/clean_weight-height_train.csv'\n",
        "train_data = pd.read_csv(archivo)\n",
        "\n",
        "train_data.head()"
      ],
      "metadata": {
        "colab": {
          "base_uri": "https://localhost:8080/",
          "height": 206
        },
        "id": "YeKHmHvtLy0m",
        "outputId": "6c77024d-a75e-4ffb-ceea-d1361809a994"
      },
      "execution_count": 4,
      "outputs": [
        {
          "output_type": "execute_result",
          "data": {
            "text/plain": [
              "   Gender    Height      Weight\n",
              "0    -1.0 -0.575639  151.275533\n",
              "1    -1.0 -0.992843  123.965162\n",
              "2    -1.0 -0.925964  124.765438\n",
              "3    -1.0 -1.478210  119.195698\n",
              "4     1.0 -1.598649  146.956646"
            ],
            "text/html": [
              "\n",
              "  <div id=\"df-e2f9aa72-5507-4d74-b5b4-2057f1814080\" class=\"colab-df-container\">\n",
              "    <div>\n",
              "<style scoped>\n",
              "    .dataframe tbody tr th:only-of-type {\n",
              "        vertical-align: middle;\n",
              "    }\n",
              "\n",
              "    .dataframe tbody tr th {\n",
              "        vertical-align: top;\n",
              "    }\n",
              "\n",
              "    .dataframe thead th {\n",
              "        text-align: right;\n",
              "    }\n",
              "</style>\n",
              "<table border=\"1\" class=\"dataframe\">\n",
              "  <thead>\n",
              "    <tr style=\"text-align: right;\">\n",
              "      <th></th>\n",
              "      <th>Gender</th>\n",
              "      <th>Height</th>\n",
              "      <th>Weight</th>\n",
              "    </tr>\n",
              "  </thead>\n",
              "  <tbody>\n",
              "    <tr>\n",
              "      <th>0</th>\n",
              "      <td>-1.0</td>\n",
              "      <td>-0.575639</td>\n",
              "      <td>151.275533</td>\n",
              "    </tr>\n",
              "    <tr>\n",
              "      <th>1</th>\n",
              "      <td>-1.0</td>\n",
              "      <td>-0.992843</td>\n",
              "      <td>123.965162</td>\n",
              "    </tr>\n",
              "    <tr>\n",
              "      <th>2</th>\n",
              "      <td>-1.0</td>\n",
              "      <td>-0.925964</td>\n",
              "      <td>124.765438</td>\n",
              "    </tr>\n",
              "    <tr>\n",
              "      <th>3</th>\n",
              "      <td>-1.0</td>\n",
              "      <td>-1.478210</td>\n",
              "      <td>119.195698</td>\n",
              "    </tr>\n",
              "    <tr>\n",
              "      <th>4</th>\n",
              "      <td>1.0</td>\n",
              "      <td>-1.598649</td>\n",
              "      <td>146.956646</td>\n",
              "    </tr>\n",
              "  </tbody>\n",
              "</table>\n",
              "</div>\n",
              "    <div class=\"colab-df-buttons\">\n",
              "\n",
              "  <div class=\"colab-df-container\">\n",
              "    <button class=\"colab-df-convert\" onclick=\"convertToInteractive('df-e2f9aa72-5507-4d74-b5b4-2057f1814080')\"\n",
              "            title=\"Convert this dataframe to an interactive table.\"\n",
              "            style=\"display:none;\">\n",
              "\n",
              "  <svg xmlns=\"http://www.w3.org/2000/svg\" height=\"24px\" viewBox=\"0 -960 960 960\">\n",
              "    <path d=\"M120-120v-720h720v720H120Zm60-500h600v-160H180v160Zm220 220h160v-160H400v160Zm0 220h160v-160H400v160ZM180-400h160v-160H180v160Zm440 0h160v-160H620v160ZM180-180h160v-160H180v160Zm440 0h160v-160H620v160Z\"/>\n",
              "  </svg>\n",
              "    </button>\n",
              "\n",
              "  <style>\n",
              "    .colab-df-container {\n",
              "      display:flex;\n",
              "      gap: 12px;\n",
              "    }\n",
              "\n",
              "    .colab-df-convert {\n",
              "      background-color: #E8F0FE;\n",
              "      border: none;\n",
              "      border-radius: 50%;\n",
              "      cursor: pointer;\n",
              "      display: none;\n",
              "      fill: #1967D2;\n",
              "      height: 32px;\n",
              "      padding: 0 0 0 0;\n",
              "      width: 32px;\n",
              "    }\n",
              "\n",
              "    .colab-df-convert:hover {\n",
              "      background-color: #E2EBFA;\n",
              "      box-shadow: 0px 1px 2px rgba(60, 64, 67, 0.3), 0px 1px 3px 1px rgba(60, 64, 67, 0.15);\n",
              "      fill: #174EA6;\n",
              "    }\n",
              "\n",
              "    .colab-df-buttons div {\n",
              "      margin-bottom: 4px;\n",
              "    }\n",
              "\n",
              "    [theme=dark] .colab-df-convert {\n",
              "      background-color: #3B4455;\n",
              "      fill: #D2E3FC;\n",
              "    }\n",
              "\n",
              "    [theme=dark] .colab-df-convert:hover {\n",
              "      background-color: #434B5C;\n",
              "      box-shadow: 0px 1px 3px 1px rgba(0, 0, 0, 0.15);\n",
              "      filter: drop-shadow(0px 1px 2px rgba(0, 0, 0, 0.3));\n",
              "      fill: #FFFFFF;\n",
              "    }\n",
              "  </style>\n",
              "\n",
              "    <script>\n",
              "      const buttonEl =\n",
              "        document.querySelector('#df-e2f9aa72-5507-4d74-b5b4-2057f1814080 button.colab-df-convert');\n",
              "      buttonEl.style.display =\n",
              "        google.colab.kernel.accessAllowed ? 'block' : 'none';\n",
              "\n",
              "      async function convertToInteractive(key) {\n",
              "        const element = document.querySelector('#df-e2f9aa72-5507-4d74-b5b4-2057f1814080');\n",
              "        const dataTable =\n",
              "          await google.colab.kernel.invokeFunction('convertToInteractive',\n",
              "                                                    [key], {});\n",
              "        if (!dataTable) return;\n",
              "\n",
              "        const docLinkHtml = 'Like what you see? Visit the ' +\n",
              "          '<a target=\"_blank\" href=https://colab.research.google.com/notebooks/data_table.ipynb>data table notebook</a>'\n",
              "          + ' to learn more about interactive tables.';\n",
              "        element.innerHTML = '';\n",
              "        dataTable['output_type'] = 'display_data';\n",
              "        await google.colab.output.renderOutput(dataTable, element);\n",
              "        const docLink = document.createElement('div');\n",
              "        docLink.innerHTML = docLinkHtml;\n",
              "        element.appendChild(docLink);\n",
              "      }\n",
              "    </script>\n",
              "  </div>\n",
              "\n",
              "\n",
              "<div id=\"df-990c6bc5-4ef4-4f35-9fce-0ee0cb4ae875\">\n",
              "  <button class=\"colab-df-quickchart\" onclick=\"quickchart('df-990c6bc5-4ef4-4f35-9fce-0ee0cb4ae875')\"\n",
              "            title=\"Suggest charts\"\n",
              "            style=\"display:none;\">\n",
              "\n",
              "<svg xmlns=\"http://www.w3.org/2000/svg\" height=\"24px\"viewBox=\"0 0 24 24\"\n",
              "     width=\"24px\">\n",
              "    <g>\n",
              "        <path d=\"M19 3H5c-1.1 0-2 .9-2 2v14c0 1.1.9 2 2 2h14c1.1 0 2-.9 2-2V5c0-1.1-.9-2-2-2zM9 17H7v-7h2v7zm4 0h-2V7h2v10zm4 0h-2v-4h2v4z\"/>\n",
              "    </g>\n",
              "</svg>\n",
              "  </button>\n",
              "\n",
              "<style>\n",
              "  .colab-df-quickchart {\n",
              "      --bg-color: #E8F0FE;\n",
              "      --fill-color: #1967D2;\n",
              "      --hover-bg-color: #E2EBFA;\n",
              "      --hover-fill-color: #174EA6;\n",
              "      --disabled-fill-color: #AAA;\n",
              "      --disabled-bg-color: #DDD;\n",
              "  }\n",
              "\n",
              "  [theme=dark] .colab-df-quickchart {\n",
              "      --bg-color: #3B4455;\n",
              "      --fill-color: #D2E3FC;\n",
              "      --hover-bg-color: #434B5C;\n",
              "      --hover-fill-color: #FFFFFF;\n",
              "      --disabled-bg-color: #3B4455;\n",
              "      --disabled-fill-color: #666;\n",
              "  }\n",
              "\n",
              "  .colab-df-quickchart {\n",
              "    background-color: var(--bg-color);\n",
              "    border: none;\n",
              "    border-radius: 50%;\n",
              "    cursor: pointer;\n",
              "    display: none;\n",
              "    fill: var(--fill-color);\n",
              "    height: 32px;\n",
              "    padding: 0;\n",
              "    width: 32px;\n",
              "  }\n",
              "\n",
              "  .colab-df-quickchart:hover {\n",
              "    background-color: var(--hover-bg-color);\n",
              "    box-shadow: 0 1px 2px rgba(60, 64, 67, 0.3), 0 1px 3px 1px rgba(60, 64, 67, 0.15);\n",
              "    fill: var(--button-hover-fill-color);\n",
              "  }\n",
              "\n",
              "  .colab-df-quickchart-complete:disabled,\n",
              "  .colab-df-quickchart-complete:disabled:hover {\n",
              "    background-color: var(--disabled-bg-color);\n",
              "    fill: var(--disabled-fill-color);\n",
              "    box-shadow: none;\n",
              "  }\n",
              "\n",
              "  .colab-df-spinner {\n",
              "    border: 2px solid var(--fill-color);\n",
              "    border-color: transparent;\n",
              "    border-bottom-color: var(--fill-color);\n",
              "    animation:\n",
              "      spin 1s steps(1) infinite;\n",
              "  }\n",
              "\n",
              "  @keyframes spin {\n",
              "    0% {\n",
              "      border-color: transparent;\n",
              "      border-bottom-color: var(--fill-color);\n",
              "      border-left-color: var(--fill-color);\n",
              "    }\n",
              "    20% {\n",
              "      border-color: transparent;\n",
              "      border-left-color: var(--fill-color);\n",
              "      border-top-color: var(--fill-color);\n",
              "    }\n",
              "    30% {\n",
              "      border-color: transparent;\n",
              "      border-left-color: var(--fill-color);\n",
              "      border-top-color: var(--fill-color);\n",
              "      border-right-color: var(--fill-color);\n",
              "    }\n",
              "    40% {\n",
              "      border-color: transparent;\n",
              "      border-right-color: var(--fill-color);\n",
              "      border-top-color: var(--fill-color);\n",
              "    }\n",
              "    60% {\n",
              "      border-color: transparent;\n",
              "      border-right-color: var(--fill-color);\n",
              "    }\n",
              "    80% {\n",
              "      border-color: transparent;\n",
              "      border-right-color: var(--fill-color);\n",
              "      border-bottom-color: var(--fill-color);\n",
              "    }\n",
              "    90% {\n",
              "      border-color: transparent;\n",
              "      border-bottom-color: var(--fill-color);\n",
              "    }\n",
              "  }\n",
              "</style>\n",
              "\n",
              "  <script>\n",
              "    async function quickchart(key) {\n",
              "      const quickchartButtonEl =\n",
              "        document.querySelector('#' + key + ' button');\n",
              "      quickchartButtonEl.disabled = true;  // To prevent multiple clicks.\n",
              "      quickchartButtonEl.classList.add('colab-df-spinner');\n",
              "      try {\n",
              "        const charts = await google.colab.kernel.invokeFunction(\n",
              "            'suggestCharts', [key], {});\n",
              "      } catch (error) {\n",
              "        console.error('Error during call to suggestCharts:', error);\n",
              "      }\n",
              "      quickchartButtonEl.classList.remove('colab-df-spinner');\n",
              "      quickchartButtonEl.classList.add('colab-df-quickchart-complete');\n",
              "    }\n",
              "    (() => {\n",
              "      let quickchartButtonEl =\n",
              "        document.querySelector('#df-990c6bc5-4ef4-4f35-9fce-0ee0cb4ae875 button');\n",
              "      quickchartButtonEl.style.display =\n",
              "        google.colab.kernel.accessAllowed ? 'block' : 'none';\n",
              "    })();\n",
              "  </script>\n",
              "</div>\n",
              "\n",
              "    </div>\n",
              "  </div>\n"
            ],
            "application/vnd.google.colaboratory.intrinsic+json": {
              "type": "dataframe",
              "variable_name": "train_data",
              "summary": "{\n  \"name\": \"train_data\",\n  \"rows\": 8000,\n  \"fields\": [\n    {\n      \"column\": \"Gender\",\n      \"properties\": {\n        \"dtype\": \"number\",\n        \"std\": 1.00006097451312,\n        \"min\": -1.0,\n        \"max\": 1.0,\n        \"num_unique_values\": 2,\n        \"samples\": [\n          1.0,\n          -1.0\n        ],\n        \"semantic_type\": \"\",\n        \"description\": \"\"\n      }\n    },\n    {\n      \"column\": \"Height\",\n      \"properties\": {\n        \"dtype\": \"number\",\n        \"std\": 0.9998034176745045,\n        \"min\": -3.1461840736353843,\n        \"max\": 3.283098602936328,\n        \"num_unique_values\": 8000,\n        \"samples\": [\n          -2.184790759575697,\n          0.8229164974357205\n        ],\n        \"semantic_type\": \"\",\n        \"description\": \"\"\n      }\n    },\n    {\n      \"column\": \"Weight\",\n      \"properties\": {\n        \"dtype\": \"number\",\n        \"std\": 31.980908082787455,\n        \"min\": 64.700126712753,\n        \"max\": 269.989698505106,\n        \"num_unique_values\": 8000,\n        \"samples\": [\n          112.226983636465,\n          200.677823835259\n        ],\n        \"semantic_type\": \"\",\n        \"description\": \"\"\n      }\n    }\n  ]\n}"
            }
          },
          "metadata": {},
          "execution_count": 4
        }
      ]
    },
    {
      "cell_type": "code",
      "source": [
        "train_data.shape"
      ],
      "metadata": {
        "colab": {
          "base_uri": "https://localhost:8080/"
        },
        "id": "EtEfHodIL67j",
        "outputId": "406213ac-d5b4-41f4-f25d-7765412e6d48"
      },
      "execution_count": 5,
      "outputs": [
        {
          "output_type": "execute_result",
          "data": {
            "text/plain": [
              "(8000, 3)"
            ]
          },
          "metadata": {},
          "execution_count": 5
        }
      ]
    },
    {
      "cell_type": "code",
      "source": [
        "archivo = '/content/drive/MyDrive/4Geeks/cursadas/ds_pt_8/data/clean_weight-height_test.csv'\n",
        "test_data = pd.read_csv(archivo)\n",
        "\n",
        "test_data.shape"
      ],
      "metadata": {
        "colab": {
          "base_uri": "https://localhost:8080/"
        },
        "id": "23uojWRTL0WC",
        "outputId": "053be36f-5530-49ef-96bd-127699f9204a"
      },
      "execution_count": 6,
      "outputs": [
        {
          "output_type": "execute_result",
          "data": {
            "text/plain": [
              "(2000, 3)"
            ]
          },
          "metadata": {},
          "execution_count": 6
        }
      ]
    },
    {
      "cell_type": "markdown",
      "source": [
        "Para este problema, queremos calcular el peso (`weight`) en función de la altura (`height`) y del género (`gender`) de la persona.\n",
        "\n",
        "Por lo tanto, el peso será la variable dependiente (variable objetivo) y la altura y el género, las variables independientes (variables predictoras)."
      ],
      "metadata": {
        "id": "GM-ZVD5dLzmm"
      }
    },
    {
      "cell_type": "markdown",
      "source": [
        "## 2. Selección de variables"
      ],
      "metadata": {
        "id": "QLGOuJ6OcEUA"
      }
    },
    {
      "cell_type": "code",
      "source": [
        "# seleccion de variables\n",
        "X_train = train_data.drop([\"Weight\"], axis = 1)\n",
        "y_train = train_data[\"Weight\"]\n",
        "\n",
        "X_test = test_data.drop([\"Weight\"], axis = 1)\n",
        "y_test = test_data[\"Weight\"]"
      ],
      "metadata": {
        "id": "YhJNmZnwMbSw"
      },
      "execution_count": 7,
      "outputs": []
    },
    {
      "cell_type": "markdown",
      "source": [
        "## Modelado"
      ],
      "metadata": {
        "id": "YqSSGEl9LWn4"
      }
    },
    {
      "cell_type": "markdown",
      "source": [
        "### Regresión lineal"
      ],
      "metadata": {
        "id": "QEMqQ4YuMvjz"
      }
    },
    {
      "cell_type": "code",
      "source": [
        "# modelo\n",
        "reg_lin = LinearRegression()\n",
        "\n",
        "# entrenamiento\n",
        "reg_lin.fit(X_train, y_train)\n",
        "\n",
        "# predicción\n",
        "y_pred = reg_lin.predict(X_test)\n",
        "y_pred\n",
        "\n",
        "# metricas\n",
        "mse_rl = mean_squared_error(y_test, y_pred)\n",
        "rmse_rl = np.sqrt(mse_rl)\n",
        "r2_rl = r2_score(y_test, y_pred)\n",
        "\n",
        "print(\"MSE: \", mse_rl)\n",
        "print(\"RMSE: \", rmse_rl)\n",
        "print(\"Coeficiente de determinación: \", r2_rl)"
      ],
      "metadata": {
        "colab": {
          "base_uri": "https://localhost:8080/"
        },
        "id": "1KT8rTssMw_Y",
        "outputId": "06f87d0f-fa06-4168-f075-8662d4559029"
      },
      "execution_count": 8,
      "outputs": [
        {
          "output_type": "stream",
          "name": "stdout",
          "text": [
            "MSE:  98.21235363443171\n",
            "RMSE:  9.910214610916945\n",
            "Coeficiente de determinación:  0.9075866115171992\n"
          ]
        }
      ]
    },
    {
      "cell_type": "markdown",
      "source": [
        "Si la variable está medida en KG un RMSE de 9.91 dice que en promedio se equivoca en ese valor.\n",
        "\n",
        "Si nos apoyamos en el valor del $R^2$, observamos que es de un 90%, un valor muy alto, luego el 90% de los datos están explicados por el modelo, por lo que es satisfactorio."
      ],
      "metadata": {
        "id": "XprmWPXnNFk8"
      }
    },
    {
      "cell_type": "markdown",
      "source": [
        "### Regularización Lasso"
      ],
      "metadata": {
        "id": "VYYQwTt6agIF"
      }
    },
    {
      "cell_type": "code",
      "source": [
        "# modelo\n",
        "reg_lasso = Lasso(alpha = 0.3, max_iter = 1000)\n",
        "\n",
        "# entrenamiento\n",
        "reg_lasso.fit(X_train, y_train)\n",
        "\n",
        "# prediccion\n",
        "y_pred = reg_lasso.predict(X_test)\n",
        "y_pred\n",
        "\n",
        "# metricas\n",
        "mse_l1 = mean_squared_error(y_test, y_pred)\n",
        "rmse_l1 = np.sqrt(mse_l1)\n",
        "r2_l1 = r2_score(y_test, y_pred)\n",
        "\n",
        "print(\"MSE: \", mse_l1)\n",
        "print(\"RMSE: \", rmse_l1)\n",
        "print(\"Coeficiente de determinación: \", r2_l1)"
      ],
      "metadata": {
        "colab": {
          "base_uri": "https://localhost:8080/"
        },
        "id": "3QUaRV9eazlU",
        "outputId": "90086891-177a-4f73-ec02-6693e96a84fb"
      },
      "execution_count": 12,
      "outputs": [
        {
          "output_type": "stream",
          "name": "stdout",
          "text": [
            "MSE:  98.76962192908904\n",
            "RMSE:  9.938290694535405\n",
            "Coeficiente de determinación:  0.9070622472239351\n"
          ]
        }
      ]
    },
    {
      "cell_type": "markdown",
      "source": [
        "### Regularización Ridge"
      ],
      "metadata": {
        "id": "c5veOHgGamS9"
      }
    },
    {
      "cell_type": "code",
      "source": [
        "# modelo\n",
        "reg_ridge = Ridge(alpha = 0.2, max_iter = 4000)\n",
        "\n",
        "# entrenamiento\n",
        "reg_ridge.fit(X_train, y_train)\n",
        "\n",
        "# prediccion\n",
        "y_pred = reg_ridge.predict(X_test)\n",
        "y_pred\n",
        "\n",
        "# metricas\n",
        "mse_l2 = mean_squared_error(y_test, y_pred)\n",
        "rmse_l2 = np.sqrt(mse_l2)\n",
        "r2_l2 = r2_score(y_test, y_pred)\n",
        "\n",
        "print(\"MSE: \", mse_l2)\n",
        "print(\"RMSE: \", rmse_l2)\n",
        "print(\"Coeficiente de determinación: \", r2_l2)"
      ],
      "metadata": {
        "colab": {
          "base_uri": "https://localhost:8080/"
        },
        "id": "U3QM0txWbJFl",
        "outputId": "3472c899-06e6-4af3-9f09-26372fe3fb8f"
      },
      "execution_count": 15,
      "outputs": [
        {
          "output_type": "stream",
          "name": "stdout",
          "text": [
            "MSE:  98.21308779600086\n",
            "RMSE:  9.910251651497093\n",
            "Coeficiente de determinación:  0.907585920704325\n"
          ]
        }
      ]
    },
    {
      "cell_type": "markdown",
      "source": [
        "### Resultados"
      ],
      "metadata": {
        "id": "5oGSvTQPcwRQ"
      }
    },
    {
      "cell_type": "code",
      "source": [
        "# Datos\n",
        "data = {\n",
        "    'Modelo': ['Regresión lineal', \"Regulación Lasso\", \"Regulación Ridge\"],\n",
        "    'MSE': [mse_rl, mse_l1, mse_l2],\n",
        "    'RMSE': [rmse_rl, rmse_l1, rmse_l2],\n",
        "    'R²': [r2_rl, r2_l1, r2_l2]\n",
        "}\n",
        "\n",
        "# Crear el DataFrame\n",
        "resultados = pd.DataFrame(data)\n",
        "\n",
        "# Mostrar el DataFrame\n",
        "print(resultados)"
      ],
      "metadata": {
        "colab": {
          "base_uri": "https://localhost:8080/"
        },
        "id": "iifHV4gBbR5I",
        "outputId": "b71587bf-8f6d-4e51-aa13-77f73e24e777"
      },
      "execution_count": 16,
      "outputs": [
        {
          "output_type": "stream",
          "name": "stdout",
          "text": [
            "             Modelo        MSE      RMSE        R²\n",
            "0  Regresión lineal  98.212354  9.910215  0.907587\n",
            "1  Regulación Lasso  98.769622  9.938291  0.907062\n",
            "2  Regulación Ridge  98.213088  9.910252  0.907586\n"
          ]
        }
      ]
    },
    {
      "cell_type": "markdown",
      "source": [
        "## 4. Links de interés <a name=\"links\"></a>"
      ],
      "metadata": {
        "id": "4ZLwGjES0O50"
      }
    },
    {
      "cell_type": "markdown",
      "source": [
        "- [Regularization in Machine Learning](https://towardsdatascience.com/regularization-in-machine-learning-76441ddcf99a)\n",
        "- [Regularizacón con SkLearn](https://scikit-learn.org/stable/modules/linear_model.html#regularization)\n",
        "- [Regularización para lograr simplicidad ](https://developers.google.com/machine-learning/crash-course/regularization-for-simplicity/video-lecture)"
      ],
      "metadata": {
        "id": "R75ytPht0dY7"
      }
    }
  ]
}