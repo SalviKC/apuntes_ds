{
  "nbformat": 4,
  "nbformat_minor": 0,
  "metadata": {
    "colab": {
      "provenance": []
    },
    "kernelspec": {
      "name": "python3",
      "display_name": "Python 3"
    },
    "language_info": {
      "name": "python"
    }
  },
  "cells": [
    {
      "cell_type": "markdown",
      "source": [
        "<div align=\"right\">\n",
        "  <img src=\"https://drive.google.com/uc?export=view&id=1J8JpP65HsHXdpJvhb_sMwn3yROyU832m\" height=\"80\" width=\"200\" style=\"float: right;\">\n",
        "</div>\n",
        "<h1><b>Data Science and Machine Learning</b></h1>\n",
        "<h2><b>Clase 26</b>: Series de tiempo</h2>\n",
        "<h3><b>Docente</b>: <a href=\"https://www.linkedin.com/in/danielablanco/\">Daniela Blanco</a>"
      ],
      "metadata": {
        "id": "Wp4cyu16yiif"
      }
    },
    {
      "cell_type": "markdown",
      "source": [
        "# Contenido\n",
        "\n",
        "- [1. ¿Series de tiempo?](#series)\n",
        "- [2. Conceptos básicos de series de tiempo](#conceptos)\n",
        "  - [2.1. Tendencia](#tendencia)\n",
        "  - [2.2. Estacionalidad](#estacionalidad)\n",
        "  - [2.3. Variabilidad](#variabilidad)\n",
        "  - [2.4. Puntos atípicos (Outliers)](#outliers)\n",
        "  - [2.5. Autocorrelación](#autocorrelación)\n",
        "  - [2.6. Puntos de inflexión](#infexion)\n",
        "- [3. Modelos](#modelos)\n",
        "  - [3.1. ARIMA](#arima)\n",
        "  - [3.2. Suavizado exponencial](#suavizado)\n",
        "  - [3.3. Redes neuronales recurrentes](#rnn)\n",
        "- [4. Ejemplo de uso](#ejemplo)\n",
        "- [5. Links de interés](#links)\n"
      ],
      "metadata": {
        "id": "XEmijBfl2b_I"
      }
    },
    {
      "cell_type": "code",
      "source": [
        "!pip install numpy==1.23.5 scipy cython\n",
        "!pip install pmdarima"
      ],
      "metadata": {
        "colab": {
          "base_uri": "https://localhost:8080/"
        },
        "id": "D65eAG0L75Lc",
        "outputId": "2b91b7e3-e7f6-4c8d-d0c3-32680727d576"
      },
      "execution_count": null,
      "outputs": [
        {
          "output_type": "stream",
          "name": "stdout",
          "text": [
            "Requirement already satisfied: numpy==1.23.5 in /usr/local/lib/python3.11/dist-packages (1.23.5)\n",
            "Requirement already satisfied: scipy in /usr/local/lib/python3.11/dist-packages (1.15.2)\n",
            "Requirement already satisfied: cython in /usr/local/lib/python3.11/dist-packages (3.0.12)\n",
            "Requirement already satisfied: pmdarima in /usr/local/lib/python3.11/dist-packages (2.0.4)\n",
            "Requirement already satisfied: joblib>=0.11 in /usr/local/lib/python3.11/dist-packages (from pmdarima) (1.4.2)\n",
            "Requirement already satisfied: Cython!=0.29.18,!=0.29.31,>=0.29 in /usr/local/lib/python3.11/dist-packages (from pmdarima) (3.0.12)\n",
            "Requirement already satisfied: numpy>=1.21.2 in /usr/local/lib/python3.11/dist-packages (from pmdarima) (1.23.5)\n",
            "Requirement already satisfied: pandas>=0.19 in /usr/local/lib/python3.11/dist-packages (from pmdarima) (2.2.2)\n",
            "Requirement already satisfied: scikit-learn>=0.22 in /usr/local/lib/python3.11/dist-packages (from pmdarima) (1.6.1)\n",
            "Requirement already satisfied: scipy>=1.3.2 in /usr/local/lib/python3.11/dist-packages (from pmdarima) (1.15.2)\n",
            "Requirement already satisfied: statsmodels>=0.13.2 in /usr/local/lib/python3.11/dist-packages (from pmdarima) (0.14.4)\n",
            "Requirement already satisfied: urllib3 in /usr/local/lib/python3.11/dist-packages (from pmdarima) (2.4.0)\n",
            "Requirement already satisfied: setuptools!=50.0.0,>=38.6.0 in /usr/local/lib/python3.11/dist-packages (from pmdarima) (75.2.0)\n",
            "Requirement already satisfied: packaging>=17.1 in /usr/local/lib/python3.11/dist-packages (from pmdarima) (24.2)\n",
            "Requirement already satisfied: python-dateutil>=2.8.2 in /usr/local/lib/python3.11/dist-packages (from pandas>=0.19->pmdarima) (2.9.0.post0)\n",
            "Requirement already satisfied: pytz>=2020.1 in /usr/local/lib/python3.11/dist-packages (from pandas>=0.19->pmdarima) (2025.2)\n",
            "Requirement already satisfied: tzdata>=2022.7 in /usr/local/lib/python3.11/dist-packages (from pandas>=0.19->pmdarima) (2025.2)\n",
            "Requirement already satisfied: threadpoolctl>=3.1.0 in /usr/local/lib/python3.11/dist-packages (from scikit-learn>=0.22->pmdarima) (3.6.0)\n",
            "Requirement already satisfied: patsy>=0.5.6 in /usr/local/lib/python3.11/dist-packages (from statsmodels>=0.13.2->pmdarima) (1.0.1)\n",
            "Requirement already satisfied: six>=1.5 in /usr/local/lib/python3.11/dist-packages (from python-dateutil>=2.8.2->pandas>=0.19->pmdarima) (1.17.0)\n"
          ]
        }
      ]
    },
    {
      "cell_type": "code",
      "source": [
        "import pandas as pd\n",
        "import numpy as np\n",
        "\n",
        "import matplotlib.pyplot as plt\n",
        "import seaborn as sns\n",
        "\n",
        "from statsmodels.tsa.seasonal import seasonal_decompose\n",
        "from statsmodels.tsa.stattools import adfuller\n",
        "from statsmodels.graphics.tsaplots import plot_acf, plot_pacf\n",
        "\n",
        "from statsmodels.tsa.arima.model import ARIMA\n",
        "from pmdarima import auto_arima\n",
        "\n",
        "import warnings"
      ],
      "metadata": {
        "id": "cPtXYusox8X4"
      },
      "execution_count": null,
      "outputs": []
    },
    {
      "cell_type": "code",
      "source": [
        "warnings.filterwarnings(\"ignore\")"
      ],
      "metadata": {
        "id": "XQZiW-SCCQSK"
      },
      "execution_count": null,
      "outputs": []
    },
    {
      "cell_type": "markdown",
      "source": [
        "## 1. ¿Series de tiempo? <a name=\"series\"></a>\n"
      ],
      "metadata": {
        "id": "Pw6lT_8L3Bny"
      }
    },
    {
      "cell_type": "markdown",
      "source": [
        "<img src=\"https://drive.google.com/uc?export=view&id=1WrZYkQaggrRwLY2ejIGfoq0Pqm70j-_N\" height=\"143\" width=\"418\" style=\"float: center;\">"
      ],
      "metadata": {
        "id": "XlGxqok8qZon"
      }
    },
    {
      "cell_type": "markdown",
      "source": [
        "Una serie de tiempo es una **secuencia de datos ordenados en el tiempo**, donde cada punto de datos está asociado a un instante específico.\n",
        "\n",
        "En otras palabras, es una colección de observaciones que se registran en intervalos a lo largo del tiempo.\n",
        "\n",
        "El tiempo es la variable independiente, y las observaciones registradas a lo largo del tiempo son las variables dependientes.\n",
        "\n",
        "El objetivo principal de analizar una serie temporal es **comprender y modelar el patrón subyacente en los datos a lo largo del tiempo**, con el fin de hacer predicciones futuras (la próxima foto) o extraer información relevante.\n",
        "\n",
        "Las series temporales se encuentran comúnmente en una amplia variedad de campos: economía, finanzas, meteorología, ciencia e ingeniería, entre otras.\n",
        "\n",
        "Algunos ejemplos de series temporales incluyen datos de ventas diarias, precios de acciones, temperaturas diarias, tasas de crecimiento de población, niveles de producción, etcétera.\n",
        "\n",
        "Es importante tener en cuenta que los **datos están correlacionados en el tiempo**. Esto significa que las observaciones en un momento dado pueden depender de las observaciones pasadas y, en algunos casos, también pueden verse afectadas por las observaciones futuras.\n",
        "\n",
        "Este patrón de correlación en el tiempo es lo que hace que el análisis de series temporales sea único y **requiera técnicas específicas para su modelado y predicción**."
      ],
      "metadata": {
        "id": "MrE2Gc3Ygk8X"
      }
    },
    {
      "cell_type": "markdown",
      "source": [
        "## 2. Conceptos básicos de series de tiempo <a name=\"conceptos\"></a>"
      ],
      "metadata": {
        "id": "0EFjo2dfrz3W"
      }
    },
    {
      "cell_type": "markdown",
      "source": [
        "Cuando analizamos visualmente una serie temporal, hay varias cosas importantes que debemos buscar para comprender el comportamiento y los patrones de los datos a lo largo del tiempo.\n",
        "\n",
        "Al identificar estas características podemos obtener información valiosa sobre el comportamiento y las relaciones temporales de los datos."
      ],
      "metadata": {
        "id": "WatAvMCC09qF"
      }
    },
    {
      "cell_type": "markdown",
      "source": [
        "### 2.1.Tendencia <a name=\"tendencia\"></a>"
      ],
      "metadata": {
        "id": "fOlKHUOFB2Kp"
      }
    },
    {
      "cell_type": "markdown",
      "source": [
        "Se denomina tendencia de una serie temporal a su comportamiento o movimiento a largo plazo.\n",
        "\n",
        "Una tendencia puede ser lineal (crecimiento o decrecimiento constante) o no lineal (crecimiento o decrecimiento acelerado o desacelerado).\n",
        "\n",
        "**Tendencia Ascendente**: Indica un aumento sostenido en los valores de la serie de tiempo.\n",
        "\n",
        "**Tendencia Descendente**: Indica una disminución sostenida en los valores.\n",
        "\n",
        "**Tendencia Constante**: Indica que los valores de la serie permanecen relativamente estables a lo largo del tiempo."
      ],
      "metadata": {
        "id": "0xILgZKzCGgR"
      }
    },
    {
      "cell_type": "markdown",
      "source": [
        "### 2.2. Estacionalidad <a name=\"estacionalidad\"></a>"
      ],
      "metadata": {
        "id": "yti-U5XT_aea"
      }
    },
    {
      "cell_type": "markdown",
      "source": [
        "Patrones que se repiten a intervalos regulares de tiempo (diariamente, mensualmente, etc.).\n",
        "\n",
        "Por ejemplo ventas altas en temporada navideña.\n",
        "\n",
        "Se puede también hablar de ciclos como fluctuaciones que ocurren en un período más largo qeu la estacionalidad (como un ciclo económico).\n",
        "\n"
      ],
      "metadata": {
        "id": "vLS7OWZYBCHa"
      }
    },
    {
      "cell_type": "markdown",
      "source": [
        "### 2.3. Variabilidad<a name=\"variabilidad\"></a>"
      ],
      "metadata": {
        "id": "W-t_qx8ABBT7"
      }
    },
    {
      "cell_type": "markdown",
      "source": [
        "Indica como cambian los datos en el tiempo.\n",
        "\n",
        "La variabilidad puede indicar momentos de inestabilidad o cambios en el comportamiento del fenómeno estudiado."
      ],
      "metadata": {
        "id": "qWmbR-JeeqS5"
      }
    },
    {
      "cell_type": "markdown",
      "source": [
        "### 2.4. Puntos atípicos (Outliers) <a name=\"outliers\"></a>"
      ],
      "metadata": {
        "id": "Dftbb-m6ee3V"
      }
    },
    {
      "cell_type": "markdown",
      "source": [
        "Valores extremos o inusuales que difieran significativamente del patrón general de la serie.\n",
        "\n",
        "Los puntos atípicos pueden afectar la interpretación y los análisis posteriores.\n",
        "\n",
        "Se usan técnicas especiales para tratarlos como el suavizado."
      ],
      "metadata": {
        "id": "oyphlr4bf4Es"
      }
    },
    {
      "cell_type": "markdown",
      "source": [
        "### 2.5. Autocorrelación <a name=\"autocorrelación\"></a>"
      ],
      "metadata": {
        "id": "YixN4KeKeob5"
      }
    },
    {
      "cell_type": "markdown",
      "source": [
        "Es una medida de la correlación entre los valores de una serie de tiempo y los valores de esa misma serie en diferentes puntos en el tiempo.\n",
        "\n",
        "Nos permite comparar distintas \"fotos\" o períodos de la serie de tiempo.\n",
        "\n",
        "Es útil para identificar patrones repetitivos o estacionales en los datos.\n",
        "\n",
        "**Autocorrelación Positiva**: Indica que valores altos en la serie de tiempo tienden a ser seguidos por valores altos y valores bajos tienden a ser seguidos por valores bajos.\n",
        "\n",
        "**Autocorrelación Negativa**: Indica que valores altos tienden a ser seguidos por valores bajos y viceversa.\n",
        "\n",
        "**Sin Autocorrelación**: Indica que no hay un patrón discernible en la serie de tiempo."
      ],
      "metadata": {
        "id": "l0TG3c-LgBZv"
      }
    },
    {
      "cell_type": "markdown",
      "source": [
        "### 2.6. Puntos de inflexión <a name=\"infexion\"></a>"
      ],
      "metadata": {
        "id": "bL0DE-fVepyT"
      }
    },
    {
      "cell_type": "markdown",
      "source": [
        "Cambios bruscos o puntos de inflexión en la serie, donde la tendencia o el comportamiento del fenómeno cambian significativamente."
      ],
      "metadata": {
        "id": "EXzHINDeB2o5"
      }
    },
    {
      "cell_type": "markdown",
      "source": [
        "## 3. Modelos <a name=\"modelos\"></a>"
      ],
      "metadata": {
        "id": "ohpWyP-uKedH"
      }
    },
    {
      "cell_type": "markdown",
      "source": [
        "Para predecir series temporales (time series forecasting), existen varios tipos de modelos que se pueden utilizar.\n",
        "\n",
        "Cada uno tiene sus ventajas y limitaciones, y la elección del modelo dependerá del tipo de datos y del patrón temporal que se quiera modelar. Es importante considerar la naturaleza de los datos y realizar una evaluación cuidadosa del rendimiento del modelo para tomar la decisión más adecuada."
      ],
      "metadata": {
        "id": "jRomtFU2AO8v"
      }
    },
    {
      "cell_type": "markdown",
      "source": [
        "### 3.1. ARIMA (AutoRegressive Integrated Moving Average) <a name=\"arima\"></a>\n",
        "\n"
      ],
      "metadata": {
        "id": "3XjQ2C_P_9hE"
      }
    },
    {
      "cell_type": "markdown",
      "source": [
        "El modelo ARIMA (Autoregressive Integrated Moving Average) es uno de los modelos más utilizados para el análisis y la predicción de series de tiempo.\n",
        "\n",
        "ARIMA combina tres componentes principales: autoregresión (AR), integración (I) y media móvil (MA).\n",
        "\n",
        "ARIMA es versátil y puede adaptarse a diferentes patrones en las series temporales, como tendencias y estacionalidad.\n",
        "\n",
        "Cuando aplicamos ARIMA a una serie temporal, primero podemos diferenciar la serie si es necesario para hacerla estacionaria.\n",
        "\n",
        "Luego, ajustamos el modelo ARIMA a los datos y utilizamos sus componentes AR, I y MA para hacer pronósticos futuros.\n",
        "\n",
        "### Componentes\n",
        "\n",
        "- Autoregresión (AR): indica que los valores actuales de la serie de tiempo están relacionados con sus valores pasados.\n",
        "- Integración (I): número de diferencias necesarias para hacer que la serie de tiempo sea estacionaria (una serie de tiempo estacionaria tiene propiedades estadísticas constantes a lo largo del tiempo).\n",
        "- Media Móvil (MA): modela la relación entre el valor actual de la serie de tiempo y los errores pasados (ruido blanco).\n",
        "\n",
        "El modelo ARIMA se denota como ARIMA(p,d,q), donde:\n",
        "\n",
        "p es el orden del componente autoregresivo (AR).\n",
        "\n",
        "d es el orden de diferenciación (I).\n",
        "\n",
        "q es el orden del componente de media móvil (MA)."
      ],
      "metadata": {
        "id": "tMqHjwidAIpm"
      }
    },
    {
      "cell_type": "markdown",
      "source": [
        "### 3.2. Suavizado exponencial (Exponential Smoothing) <a name=\"suavizado\"></a>"
      ],
      "metadata": {
        "id": "0oE_mzxtAE4K"
      }
    },
    {
      "cell_type": "markdown",
      "source": [
        "Este modelo es muy simple y eficiente. Se basa en la idea de asignar diferentes pesos a las observaciones pasadas, dándoles más importancia cuanto más recientes son. Es útil para series temporales con tendencias o patrones de crecimiento/declive gradual."
      ],
      "metadata": {
        "id": "x7snkoEoKiVC"
      }
    },
    {
      "cell_type": "markdown",
      "source": [
        "### 3.3. Redes neuronales recurrentes y LSTM <a name=\"rnn\"></a>"
      ],
      "metadata": {
        "id": "4l1b9D4D6L3m"
      }
    },
    {
      "cell_type": "markdown",
      "source": [
        "Estos modelos son técnicas de aprendizaje profundo (deep learning) que pueden manejar secuencias de datos, como las series temporales.\n",
        "\n",
        "Las RNN y LSTM son especialmente adecuadas para patrones de comportamiento complejos y relaciones a largo plazo en los datos.\n",
        "\n",
        "Son modelos poderosos y versátiles, pero también pueden ser más complicados de entrenar y ajustar."
      ],
      "metadata": {
        "id": "0pLplSWu6Ybm"
      }
    },
    {
      "cell_type": "markdown",
      "source": [
        "## 4. Ejemplo de uso <a name=\"ejemplo\"></a>"
      ],
      "metadata": {
        "id": "EoZ6P8ui3jq6"
      }
    },
    {
      "cell_type": "markdown",
      "source": [
        "\n",
        "\n",
        "Utilizaremos un famoso conjunto de datos sobre la evolución del número de pasajeros en una famosa aerolínea americana desde 1949 a 1960."
      ],
      "metadata": {
        "id": "cH_XE76-lQZa"
      }
    },
    {
      "cell_type": "code",
      "source": [
        "total_data = sns.load_dataset(\"flights\")\n",
        "total_data.head()"
      ],
      "metadata": {
        "colab": {
          "base_uri": "https://localhost:8080/",
          "height": 206
        },
        "id": "3-DNg7A0inkr",
        "outputId": "f42a392e-d24e-4d51-99b9-ea1f3bc1bcad"
      },
      "execution_count": null,
      "outputs": [
        {
          "output_type": "execute_result",
          "data": {
            "text/plain": [
              "   year month  passengers\n",
              "0  1949   Jan         112\n",
              "1  1949   Feb         118\n",
              "2  1949   Mar         132\n",
              "3  1949   Apr         129\n",
              "4  1949   May         121"
            ],
            "text/html": [
              "\n",
              "  <div id=\"df-fadd3f44-bcf1-46a6-a50f-305278e95f1c\" class=\"colab-df-container\">\n",
              "    <div>\n",
              "<style scoped>\n",
              "    .dataframe tbody tr th:only-of-type {\n",
              "        vertical-align: middle;\n",
              "    }\n",
              "\n",
              "    .dataframe tbody tr th {\n",
              "        vertical-align: top;\n",
              "    }\n",
              "\n",
              "    .dataframe thead th {\n",
              "        text-align: right;\n",
              "    }\n",
              "</style>\n",
              "<table border=\"1\" class=\"dataframe\">\n",
              "  <thead>\n",
              "    <tr style=\"text-align: right;\">\n",
              "      <th></th>\n",
              "      <th>year</th>\n",
              "      <th>month</th>\n",
              "      <th>passengers</th>\n",
              "    </tr>\n",
              "  </thead>\n",
              "  <tbody>\n",
              "    <tr>\n",
              "      <th>0</th>\n",
              "      <td>1949</td>\n",
              "      <td>Jan</td>\n",
              "      <td>112</td>\n",
              "    </tr>\n",
              "    <tr>\n",
              "      <th>1</th>\n",
              "      <td>1949</td>\n",
              "      <td>Feb</td>\n",
              "      <td>118</td>\n",
              "    </tr>\n",
              "    <tr>\n",
              "      <th>2</th>\n",
              "      <td>1949</td>\n",
              "      <td>Mar</td>\n",
              "      <td>132</td>\n",
              "    </tr>\n",
              "    <tr>\n",
              "      <th>3</th>\n",
              "      <td>1949</td>\n",
              "      <td>Apr</td>\n",
              "      <td>129</td>\n",
              "    </tr>\n",
              "    <tr>\n",
              "      <th>4</th>\n",
              "      <td>1949</td>\n",
              "      <td>May</td>\n",
              "      <td>121</td>\n",
              "    </tr>\n",
              "  </tbody>\n",
              "</table>\n",
              "</div>\n",
              "    <div class=\"colab-df-buttons\">\n",
              "\n",
              "  <div class=\"colab-df-container\">\n",
              "    <button class=\"colab-df-convert\" onclick=\"convertToInteractive('df-fadd3f44-bcf1-46a6-a50f-305278e95f1c')\"\n",
              "            title=\"Convert this dataframe to an interactive table.\"\n",
              "            style=\"display:none;\">\n",
              "\n",
              "  <svg xmlns=\"http://www.w3.org/2000/svg\" height=\"24px\" viewBox=\"0 -960 960 960\">\n",
              "    <path d=\"M120-120v-720h720v720H120Zm60-500h600v-160H180v160Zm220 220h160v-160H400v160Zm0 220h160v-160H400v160ZM180-400h160v-160H180v160Zm440 0h160v-160H620v160ZM180-180h160v-160H180v160Zm440 0h160v-160H620v160Z\"/>\n",
              "  </svg>\n",
              "    </button>\n",
              "\n",
              "  <style>\n",
              "    .colab-df-container {\n",
              "      display:flex;\n",
              "      gap: 12px;\n",
              "    }\n",
              "\n",
              "    .colab-df-convert {\n",
              "      background-color: #E8F0FE;\n",
              "      border: none;\n",
              "      border-radius: 50%;\n",
              "      cursor: pointer;\n",
              "      display: none;\n",
              "      fill: #1967D2;\n",
              "      height: 32px;\n",
              "      padding: 0 0 0 0;\n",
              "      width: 32px;\n",
              "    }\n",
              "\n",
              "    .colab-df-convert:hover {\n",
              "      background-color: #E2EBFA;\n",
              "      box-shadow: 0px 1px 2px rgba(60, 64, 67, 0.3), 0px 1px 3px 1px rgba(60, 64, 67, 0.15);\n",
              "      fill: #174EA6;\n",
              "    }\n",
              "\n",
              "    .colab-df-buttons div {\n",
              "      margin-bottom: 4px;\n",
              "    }\n",
              "\n",
              "    [theme=dark] .colab-df-convert {\n",
              "      background-color: #3B4455;\n",
              "      fill: #D2E3FC;\n",
              "    }\n",
              "\n",
              "    [theme=dark] .colab-df-convert:hover {\n",
              "      background-color: #434B5C;\n",
              "      box-shadow: 0px 1px 3px 1px rgba(0, 0, 0, 0.15);\n",
              "      filter: drop-shadow(0px 1px 2px rgba(0, 0, 0, 0.3));\n",
              "      fill: #FFFFFF;\n",
              "    }\n",
              "  </style>\n",
              "\n",
              "    <script>\n",
              "      const buttonEl =\n",
              "        document.querySelector('#df-fadd3f44-bcf1-46a6-a50f-305278e95f1c button.colab-df-convert');\n",
              "      buttonEl.style.display =\n",
              "        google.colab.kernel.accessAllowed ? 'block' : 'none';\n",
              "\n",
              "      async function convertToInteractive(key) {\n",
              "        const element = document.querySelector('#df-fadd3f44-bcf1-46a6-a50f-305278e95f1c');\n",
              "        const dataTable =\n",
              "          await google.colab.kernel.invokeFunction('convertToInteractive',\n",
              "                                                    [key], {});\n",
              "        if (!dataTable) return;\n",
              "\n",
              "        const docLinkHtml = 'Like what you see? Visit the ' +\n",
              "          '<a target=\"_blank\" href=https://colab.research.google.com/notebooks/data_table.ipynb>data table notebook</a>'\n",
              "          + ' to learn more about interactive tables.';\n",
              "        element.innerHTML = '';\n",
              "        dataTable['output_type'] = 'display_data';\n",
              "        await google.colab.output.renderOutput(dataTable, element);\n",
              "        const docLink = document.createElement('div');\n",
              "        docLink.innerHTML = docLinkHtml;\n",
              "        element.appendChild(docLink);\n",
              "      }\n",
              "    </script>\n",
              "  </div>\n",
              "\n",
              "\n",
              "    <div id=\"df-448c8ed2-9547-43f6-a8af-b0e0de7c972b\">\n",
              "      <button class=\"colab-df-quickchart\" onclick=\"quickchart('df-448c8ed2-9547-43f6-a8af-b0e0de7c972b')\"\n",
              "                title=\"Suggest charts\"\n",
              "                style=\"display:none;\">\n",
              "\n",
              "<svg xmlns=\"http://www.w3.org/2000/svg\" height=\"24px\"viewBox=\"0 0 24 24\"\n",
              "     width=\"24px\">\n",
              "    <g>\n",
              "        <path d=\"M19 3H5c-1.1 0-2 .9-2 2v14c0 1.1.9 2 2 2h14c1.1 0 2-.9 2-2V5c0-1.1-.9-2-2-2zM9 17H7v-7h2v7zm4 0h-2V7h2v10zm4 0h-2v-4h2v4z\"/>\n",
              "    </g>\n",
              "</svg>\n",
              "      </button>\n",
              "\n",
              "<style>\n",
              "  .colab-df-quickchart {\n",
              "      --bg-color: #E8F0FE;\n",
              "      --fill-color: #1967D2;\n",
              "      --hover-bg-color: #E2EBFA;\n",
              "      --hover-fill-color: #174EA6;\n",
              "      --disabled-fill-color: #AAA;\n",
              "      --disabled-bg-color: #DDD;\n",
              "  }\n",
              "\n",
              "  [theme=dark] .colab-df-quickchart {\n",
              "      --bg-color: #3B4455;\n",
              "      --fill-color: #D2E3FC;\n",
              "      --hover-bg-color: #434B5C;\n",
              "      --hover-fill-color: #FFFFFF;\n",
              "      --disabled-bg-color: #3B4455;\n",
              "      --disabled-fill-color: #666;\n",
              "  }\n",
              "\n",
              "  .colab-df-quickchart {\n",
              "    background-color: var(--bg-color);\n",
              "    border: none;\n",
              "    border-radius: 50%;\n",
              "    cursor: pointer;\n",
              "    display: none;\n",
              "    fill: var(--fill-color);\n",
              "    height: 32px;\n",
              "    padding: 0;\n",
              "    width: 32px;\n",
              "  }\n",
              "\n",
              "  .colab-df-quickchart:hover {\n",
              "    background-color: var(--hover-bg-color);\n",
              "    box-shadow: 0 1px 2px rgba(60, 64, 67, 0.3), 0 1px 3px 1px rgba(60, 64, 67, 0.15);\n",
              "    fill: var(--button-hover-fill-color);\n",
              "  }\n",
              "\n",
              "  .colab-df-quickchart-complete:disabled,\n",
              "  .colab-df-quickchart-complete:disabled:hover {\n",
              "    background-color: var(--disabled-bg-color);\n",
              "    fill: var(--disabled-fill-color);\n",
              "    box-shadow: none;\n",
              "  }\n",
              "\n",
              "  .colab-df-spinner {\n",
              "    border: 2px solid var(--fill-color);\n",
              "    border-color: transparent;\n",
              "    border-bottom-color: var(--fill-color);\n",
              "    animation:\n",
              "      spin 1s steps(1) infinite;\n",
              "  }\n",
              "\n",
              "  @keyframes spin {\n",
              "    0% {\n",
              "      border-color: transparent;\n",
              "      border-bottom-color: var(--fill-color);\n",
              "      border-left-color: var(--fill-color);\n",
              "    }\n",
              "    20% {\n",
              "      border-color: transparent;\n",
              "      border-left-color: var(--fill-color);\n",
              "      border-top-color: var(--fill-color);\n",
              "    }\n",
              "    30% {\n",
              "      border-color: transparent;\n",
              "      border-left-color: var(--fill-color);\n",
              "      border-top-color: var(--fill-color);\n",
              "      border-right-color: var(--fill-color);\n",
              "    }\n",
              "    40% {\n",
              "      border-color: transparent;\n",
              "      border-right-color: var(--fill-color);\n",
              "      border-top-color: var(--fill-color);\n",
              "    }\n",
              "    60% {\n",
              "      border-color: transparent;\n",
              "      border-right-color: var(--fill-color);\n",
              "    }\n",
              "    80% {\n",
              "      border-color: transparent;\n",
              "      border-right-color: var(--fill-color);\n",
              "      border-bottom-color: var(--fill-color);\n",
              "    }\n",
              "    90% {\n",
              "      border-color: transparent;\n",
              "      border-bottom-color: var(--fill-color);\n",
              "    }\n",
              "  }\n",
              "</style>\n",
              "\n",
              "      <script>\n",
              "        async function quickchart(key) {\n",
              "          const quickchartButtonEl =\n",
              "            document.querySelector('#' + key + ' button');\n",
              "          quickchartButtonEl.disabled = true;  // To prevent multiple clicks.\n",
              "          quickchartButtonEl.classList.add('colab-df-spinner');\n",
              "          try {\n",
              "            const charts = await google.colab.kernel.invokeFunction(\n",
              "                'suggestCharts', [key], {});\n",
              "          } catch (error) {\n",
              "            console.error('Error during call to suggestCharts:', error);\n",
              "          }\n",
              "          quickchartButtonEl.classList.remove('colab-df-spinner');\n",
              "          quickchartButtonEl.classList.add('colab-df-quickchart-complete');\n",
              "        }\n",
              "        (() => {\n",
              "          let quickchartButtonEl =\n",
              "            document.querySelector('#df-448c8ed2-9547-43f6-a8af-b0e0de7c972b button');\n",
              "          quickchartButtonEl.style.display =\n",
              "            google.colab.kernel.accessAllowed ? 'block' : 'none';\n",
              "        })();\n",
              "      </script>\n",
              "    </div>\n",
              "\n",
              "    </div>\n",
              "  </div>\n"
            ],
            "application/vnd.google.colaboratory.intrinsic+json": {
              "type": "dataframe",
              "variable_name": "total_data",
              "summary": "{\n  \"name\": \"total_data\",\n  \"rows\": 144,\n  \"fields\": [\n    {\n      \"column\": \"year\",\n      \"properties\": {\n        \"dtype\": \"number\",\n        \"std\": 3,\n        \"min\": 1949,\n        \"max\": 1960,\n        \"num_unique_values\": 12,\n        \"samples\": [\n          1959,\n          1958,\n          1949\n        ],\n        \"semantic_type\": \"\",\n        \"description\": \"\"\n      }\n    },\n    {\n      \"column\": \"month\",\n      \"properties\": {\n        \"dtype\": \"category\",\n        \"num_unique_values\": 12,\n        \"samples\": [\n          \"Nov\",\n          \"Oct\",\n          \"Jan\"\n        ],\n        \"semantic_type\": \"\",\n        \"description\": \"\"\n      }\n    },\n    {\n      \"column\": \"passengers\",\n      \"properties\": {\n        \"dtype\": \"number\",\n        \"std\": 119,\n        \"min\": 104,\n        \"max\": 622,\n        \"num_unique_values\": 118,\n        \"samples\": [\n          293,\n          340,\n          121\n        ],\n        \"semantic_type\": \"\",\n        \"description\": \"\"\n      }\n    }\n  ]\n}"
            }
          },
          "metadata": {},
          "execution_count": 4
        }
      ]
    },
    {
      "cell_type": "markdown",
      "source": [
        "En esta ocasión, necesitamos aplicar una transformación del mismo para generar una serie temporal con dos dimensiones: la temporal y la del dato que queremos analizar y predecir.\n",
        "\n",
        "La dimensión temporal estará compuesta por el mes (month) y el año (year) y el dato que observaremos a lo largo del tiempo será el número de pasajeros (passengers)."
      ],
      "metadata": {
        "id": "e-z9no8ildxj"
      }
    },
    {
      "cell_type": "code",
      "source": [
        "total_data[\"month\"] = pd.to_datetime(total_data.month, format = \"%b\").dt.month\n",
        "total_data[\"date\"] = pd.to_datetime(total_data[[\"year\", \"month\"]].assign(day = 1))\n",
        "\n",
        "total_data.head()"
      ],
      "metadata": {
        "colab": {
          "base_uri": "https://localhost:8080/",
          "height": 206
        },
        "id": "CIBSbn51lgqT",
        "outputId": "a3307af9-2b0c-40f3-b689-f59aad15340d"
      },
      "execution_count": null,
      "outputs": [
        {
          "output_type": "execute_result",
          "data": {
            "text/plain": [
              "   year  month  passengers       date\n",
              "0  1949      1         112 1949-01-01\n",
              "1  1949      2         118 1949-02-01\n",
              "2  1949      3         132 1949-03-01\n",
              "3  1949      4         129 1949-04-01\n",
              "4  1949      5         121 1949-05-01"
            ],
            "text/html": [
              "\n",
              "  <div id=\"df-ce35f94c-1aa0-4f22-a5c1-18491ee36838\" class=\"colab-df-container\">\n",
              "    <div>\n",
              "<style scoped>\n",
              "    .dataframe tbody tr th:only-of-type {\n",
              "        vertical-align: middle;\n",
              "    }\n",
              "\n",
              "    .dataframe tbody tr th {\n",
              "        vertical-align: top;\n",
              "    }\n",
              "\n",
              "    .dataframe thead th {\n",
              "        text-align: right;\n",
              "    }\n",
              "</style>\n",
              "<table border=\"1\" class=\"dataframe\">\n",
              "  <thead>\n",
              "    <tr style=\"text-align: right;\">\n",
              "      <th></th>\n",
              "      <th>year</th>\n",
              "      <th>month</th>\n",
              "      <th>passengers</th>\n",
              "      <th>date</th>\n",
              "    </tr>\n",
              "  </thead>\n",
              "  <tbody>\n",
              "    <tr>\n",
              "      <th>0</th>\n",
              "      <td>1949</td>\n",
              "      <td>1</td>\n",
              "      <td>112</td>\n",
              "      <td>1949-01-01</td>\n",
              "    </tr>\n",
              "    <tr>\n",
              "      <th>1</th>\n",
              "      <td>1949</td>\n",
              "      <td>2</td>\n",
              "      <td>118</td>\n",
              "      <td>1949-02-01</td>\n",
              "    </tr>\n",
              "    <tr>\n",
              "      <th>2</th>\n",
              "      <td>1949</td>\n",
              "      <td>3</td>\n",
              "      <td>132</td>\n",
              "      <td>1949-03-01</td>\n",
              "    </tr>\n",
              "    <tr>\n",
              "      <th>3</th>\n",
              "      <td>1949</td>\n",
              "      <td>4</td>\n",
              "      <td>129</td>\n",
              "      <td>1949-04-01</td>\n",
              "    </tr>\n",
              "    <tr>\n",
              "      <th>4</th>\n",
              "      <td>1949</td>\n",
              "      <td>5</td>\n",
              "      <td>121</td>\n",
              "      <td>1949-05-01</td>\n",
              "    </tr>\n",
              "  </tbody>\n",
              "</table>\n",
              "</div>\n",
              "    <div class=\"colab-df-buttons\">\n",
              "\n",
              "  <div class=\"colab-df-container\">\n",
              "    <button class=\"colab-df-convert\" onclick=\"convertToInteractive('df-ce35f94c-1aa0-4f22-a5c1-18491ee36838')\"\n",
              "            title=\"Convert this dataframe to an interactive table.\"\n",
              "            style=\"display:none;\">\n",
              "\n",
              "  <svg xmlns=\"http://www.w3.org/2000/svg\" height=\"24px\" viewBox=\"0 -960 960 960\">\n",
              "    <path d=\"M120-120v-720h720v720H120Zm60-500h600v-160H180v160Zm220 220h160v-160H400v160Zm0 220h160v-160H400v160ZM180-400h160v-160H180v160Zm440 0h160v-160H620v160ZM180-180h160v-160H180v160Zm440 0h160v-160H620v160Z\"/>\n",
              "  </svg>\n",
              "    </button>\n",
              "\n",
              "  <style>\n",
              "    .colab-df-container {\n",
              "      display:flex;\n",
              "      gap: 12px;\n",
              "    }\n",
              "\n",
              "    .colab-df-convert {\n",
              "      background-color: #E8F0FE;\n",
              "      border: none;\n",
              "      border-radius: 50%;\n",
              "      cursor: pointer;\n",
              "      display: none;\n",
              "      fill: #1967D2;\n",
              "      height: 32px;\n",
              "      padding: 0 0 0 0;\n",
              "      width: 32px;\n",
              "    }\n",
              "\n",
              "    .colab-df-convert:hover {\n",
              "      background-color: #E2EBFA;\n",
              "      box-shadow: 0px 1px 2px rgba(60, 64, 67, 0.3), 0px 1px 3px 1px rgba(60, 64, 67, 0.15);\n",
              "      fill: #174EA6;\n",
              "    }\n",
              "\n",
              "    .colab-df-buttons div {\n",
              "      margin-bottom: 4px;\n",
              "    }\n",
              "\n",
              "    [theme=dark] .colab-df-convert {\n",
              "      background-color: #3B4455;\n",
              "      fill: #D2E3FC;\n",
              "    }\n",
              "\n",
              "    [theme=dark] .colab-df-convert:hover {\n",
              "      background-color: #434B5C;\n",
              "      box-shadow: 0px 1px 3px 1px rgba(0, 0, 0, 0.15);\n",
              "      filter: drop-shadow(0px 1px 2px rgba(0, 0, 0, 0.3));\n",
              "      fill: #FFFFFF;\n",
              "    }\n",
              "  </style>\n",
              "\n",
              "    <script>\n",
              "      const buttonEl =\n",
              "        document.querySelector('#df-ce35f94c-1aa0-4f22-a5c1-18491ee36838 button.colab-df-convert');\n",
              "      buttonEl.style.display =\n",
              "        google.colab.kernel.accessAllowed ? 'block' : 'none';\n",
              "\n",
              "      async function convertToInteractive(key) {\n",
              "        const element = document.querySelector('#df-ce35f94c-1aa0-4f22-a5c1-18491ee36838');\n",
              "        const dataTable =\n",
              "          await google.colab.kernel.invokeFunction('convertToInteractive',\n",
              "                                                    [key], {});\n",
              "        if (!dataTable) return;\n",
              "\n",
              "        const docLinkHtml = 'Like what you see? Visit the ' +\n",
              "          '<a target=\"_blank\" href=https://colab.research.google.com/notebooks/data_table.ipynb>data table notebook</a>'\n",
              "          + ' to learn more about interactive tables.';\n",
              "        element.innerHTML = '';\n",
              "        dataTable['output_type'] = 'display_data';\n",
              "        await google.colab.output.renderOutput(dataTable, element);\n",
              "        const docLink = document.createElement('div');\n",
              "        docLink.innerHTML = docLinkHtml;\n",
              "        element.appendChild(docLink);\n",
              "      }\n",
              "    </script>\n",
              "  </div>\n",
              "\n",
              "\n",
              "    <div id=\"df-3152f284-97e9-4c98-981a-2ee6cf3844ab\">\n",
              "      <button class=\"colab-df-quickchart\" onclick=\"quickchart('df-3152f284-97e9-4c98-981a-2ee6cf3844ab')\"\n",
              "                title=\"Suggest charts\"\n",
              "                style=\"display:none;\">\n",
              "\n",
              "<svg xmlns=\"http://www.w3.org/2000/svg\" height=\"24px\"viewBox=\"0 0 24 24\"\n",
              "     width=\"24px\">\n",
              "    <g>\n",
              "        <path d=\"M19 3H5c-1.1 0-2 .9-2 2v14c0 1.1.9 2 2 2h14c1.1 0 2-.9 2-2V5c0-1.1-.9-2-2-2zM9 17H7v-7h2v7zm4 0h-2V7h2v10zm4 0h-2v-4h2v4z\"/>\n",
              "    </g>\n",
              "</svg>\n",
              "      </button>\n",
              "\n",
              "<style>\n",
              "  .colab-df-quickchart {\n",
              "      --bg-color: #E8F0FE;\n",
              "      --fill-color: #1967D2;\n",
              "      --hover-bg-color: #E2EBFA;\n",
              "      --hover-fill-color: #174EA6;\n",
              "      --disabled-fill-color: #AAA;\n",
              "      --disabled-bg-color: #DDD;\n",
              "  }\n",
              "\n",
              "  [theme=dark] .colab-df-quickchart {\n",
              "      --bg-color: #3B4455;\n",
              "      --fill-color: #D2E3FC;\n",
              "      --hover-bg-color: #434B5C;\n",
              "      --hover-fill-color: #FFFFFF;\n",
              "      --disabled-bg-color: #3B4455;\n",
              "      --disabled-fill-color: #666;\n",
              "  }\n",
              "\n",
              "  .colab-df-quickchart {\n",
              "    background-color: var(--bg-color);\n",
              "    border: none;\n",
              "    border-radius: 50%;\n",
              "    cursor: pointer;\n",
              "    display: none;\n",
              "    fill: var(--fill-color);\n",
              "    height: 32px;\n",
              "    padding: 0;\n",
              "    width: 32px;\n",
              "  }\n",
              "\n",
              "  .colab-df-quickchart:hover {\n",
              "    background-color: var(--hover-bg-color);\n",
              "    box-shadow: 0 1px 2px rgba(60, 64, 67, 0.3), 0 1px 3px 1px rgba(60, 64, 67, 0.15);\n",
              "    fill: var(--button-hover-fill-color);\n",
              "  }\n",
              "\n",
              "  .colab-df-quickchart-complete:disabled,\n",
              "  .colab-df-quickchart-complete:disabled:hover {\n",
              "    background-color: var(--disabled-bg-color);\n",
              "    fill: var(--disabled-fill-color);\n",
              "    box-shadow: none;\n",
              "  }\n",
              "\n",
              "  .colab-df-spinner {\n",
              "    border: 2px solid var(--fill-color);\n",
              "    border-color: transparent;\n",
              "    border-bottom-color: var(--fill-color);\n",
              "    animation:\n",
              "      spin 1s steps(1) infinite;\n",
              "  }\n",
              "\n",
              "  @keyframes spin {\n",
              "    0% {\n",
              "      border-color: transparent;\n",
              "      border-bottom-color: var(--fill-color);\n",
              "      border-left-color: var(--fill-color);\n",
              "    }\n",
              "    20% {\n",
              "      border-color: transparent;\n",
              "      border-left-color: var(--fill-color);\n",
              "      border-top-color: var(--fill-color);\n",
              "    }\n",
              "    30% {\n",
              "      border-color: transparent;\n",
              "      border-left-color: var(--fill-color);\n",
              "      border-top-color: var(--fill-color);\n",
              "      border-right-color: var(--fill-color);\n",
              "    }\n",
              "    40% {\n",
              "      border-color: transparent;\n",
              "      border-right-color: var(--fill-color);\n",
              "      border-top-color: var(--fill-color);\n",
              "    }\n",
              "    60% {\n",
              "      border-color: transparent;\n",
              "      border-right-color: var(--fill-color);\n",
              "    }\n",
              "    80% {\n",
              "      border-color: transparent;\n",
              "      border-right-color: var(--fill-color);\n",
              "      border-bottom-color: var(--fill-color);\n",
              "    }\n",
              "    90% {\n",
              "      border-color: transparent;\n",
              "      border-bottom-color: var(--fill-color);\n",
              "    }\n",
              "  }\n",
              "</style>\n",
              "\n",
              "      <script>\n",
              "        async function quickchart(key) {\n",
              "          const quickchartButtonEl =\n",
              "            document.querySelector('#' + key + ' button');\n",
              "          quickchartButtonEl.disabled = true;  // To prevent multiple clicks.\n",
              "          quickchartButtonEl.classList.add('colab-df-spinner');\n",
              "          try {\n",
              "            const charts = await google.colab.kernel.invokeFunction(\n",
              "                'suggestCharts', [key], {});\n",
              "          } catch (error) {\n",
              "            console.error('Error during call to suggestCharts:', error);\n",
              "          }\n",
              "          quickchartButtonEl.classList.remove('colab-df-spinner');\n",
              "          quickchartButtonEl.classList.add('colab-df-quickchart-complete');\n",
              "        }\n",
              "        (() => {\n",
              "          let quickchartButtonEl =\n",
              "            document.querySelector('#df-3152f284-97e9-4c98-981a-2ee6cf3844ab button');\n",
              "          quickchartButtonEl.style.display =\n",
              "            google.colab.kernel.accessAllowed ? 'block' : 'none';\n",
              "        })();\n",
              "      </script>\n",
              "    </div>\n",
              "\n",
              "    </div>\n",
              "  </div>\n"
            ],
            "application/vnd.google.colaboratory.intrinsic+json": {
              "type": "dataframe",
              "variable_name": "total_data",
              "summary": "{\n  \"name\": \"total_data\",\n  \"rows\": 144,\n  \"fields\": [\n    {\n      \"column\": \"year\",\n      \"properties\": {\n        \"dtype\": \"number\",\n        \"std\": 3,\n        \"min\": 1949,\n        \"max\": 1960,\n        \"num_unique_values\": 12,\n        \"samples\": [\n          1959,\n          1958,\n          1949\n        ],\n        \"semantic_type\": \"\",\n        \"description\": \"\"\n      }\n    },\n    {\n      \"column\": \"month\",\n      \"properties\": {\n        \"dtype\": \"int32\",\n        \"num_unique_values\": 12,\n        \"samples\": [\n          11,\n          10,\n          1\n        ],\n        \"semantic_type\": \"\",\n        \"description\": \"\"\n      }\n    },\n    {\n      \"column\": \"passengers\",\n      \"properties\": {\n        \"dtype\": \"number\",\n        \"std\": 119,\n        \"min\": 104,\n        \"max\": 622,\n        \"num_unique_values\": 118,\n        \"samples\": [\n          293,\n          340,\n          121\n        ],\n        \"semantic_type\": \"\",\n        \"description\": \"\"\n      }\n    },\n    {\n      \"column\": \"date\",\n      \"properties\": {\n        \"dtype\": \"date\",\n        \"min\": \"1949-01-01 00:00:00\",\n        \"max\": \"1960-12-01 00:00:00\",\n        \"num_unique_values\": 144,\n        \"samples\": [\n          \"1958-10-01 00:00:00\",\n          \"1950-08-01 00:00:00\",\n          \"1955-11-01 00:00:00\"\n        ],\n        \"semantic_type\": \"\",\n        \"description\": \"\"\n      }\n    }\n  ]\n}"
            }
          },
          "metadata": {},
          "execution_count": 5
        }
      ]
    },
    {
      "cell_type": "code",
      "source": [
        "total_data = total_data.set_index(\"date\")\n",
        "\n",
        "total_data.head()"
      ],
      "metadata": {
        "colab": {
          "base_uri": "https://localhost:8080/",
          "height": 237
        },
        "id": "3mmDx1oUlrHh",
        "outputId": "9eecc636-1132-4426-af76-c0fbdca69a80"
      },
      "execution_count": null,
      "outputs": [
        {
          "output_type": "execute_result",
          "data": {
            "text/plain": [
              "            year  month  passengers\n",
              "date                               \n",
              "1949-01-01  1949      1         112\n",
              "1949-02-01  1949      2         118\n",
              "1949-03-01  1949      3         132\n",
              "1949-04-01  1949      4         129\n",
              "1949-05-01  1949      5         121"
            ],
            "text/html": [
              "\n",
              "  <div id=\"df-0726e615-5da9-454e-9041-71927022552d\" class=\"colab-df-container\">\n",
              "    <div>\n",
              "<style scoped>\n",
              "    .dataframe tbody tr th:only-of-type {\n",
              "        vertical-align: middle;\n",
              "    }\n",
              "\n",
              "    .dataframe tbody tr th {\n",
              "        vertical-align: top;\n",
              "    }\n",
              "\n",
              "    .dataframe thead th {\n",
              "        text-align: right;\n",
              "    }\n",
              "</style>\n",
              "<table border=\"1\" class=\"dataframe\">\n",
              "  <thead>\n",
              "    <tr style=\"text-align: right;\">\n",
              "      <th></th>\n",
              "      <th>year</th>\n",
              "      <th>month</th>\n",
              "      <th>passengers</th>\n",
              "    </tr>\n",
              "    <tr>\n",
              "      <th>date</th>\n",
              "      <th></th>\n",
              "      <th></th>\n",
              "      <th></th>\n",
              "    </tr>\n",
              "  </thead>\n",
              "  <tbody>\n",
              "    <tr>\n",
              "      <th>1949-01-01</th>\n",
              "      <td>1949</td>\n",
              "      <td>1</td>\n",
              "      <td>112</td>\n",
              "    </tr>\n",
              "    <tr>\n",
              "      <th>1949-02-01</th>\n",
              "      <td>1949</td>\n",
              "      <td>2</td>\n",
              "      <td>118</td>\n",
              "    </tr>\n",
              "    <tr>\n",
              "      <th>1949-03-01</th>\n",
              "      <td>1949</td>\n",
              "      <td>3</td>\n",
              "      <td>132</td>\n",
              "    </tr>\n",
              "    <tr>\n",
              "      <th>1949-04-01</th>\n",
              "      <td>1949</td>\n",
              "      <td>4</td>\n",
              "      <td>129</td>\n",
              "    </tr>\n",
              "    <tr>\n",
              "      <th>1949-05-01</th>\n",
              "      <td>1949</td>\n",
              "      <td>5</td>\n",
              "      <td>121</td>\n",
              "    </tr>\n",
              "  </tbody>\n",
              "</table>\n",
              "</div>\n",
              "    <div class=\"colab-df-buttons\">\n",
              "\n",
              "  <div class=\"colab-df-container\">\n",
              "    <button class=\"colab-df-convert\" onclick=\"convertToInteractive('df-0726e615-5da9-454e-9041-71927022552d')\"\n",
              "            title=\"Convert this dataframe to an interactive table.\"\n",
              "            style=\"display:none;\">\n",
              "\n",
              "  <svg xmlns=\"http://www.w3.org/2000/svg\" height=\"24px\" viewBox=\"0 -960 960 960\">\n",
              "    <path d=\"M120-120v-720h720v720H120Zm60-500h600v-160H180v160Zm220 220h160v-160H400v160Zm0 220h160v-160H400v160ZM180-400h160v-160H180v160Zm440 0h160v-160H620v160ZM180-180h160v-160H180v160Zm440 0h160v-160H620v160Z\"/>\n",
              "  </svg>\n",
              "    </button>\n",
              "\n",
              "  <style>\n",
              "    .colab-df-container {\n",
              "      display:flex;\n",
              "      gap: 12px;\n",
              "    }\n",
              "\n",
              "    .colab-df-convert {\n",
              "      background-color: #E8F0FE;\n",
              "      border: none;\n",
              "      border-radius: 50%;\n",
              "      cursor: pointer;\n",
              "      display: none;\n",
              "      fill: #1967D2;\n",
              "      height: 32px;\n",
              "      padding: 0 0 0 0;\n",
              "      width: 32px;\n",
              "    }\n",
              "\n",
              "    .colab-df-convert:hover {\n",
              "      background-color: #E2EBFA;\n",
              "      box-shadow: 0px 1px 2px rgba(60, 64, 67, 0.3), 0px 1px 3px 1px rgba(60, 64, 67, 0.15);\n",
              "      fill: #174EA6;\n",
              "    }\n",
              "\n",
              "    .colab-df-buttons div {\n",
              "      margin-bottom: 4px;\n",
              "    }\n",
              "\n",
              "    [theme=dark] .colab-df-convert {\n",
              "      background-color: #3B4455;\n",
              "      fill: #D2E3FC;\n",
              "    }\n",
              "\n",
              "    [theme=dark] .colab-df-convert:hover {\n",
              "      background-color: #434B5C;\n",
              "      box-shadow: 0px 1px 3px 1px rgba(0, 0, 0, 0.15);\n",
              "      filter: drop-shadow(0px 1px 2px rgba(0, 0, 0, 0.3));\n",
              "      fill: #FFFFFF;\n",
              "    }\n",
              "  </style>\n",
              "\n",
              "    <script>\n",
              "      const buttonEl =\n",
              "        document.querySelector('#df-0726e615-5da9-454e-9041-71927022552d button.colab-df-convert');\n",
              "      buttonEl.style.display =\n",
              "        google.colab.kernel.accessAllowed ? 'block' : 'none';\n",
              "\n",
              "      async function convertToInteractive(key) {\n",
              "        const element = document.querySelector('#df-0726e615-5da9-454e-9041-71927022552d');\n",
              "        const dataTable =\n",
              "          await google.colab.kernel.invokeFunction('convertToInteractive',\n",
              "                                                    [key], {});\n",
              "        if (!dataTable) return;\n",
              "\n",
              "        const docLinkHtml = 'Like what you see? Visit the ' +\n",
              "          '<a target=\"_blank\" href=https://colab.research.google.com/notebooks/data_table.ipynb>data table notebook</a>'\n",
              "          + ' to learn more about interactive tables.';\n",
              "        element.innerHTML = '';\n",
              "        dataTable['output_type'] = 'display_data';\n",
              "        await google.colab.output.renderOutput(dataTable, element);\n",
              "        const docLink = document.createElement('div');\n",
              "        docLink.innerHTML = docLinkHtml;\n",
              "        element.appendChild(docLink);\n",
              "      }\n",
              "    </script>\n",
              "  </div>\n",
              "\n",
              "\n",
              "    <div id=\"df-b0e26f5b-268c-4abb-b229-dff3934020c9\">\n",
              "      <button class=\"colab-df-quickchart\" onclick=\"quickchart('df-b0e26f5b-268c-4abb-b229-dff3934020c9')\"\n",
              "                title=\"Suggest charts\"\n",
              "                style=\"display:none;\">\n",
              "\n",
              "<svg xmlns=\"http://www.w3.org/2000/svg\" height=\"24px\"viewBox=\"0 0 24 24\"\n",
              "     width=\"24px\">\n",
              "    <g>\n",
              "        <path d=\"M19 3H5c-1.1 0-2 .9-2 2v14c0 1.1.9 2 2 2h14c1.1 0 2-.9 2-2V5c0-1.1-.9-2-2-2zM9 17H7v-7h2v7zm4 0h-2V7h2v10zm4 0h-2v-4h2v4z\"/>\n",
              "    </g>\n",
              "</svg>\n",
              "      </button>\n",
              "\n",
              "<style>\n",
              "  .colab-df-quickchart {\n",
              "      --bg-color: #E8F0FE;\n",
              "      --fill-color: #1967D2;\n",
              "      --hover-bg-color: #E2EBFA;\n",
              "      --hover-fill-color: #174EA6;\n",
              "      --disabled-fill-color: #AAA;\n",
              "      --disabled-bg-color: #DDD;\n",
              "  }\n",
              "\n",
              "  [theme=dark] .colab-df-quickchart {\n",
              "      --bg-color: #3B4455;\n",
              "      --fill-color: #D2E3FC;\n",
              "      --hover-bg-color: #434B5C;\n",
              "      --hover-fill-color: #FFFFFF;\n",
              "      --disabled-bg-color: #3B4455;\n",
              "      --disabled-fill-color: #666;\n",
              "  }\n",
              "\n",
              "  .colab-df-quickchart {\n",
              "    background-color: var(--bg-color);\n",
              "    border: none;\n",
              "    border-radius: 50%;\n",
              "    cursor: pointer;\n",
              "    display: none;\n",
              "    fill: var(--fill-color);\n",
              "    height: 32px;\n",
              "    padding: 0;\n",
              "    width: 32px;\n",
              "  }\n",
              "\n",
              "  .colab-df-quickchart:hover {\n",
              "    background-color: var(--hover-bg-color);\n",
              "    box-shadow: 0 1px 2px rgba(60, 64, 67, 0.3), 0 1px 3px 1px rgba(60, 64, 67, 0.15);\n",
              "    fill: var(--button-hover-fill-color);\n",
              "  }\n",
              "\n",
              "  .colab-df-quickchart-complete:disabled,\n",
              "  .colab-df-quickchart-complete:disabled:hover {\n",
              "    background-color: var(--disabled-bg-color);\n",
              "    fill: var(--disabled-fill-color);\n",
              "    box-shadow: none;\n",
              "  }\n",
              "\n",
              "  .colab-df-spinner {\n",
              "    border: 2px solid var(--fill-color);\n",
              "    border-color: transparent;\n",
              "    border-bottom-color: var(--fill-color);\n",
              "    animation:\n",
              "      spin 1s steps(1) infinite;\n",
              "  }\n",
              "\n",
              "  @keyframes spin {\n",
              "    0% {\n",
              "      border-color: transparent;\n",
              "      border-bottom-color: var(--fill-color);\n",
              "      border-left-color: var(--fill-color);\n",
              "    }\n",
              "    20% {\n",
              "      border-color: transparent;\n",
              "      border-left-color: var(--fill-color);\n",
              "      border-top-color: var(--fill-color);\n",
              "    }\n",
              "    30% {\n",
              "      border-color: transparent;\n",
              "      border-left-color: var(--fill-color);\n",
              "      border-top-color: var(--fill-color);\n",
              "      border-right-color: var(--fill-color);\n",
              "    }\n",
              "    40% {\n",
              "      border-color: transparent;\n",
              "      border-right-color: var(--fill-color);\n",
              "      border-top-color: var(--fill-color);\n",
              "    }\n",
              "    60% {\n",
              "      border-color: transparent;\n",
              "      border-right-color: var(--fill-color);\n",
              "    }\n",
              "    80% {\n",
              "      border-color: transparent;\n",
              "      border-right-color: var(--fill-color);\n",
              "      border-bottom-color: var(--fill-color);\n",
              "    }\n",
              "    90% {\n",
              "      border-color: transparent;\n",
              "      border-bottom-color: var(--fill-color);\n",
              "    }\n",
              "  }\n",
              "</style>\n",
              "\n",
              "      <script>\n",
              "        async function quickchart(key) {\n",
              "          const quickchartButtonEl =\n",
              "            document.querySelector('#' + key + ' button');\n",
              "          quickchartButtonEl.disabled = true;  // To prevent multiple clicks.\n",
              "          quickchartButtonEl.classList.add('colab-df-spinner');\n",
              "          try {\n",
              "            const charts = await google.colab.kernel.invokeFunction(\n",
              "                'suggestCharts', [key], {});\n",
              "          } catch (error) {\n",
              "            console.error('Error during call to suggestCharts:', error);\n",
              "          }\n",
              "          quickchartButtonEl.classList.remove('colab-df-spinner');\n",
              "          quickchartButtonEl.classList.add('colab-df-quickchart-complete');\n",
              "        }\n",
              "        (() => {\n",
              "          let quickchartButtonEl =\n",
              "            document.querySelector('#df-b0e26f5b-268c-4abb-b229-dff3934020c9 button');\n",
              "          quickchartButtonEl.style.display =\n",
              "            google.colab.kernel.accessAllowed ? 'block' : 'none';\n",
              "        })();\n",
              "      </script>\n",
              "    </div>\n",
              "\n",
              "    </div>\n",
              "  </div>\n"
            ],
            "application/vnd.google.colaboratory.intrinsic+json": {
              "type": "dataframe",
              "variable_name": "total_data",
              "summary": "{\n  \"name\": \"total_data\",\n  \"rows\": 144,\n  \"fields\": [\n    {\n      \"column\": \"date\",\n      \"properties\": {\n        \"dtype\": \"date\",\n        \"min\": \"1949-01-01 00:00:00\",\n        \"max\": \"1960-12-01 00:00:00\",\n        \"num_unique_values\": 144,\n        \"samples\": [\n          \"1958-10-01 00:00:00\",\n          \"1950-08-01 00:00:00\",\n          \"1955-11-01 00:00:00\"\n        ],\n        \"semantic_type\": \"\",\n        \"description\": \"\"\n      }\n    },\n    {\n      \"column\": \"year\",\n      \"properties\": {\n        \"dtype\": \"number\",\n        \"std\": 3,\n        \"min\": 1949,\n        \"max\": 1960,\n        \"num_unique_values\": 12,\n        \"samples\": [\n          1959,\n          1958,\n          1949\n        ],\n        \"semantic_type\": \"\",\n        \"description\": \"\"\n      }\n    },\n    {\n      \"column\": \"month\",\n      \"properties\": {\n        \"dtype\": \"int32\",\n        \"num_unique_values\": 12,\n        \"samples\": [\n          11,\n          10,\n          1\n        ],\n        \"semantic_type\": \"\",\n        \"description\": \"\"\n      }\n    },\n    {\n      \"column\": \"passengers\",\n      \"properties\": {\n        \"dtype\": \"number\",\n        \"std\": 119,\n        \"min\": 104,\n        \"max\": 622,\n        \"num_unique_values\": 118,\n        \"samples\": [\n          293,\n          340,\n          121\n        ],\n        \"semantic_type\": \"\",\n        \"description\": \"\"\n      }\n    }\n  ]\n}"
            }
          },
          "metadata": {},
          "execution_count": 6
        }
      ]
    },
    {
      "cell_type": "code",
      "source": [
        "ts = total_data[\"passengers\"]\n",
        "ts.head()"
      ],
      "metadata": {
        "colab": {
          "base_uri": "https://localhost:8080/",
          "height": 272
        },
        "id": "wiWwil93l3qW",
        "outputId": "fdb9af5e-513d-416f-91c9-e489ce1a0524"
      },
      "execution_count": null,
      "outputs": [
        {
          "output_type": "execute_result",
          "data": {
            "text/plain": [
              "date\n",
              "1949-01-01    112\n",
              "1949-02-01    118\n",
              "1949-03-01    132\n",
              "1949-04-01    129\n",
              "1949-05-01    121\n",
              "Name: passengers, dtype: int64"
            ],
            "text/html": [
              "<div>\n",
              "<style scoped>\n",
              "    .dataframe tbody tr th:only-of-type {\n",
              "        vertical-align: middle;\n",
              "    }\n",
              "\n",
              "    .dataframe tbody tr th {\n",
              "        vertical-align: top;\n",
              "    }\n",
              "\n",
              "    .dataframe thead th {\n",
              "        text-align: right;\n",
              "    }\n",
              "</style>\n",
              "<table border=\"1\" class=\"dataframe\">\n",
              "  <thead>\n",
              "    <tr style=\"text-align: right;\">\n",
              "      <th></th>\n",
              "      <th>passengers</th>\n",
              "    </tr>\n",
              "    <tr>\n",
              "      <th>date</th>\n",
              "      <th></th>\n",
              "    </tr>\n",
              "  </thead>\n",
              "  <tbody>\n",
              "    <tr>\n",
              "      <th>1949-01-01</th>\n",
              "      <td>112</td>\n",
              "    </tr>\n",
              "    <tr>\n",
              "      <th>1949-02-01</th>\n",
              "      <td>118</td>\n",
              "    </tr>\n",
              "    <tr>\n",
              "      <th>1949-03-01</th>\n",
              "      <td>132</td>\n",
              "    </tr>\n",
              "    <tr>\n",
              "      <th>1949-04-01</th>\n",
              "      <td>129</td>\n",
              "    </tr>\n",
              "    <tr>\n",
              "      <th>1949-05-01</th>\n",
              "      <td>121</td>\n",
              "    </tr>\n",
              "  </tbody>\n",
              "</table>\n",
              "</div><br><label><b>dtype:</b> int64</label>"
            ]
          },
          "metadata": {},
          "execution_count": 7
        }
      ]
    },
    {
      "cell_type": "markdown",
      "source": [
        "A continuación visualizaremos la serie temporal para llevar a cabo un análisis visual de la misma:"
      ],
      "metadata": {
        "id": "5Iej74Nal9SO"
      }
    },
    {
      "cell_type": "code",
      "source": [
        "fig, axis = plt.subplots(figsize = (10, 5))\n",
        "\n",
        "sns.lineplot(data = ts)\n",
        "\n",
        "plt.tight_layout()\n",
        "\n",
        "plt.show()"
      ],
      "metadata": {
        "colab": {
          "base_uri": "https://localhost:8080/",
          "height": 507
        },
        "id": "njV8u6bCl-p3",
        "outputId": "586f117b-7dbd-4628-ba75-e762066d21a1"
      },
      "execution_count": null,
      "outputs": [
        {
          "output_type": "display_data",
          "data": {
            "text/plain": [
              "<Figure size 1000x500 with 1 Axes>"
            ],
            "image/png": "[encoded data removed]"
          },
          "metadata": {}
        }
      ]
    },
    {
      "cell_type": "markdown",
      "source": [
        "#### ¿Visualmente?\n",
        "\n",
        "Tendencia: ascendente.\n",
        "\n",
        "Estacionalidad: aparece un pico al final de los años.\n",
        "\n",
        "Variabilidad: cambios bruscos."
      ],
      "metadata": {
        "id": "ynSQf3XnpcKj"
      }
    },
    {
      "cell_type": "markdown",
      "source": [
        "### Análisis de una serie temporal\n",
        "\n",
        "Para la labor de realizar predicciones sobre series temporales y analizarlas, nos apoyaremos en la librería `statsmodels`.\n",
        "\n",
        "La **descomposición** de una serie temporal es un proceso estadístico que separa de una serie de tiempo en varios elementos diferenciados.\n",
        "\n",
        "Cada uno de estos componentes representa una parte de la estructura subyacente de la serie temporal.\n",
        "\n",
        "Utilizamos la función `seasonal_decompose` de la biblioteca statsmodels para descomponer la serie de tiempo en sus componentes de tendencia, estacionalidad y residuos."
      ],
      "metadata": {
        "id": "qDCbYttWnevf"
      }
    },
    {
      "cell_type": "code",
      "source": [
        "decomposition = seasonal_decompose(ts, period = 12)\n",
        "decomposition"
      ],
      "metadata": {
        "colab": {
          "base_uri": "https://localhost:8080/"
        },
        "id": "dmv0iIAGn879",
        "outputId": "129c7ed9-c0fd-44ff-969a-46f679d87f72"
      },
      "execution_count": null,
      "outputs": [
        {
          "output_type": "execute_result",
          "data": {
            "text/plain": [
              "<statsmodels.tsa.seasonal.DecomposeResult at 0x795078736d90>"
            ]
          },
          "metadata": {},
          "execution_count": 9
        }
      ]
    },
    {
      "cell_type": "markdown",
      "source": [
        "#### Análisis de la tendencia\n",
        "\n",
        "Para acceder a su información recurrimos al componente `trend` del resultado `decomposition`."
      ],
      "metadata": {
        "id": "RvhrhNCyoBcC"
      }
    },
    {
      "cell_type": "code",
      "source": [
        "trend = decomposition.trend\n",
        "\n",
        "fig, axis = plt.subplots(figsize = (8, 4))\n",
        "\n",
        "sns.lineplot(data = ts)\n",
        "sns.lineplot(data = trend)\n",
        "\n",
        "plt.tight_layout()\n",
        "\n",
        "plt.show()"
      ],
      "metadata": {
        "colab": {
          "base_uri": "https://localhost:8080/",
          "height": 407
        },
        "id": "qWWIF6mvoFzM",
        "outputId": "a32cf224-e811-4f34-ece4-40f842ab4cdc"
      },
      "execution_count": null,
      "outputs": [
        {
          "output_type": "display_data",
          "data": {
            "text/plain": [
              "<Figure size 800x400 with 1 Axes>"
            ],
            "image/png": "[encoded data removed]"
          },
          "metadata": {}
        }
      ]
    },
    {
      "cell_type": "markdown",
      "source": [
        "Se confirma lo observado: una clara tendencia positiva a lo largo de los años.\n",
        "\n",
        "Hay un aumento general en el número de pasajeros a lo largo del tiempo."
      ],
      "metadata": {
        "id": "a-gX0gwSoOi5"
      }
    },
    {
      "cell_type": "markdown",
      "source": [
        "#### Análisis de la estacionalidad\n",
        "\n",
        "Para acceder a su información recurrimos al componente `seasonal` del resultado `decomposition`."
      ],
      "metadata": {
        "id": "ksHyMcluoQdJ"
      }
    },
    {
      "cell_type": "code",
      "source": [
        "seasonal = decomposition.seasonal\n",
        "\n",
        "fig, axis = plt.subplots(figsize = (8, 4))\n",
        "\n",
        "sns.lineplot(data = ts) # Representa el número de pasajeros por mes\n",
        "sns.lineplot(data = seasonal)\n",
        "\n",
        "plt.tight_layout()\n",
        "\n",
        "plt.show()"
      ],
      "metadata": {
        "colab": {
          "base_uri": "https://localhost:8080/",
          "height": 407
        },
        "id": "xgFJidCgoTZE",
        "outputId": "ab5a450b-e006-4e74-8c37-1b6f7cbb8594"
      },
      "execution_count": null,
      "outputs": [
        {
          "output_type": "display_data",
          "data": {
            "text/plain": [
              "<Figure size 800x400 with 1 Axes>"
            ],
            "image/png": "[encoded data removed]"
          },
          "metadata": {}
        }
      ]
    },
    {
      "cell_type": "markdown",
      "source": [
        "La componente estacional muestra patrones repetitivos que ocurren en intervalos fijos (mensualmente, en este caso, ya que period=12 representa un ciclo anual).\n",
        "\n",
        "Si la curva de estacionalidad tiene oscilaciones regulares con una periodicidad constante, indica que la serie tiene una fuerte estacionalidad. Por ejemplo, si hay picos en ciertos meses (e.g., verano) y caídas en otros (e.g., invierno), esto señala un comportamiento estacional.\n",
        "\n",
        "Vemos gráficas prácticamente iguales por períodos, ¿hay estacionalidad?\n",
        "\n",
        "Los picos suelen ocurrir en los mismos meses cada año, lo que puede estar relacionado con temporadas vacacionales."
      ],
      "metadata": {
        "id": "qg_69cJcrpMJ"
      }
    },
    {
      "cell_type": "markdown",
      "source": [
        "Para evaluar la estacionalidad de la serie temporal podemos aplicar la llamada **Prueba de Dickey-Fuller** (*Dickey-Fuller test*), que es un contraste de hipótesis en el que la hipótesis nula es que la serie es estacionaria, y la alternativa, que es no estacionaria:"
      ],
      "metadata": {
        "id": "JcDU4ivEosBI"
      }
    },
    {
      "cell_type": "code",
      "source": [
        "def test_stationarity(timeseries):\n",
        "    print(\"Resultados de la prueba de Dickey-Fuller:\")\n",
        "    dftest = adfuller(timeseries, autolag = \"AIC\")\n",
        "    dfoutput = pd.Series(dftest[0:4], index = [\"Test Statistic\", \"p-value\", \"#Lags Used\", \"Number of Observations Used\"])\n",
        "    for key,value in dftest[4].items():\n",
        "        dfoutput[\"Critical Value (%s)\"%key] = value\n",
        "    return dfoutput"
      ],
      "metadata": {
        "id": "dS0zlffsorDo"
      },
      "execution_count": null,
      "outputs": []
    },
    {
      "cell_type": "code",
      "source": [
        "test_stationarity(ts)"
      ],
      "metadata": {
        "colab": {
          "base_uri": "https://localhost:8080/",
          "height": 321
        },
        "id": "fNJo9-RSoukG",
        "outputId": "2bac52e4-acc0-40d7-8e2b-8d22091328a6"
      },
      "execution_count": null,
      "outputs": [
        {
          "output_type": "stream",
          "name": "stdout",
          "text": [
            "Resultados de la prueba de Dickey-Fuller:\n"
          ]
        },
        {
          "output_type": "execute_result",
          "data": {
            "text/plain": [
              "Test Statistic                   0.815369\n",
              "p-value                          0.991880\n",
              "#Lags Used                      13.000000\n",
              "Number of Observations Used    130.000000\n",
              "Critical Value (1%)             -3.481682\n",
              "Critical Value (5%)             -2.884042\n",
              "Critical Value (10%)            -2.578770\n",
              "dtype: float64"
            ],
            "text/html": [
              "<div>\n",
              "<style scoped>\n",
              "    .dataframe tbody tr th:only-of-type {\n",
              "        vertical-align: middle;\n",
              "    }\n",
              "\n",
              "    .dataframe tbody tr th {\n",
              "        vertical-align: top;\n",
              "    }\n",
              "\n",
              "    .dataframe thead th {\n",
              "        text-align: right;\n",
              "    }\n",
              "</style>\n",
              "<table border=\"1\" class=\"dataframe\">\n",
              "  <thead>\n",
              "    <tr style=\"text-align: right;\">\n",
              "      <th></th>\n",
              "      <th>0</th>\n",
              "    </tr>\n",
              "  </thead>\n",
              "  <tbody>\n",
              "    <tr>\n",
              "      <th>Test Statistic</th>\n",
              "      <td>0.815369</td>\n",
              "    </tr>\n",
              "    <tr>\n",
              "      <th>p-value</th>\n",
              "      <td>0.991880</td>\n",
              "    </tr>\n",
              "    <tr>\n",
              "      <th>#Lags Used</th>\n",
              "      <td>13.000000</td>\n",
              "    </tr>\n",
              "    <tr>\n",
              "      <th>Number of Observations Used</th>\n",
              "      <td>130.000000</td>\n",
              "    </tr>\n",
              "    <tr>\n",
              "      <th>Critical Value (1%)</th>\n",
              "      <td>-3.481682</td>\n",
              "    </tr>\n",
              "    <tr>\n",
              "      <th>Critical Value (5%)</th>\n",
              "      <td>-2.884042</td>\n",
              "    </tr>\n",
              "    <tr>\n",
              "      <th>Critical Value (10%)</th>\n",
              "      <td>-2.578770</td>\n",
              "    </tr>\n",
              "  </tbody>\n",
              "</table>\n",
              "</div><br><label><b>dtype:</b> float64</label>"
            ]
          },
          "metadata": {},
          "execution_count": 13
        }
      ]
    },
    {
      "cell_type": "markdown",
      "source": [
        "Aquí podemos ver que el `p-value` es mayor a 0.05, esto significa que nuestra hipótesis nula será rechazada y tomaremos esta serie como no estacionaria."
      ],
      "metadata": {
        "id": "AC2l2bnSowKq"
      }
    },
    {
      "cell_type": "markdown",
      "source": [
        "**Nota**\n",
        "\n",
        "La aparente discrepancia entre la visualización de la estacionalidad a través de la descomposición de la serie de tiempo y los resultados del test de Dickey-Fuller puede deberse a varios factores.\n",
        "\n",
        "1. Confusión entre Estacionariedad y Estacionalidad:\n",
        "\n",
        "  *Estacionariedad*: Se refiere a que las propiedades estadísticas de la serie no cambian con el tiempo. Una serie estacionaria tiene una media y una varianza constantes.\n",
        "\n",
        "  *Estacionalidad*: Se refiere a patrones repetitivos en intervalos regulares (por ejemplo, estacionalidad anual).\n",
        "\n",
        "  El test de *Dickey-Fuller* evalúa la estacionariedad, no la estacionalidad. Por lo tanto, un p-valor alto en el test de Dickey-Fuller indica que la serie no es estacionaria, pero esto no contradice la presencia de estacionalidad identificada por la descomposición.\n",
        "\n",
        "2. *Presencia de Tendencia:*\n",
        "\n",
        "  Si la serie tiene una tendencia clara, el test de Dickey-Fuller puede indicar no estacionariedad debido a esta tendencia, incluso si la serie también tiene componentes estacionales.\n",
        "\n",
        "3. *Número de Diferencias Insuficientes:*\n",
        "\n",
        "  La serie de tiempo puede necesitar más diferenciaciones para convertirse en estacionaria. La descomposición puede separar la estacionalidad y la tendencia, pero el ADF test puede requerir diferencias adicionales para eliminar completamente estas tendencias."
      ],
      "metadata": {
        "id": "VxXL8Jk5v-r4"
      }
    },
    {
      "cell_type": "markdown",
      "source": [
        "### ¿Cómo la mejoramos?\n",
        "\n",
        "Para poder realizar predicciones precisas con modelos de series de tiempo, a menudo es necesario transformar la serie de tiempo para hacerla estacionaria. Esto se puede lograr mediante técnicas como la diferenciación.\n",
        "\n",
        "**Diferenciación** es el proceso de restar el valor actual de una serie temporal de su valor anterior, o de un valor retrasado.\n",
        "\n",
        "Por ejemplo, si tiene una serie temporal mensual de ventas, puede diferenciarla restando las ventas del mes anterior del mes actual. Esto le da el cambio en las ventas de mes a mes, que es una nueva serie de tiempo.\n",
        "\n",
        "Puede repetir este proceso para obtener diferencias de orden más altas, como el cambio en el cambio en las ventas, etc. La idea es eliminar cualquier tendencia o estacionalidad que haga que la serie temporal original no sea estacionaria."
      ],
      "metadata": {
        "id": "ONMk-L6U8gqx"
      }
    },
    {
      "cell_type": "code",
      "source": [
        "# miramos con \"otra lupa\"\n",
        "# Diferenciar la serie para remover tendencia\n",
        "flights_dif = sns.load_dataset(\"flights\")\n",
        "\n",
        "flights_dif[\"month\"] = pd.to_datetime(flights_dif.month, format = \"%b\").dt.month\n",
        "flights_dif[\"date\"] = pd.to_datetime(flights_dif[[\"year\", \"month\"]].assign(day = 1))\n",
        "\n",
        "flights_dif = flights_dif.set_index(\"date\")\n",
        "\n",
        "# Diferenciar la serie para remover tendencia\n",
        "flights_dif['diff_passengers'] = flights_dif['passengers'].diff().dropna()\n",
        "\n",
        "ts_flights_dif = flights_dif[\"diff_passengers\"]\n",
        "ts_flights_dif.dropna(inplace = True)\n",
        "\n",
        "ts_flights_dif"
      ],
      "metadata": {
        "colab": {
          "base_uri": "https://localhost:8080/",
          "height": 489
        },
        "id": "rJXRPi60xJzf",
        "outputId": "4423e30c-213f-4ae4-a2ad-d257beae56db"
      },
      "execution_count": null,
      "outputs": [
        {
          "output_type": "execute_result",
          "data": {
            "text/plain": [
              "date\n",
              "1949-02-01     6.0\n",
              "1949-03-01    14.0\n",
              "1949-04-01    -3.0\n",
              "1949-05-01    -8.0\n",
              "1949-06-01    14.0\n",
              "              ... \n",
              "1960-08-01   -16.0\n",
              "1960-09-01   -98.0\n",
              "1960-10-01   -47.0\n",
              "1960-11-01   -71.0\n",
              "1960-12-01    42.0\n",
              "Name: diff_passengers, Length: 143, dtype: float64"
            ],
            "text/html": [
              "<div>\n",
              "<style scoped>\n",
              "    .dataframe tbody tr th:only-of-type {\n",
              "        vertical-align: middle;\n",
              "    }\n",
              "\n",
              "    .dataframe tbody tr th {\n",
              "        vertical-align: top;\n",
              "    }\n",
              "\n",
              "    .dataframe thead th {\n",
              "        text-align: right;\n",
              "    }\n",
              "</style>\n",
              "<table border=\"1\" class=\"dataframe\">\n",
              "  <thead>\n",
              "    <tr style=\"text-align: right;\">\n",
              "      <th></th>\n",
              "      <th>diff_passengers</th>\n",
              "    </tr>\n",
              "    <tr>\n",
              "      <th>date</th>\n",
              "      <th></th>\n",
              "    </tr>\n",
              "  </thead>\n",
              "  <tbody>\n",
              "    <tr>\n",
              "      <th>1949-02-01</th>\n",
              "      <td>6.0</td>\n",
              "    </tr>\n",
              "    <tr>\n",
              "      <th>1949-03-01</th>\n",
              "      <td>14.0</td>\n",
              "    </tr>\n",
              "    <tr>\n",
              "      <th>1949-04-01</th>\n",
              "      <td>-3.0</td>\n",
              "    </tr>\n",
              "    <tr>\n",
              "      <th>1949-05-01</th>\n",
              "      <td>-8.0</td>\n",
              "    </tr>\n",
              "    <tr>\n",
              "      <th>1949-06-01</th>\n",
              "      <td>14.0</td>\n",
              "    </tr>\n",
              "    <tr>\n",
              "      <th>...</th>\n",
              "      <td>...</td>\n",
              "    </tr>\n",
              "    <tr>\n",
              "      <th>1960-08-01</th>\n",
              "      <td>-16.0</td>\n",
              "    </tr>\n",
              "    <tr>\n",
              "      <th>1960-09-01</th>\n",
              "      <td>-98.0</td>\n",
              "    </tr>\n",
              "    <tr>\n",
              "      <th>1960-10-01</th>\n",
              "      <td>-47.0</td>\n",
              "    </tr>\n",
              "    <tr>\n",
              "      <th>1960-11-01</th>\n",
              "      <td>-71.0</td>\n",
              "    </tr>\n",
              "    <tr>\n",
              "      <th>1960-12-01</th>\n",
              "      <td>42.0</td>\n",
              "    </tr>\n",
              "  </tbody>\n",
              "</table>\n",
              "<p>143 rows × 1 columns</p>\n",
              "</div><br><label><b>dtype:</b> float64</label>"
            ]
          },
          "metadata": {},
          "execution_count": 14
        }
      ]
    },
    {
      "cell_type": "code",
      "source": [
        "# Test de Dickey-Fuller en la serie diferenciada\n",
        "test_stationarity(ts_flights_dif)"
      ],
      "metadata": {
        "colab": {
          "base_uri": "https://localhost:8080/",
          "height": 321
        },
        "id": "7WzcdiaqzL2M",
        "outputId": "ccb1ac2e-22cc-4409-de3a-534b23e7ba9f"
      },
      "execution_count": null,
      "outputs": [
        {
          "output_type": "stream",
          "name": "stdout",
          "text": [
            "Resultados de la prueba de Dickey-Fuller:\n"
          ]
        },
        {
          "output_type": "execute_result",
          "data": {
            "text/plain": [
              "Test Statistic                  -2.829267\n",
              "p-value                          0.054213\n",
              "#Lags Used                      12.000000\n",
              "Number of Observations Used    130.000000\n",
              "Critical Value (1%)             -3.481682\n",
              "Critical Value (5%)             -2.884042\n",
              "Critical Value (10%)            -2.578770\n",
              "dtype: float64"
            ],
            "text/html": [
              "<div>\n",
              "<style scoped>\n",
              "    .dataframe tbody tr th:only-of-type {\n",
              "        vertical-align: middle;\n",
              "    }\n",
              "\n",
              "    .dataframe tbody tr th {\n",
              "        vertical-align: top;\n",
              "    }\n",
              "\n",
              "    .dataframe thead th {\n",
              "        text-align: right;\n",
              "    }\n",
              "</style>\n",
              "<table border=\"1\" class=\"dataframe\">\n",
              "  <thead>\n",
              "    <tr style=\"text-align: right;\">\n",
              "      <th></th>\n",
              "      <th>0</th>\n",
              "    </tr>\n",
              "  </thead>\n",
              "  <tbody>\n",
              "    <tr>\n",
              "      <th>Test Statistic</th>\n",
              "      <td>-2.829267</td>\n",
              "    </tr>\n",
              "    <tr>\n",
              "      <th>p-value</th>\n",
              "      <td>0.054213</td>\n",
              "    </tr>\n",
              "    <tr>\n",
              "      <th>#Lags Used</th>\n",
              "      <td>12.000000</td>\n",
              "    </tr>\n",
              "    <tr>\n",
              "      <th>Number of Observations Used</th>\n",
              "      <td>130.000000</td>\n",
              "    </tr>\n",
              "    <tr>\n",
              "      <th>Critical Value (1%)</th>\n",
              "      <td>-3.481682</td>\n",
              "    </tr>\n",
              "    <tr>\n",
              "      <th>Critical Value (5%)</th>\n",
              "      <td>-2.884042</td>\n",
              "    </tr>\n",
              "    <tr>\n",
              "      <th>Critical Value (10%)</th>\n",
              "      <td>-2.578770</td>\n",
              "    </tr>\n",
              "  </tbody>\n",
              "</table>\n",
              "</div><br><label><b>dtype:</b> float64</label>"
            ]
          },
          "metadata": {},
          "execution_count": 15
        }
      ]
    },
    {
      "cell_type": "markdown",
      "source": [
        "Como p-valor es (casi*) < 0.05 podemos tomarla como estacionaria.\n",
        "\n",
        "(* o volver a diferenciar otra vez...)"
      ],
      "metadata": {
        "id": "MqW-h9aYrEuH"
      }
    },
    {
      "cell_type": "markdown",
      "source": [
        "#### Análisis de la variabilidad\n",
        "\n",
        "La variabilidad implica el estudio de los residuos. Muestra cómo fluctúan los datos una vez se ha estudiado la tendencia y la estacionalidad.\n",
        "\n",
        "Los residuos deberían parecerse a ruido aleatorio si la descomposición fue exitosa. Esto significa que no deben tener:\n",
        " - Tendencias visibles (crecientes o decrecientes).\n",
        " - Patrones periódicos (picos y valles regulares).\n",
        " - Correlaciones entre puntos cercanos en el tiempo.\n",
        "\n",
        "Es decir los residuos deberían parecerse a ruido aleatorio si el modelo captura bien tanto la tendencia como la estacionalidad.\n",
        "\n",
        "Para acceder a su información recurrimos al componente `resid` del resultado `decomposition`."
      ],
      "metadata": {
        "id": "CJFupaDYoyCG"
      }
    },
    {
      "cell_type": "code",
      "source": [
        "residual = decomposition.resid\n",
        "\n",
        "fig, axis = plt.subplots(figsize = (8, 4))\n",
        "\n",
        "sns.lineplot(data = ts)\n",
        "sns.lineplot(data = residual)\n",
        "\n",
        "plt.tight_layout()\n",
        "\n",
        "plt.show()"
      ],
      "metadata": {
        "colab": {
          "base_uri": "https://localhost:8080/",
          "height": 407
        },
        "id": "iwusV9TZo1Lc",
        "outputId": "8435748e-6293-46cd-ea8c-503e74a3faa1"
      },
      "execution_count": null,
      "outputs": [
        {
          "output_type": "display_data",
          "data": {
            "text/plain": [
              "<Figure size 800x400 with 1 Axes>"
            ],
            "image/png": "[encoded data removed]"
          },
          "metadata": {}
        }
      ]
    },
    {
      "cell_type": "markdown",
      "source": [
        "Patrones grandes o regulares:\n",
        "- Si los residuos muestran fluctuaciones grandes en ciertos periodos o patrones repetitivos, podría haber un componente estacional no detectado o una tendencia no lineal.\n",
        "\n",
        "  Ejemplo: Si los residuos tienen picos recurrentes en los mismos meses, es posible que el periodo especificado (period=12) no sea correcto o que existan múltiples componentes estacionales.\n",
        "\n",
        "Residuos dispersos alrededor de cero:\n",
        "\n",
        "- Si los residuos están uniformemente dispersos alrededor de cero, sin un patrón claro, esto es un buen indicador de que la descomposición fue adecuada."
      ],
      "metadata": {
        "id": "nSoEC3UUGdrG"
      }
    },
    {
      "cell_type": "markdown",
      "source": [
        "Se confirma en parte lo observado, ya que la carga de residuos se hace más notable al inicio y al final del periodo estudiado."
      ],
      "metadata": {
        "id": "CV2ngoi5o7Ak"
      }
    },
    {
      "cell_type": "markdown",
      "source": [
        "#### Funciones de autocorrelación\n",
        "\n",
        "Para visualizar la autocorrelación de la serie vamos a utilizar las funciones de autocorrelación (ACF) y autocorrelación parcial (PACF).\n",
        "\n",
        "Este gráfico nos ayuda a ver si los valores en la serie de tiempo están correlacionados con los valores anteriores."
      ],
      "metadata": {
        "id": "QDsfPBy7r9JO"
      }
    },
    {
      "cell_type": "markdown",
      "source": [
        "### Función de autocorrelación (ACF)"
      ],
      "metadata": {
        "id": "UfkhbEzktvm9"
      }
    },
    {
      "cell_type": "code",
      "source": [
        "# cada lag es un mes\n",
        "plot_acf(ts, lags=48)\n",
        "\n",
        "plt.tight_layout()\n",
        "\n",
        "plt.show()"
      ],
      "metadata": {
        "colab": {
          "base_uri": "https://localhost:8080/",
          "height": 487
        },
        "id": "pq658BiLsEID",
        "outputId": "236d8b73-4ed3-4430-aa6f-48ef486066bc"
      },
      "execution_count": null,
      "outputs": [
        {
          "output_type": "display_data",
          "data": {
            "text/plain": [
              "<Figure size 640x480 with 1 Axes>"
            ],
            "image/png": "[encoded data removed]"
          },
          "metadata": {}
        }
      ]
    },
    {
      "cell_type": "markdown",
      "source": [
        "Se aprecia una alta correlación entre los puntos y sus copias retrasadas, que disminuye a lo largo del tiempo."
      ],
      "metadata": {
        "id": "9Fi1t57jsJbZ"
      }
    },
    {
      "cell_type": "markdown",
      "source": [
        "Eje Horizontal (X): Representa los rezagos (lags). Cada punto en el eje X indica un rezago específico. Por ejemplo, el valor en lag=1 muestra la autocorrelación entre el valor de la serie en el tiempo $𝑡$ y el valor en $t-1$.\n",
        "\n",
        "Eje Vertical (Y): Representa el coeficiente de autocorrelación. Este valor varía entre -1 y 1. Un valor positivo indica una relación directa (cuando uno sube, el otro también sube), mientras que un valor negativo indica una relación inversa (cuando uno sube, el otro baja).\n",
        "\n",
        "Barras de Autocorrelación: Cada barra en el gráfico muestra la autocorrelación en un rezago específico. La altura de la barra indica la magnitud de la autocorrelación. Barras más altas indican una correlación más fuerte.\n",
        "\n",
        "Líneas de Confianza: Si una barra excede estas líneas hay una correlación estadísticamente significativa en ese rezago.\n",
        "\n",
        "- Lag 1-12: Barras altas, lo que indica una fuerte autocorrelación mensual (sugerencia de estacionalidad anual).\n",
        "\n",
        "- Lag 12: Un pico significativo, indicando que los datos de un año están fuertemente correlacionados con los datos del año anterior.\n",
        "\n",
        "- La ACF disminuye lentamente y muestra picos significativos en los rezagos correspondientes a múltiplos de 12 (12, 24, 36, 48), lo que confirma la fuerte estacionalidad anual."
      ],
      "metadata": {
        "id": "9wR12Cge3GAi"
      }
    },
    {
      "cell_type": "markdown",
      "source": [
        "### Función de Autocorrelación Parcial (PACF)\n",
        "\n",
        "Mide la relación entre $Y_t$ y $Y_{t-k}$ eliminando la influencia de los valores intermedios.\n",
        "\n",
        "Es decir ayuda a identificar la influencia directa de los valores pasados sin la interferencia de otros valores intermedios.\n",
        "\n",
        "No tiene una expresión simple, pero se calcula resolviendo un sistema de ecuaciones de regresión autorregresiva"
      ],
      "metadata": {
        "id": "eRIYLny_t13H"
      }
    },
    {
      "cell_type": "code",
      "source": [
        "# Graficar PACF\n",
        "plt.figure(figsize=(8, 4))\n",
        "plot_pacf(ts, lags=48, ax=plt.gca())\n",
        "plt.title('Función de Autocorrelación Parcial (PACF)')\n",
        "plt.show()"
      ],
      "metadata": {
        "colab": {
          "base_uri": "https://localhost:8080/",
          "height": 391
        },
        "id": "LHyKEXfnrzhE",
        "outputId": "ed7f841f-e35c-44de-f1df-0c50d65bf361"
      },
      "execution_count": null,
      "outputs": [
        {
          "output_type": "display_data",
          "data": {
            "text/plain": [
              "<Figure size 800x400 with 1 Axes>"
            ],
            "image/png": "[encoded data removed]"
          },
          "metadata": {}
        }
      ]
    },
    {
      "cell_type": "markdown",
      "source": [
        "Muestra un pico significativo en el rezago 1 y también picos significativos en los rezagos correspondientes a la estacionalidad, aunque estos ultimos disminuyen rapidamente."
      ],
      "metadata": {
        "id": "1_qSrRFJsIoC"
      }
    },
    {
      "cell_type": "markdown",
      "source": [
        "**Significancia estadística:**\n",
        "\n",
        "Los coeficientes de correlación que caen fuera de las zonas grises se consideran estadísticamente significativos. Esto significa que es poco probable que estos coeficientes sean simplemente el resultado del azar.\n",
        "\n",
        "Por el contrario, los coeficientes de correlación que caen dentro de las zonas grises se consideran no significativos. Esto significa que podrían ser simplemente el resultado del azar.\n",
        "\n",
        "No hay una regla única para la elección de p (en el caso de un modelo autorregresivo) como de q (para un modelo de medias móviles). Buscamos en ambos casos un valor que sea significativo (o lo más significativo posible) pero que a la vez no sea demasiado alto, para no complejizar demasiado."
      ],
      "metadata": {
        "id": "mYjo-4_XsM-K"
      }
    },
    {
      "cell_type": "markdown",
      "source": [
        "### Modelo ARIMA (p, d, q)\n",
        "\n",
        "Un modelo $ARIMA(p, d, q)$ consta de tres hiperparámetros:\n",
        "\n",
        "- `p`: El orden del componente autorregresivo (AR).\n",
        "- `d`: El grado de diferenciación necesario para hacer la serie de tiempo estacionaria.\n",
        "- `q`: El orden del componente de media móvil (MA).\n",
        "\n",
        "Tomamos diferenciación d = 1:"
      ],
      "metadata": {
        "id": "1MvWcLwbsViI"
      }
    },
    {
      "cell_type": "code",
      "source": [
        "total_data = sns.load_dataset(\"flights\")\n",
        "\n",
        "total_data[\"month\"] = pd.to_datetime(total_data.month, format = \"%b\").dt.month\n",
        "total_data[\"date\"] = pd.to_datetime(total_data[[\"year\", \"month\"]].assign(day = 1))\n",
        "\n",
        "total_data = total_data.set_index(\"date\")\n",
        "\n",
        "ts = total_data[\"passengers\"]\n",
        "\n",
        "# Diferenciación de primer orden\n",
        "ts_diff1 = ts.diff().dropna()"
      ],
      "metadata": {
        "id": "tFwBdpINuHOx"
      },
      "execution_count": null,
      "outputs": []
    },
    {
      "cell_type": "markdown",
      "source": [
        "Análisis ACF y PACF\n",
        "\n",
        "- De ACF q = 1,\n",
        "- De PACF p = 1."
      ],
      "metadata": {
        "id": "EpUJljR8uHV6"
      }
    },
    {
      "cell_type": "code",
      "source": [
        "fig, ax = plt.subplots(1, 2, figsize=(12, 5))\n",
        "\n",
        "# ACF para determinar q\n",
        "plot_acf(ts_diff1, lags=48, ax=ax[0])\n",
        "ax[0].set_title(\"Autocorrelación (ACF)\")\n",
        "\n",
        "# PACF para determinar p\n",
        "plot_pacf(ts_diff1, lags=48, ax=ax[1])\n",
        "ax[1].set_title(\"Autocorrelación Parcial (PACF)\")\n",
        "\n",
        "plt.show()"
      ],
      "metadata": {
        "colab": {
          "base_uri": "https://localhost:8080/",
          "height": 468
        },
        "id": "zoyqRCErsqT5",
        "outputId": "6a60e57d-cf17-4712-d7b9-43479609fa7e"
      },
      "execution_count": null,
      "outputs": [
        {
          "output_type": "display_data",
          "data": {
            "text/plain": [
              "<Figure size 1200x500 with 2 Axes>"
            ],
            "image/png": "[encoded data removed]"
          },
          "metadata": {}
        }
      ]
    },
    {
      "cell_type": "code",
      "source": [
        "p = 1\n",
        "d = 1\n",
        "q = 1\n",
        "\n",
        "modelo_arima = ARIMA(ts, order=(p,d,q))\n",
        "\n",
        "resultado_arima = modelo_arima.fit()"
      ],
      "metadata": {
        "id": "pzwEn8EMptKI"
      },
      "execution_count": null,
      "outputs": []
    },
    {
      "cell_type": "code",
      "source": [
        "# Pronóstico para los próximos 12 meses\n",
        "predicciones = resultado_arima.predict(start=len(ts), end=len(ts)+11)\n",
        "predicciones"
      ],
      "metadata": {
        "colab": {
          "base_uri": "https://localhost:8080/",
          "height": 460
        },
        "id": "K1A7ymjov2TD",
        "outputId": "fe5c8e02-f172-4cbc-a973-972f0784d737"
      },
      "execution_count": null,
      "outputs": [
        {
          "output_type": "execute_result",
          "data": {
            "text/plain": [
              "1961-01-01    475.735059\n",
              "1961-02-01    454.996073\n",
              "1961-03-01    464.830415\n",
              "1961-04-01    460.167010\n",
              "1961-05-01    462.378378\n",
              "1961-06-01    461.329756\n",
              "1961-07-01    461.827008\n",
              "1961-08-01    461.591213\n",
              "1961-09-01    461.703026\n",
              "1961-10-01    461.650005\n",
              "1961-11-01    461.675148\n",
              "1961-12-01    461.663225\n",
              "Freq: MS, Name: predicted_mean, dtype: float64"
            ],
            "text/html": [
              "<div>\n",
              "<style scoped>\n",
              "    .dataframe tbody tr th:only-of-type {\n",
              "        vertical-align: middle;\n",
              "    }\n",
              "\n",
              "    .dataframe tbody tr th {\n",
              "        vertical-align: top;\n",
              "    }\n",
              "\n",
              "    .dataframe thead th {\n",
              "        text-align: right;\n",
              "    }\n",
              "</style>\n",
              "<table border=\"1\" class=\"dataframe\">\n",
              "  <thead>\n",
              "    <tr style=\"text-align: right;\">\n",
              "      <th></th>\n",
              "      <th>predicted_mean</th>\n",
              "    </tr>\n",
              "  </thead>\n",
              "  <tbody>\n",
              "    <tr>\n",
              "      <th>1961-01-01</th>\n",
              "      <td>475.735059</td>\n",
              "    </tr>\n",
              "    <tr>\n",
              "      <th>1961-02-01</th>\n",
              "      <td>454.996073</td>\n",
              "    </tr>\n",
              "    <tr>\n",
              "      <th>1961-03-01</th>\n",
              "      <td>464.830415</td>\n",
              "    </tr>\n",
              "    <tr>\n",
              "      <th>1961-04-01</th>\n",
              "      <td>460.167010</td>\n",
              "    </tr>\n",
              "    <tr>\n",
              "      <th>1961-05-01</th>\n",
              "      <td>462.378378</td>\n",
              "    </tr>\n",
              "    <tr>\n",
              "      <th>1961-06-01</th>\n",
              "      <td>461.329756</td>\n",
              "    </tr>\n",
              "    <tr>\n",
              "      <th>1961-07-01</th>\n",
              "      <td>461.827008</td>\n",
              "    </tr>\n",
              "    <tr>\n",
              "      <th>1961-08-01</th>\n",
              "      <td>461.591213</td>\n",
              "    </tr>\n",
              "    <tr>\n",
              "      <th>1961-09-01</th>\n",
              "      <td>461.703026</td>\n",
              "    </tr>\n",
              "    <tr>\n",
              "      <th>1961-10-01</th>\n",
              "      <td>461.650005</td>\n",
              "    </tr>\n",
              "    <tr>\n",
              "      <th>1961-11-01</th>\n",
              "      <td>461.675148</td>\n",
              "    </tr>\n",
              "    <tr>\n",
              "      <th>1961-12-01</th>\n",
              "      <td>461.663225</td>\n",
              "    </tr>\n",
              "  </tbody>\n",
              "</table>\n",
              "</div><br><label><b>dtype:</b> float64</label>"
            ]
          },
          "metadata": {},
          "execution_count": 42
        }
      ]
    },
    {
      "cell_type": "code",
      "source": [
        "# Graficar pronóstico\n",
        "plt.figure(figsize=(12,5))\n",
        "plt.plot(ts, label='Serie original')\n",
        "plt.plot(predicciones, label='Pronóstico', color='red')\n",
        "plt.title(\"Pronóstico de Pasajeros con ARIMA(1,1,1)\")\n",
        "plt.xlabel(\"Fecha\")\n",
        "plt.ylabel(\"Número de pasajeros\")\n",
        "plt.legend()\n",
        "plt.grid(True)\n",
        "plt.show()"
      ],
      "metadata": {
        "colab": {
          "base_uri": "https://localhost:8080/",
          "height": 488
        },
        "id": "gy6ZM6UUwAN3",
        "outputId": "bc4fcf5c-28aa-4b37-95aa-58df5c774344"
      },
      "execution_count": null,
      "outputs": [
        {
          "output_type": "display_data",
          "data": {
            "text/plain": [
              "<Figure size 1200x500 with 1 Axes>"
            ],
            "image/png": "[encoded data removed]"
          },
          "metadata": {}
        }
      ]
    },
    {
      "cell_type": "markdown",
      "source": [
        "Perdimos la estacionalidad anual...."
      ],
      "metadata": {
        "id": "4I-reSZsxVZz"
      }
    },
    {
      "cell_type": "markdown",
      "source": [
        "### Entrenamiento automático del modelo\n",
        "\n",
        "Existen herramientas que nos facilitan la vida estimando de forma interna los hiperparámetros más apropiados y generando el mejor modelo posible, como el paquete `pmdarima` y su función `auto_arima`.\n",
        "\n",
        "Lo único que tenemos que considerar es que para optimizar al máximo sus resultados, debemos transformar la serie en estacionaria."
      ],
      "metadata": {
        "id": "Zw_1wD7F7ian"
      }
    },
    {
      "cell_type": "code",
      "source": [
        "# seasonal = True: modelo ARIMA estacional\n",
        "# trace=True en auto_arima() sirve para mostrar en pantalla el proceso de búsqueda del mejor modelo ARIMA.\n",
        "model = auto_arima(ts, seasonal = True, trace = True, m = 12)"
      ],
      "metadata": {
        "colab": {
          "base_uri": "https://localhost:8080/"
        },
        "id": "FGhZeQni787k",
        "outputId": "fe603705-b1f2-43f4-a04e-9bc85b1a7260"
      },
      "execution_count": 49,
      "outputs": [
        {
          "output_type": "stream",
          "name": "stdout",
          "text": [
            "Performing stepwise search to minimize aic\n",
            " ARIMA(2,1,2)(1,1,1)[12]             : AIC=1020.048, Time=3.78 sec\n",
            " ARIMA(0,1,0)(0,1,0)[12]             : AIC=1031.508, Time=0.10 sec\n",
            " ARIMA(1,1,0)(1,1,0)[12]             : AIC=1020.393, Time=0.25 sec\n",
            " ARIMA(0,1,1)(0,1,1)[12]             : AIC=1021.003, Time=0.57 sec\n",
            " ARIMA(2,1,2)(0,1,1)[12]             : AIC=1019.935, Time=2.29 sec\n",
            " ARIMA(2,1,2)(0,1,0)[12]             : AIC=1019.290, Time=1.02 sec\n",
            " ARIMA(2,1,2)(1,1,0)[12]             : AIC=1019.546, Time=3.78 sec\n",
            " ARIMA(1,1,2)(0,1,0)[12]             : AIC=1024.160, Time=0.40 sec\n",
            " ARIMA(2,1,1)(0,1,0)[12]             : AIC=1017.847, Time=0.40 sec\n",
            " ARIMA(2,1,1)(1,1,0)[12]             : AIC=1017.914, Time=0.81 sec\n",
            " ARIMA(2,1,1)(0,1,1)[12]             : AIC=1018.359, Time=0.77 sec\n",
            " ARIMA(2,1,1)(1,1,1)[12]             : AIC=1018.248, Time=1.56 sec\n",
            " ARIMA(1,1,1)(0,1,0)[12]             : AIC=1022.393, Time=0.10 sec\n",
            " ARIMA(2,1,0)(0,1,0)[12]             : AIC=1022.393, Time=0.09 sec\n",
            " ARIMA(3,1,1)(0,1,0)[12]             : AIC=1019.084, Time=0.30 sec\n",
            " ARIMA(1,1,0)(0,1,0)[12]             : AIC=1020.393, Time=0.10 sec\n",
            " ARIMA(3,1,0)(0,1,0)[12]             : AIC=1023.666, Time=0.12 sec\n",
            " ARIMA(3,1,2)(0,1,0)[12]             : AIC=1021.083, Time=0.55 sec\n",
            " ARIMA(2,1,1)(0,1,0)[12] intercept   : AIC=inf, Time=0.77 sec\n",
            "\n",
            "Best model:  ARIMA(2,1,1)(0,1,0)[12]          \n",
            "Total fit time: 17.911 seconds\n"
          ]
        }
      ]
    },
    {
      "cell_type": "markdown",
      "source": [
        "Como podemos ver, la función hace una búsqueda en el espacio de soluciones posible para estimar los mejores parámetros. En este caso tendríamos un $ARIMA(2, 1, 1)$. El modelo que devuelve esta función es totalmente usable, como cualquier otro que hayamos visto, y su función `summary()` devuelve información estadística y sobre su rendimiento que tiene gran valor:"
      ],
      "metadata": {
        "id": "gxrcDKZy7--q"
      }
    },
    {
      "cell_type": "markdown",
      "source": [
        "#### Predicción del modelo\n",
        "\n",
        "Una vez se ha entrenado el modelo, se puede utilizar para predecir a futuro (predeciremos los siguientes `12` meses)"
      ],
      "metadata": {
        "id": "dA7n8kSR8GFK"
      }
    },
    {
      "cell_type": "code",
      "source": [
        "forecast = model.predict(12)\n",
        "forecast"
      ],
      "metadata": {
        "colab": {
          "base_uri": "https://localhost:8080/",
          "height": 460
        },
        "id": "PvQ15lCy8In5",
        "outputId": "9250ac63-96c4-4398-abde-c4321b115527"
      },
      "execution_count": 50,
      "outputs": [
        {
          "output_type": "execute_result",
          "data": {
            "text/plain": [
              "1961-01-01    445.634924\n",
              "1961-02-01    420.395010\n",
              "1961-03-01    449.198328\n",
              "1961-04-01    491.839952\n",
              "1961-05-01    503.394475\n",
              "1961-06-01    566.862441\n",
              "1961-07-01    654.260157\n",
              "1961-08-01    638.597459\n",
              "1961-09-01    540.883703\n",
              "1961-10-01    494.126573\n",
              "1961-11-01    423.332652\n",
              "1961-12-01    465.507511\n",
              "Freq: MS, dtype: float64"
            ],
            "text/html": [
              "<div>\n",
              "<style scoped>\n",
              "    .dataframe tbody tr th:only-of-type {\n",
              "        vertical-align: middle;\n",
              "    }\n",
              "\n",
              "    .dataframe tbody tr th {\n",
              "        vertical-align: top;\n",
              "    }\n",
              "\n",
              "    .dataframe thead th {\n",
              "        text-align: right;\n",
              "    }\n",
              "</style>\n",
              "<table border=\"1\" class=\"dataframe\">\n",
              "  <thead>\n",
              "    <tr style=\"text-align: right;\">\n",
              "      <th></th>\n",
              "      <th>0</th>\n",
              "    </tr>\n",
              "  </thead>\n",
              "  <tbody>\n",
              "    <tr>\n",
              "      <th>1961-01-01</th>\n",
              "      <td>445.634924</td>\n",
              "    </tr>\n",
              "    <tr>\n",
              "      <th>1961-02-01</th>\n",
              "      <td>420.395010</td>\n",
              "    </tr>\n",
              "    <tr>\n",
              "      <th>1961-03-01</th>\n",
              "      <td>449.198328</td>\n",
              "    </tr>\n",
              "    <tr>\n",
              "      <th>1961-04-01</th>\n",
              "      <td>491.839952</td>\n",
              "    </tr>\n",
              "    <tr>\n",
              "      <th>1961-05-01</th>\n",
              "      <td>503.394475</td>\n",
              "    </tr>\n",
              "    <tr>\n",
              "      <th>1961-06-01</th>\n",
              "      <td>566.862441</td>\n",
              "    </tr>\n",
              "    <tr>\n",
              "      <th>1961-07-01</th>\n",
              "      <td>654.260157</td>\n",
              "    </tr>\n",
              "    <tr>\n",
              "      <th>1961-08-01</th>\n",
              "      <td>638.597459</td>\n",
              "    </tr>\n",
              "    <tr>\n",
              "      <th>1961-09-01</th>\n",
              "      <td>540.883703</td>\n",
              "    </tr>\n",
              "    <tr>\n",
              "      <th>1961-10-01</th>\n",
              "      <td>494.126573</td>\n",
              "    </tr>\n",
              "    <tr>\n",
              "      <th>1961-11-01</th>\n",
              "      <td>423.332652</td>\n",
              "    </tr>\n",
              "    <tr>\n",
              "      <th>1961-12-01</th>\n",
              "      <td>465.507511</td>\n",
              "    </tr>\n",
              "  </tbody>\n",
              "</table>\n",
              "</div><br><label><b>dtype:</b> float64</label>"
            ]
          },
          "metadata": {},
          "execution_count": 50
        }
      ]
    },
    {
      "cell_type": "code",
      "source": [
        "fig, axis = plt.subplots(figsize = (8, 4))\n",
        "\n",
        "sns.lineplot(data = ts)\n",
        "sns.lineplot(data = forecast, c = \"green\")\n",
        "\n",
        "plt.tight_layout()\n",
        "\n",
        "plt.show()"
      ],
      "metadata": {
        "colab": {
          "base_uri": "https://localhost:8080/",
          "height": 407
        },
        "id": "Qb7L5LTA8Llq",
        "outputId": "1f0506b2-a687-4454-b644-46dcab5d5a3a"
      },
      "execution_count": 52,
      "outputs": [
        {
          "output_type": "display_data",
          "data": {
            "text/plain": [
              "<Figure size 800x400 with 1 Axes>"
            ],
            "image/png": "[encoded data removed]"
          },
          "metadata": {}
        }
      ]
    },
    {
      "cell_type": "markdown",
      "source": [
        "## 5. Links de interés <a name=\"links\"></a>"
      ],
      "metadata": {
        "id": "4ZLwGjES0O50"
      }
    },
    {
      "cell_type": "markdown",
      "source": [
        "- [Time Series Forecasting with Python 7-Day Mini-Course](https://machinelearningmastery.com/time-series-forecasting-python/)\n",
        "- [Time Series analysis](https://www.statsmodels.org/stable/tsa.html)\n",
        "- [Análisis de series temporales](https://www.ucm.es/data/cont/docs/518-2013-11-11-JAM-IAST-Libro.pdf)"
      ],
      "metadata": {
        "id": "R75ytPht0dY7"
      }
    }
  ]
}