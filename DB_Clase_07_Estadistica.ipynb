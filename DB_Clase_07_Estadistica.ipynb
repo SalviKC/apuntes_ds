{
  "nbformat": 4,
  "nbformat_minor": 0,
  "metadata": {
    "colab": {
      "provenance": []
    },
    "kernelspec": {
      "name": "python3",
      "display_name": "Python 3"
    },
    "language_info": {
      "name": "python"
    }
  },
  "cells": [
    {
      "cell_type": "markdown",
      "source": [
        "<div align=\"right\">\n",
        "  <img src=\"https://drive.google.com/uc?export=view&id=1J8JpP65HsHXdpJvhb_sMwn3yROyU832m\" height=\"80\" width=\"200\" style=\"float: right;\">\n",
        "</div>\n",
        "<h1><b>Data Science and Machine Learning</b></h1>\n",
        "<h2><b>Clase 7</b>: Estadística descriptiva</h2>\n",
        "<h3><b>Docente</b>: <a href=\"https://www.linkedin.com/in/danielablanco/\">Daniela Blanco</a>"
      ],
      "metadata": {
        "id": "Wp4cyu16yiif"
      }
    },
    {
      "cell_type": "markdown",
      "source": [
        "# Contenido\n",
        "\n",
        "- [1. ¿Qué es la estadistica?](#estadistica)\n",
        "- [2. Medidas](#medidas)\n",
        "- [2.1 Medidas de Tendencia Central](#tendencia)\n",
        "- [2.2 Medidas de Dispersión](#dispersion)\n",
        "- [2.3 Medidas de Posición](#posicion)\n",
        "- [2.4 Medidas de Forma](#forma)"
      ],
      "metadata": {
        "id": "XEmijBfl2b_I"
      }
    },
    {
      "cell_type": "code",
      "source": [
        "import statistics as stats\n",
        "\n",
        "from scipy.stats import skew\n",
        "from scipy.stats import kurtosis\n",
        "\n",
        "import pandas as pd\n",
        "import numpy as np\n",
        "\n",
        "import matplotlib.pyplot as plt\n",
        "import seaborn as sns\n",
        "\n",
        "from google.colab import drive"
      ],
      "metadata": {
        "id": "l74_xdTGGY35"
      },
      "execution_count": 1,
      "outputs": []
    },
    {
      "cell_type": "code",
      "source": [
        "# conexión drive\n",
        "drive.mount('/content/drive')"
      ],
      "metadata": {
        "colab": {
          "base_uri": "https://localhost:8080/"
        },
        "id": "TpBVNGS1Ksgc",
        "outputId": "c452bcec-478e-4102-80f5-467f3c4c97e4"
      },
      "execution_count": 2,
      "outputs": [
        {
          "output_type": "stream",
          "name": "stdout",
          "text": [
            "Mounted at /content/drive\n"
          ]
        }
      ]
    },
    {
      "cell_type": "markdown",
      "source": [
        "## 1. ¿Qué es la estadística? <a name=\"estadistica\"></a>"
      ],
      "metadata": {
        "id": "Pw6lT_8L3Bny"
      }
    },
    {
      "cell_type": "markdown",
      "source": [
        "<img src=\"https://drive.google.com/uc?export=view&id=1CVklfQP_JDF4Ep8DyuJcPs05elUnrHfq\" height=\"180\" width=\"520\" style=\"float: center;\">"
      ],
      "metadata": {
        "id": "r4PQ6VCun-6J"
      }
    },
    {
      "cell_type": "markdown",
      "source": [
        "- **Rama de las matemáticas** que se encarga de recolectar, organizar, analizar e interpretar datos para entenderlos y extraer conclusiones.\n",
        "\n",
        "- Dentro de la estadística, la **estadística descriptiva** es una subrama que se centra en describir y resumir los datos de manera comprensible. No hace inferencias ni predicciones, sino que se limita a mostrar lo que los datos dicen en su forma más básica."
      ],
      "metadata": {
        "id": "4jhbeTuX8V_T"
      }
    },
    {
      "cell_type": "markdown",
      "source": [
        "## 2. Medidas <a name=\"medidas\"></a>"
      ],
      "metadata": {
        "id": "nF-jwaADRLuP"
      }
    },
    {
      "cell_type": "markdown",
      "source": [
        "- Una **medida** es una forma cuantitativa de describir y resumir aspectos específicos de un conjunto de datos.\n",
        "\n",
        "- Las medidas se dividen en varias categorías, cada una proporcionando información distinta sobre los datos.\n",
        "\n",
        "- Hablaremos de **medidas de tendencia central, dispersión, de posición y forma**."
      ],
      "metadata": {
        "id": "TjbtiSPVRQPJ"
      }
    },
    {
      "cell_type": "markdown",
      "source": [
        "### 2.1 Medidas de Tendencia Central <a name=\"tendencia\"></a>\n",
        "\n",
        "Estas medidas indican el valor central o típico de un conjunto de datos.\n",
        "\n",
        "Describen cómo se centralizan o agrupan los datos en un conjunto.\n",
        "\n",
        "Son esenciales en análisis de datos porque nos proporcionan un resumen de la información, permitiéndonos comprender rápidamente las características generales de una distribución de datos sin tener que observar cada valor individualmente."
      ],
      "metadata": {
        "id": "fgaAEEQUoX9p"
      }
    },
    {
      "cell_type": "markdown",
      "source": [
        "- **Media** (Promedio): Es la suma de todos los valores dividida por el número de valores.\n",
        "\n",
        "- **Mediana**: Es el valor central cuando los datos están ordenados de menor a mayor. Si hay un número par de valores, es el promedio de los dos valores centrales.\n",
        "\n",
        "- **Moda**: Es el valor que aparece con mayor frecuencia en un conjunto de datos."
      ],
      "metadata": {
        "id": "cfsufu2bocHU"
      }
    },
    {
      "cell_type": "markdown",
      "source": [
        "<img src=\"https://drive.google.com/uc?export=view&id=1FfC8S8LWNfoNFKdfOpBavzjNugcezZ9t\" height=\"320\" width=\"560\" style=\"float: center;\">\n",
        "\n",
        "Fuente: [theconversation.com](https://theconversation.com/como-interpretar-los-datos-sin-hacerse-un-lio-media-mediana-y-moda-167486)"
      ],
      "metadata": {
        "id": "JaiNZmbdFLuv"
      }
    },
    {
      "cell_type": "markdown",
      "source": [
        "#### Ejemplo 1"
      ],
      "metadata": {
        "id": "GrrIrtkLGajx"
      }
    },
    {
      "cell_type": "code",
      "source": [
        "data = [10, 20, -15, 0, 50, 10, 5, 100]\n",
        "\n",
        "data_ordenada = sorted(data)"
      ],
      "metadata": {
        "id": "Pp1jzbeBGgfn"
      },
      "execution_count": 3,
      "outputs": []
    },
    {
      "cell_type": "code",
      "source": [
        "data"
      ],
      "metadata": {
        "colab": {
          "base_uri": "https://localhost:8080/"
        },
        "id": "zUePV6xxGzcY",
        "outputId": "59f7a039-10fc-439d-b84d-5d6237a2ebd9"
      },
      "execution_count": 4,
      "outputs": [
        {
          "output_type": "execute_result",
          "data": {
            "text/plain": [
              "[10, 20, -15, 0, 50, 10, 5, 100]"
            ]
          },
          "metadata": {},
          "execution_count": 4
        }
      ]
    },
    {
      "cell_type": "code",
      "source": [
        "data_ordenada"
      ],
      "metadata": {
        "colab": {
          "base_uri": "https://localhost:8080/"
        },
        "id": "4ESulPqiHCQv",
        "outputId": "18d52a71-f6b8-4195-d972-84ecda677715"
      },
      "execution_count": 5,
      "outputs": [
        {
          "output_type": "execute_result",
          "data": {
            "text/plain": [
              "[-15, 0, 5, 10, 10, 20, 50, 100]"
            ]
          },
          "metadata": {},
          "execution_count": 5
        }
      ]
    },
    {
      "cell_type": "code",
      "source": [
        "mean = stats.mean(data)\n",
        "\n",
        "print(\"Media:\", mean)"
      ],
      "metadata": {
        "colab": {
          "base_uri": "https://localhost:8080/"
        },
        "id": "O4tvi4OtGddC",
        "outputId": "506feb75-bc99-4625-82a2-f106b8da798e"
      },
      "execution_count": 6,
      "outputs": [
        {
          "output_type": "stream",
          "name": "stdout",
          "text": [
            "Media: 22.5\n"
          ]
        }
      ]
    },
    {
      "cell_type": "code",
      "source": [
        "median = stats.median(data)\n",
        "\n",
        "print(\"Mediana:\", median)"
      ],
      "metadata": {
        "colab": {
          "base_uri": "https://localhost:8080/"
        },
        "id": "jhcrnlukGl8u",
        "outputId": "1cf147cc-7895-4045-cdf2-b93de6132f57"
      },
      "execution_count": 7,
      "outputs": [
        {
          "output_type": "stream",
          "name": "stdout",
          "text": [
            "Mediana: 10.0\n"
          ]
        }
      ]
    },
    {
      "cell_type": "code",
      "source": [
        "mode = stats.mode(data)\n",
        "\n",
        "print(\"Moda:\", mode)"
      ],
      "metadata": {
        "colab": {
          "base_uri": "https://localhost:8080/"
        },
        "id": "7CBJzkcoHL5I",
        "outputId": "945d896f-5783-4c8c-ff57-0b29ad91d34f"
      },
      "execution_count": 8,
      "outputs": [
        {
          "output_type": "stream",
          "name": "stdout",
          "text": [
            "Moda: 10\n"
          ]
        }
      ]
    },
    {
      "cell_type": "markdown",
      "source": [
        "#### Ejemplo 2: Estaturas"
      ],
      "metadata": {
        "id": "9-KpuhpMHwln"
      }
    },
    {
      "cell_type": "markdown",
      "source": [
        "<img src=\"https://drive.google.com/uc?export=view&id=1P_mSIP89qJEmB6qrLmZpZnOhyAEP52t-\" height=\"280\" width=\"440\" style=\"float: center;\">"
      ],
      "metadata": {
        "id": "TkLUJzUoH7vz"
      }
    },
    {
      "cell_type": "code",
      "source": [
        "estaturas = [143, 145, 149, 150, 152, 152, 152, 152, 153, 153, 154, 155, 155, 155, 156, 156, 157, 157, 157, 158, 158, 158, 159, 159, 159]\n",
        "\n",
        "cantidad = len(estaturas)\n",
        "\n",
        "print(cantidad)"
      ],
      "metadata": {
        "colab": {
          "base_uri": "https://localhost:8080/"
        },
        "id": "p1-4uAqoIINW",
        "outputId": "beddbbdf-7bfa-4b68-a1a6-1d02d08b9604"
      },
      "execution_count": 9,
      "outputs": [
        {
          "output_type": "stream",
          "name": "stdout",
          "text": [
            "25\n"
          ]
        }
      ]
    },
    {
      "cell_type": "markdown",
      "source": [
        "<img src=\"https://drive.google.com/uc?export=view&id=1GLq8hy3Zw_D7fBOpqT6Pq3-1Mblkyj2p\" height=\"300\" width=\"580\" style=\"float: center;\">"
      ],
      "metadata": {
        "id": "TIvhwl41I9DV"
      }
    },
    {
      "cell_type": "code",
      "source": [
        "media_estaturas = stats.mean(estaturas)\n",
        "\n",
        "print(\"Media:\", media_estaturas)"
      ],
      "metadata": {
        "colab": {
          "base_uri": "https://localhost:8080/"
        },
        "id": "TrMk2KFQIdn-",
        "outputId": "44643fc4-38b1-486e-dd08-82fcd71f4df1"
      },
      "execution_count": 10,
      "outputs": [
        {
          "output_type": "stream",
          "name": "stdout",
          "text": [
            "Media: 154.16\n"
          ]
        }
      ]
    },
    {
      "cell_type": "markdown",
      "source": [
        "<img src=\"https://drive.google.com/uc?export=view&id=1S0zps7Q69TF-QR4KLS3aBbFNb-nInXSp\" height=\"250\" width=\"500\" style=\"float: center;\">"
      ],
      "metadata": {
        "id": "f8JEaCagJeCd"
      }
    },
    {
      "cell_type": "code",
      "source": [
        "mediana_estaturas = stats.median(estaturas)\n",
        "\n",
        "print(\"Mediana:\", mediana_estaturas)"
      ],
      "metadata": {
        "colab": {
          "base_uri": "https://localhost:8080/"
        },
        "id": "M0cevf_CJOBo",
        "outputId": "2c3414bc-486a-4526-bb74-83d53a2420a7"
      },
      "execution_count": 11,
      "outputs": [
        {
          "output_type": "stream",
          "name": "stdout",
          "text": [
            "Mediana: 155\n"
          ]
        }
      ]
    },
    {
      "cell_type": "markdown",
      "source": [
        "<img src=\"https://drive.google.com/uc?export=view&id=1sEdUBeGioPVGx6vhmpBIOfgqMvIq7Ro6\" height=\"290\" width=\"450\" style=\"float: center;\">"
      ],
      "metadata": {
        "id": "-1q6qtVrJ68A"
      }
    },
    {
      "cell_type": "code",
      "source": [
        "moda_estaturas = stats.mode(estaturas)\n",
        "\n",
        "print(\"Moda:\", moda_estaturas)"
      ],
      "metadata": {
        "colab": {
          "base_uri": "https://localhost:8080/"
        },
        "id": "flbgOmzYJr_2",
        "outputId": "0614cd30-36e8-4580-c679-2c6b499e9e5f"
      },
      "execution_count": 12,
      "outputs": [
        {
          "output_type": "stream",
          "name": "stdout",
          "text": [
            "Moda: 152\n"
          ]
        }
      ]
    },
    {
      "cell_type": "markdown",
      "source": [
        "#### Ejemplo 3: Pandas"
      ],
      "metadata": {
        "id": "KSMZ5oRBLHvE"
      }
    },
    {
      "cell_type": "code",
      "source": [
        "archivo  = \"/content/drive/MyDrive/4Geeks/DS/07_estadistica/data/real_estate.csv\"\n",
        "\n",
        "df = pd.read_csv(archivo, sep=';')"
      ],
      "metadata": {
        "id": "9psdRt7TKy11"
      },
      "execution_count": 13,
      "outputs": []
    },
    {
      "cell_type": "code",
      "source": [
        "df.shape"
      ],
      "metadata": {
        "colab": {
          "base_uri": "https://localhost:8080/"
        },
        "id": "rUf0wzmFLJeB",
        "outputId": "1c4a058b-0a00-408c-8f33-b3c494aa8032"
      },
      "execution_count": 17,
      "outputs": [
        {
          "output_type": "execute_result",
          "data": {
            "text/plain": [
              "(15335, 37)"
            ]
          },
          "metadata": {},
          "execution_count": 17
        }
      ]
    },
    {
      "cell_type": "code",
      "source": [
        "media_precio = df.price.mean()\n",
        "\n",
        "print(\"Media:\", media_precio)\n",
        "\n",
        "mediana_precio = df.price.median()\n",
        "\n",
        "print(\"Mediana:\", mediana_precio)\n",
        "\n",
        "moda_precio = df.price.mode()\n",
        "\n",
        "print(\"Moda:\", moda_precio[0]) # puede devolver varios valores si hay mas de uno"
      ],
      "metadata": {
        "colab": {
          "base_uri": "https://localhost:8080/"
        },
        "id": "19PdB-ElLOJh",
        "outputId": "5e5c5d33-2010-430e-e13e-c2c1436bc9ab"
      },
      "execution_count": 15,
      "outputs": [
        {
          "output_type": "stream",
          "name": "stdout",
          "text": [
            "Media: 477303.56641669385\n",
            "Mediana: 280000.0\n",
            "Moda: 175000\n"
          ]
        }
      ]
    },
    {
      "cell_type": "code",
      "source": [
        "df.price.describe()"
      ],
      "metadata": {
        "colab": {
          "base_uri": "https://localhost:8080/",
          "height": 335
        },
        "id": "5JpFFwC_LtFD",
        "outputId": "ec1e2045-5782-452f-b3e0-8b16a854155a"
      },
      "execution_count": 18,
      "outputs": [
        {
          "output_type": "execute_result",
          "data": {
            "text/plain": [
              "count    1.533500e+04\n",
              "mean     4.773036e+05\n",
              "std      5.912942e+05\n",
              "min      0.000000e+00\n",
              "25%      1.690000e+05\n",
              "50%      2.800000e+05\n",
              "75%      5.400000e+05\n",
              "max      8.500000e+06\n",
              "Name: price, dtype: float64"
            ],
            "text/html": [
              "<div>\n",
              "<style scoped>\n",
              "    .dataframe tbody tr th:only-of-type {\n",
              "        vertical-align: middle;\n",
              "    }\n",
              "\n",
              "    .dataframe tbody tr th {\n",
              "        vertical-align: top;\n",
              "    }\n",
              "\n",
              "    .dataframe thead th {\n",
              "        text-align: right;\n",
              "    }\n",
              "</style>\n",
              "<table border=\"1\" class=\"dataframe\">\n",
              "  <thead>\n",
              "    <tr style=\"text-align: right;\">\n",
              "      <th></th>\n",
              "      <th>price</th>\n",
              "    </tr>\n",
              "  </thead>\n",
              "  <tbody>\n",
              "    <tr>\n",
              "      <th>count</th>\n",
              "      <td>1.533500e+04</td>\n",
              "    </tr>\n",
              "    <tr>\n",
              "      <th>mean</th>\n",
              "      <td>4.773036e+05</td>\n",
              "    </tr>\n",
              "    <tr>\n",
              "      <th>std</th>\n",
              "      <td>5.912942e+05</td>\n",
              "    </tr>\n",
              "    <tr>\n",
              "      <th>min</th>\n",
              "      <td>0.000000e+00</td>\n",
              "    </tr>\n",
              "    <tr>\n",
              "      <th>25%</th>\n",
              "      <td>1.690000e+05</td>\n",
              "    </tr>\n",
              "    <tr>\n",
              "      <th>50%</th>\n",
              "      <td>2.800000e+05</td>\n",
              "    </tr>\n",
              "    <tr>\n",
              "      <th>75%</th>\n",
              "      <td>5.400000e+05</td>\n",
              "    </tr>\n",
              "    <tr>\n",
              "      <th>max</th>\n",
              "      <td>8.500000e+06</td>\n",
              "    </tr>\n",
              "  </tbody>\n",
              "</table>\n",
              "</div><br><label><b>dtype:</b> float64</label>"
            ]
          },
          "metadata": {},
          "execution_count": 18
        }
      ]
    },
    {
      "cell_type": "code",
      "source": [
        "df['price'].describe()"
      ],
      "metadata": {
        "colab": {
          "base_uri": "https://localhost:8080/",
          "height": 335
        },
        "id": "JefYyZLPP_ok",
        "outputId": "e63c7bed-7c1c-4b53-8faf-e25ed86ac36d"
      },
      "execution_count": 20,
      "outputs": [
        {
          "output_type": "execute_result",
          "data": {
            "text/plain": [
              "count    1.533500e+04\n",
              "mean     4.773036e+05\n",
              "std      5.912942e+05\n",
              "min      0.000000e+00\n",
              "25%      1.690000e+05\n",
              "50%      2.800000e+05\n",
              "75%      5.400000e+05\n",
              "max      8.500000e+06\n",
              "Name: price, dtype: float64"
            ],
            "text/html": [
              "<div>\n",
              "<style scoped>\n",
              "    .dataframe tbody tr th:only-of-type {\n",
              "        vertical-align: middle;\n",
              "    }\n",
              "\n",
              "    .dataframe tbody tr th {\n",
              "        vertical-align: top;\n",
              "    }\n",
              "\n",
              "    .dataframe thead th {\n",
              "        text-align: right;\n",
              "    }\n",
              "</style>\n",
              "<table border=\"1\" class=\"dataframe\">\n",
              "  <thead>\n",
              "    <tr style=\"text-align: right;\">\n",
              "      <th></th>\n",
              "      <th>price</th>\n",
              "    </tr>\n",
              "  </thead>\n",
              "  <tbody>\n",
              "    <tr>\n",
              "      <th>count</th>\n",
              "      <td>1.533500e+04</td>\n",
              "    </tr>\n",
              "    <tr>\n",
              "      <th>mean</th>\n",
              "      <td>4.773036e+05</td>\n",
              "    </tr>\n",
              "    <tr>\n",
              "      <th>std</th>\n",
              "      <td>5.912942e+05</td>\n",
              "    </tr>\n",
              "    <tr>\n",
              "      <th>min</th>\n",
              "      <td>0.000000e+00</td>\n",
              "    </tr>\n",
              "    <tr>\n",
              "      <th>25%</th>\n",
              "      <td>1.690000e+05</td>\n",
              "    </tr>\n",
              "    <tr>\n",
              "      <th>50%</th>\n",
              "      <td>2.800000e+05</td>\n",
              "    </tr>\n",
              "    <tr>\n",
              "      <th>75%</th>\n",
              "      <td>5.400000e+05</td>\n",
              "    </tr>\n",
              "    <tr>\n",
              "      <th>max</th>\n",
              "      <td>8.500000e+06</td>\n",
              "    </tr>\n",
              "  </tbody>\n",
              "</table>\n",
              "</div><br><label><b>dtype:</b> float64</label>"
            ]
          },
          "metadata": {},
          "execution_count": 20
        }
      ]
    },
    {
      "cell_type": "code",
      "source": [
        "df.describe()"
      ],
      "metadata": {
        "colab": {
          "base_uri": "https://localhost:8080/",
          "height": 320
        },
        "id": "cu_wu0-LPzgy",
        "outputId": "92c5ad8b-d4c9-43c8-827a-ebc0d8b61323"
      },
      "execution_count": 19,
      "outputs": [
        {
          "output_type": "execute_result",
          "data": {
            "text/plain": [
              "         Unnamed: 0  id_realEstates  phone_realEstate         rooms  \\\n",
              "count  15335.000000    1.533500e+04      1.454100e+04  14982.000000   \n",
              "mean    7668.000000    1.524371e+08      9.143423e+08      3.231611   \n",
              "std     4426.977524    2.277286e+06      7.516036e+06      1.393106   \n",
              "min        1.000000    1.221584e+08      8.762742e+08      1.000000   \n",
              "25%     3834.500000    1.519456e+08      9.113649e+08      2.000000   \n",
              "50%     7668.000000    1.532413e+08      9.121841e+08      3.000000   \n",
              "75%    11501.500000    1.538105e+08      9.148904e+08      4.000000   \n",
              "max    15335.000000    1.540033e+08      9.887761e+08     30.000000   \n",
              "\n",
              "          bathrooms        surface         price  countryId  level1Id  \\\n",
              "count  14990.000000   14085.000000  1.533500e+04    15335.0   15335.0   \n",
              "mean       2.150233     196.916436  4.773036e+05        0.0       0.0   \n",
              "std        1.292079    2182.758313  5.912942e+05        0.0       0.0   \n",
              "min        1.000000      15.000000  0.000000e+00        0.0       0.0   \n",
              "25%        1.000000      80.000000  1.690000e+05        0.0       0.0   \n",
              "50%        2.000000     114.000000  2.800000e+05        0.0       0.0   \n",
              "75%        3.000000     205.000000  5.400000e+05        0.0       0.0   \n",
              "max       20.000000  249000.000000  8.500000e+06        0.0       0.0   \n",
              "\n",
              "       level2Id  level3Id  level4Id  level5Id  level6Id  level7Id  level8Id  \\\n",
              "count   15335.0   15335.0   15335.0   15335.0   15335.0   15335.0   15335.0   \n",
              "mean        0.0       0.0       0.0       0.0       0.0       0.0       0.0   \n",
              "std         0.0       0.0       0.0       0.0       0.0       0.0       0.0   \n",
              "min         0.0       0.0       0.0       0.0       0.0       0.0       0.0   \n",
              "25%         0.0       0.0       0.0       0.0       0.0       0.0       0.0   \n",
              "50%         0.0       0.0       0.0       0.0       0.0       0.0       0.0   \n",
              "75%         0.0       0.0       0.0       0.0       0.0       0.0       0.0   \n",
              "max         0.0       0.0       0.0       0.0       0.0       0.0       0.0   \n",
              "\n",
              "           accuracy  zipCode  customZone  \n",
              "count  15335.000000      0.0         0.0  \n",
              "mean       0.166873      NaN         NaN  \n",
              "std        0.372875      NaN         NaN  \n",
              "min        0.000000      NaN         NaN  \n",
              "25%        0.000000      NaN         NaN  \n",
              "50%        0.000000      NaN         NaN  \n",
              "75%        0.000000      NaN         NaN  \n",
              "max        1.000000      NaN         NaN  "
            ],
            "text/html": [
              "\n",
              "  <div id=\"df-61eec6ef-9395-4d2c-ba27-2e0c00389617\" class=\"colab-df-container\">\n",
              "    <div>\n",
              "<style scoped>\n",
              "    .dataframe tbody tr th:only-of-type {\n",
              "        vertical-align: middle;\n",
              "    }\n",
              "\n",
              "    .dataframe tbody tr th {\n",
              "        vertical-align: top;\n",
              "    }\n",
              "\n",
              "    .dataframe thead th {\n",
              "        text-align: right;\n",
              "    }\n",
              "</style>\n",
              "<table border=\"1\" class=\"dataframe\">\n",
              "  <thead>\n",
              "    <tr style=\"text-align: right;\">\n",
              "      <th></th>\n",
              "      <th>Unnamed: 0</th>\n",
              "      <th>id_realEstates</th>\n",
              "      <th>phone_realEstate</th>\n",
              "      <th>rooms</th>\n",
              "      <th>bathrooms</th>\n",
              "      <th>surface</th>\n",
              "      <th>price</th>\n",
              "      <th>countryId</th>\n",
              "      <th>level1Id</th>\n",
              "      <th>level2Id</th>\n",
              "      <th>level3Id</th>\n",
              "      <th>level4Id</th>\n",
              "      <th>level5Id</th>\n",
              "      <th>level6Id</th>\n",
              "      <th>level7Id</th>\n",
              "      <th>level8Id</th>\n",
              "      <th>accuracy</th>\n",
              "      <th>zipCode</th>\n",
              "      <th>customZone</th>\n",
              "    </tr>\n",
              "  </thead>\n",
              "  <tbody>\n",
              "    <tr>\n",
              "      <th>count</th>\n",
              "      <td>15335.000000</td>\n",
              "      <td>1.533500e+04</td>\n",
              "      <td>1.454100e+04</td>\n",
              "      <td>14982.000000</td>\n",
              "      <td>14990.000000</td>\n",
              "      <td>14085.000000</td>\n",
              "      <td>1.533500e+04</td>\n",
              "      <td>15335.0</td>\n",
              "      <td>15335.0</td>\n",
              "      <td>15335.0</td>\n",
              "      <td>15335.0</td>\n",
              "      <td>15335.0</td>\n",
              "      <td>15335.0</td>\n",
              "      <td>15335.0</td>\n",
              "      <td>15335.0</td>\n",
              "      <td>15335.0</td>\n",
              "      <td>15335.000000</td>\n",
              "      <td>0.0</td>\n",
              "      <td>0.0</td>\n",
              "    </tr>\n",
              "    <tr>\n",
              "      <th>mean</th>\n",
              "      <td>7668.000000</td>\n",
              "      <td>1.524371e+08</td>\n",
              "      <td>9.143423e+08</td>\n",
              "      <td>3.231611</td>\n",
              "      <td>2.150233</td>\n",
              "      <td>196.916436</td>\n",
              "      <td>4.773036e+05</td>\n",
              "      <td>0.0</td>\n",
              "      <td>0.0</td>\n",
              "      <td>0.0</td>\n",
              "      <td>0.0</td>\n",
              "      <td>0.0</td>\n",
              "      <td>0.0</td>\n",
              "      <td>0.0</td>\n",
              "      <td>0.0</td>\n",
              "      <td>0.0</td>\n",
              "      <td>0.166873</td>\n",
              "      <td>NaN</td>\n",
              "      <td>NaN</td>\n",
              "    </tr>\n",
              "    <tr>\n",
              "      <th>std</th>\n",
              "      <td>4426.977524</td>\n",
              "      <td>2.277286e+06</td>\n",
              "      <td>7.516036e+06</td>\n",
              "      <td>1.393106</td>\n",
              "      <td>1.292079</td>\n",
              "      <td>2182.758313</td>\n",
              "      <td>5.912942e+05</td>\n",
              "      <td>0.0</td>\n",
              "      <td>0.0</td>\n",
              "      <td>0.0</td>\n",
              "      <td>0.0</td>\n",
              "      <td>0.0</td>\n",
              "      <td>0.0</td>\n",
              "      <td>0.0</td>\n",
              "      <td>0.0</td>\n",
              "      <td>0.0</td>\n",
              "      <td>0.372875</td>\n",
              "      <td>NaN</td>\n",
              "      <td>NaN</td>\n",
              "    </tr>\n",
              "    <tr>\n",
              "      <th>min</th>\n",
              "      <td>1.000000</td>\n",
              "      <td>1.221584e+08</td>\n",
              "      <td>8.762742e+08</td>\n",
              "      <td>1.000000</td>\n",
              "      <td>1.000000</td>\n",
              "      <td>15.000000</td>\n",
              "      <td>0.000000e+00</td>\n",
              "      <td>0.0</td>\n",
              "      <td>0.0</td>\n",
              "      <td>0.0</td>\n",
              "      <td>0.0</td>\n",
              "      <td>0.0</td>\n",
              "      <td>0.0</td>\n",
              "      <td>0.0</td>\n",
              "      <td>0.0</td>\n",
              "      <td>0.0</td>\n",
              "      <td>0.000000</td>\n",
              "      <td>NaN</td>\n",
              "      <td>NaN</td>\n",
              "    </tr>\n",
              "    <tr>\n",
              "      <th>25%</th>\n",
              "      <td>3834.500000</td>\n",
              "      <td>1.519456e+08</td>\n",
              "      <td>9.113649e+08</td>\n",
              "      <td>2.000000</td>\n",
              "      <td>1.000000</td>\n",
              "      <td>80.000000</td>\n",
              "      <td>1.690000e+05</td>\n",
              "      <td>0.0</td>\n",
              "      <td>0.0</td>\n",
              "      <td>0.0</td>\n",
              "      <td>0.0</td>\n",
              "      <td>0.0</td>\n",
              "      <td>0.0</td>\n",
              "      <td>0.0</td>\n",
              "      <td>0.0</td>\n",
              "      <td>0.0</td>\n",
              "      <td>0.000000</td>\n",
              "      <td>NaN</td>\n",
              "      <td>NaN</td>\n",
              "    </tr>\n",
              "    <tr>\n",
              "      <th>50%</th>\n",
              "      <td>7668.000000</td>\n",
              "      <td>1.532413e+08</td>\n",
              "      <td>9.121841e+08</td>\n",
              "      <td>3.000000</td>\n",
              "      <td>2.000000</td>\n",
              "      <td>114.000000</td>\n",
              "      <td>2.800000e+05</td>\n",
              "      <td>0.0</td>\n",
              "      <td>0.0</td>\n",
              "      <td>0.0</td>\n",
              "      <td>0.0</td>\n",
              "      <td>0.0</td>\n",
              "      <td>0.0</td>\n",
              "      <td>0.0</td>\n",
              "      <td>0.0</td>\n",
              "      <td>0.0</td>\n",
              "      <td>0.000000</td>\n",
              "      <td>NaN</td>\n",
              "      <td>NaN</td>\n",
              "    </tr>\n",
              "    <tr>\n",
              "      <th>75%</th>\n",
              "      <td>11501.500000</td>\n",
              "      <td>1.538105e+08</td>\n",
              "      <td>9.148904e+08</td>\n",
              "      <td>4.000000</td>\n",
              "      <td>3.000000</td>\n",
              "      <td>205.000000</td>\n",
              "      <td>5.400000e+05</td>\n",
              "      <td>0.0</td>\n",
              "      <td>0.0</td>\n",
              "      <td>0.0</td>\n",
              "      <td>0.0</td>\n",
              "      <td>0.0</td>\n",
              "      <td>0.0</td>\n",
              "      <td>0.0</td>\n",
              "      <td>0.0</td>\n",
              "      <td>0.0</td>\n",
              "      <td>0.000000</td>\n",
              "      <td>NaN</td>\n",
              "      <td>NaN</td>\n",
              "    </tr>\n",
              "    <tr>\n",
              "      <th>max</th>\n",
              "      <td>15335.000000</td>\n",
              "      <td>1.540033e+08</td>\n",
              "      <td>9.887761e+08</td>\n",
              "      <td>30.000000</td>\n",
              "      <td>20.000000</td>\n",
              "      <td>249000.000000</td>\n",
              "      <td>8.500000e+06</td>\n",
              "      <td>0.0</td>\n",
              "      <td>0.0</td>\n",
              "      <td>0.0</td>\n",
              "      <td>0.0</td>\n",
              "      <td>0.0</td>\n",
              "      <td>0.0</td>\n",
              "      <td>0.0</td>\n",
              "      <td>0.0</td>\n",
              "      <td>0.0</td>\n",
              "      <td>1.000000</td>\n",
              "      <td>NaN</td>\n",
              "      <td>NaN</td>\n",
              "    </tr>\n",
              "  </tbody>\n",
              "</table>\n",
              "</div>\n",
              "    <div class=\"colab-df-buttons\">\n",
              "\n",
              "  <div class=\"colab-df-container\">\n",
              "    <button class=\"colab-df-convert\" onclick=\"convertToInteractive('df-61eec6ef-9395-4d2c-ba27-2e0c00389617')\"\n",
              "            title=\"Convert this dataframe to an interactive table.\"\n",
              "            style=\"display:none;\">\n",
              "\n",
              "  <svg xmlns=\"http://www.w3.org/2000/svg\" height=\"24px\" viewBox=\"0 -960 960 960\">\n",
              "    <path d=\"M120-120v-720h720v720H120Zm60-500h600v-160H180v160Zm220 220h160v-160H400v160Zm0 220h160v-160H400v160ZM180-400h160v-160H180v160Zm440 0h160v-160H620v160ZM180-180h160v-160H180v160Zm440 0h160v-160H620v160Z\"/>\n",
              "  </svg>\n",
              "    </button>\n",
              "\n",
              "  <style>\n",
              "    .colab-df-container {\n",
              "      display:flex;\n",
              "      gap: 12px;\n",
              "    }\n",
              "\n",
              "    .colab-df-convert {\n",
              "      background-color: #E8F0FE;\n",
              "      border: none;\n",
              "      border-radius: 50%;\n",
              "      cursor: pointer;\n",
              "      display: none;\n",
              "      fill: #1967D2;\n",
              "      height: 32px;\n",
              "      padding: 0 0 0 0;\n",
              "      width: 32px;\n",
              "    }\n",
              "\n",
              "    .colab-df-convert:hover {\n",
              "      background-color: #E2EBFA;\n",
              "      box-shadow: 0px 1px 2px rgba(60, 64, 67, 0.3), 0px 1px 3px 1px rgba(60, 64, 67, 0.15);\n",
              "      fill: #174EA6;\n",
              "    }\n",
              "\n",
              "    .colab-df-buttons div {\n",
              "      margin-bottom: 4px;\n",
              "    }\n",
              "\n",
              "    [theme=dark] .colab-df-convert {\n",
              "      background-color: #3B4455;\n",
              "      fill: #D2E3FC;\n",
              "    }\n",
              "\n",
              "    [theme=dark] .colab-df-convert:hover {\n",
              "      background-color: #434B5C;\n",
              "      box-shadow: 0px 1px 3px 1px rgba(0, 0, 0, 0.15);\n",
              "      filter: drop-shadow(0px 1px 2px rgba(0, 0, 0, 0.3));\n",
              "      fill: #FFFFFF;\n",
              "    }\n",
              "  </style>\n",
              "\n",
              "    <script>\n",
              "      const buttonEl =\n",
              "        document.querySelector('#df-61eec6ef-9395-4d2c-ba27-2e0c00389617 button.colab-df-convert');\n",
              "      buttonEl.style.display =\n",
              "        google.colab.kernel.accessAllowed ? 'block' : 'none';\n",
              "\n",
              "      async function convertToInteractive(key) {\n",
              "        const element = document.querySelector('#df-61eec6ef-9395-4d2c-ba27-2e0c00389617');\n",
              "        const dataTable =\n",
              "          await google.colab.kernel.invokeFunction('convertToInteractive',\n",
              "                                                    [key], {});\n",
              "        if (!dataTable) return;\n",
              "\n",
              "        const docLinkHtml = 'Like what you see? Visit the ' +\n",
              "          '<a target=\"_blank\" href=https://colab.research.google.com/notebooks/data_table.ipynb>data table notebook</a>'\n",
              "          + ' to learn more about interactive tables.';\n",
              "        element.innerHTML = '';\n",
              "        dataTable['output_type'] = 'display_data';\n",
              "        await google.colab.output.renderOutput(dataTable, element);\n",
              "        const docLink = document.createElement('div');\n",
              "        docLink.innerHTML = docLinkHtml;\n",
              "        element.appendChild(docLink);\n",
              "      }\n",
              "    </script>\n",
              "  </div>\n",
              "\n",
              "\n",
              "<div id=\"df-440a649f-caa6-4652-aae4-ea1a31c69079\">\n",
              "  <button class=\"colab-df-quickchart\" onclick=\"quickchart('df-440a649f-caa6-4652-aae4-ea1a31c69079')\"\n",
              "            title=\"Suggest charts\"\n",
              "            style=\"display:none;\">\n",
              "\n",
              "<svg xmlns=\"http://www.w3.org/2000/svg\" height=\"24px\"viewBox=\"0 0 24 24\"\n",
              "     width=\"24px\">\n",
              "    <g>\n",
              "        <path d=\"M19 3H5c-1.1 0-2 .9-2 2v14c0 1.1.9 2 2 2h14c1.1 0 2-.9 2-2V5c0-1.1-.9-2-2-2zM9 17H7v-7h2v7zm4 0h-2V7h2v10zm4 0h-2v-4h2v4z\"/>\n",
              "    </g>\n",
              "</svg>\n",
              "  </button>\n",
              "\n",
              "<style>\n",
              "  .colab-df-quickchart {\n",
              "      --bg-color: #E8F0FE;\n",
              "      --fill-color: #1967D2;\n",
              "      --hover-bg-color: #E2EBFA;\n",
              "      --hover-fill-color: #174EA6;\n",
              "      --disabled-fill-color: #AAA;\n",
              "      --disabled-bg-color: #DDD;\n",
              "  }\n",
              "\n",
              "  [theme=dark] .colab-df-quickchart {\n",
              "      --bg-color: #3B4455;\n",
              "      --fill-color: #D2E3FC;\n",
              "      --hover-bg-color: #434B5C;\n",
              "      --hover-fill-color: #FFFFFF;\n",
              "      --disabled-bg-color: #3B4455;\n",
              "      --disabled-fill-color: #666;\n",
              "  }\n",
              "\n",
              "  .colab-df-quickchart {\n",
              "    background-color: var(--bg-color);\n",
              "    border: none;\n",
              "    border-radius: 50%;\n",
              "    cursor: pointer;\n",
              "    display: none;\n",
              "    fill: var(--fill-color);\n",
              "    height: 32px;\n",
              "    padding: 0;\n",
              "    width: 32px;\n",
              "  }\n",
              "\n",
              "  .colab-df-quickchart:hover {\n",
              "    background-color: var(--hover-bg-color);\n",
              "    box-shadow: 0 1px 2px rgba(60, 64, 67, 0.3), 0 1px 3px 1px rgba(60, 64, 67, 0.15);\n",
              "    fill: var(--button-hover-fill-color);\n",
              "  }\n",
              "\n",
              "  .colab-df-quickchart-complete:disabled,\n",
              "  .colab-df-quickchart-complete:disabled:hover {\n",
              "    background-color: var(--disabled-bg-color);\n",
              "    fill: var(--disabled-fill-color);\n",
              "    box-shadow: none;\n",
              "  }\n",
              "\n",
              "  .colab-df-spinner {\n",
              "    border: 2px solid var(--fill-color);\n",
              "    border-color: transparent;\n",
              "    border-bottom-color: var(--fill-color);\n",
              "    animation:\n",
              "      spin 1s steps(1) infinite;\n",
              "  }\n",
              "\n",
              "  @keyframes spin {\n",
              "    0% {\n",
              "      border-color: transparent;\n",
              "      border-bottom-color: var(--fill-color);\n",
              "      border-left-color: var(--fill-color);\n",
              "    }\n",
              "    20% {\n",
              "      border-color: transparent;\n",
              "      border-left-color: var(--fill-color);\n",
              "      border-top-color: var(--fill-color);\n",
              "    }\n",
              "    30% {\n",
              "      border-color: transparent;\n",
              "      border-left-color: var(--fill-color);\n",
              "      border-top-color: var(--fill-color);\n",
              "      border-right-color: var(--fill-color);\n",
              "    }\n",
              "    40% {\n",
              "      border-color: transparent;\n",
              "      border-right-color: var(--fill-color);\n",
              "      border-top-color: var(--fill-color);\n",
              "    }\n",
              "    60% {\n",
              "      border-color: transparent;\n",
              "      border-right-color: var(--fill-color);\n",
              "    }\n",
              "    80% {\n",
              "      border-color: transparent;\n",
              "      border-right-color: var(--fill-color);\n",
              "      border-bottom-color: var(--fill-color);\n",
              "    }\n",
              "    90% {\n",
              "      border-color: transparent;\n",
              "      border-bottom-color: var(--fill-color);\n",
              "    }\n",
              "  }\n",
              "</style>\n",
              "\n",
              "  <script>\n",
              "    async function quickchart(key) {\n",
              "      const quickchartButtonEl =\n",
              "        document.querySelector('#' + key + ' button');\n",
              "      quickchartButtonEl.disabled = true;  // To prevent multiple clicks.\n",
              "      quickchartButtonEl.classList.add('colab-df-spinner');\n",
              "      try {\n",
              "        const charts = await google.colab.kernel.invokeFunction(\n",
              "            'suggestCharts', [key], {});\n",
              "      } catch (error) {\n",
              "        console.error('Error during call to suggestCharts:', error);\n",
              "      }\n",
              "      quickchartButtonEl.classList.remove('colab-df-spinner');\n",
              "      quickchartButtonEl.classList.add('colab-df-quickchart-complete');\n",
              "    }\n",
              "    (() => {\n",
              "      let quickchartButtonEl =\n",
              "        document.querySelector('#df-440a649f-caa6-4652-aae4-ea1a31c69079 button');\n",
              "      quickchartButtonEl.style.display =\n",
              "        google.colab.kernel.accessAllowed ? 'block' : 'none';\n",
              "    })();\n",
              "  </script>\n",
              "</div>\n",
              "\n",
              "    </div>\n",
              "  </div>\n"
            ],
            "application/vnd.google.colaboratory.intrinsic+json": {
              "type": "dataframe",
              "summary": "{\n  \"name\": \"df\",\n  \"rows\": 8,\n  \"fields\": [\n    {\n      \"column\": \"Unnamed: 0\",\n      \"properties\": {\n        \"dtype\": \"number\",\n        \"std\": 5526.5033967219515,\n        \"min\": 1.0,\n        \"max\": 15335.0,\n        \"num_unique_values\": 6,\n        \"samples\": [\n          15335.0,\n          7668.0,\n          11501.5\n        ],\n        \"semantic_type\": \"\",\n        \"description\": \"\"\n      }\n    },\n    {\n      \"column\": \"id_realEstates\",\n      \"properties\": {\n        \"dtype\": \"number\",\n        \"std\": 68787683.3021705,\n        \"min\": 15335.0,\n        \"max\": 154003339.0,\n        \"num_unique_values\": 8,\n        \"samples\": [\n          152437086.657059,\n          153241261.0,\n          15335.0\n        ],\n        \"semantic_type\": \"\",\n        \"description\": \"\"\n      }\n    },\n    {\n      \"column\": \"phone_realEstate\",\n      \"properties\": {\n        \"dtype\": \"number\",\n        \"std\": 425121710.80385226,\n        \"min\": 14541.0,\n        \"max\": 988776128.0,\n        \"num_unique_values\": 8,\n        \"samples\": [\n          914342269.1127157,\n          912184058.0,\n          14541.0\n        ],\n        \"semantic_type\": \"\",\n        \"description\": \"\"\n      }\n    },\n    {\n      \"column\": \"rooms\",\n      \"properties\": {\n        \"dtype\": \"number\",\n        \"std\": 5294.6918847792085,\n        \"min\": 1.0,\n        \"max\": 14982.0,\n        \"num_unique_values\": 8,\n        \"samples\": [\n          3.2316112668535575,\n          3.0,\n          14982.0\n        ],\n        \"semantic_type\": \"\",\n        \"description\": \"\"\n      }\n    },\n    {\n      \"column\": \"bathrooms\",\n      \"properties\": {\n        \"dtype\": \"number\",\n        \"std\": 5298.231650864434,\n        \"min\": 1.0,\n        \"max\": 14990.0,\n        \"num_unique_values\": 7,\n        \"samples\": [\n          14990.0,\n          2.150233488992662,\n          3.0\n        ],\n        \"semantic_type\": \"\",\n        \"description\": \"\"\n      }\n    },\n    {\n      \"column\": \"surface\",\n      \"properties\": {\n        \"dtype\": \"number\",\n        \"std\": 87315.37122913195,\n        \"min\": 15.0,\n        \"max\": 249000.0,\n        \"num_unique_values\": 8,\n        \"samples\": [\n          196.91643592474264,\n          114.0,\n          14085.0\n        ],\n        \"semantic_type\": \"\",\n        \"description\": \"\"\n      }\n    },\n    {\n      \"column\": \"price\",\n      \"properties\": {\n        \"dtype\": \"number\",\n        \"std\": 2909415.263556362,\n        \"min\": 0.0,\n        \"max\": 8500000.0,\n        \"num_unique_values\": 8,\n        \"samples\": [\n          477303.56641669385,\n          280000.0,\n          15335.0\n        ],\n        \"semantic_type\": \"\",\n        \"description\": \"\"\n      }\n    },\n    {\n      \"column\": \"countryId\",\n      \"properties\": {\n        \"dtype\": \"number\",\n        \"std\": 5421.741244747853,\n        \"min\": 0.0,\n        \"max\": 15335.0,\n        \"num_unique_values\": 2,\n        \"samples\": [\n          0.0,\n          15335.0\n        ],\n        \"semantic_type\": \"\",\n        \"description\": \"\"\n      }\n    },\n    {\n      \"column\": \"level1Id\",\n      \"properties\": {\n        \"dtype\": \"number\",\n        \"std\": 5421.741244747853,\n        \"min\": 0.0,\n        \"max\": 15335.0,\n        \"num_unique_values\": 2,\n        \"samples\": [\n          0.0,\n          15335.0\n        ],\n        \"semantic_type\": \"\",\n        \"description\": \"\"\n      }\n    },\n    {\n      \"column\": \"level2Id\",\n      \"properties\": {\n        \"dtype\": \"number\",\n        \"std\": 5421.741244747853,\n        \"min\": 0.0,\n        \"max\": 15335.0,\n        \"num_unique_values\": 2,\n        \"samples\": [\n          0.0,\n          15335.0\n        ],\n        \"semantic_type\": \"\",\n        \"description\": \"\"\n      }\n    },\n    {\n      \"column\": \"level3Id\",\n      \"properties\": {\n        \"dtype\": \"number\",\n        \"std\": 5421.741244747853,\n        \"min\": 0.0,\n        \"max\": 15335.0,\n        \"num_unique_values\": 2,\n        \"samples\": [\n          0.0,\n          15335.0\n        ],\n        \"semantic_type\": \"\",\n        \"description\": \"\"\n      }\n    },\n    {\n      \"column\": \"level4Id\",\n      \"properties\": {\n        \"dtype\": \"number\",\n        \"std\": 5421.741244747853,\n        \"min\": 0.0,\n        \"max\": 15335.0,\n        \"num_unique_values\": 2,\n        \"samples\": [\n          0.0,\n          15335.0\n        ],\n        \"semantic_type\": \"\",\n        \"description\": \"\"\n      }\n    },\n    {\n      \"column\": \"level5Id\",\n      \"properties\": {\n        \"dtype\": \"number\",\n        \"std\": 5421.741244747853,\n        \"min\": 0.0,\n        \"max\": 15335.0,\n        \"num_unique_values\": 2,\n        \"samples\": [\n          0.0,\n          15335.0\n        ],\n        \"semantic_type\": \"\",\n        \"description\": \"\"\n      }\n    },\n    {\n      \"column\": \"level6Id\",\n      \"properties\": {\n        \"dtype\": \"number\",\n        \"std\": 5421.741244747853,\n        \"min\": 0.0,\n        \"max\": 15335.0,\n        \"num_unique_values\": 2,\n        \"samples\": [\n          0.0,\n          15335.0\n        ],\n        \"semantic_type\": \"\",\n        \"description\": \"\"\n      }\n    },\n    {\n      \"column\": \"level7Id\",\n      \"properties\": {\n        \"dtype\": \"number\",\n        \"std\": 5421.741244747853,\n        \"min\": 0.0,\n        \"max\": 15335.0,\n        \"num_unique_values\": 2,\n        \"samples\": [\n          0.0,\n          15335.0\n        ],\n        \"semantic_type\": \"\",\n        \"description\": \"\"\n      }\n    },\n    {\n      \"column\": \"level8Id\",\n      \"properties\": {\n        \"dtype\": \"number\",\n        \"std\": 5421.741244747853,\n        \"min\": 0.0,\n        \"max\": 15335.0,\n        \"num_unique_values\": 2,\n        \"samples\": [\n          0.0,\n          15335.0\n        ],\n        \"semantic_type\": \"\",\n        \"description\": \"\"\n      }\n    },\n    {\n      \"column\": \"accuracy\",\n      \"properties\": {\n        \"dtype\": \"number\",\n        \"std\": 5421.663486645265,\n        \"min\": 0.0,\n        \"max\": 15335.0,\n        \"num_unique_values\": 5,\n        \"samples\": [\n          0.16687316596022173,\n          1.0\n        ],\n        \"semantic_type\": \"\",\n        \"description\": \"\"\n      }\n    },\n    {\n      \"column\": \"zipCode\",\n      \"properties\": {\n        \"dtype\": \"number\",\n        \"std\": null,\n        \"min\": 0.0,\n        \"max\": 0.0,\n        \"num_unique_values\": 1,\n        \"samples\": [\n          0.0\n        ],\n        \"semantic_type\": \"\",\n        \"description\": \"\"\n      }\n    },\n    {\n      \"column\": \"customZone\",\n      \"properties\": {\n        \"dtype\": \"number\",\n        \"std\": null,\n        \"min\": 0.0,\n        \"max\": 0.0,\n        \"num_unique_values\": 1,\n        \"samples\": [\n          0.0\n        ],\n        \"semantic_type\": \"\",\n        \"description\": \"\"\n      }\n    }\n  ]\n}"
            }
          },
          "metadata": {},
          "execution_count": 19
        }
      ]
    },
    {
      "cell_type": "code",
      "source": [
        "pd.options.display.float_format = '{:.2f}'.format\n",
        "\n",
        "df.price.describe()"
      ],
      "metadata": {
        "id": "fDOlRwv9MHvL",
        "colab": {
          "base_uri": "https://localhost:8080/",
          "height": 335
        },
        "outputId": "535b0575-e041-4e28-f161-0692d5ff0f1f"
      },
      "execution_count": 21,
      "outputs": [
        {
          "output_type": "execute_result",
          "data": {
            "text/plain": [
              "count     15335.00\n",
              "mean     477303.57\n",
              "std      591294.23\n",
              "min           0.00\n",
              "25%      169000.00\n",
              "50%      280000.00\n",
              "75%      540000.00\n",
              "max     8500000.00\n",
              "Name: price, dtype: float64"
            ],
            "text/html": [
              "<div>\n",
              "<style scoped>\n",
              "    .dataframe tbody tr th:only-of-type {\n",
              "        vertical-align: middle;\n",
              "    }\n",
              "\n",
              "    .dataframe tbody tr th {\n",
              "        vertical-align: top;\n",
              "    }\n",
              "\n",
              "    .dataframe thead th {\n",
              "        text-align: right;\n",
              "    }\n",
              "</style>\n",
              "<table border=\"1\" class=\"dataframe\">\n",
              "  <thead>\n",
              "    <tr style=\"text-align: right;\">\n",
              "      <th></th>\n",
              "      <th>price</th>\n",
              "    </tr>\n",
              "  </thead>\n",
              "  <tbody>\n",
              "    <tr>\n",
              "      <th>count</th>\n",
              "      <td>15335.00</td>\n",
              "    </tr>\n",
              "    <tr>\n",
              "      <th>mean</th>\n",
              "      <td>477303.57</td>\n",
              "    </tr>\n",
              "    <tr>\n",
              "      <th>std</th>\n",
              "      <td>591294.23</td>\n",
              "    </tr>\n",
              "    <tr>\n",
              "      <th>min</th>\n",
              "      <td>0.00</td>\n",
              "    </tr>\n",
              "    <tr>\n",
              "      <th>25%</th>\n",
              "      <td>169000.00</td>\n",
              "    </tr>\n",
              "    <tr>\n",
              "      <th>50%</th>\n",
              "      <td>280000.00</td>\n",
              "    </tr>\n",
              "    <tr>\n",
              "      <th>75%</th>\n",
              "      <td>540000.00</td>\n",
              "    </tr>\n",
              "    <tr>\n",
              "      <th>max</th>\n",
              "      <td>8500000.00</td>\n",
              "    </tr>\n",
              "  </tbody>\n",
              "</table>\n",
              "</div><br><label><b>dtype:</b> float64</label>"
            ]
          },
          "metadata": {},
          "execution_count": 21
        }
      ]
    },
    {
      "cell_type": "markdown",
      "source": [
        "### 2.2 Medidas de Dispersión <a name=\"dispersion\"></a>\n",
        "\n",
        "Estas medidas indican la variabilidad o dispersión de los datos en relación con la tendencia central.\n",
        "\n",
        "En otras palabras muestran cómo de variados son los datos en un conjunto.\n",
        "\n",
        "Mientras las medidas de tendencia central nos indican dónde están \"centrados\" los datos, las medidas de dispersión nos muestran cuánto se \"extienden\" o \"varían\" esos datos alrededor de ese centro."
      ],
      "metadata": {
        "id": "9ajUep2IJZcO"
      }
    },
    {
      "cell_type": "markdown",
      "source": [
        "- **Rango**: Es la diferencia entre el valor máximo y el valor mínimo en un conjunto de datos.\n",
        "\n",
        "- **Varianza**: Indica cuán lejos están, en promedio, los valores con respecto a la media.\n",
        "\n",
        "$$\n",
        "s^2 = \\frac{1}{n - 1} \\sum_{i=1}^{n} (x_i - \\overline{X})^2\n",
        "$$\n",
        "\n",
        "  Es la media de las diferencias al cuadrado entre cada valor y la media del conjunto de datos.\n",
        "\n",
        "- **Desviación estándar**: Es la raíz cuadrada de la varianza y proporciona una medida de la dispersión en las mismas unidades que los datos originales.\n",
        "\n",
        "$$s = \\sqrt{\\frac{1}{n - 1} \\sum_{i=1}^{n} (X_i - \\overline{X})^2}$$"
      ],
      "metadata": {
        "id": "Z9C2S0XGJk5z"
      }
    },
    {
      "cell_type": "markdown",
      "source": [
        "#### Ejemplo 1:"
      ],
      "metadata": {
        "id": "MnWiX4CQOpak"
      }
    },
    {
      "cell_type": "code",
      "source": [
        "data = [10, 20, -15, 0, 50, 10, 5, 100]"
      ],
      "metadata": {
        "id": "Iz8qEaS6OujR"
      },
      "execution_count": 22,
      "outputs": []
    },
    {
      "cell_type": "code",
      "source": [
        "range = max(data) - min(data)\n",
        "\n",
        "range"
      ],
      "metadata": {
        "colab": {
          "base_uri": "https://localhost:8080/"
        },
        "id": "0M-RbINrOqn4",
        "outputId": "bcd8f56e-1c80-4857-a9f5-75d045b33b49"
      },
      "execution_count": 23,
      "outputs": [
        {
          "output_type": "execute_result",
          "data": {
            "text/plain": [
              "115"
            ]
          },
          "metadata": {},
          "execution_count": 23
        }
      ]
    },
    {
      "cell_type": "code",
      "source": [
        "variance = stats.variance(data)\n",
        "\n",
        "variance"
      ],
      "metadata": {
        "colab": {
          "base_uri": "https://localhost:8080/"
        },
        "id": "5y6xBiUBOz3t",
        "outputId": "ebc5568b-edb3-4ccd-a3c1-752d1caba712"
      },
      "execution_count": 24,
      "outputs": [
        {
          "output_type": "execute_result",
          "data": {
            "text/plain": [
              "1328.5714285714287"
            ]
          },
          "metadata": {},
          "execution_count": 24
        }
      ]
    },
    {
      "cell_type": "code",
      "source": [
        "std = stats.stdev(data)\n",
        "\n",
        "std"
      ],
      "metadata": {
        "colab": {
          "base_uri": "https://localhost:8080/"
        },
        "id": "Bo-AsPr-O13Z",
        "outputId": "336231d5-af56-4e1b-c4a6-d803ce8e59f8"
      },
      "execution_count": 25,
      "outputs": [
        {
          "output_type": "execute_result",
          "data": {
            "text/plain": [
              "36.449573777637355"
            ]
          },
          "metadata": {},
          "execution_count": 25
        }
      ]
    },
    {
      "cell_type": "markdown",
      "source": [
        "#### Ejemplo 2: Alturas de perros en milimetros"
      ],
      "metadata": {
        "id": "3iXNlKYdPH7J"
      }
    },
    {
      "cell_type": "markdown",
      "source": [
        "<img src=\"https://drive.google.com/uc?export=view&id=1Wv0XNuS9RtMgqp8OSicbJv0NjryiMBqW\" height=\"250\" width=\"620\" style=\"float: center;\">"
      ],
      "metadata": {
        "id": "6fa2VtZPPRFv"
      }
    },
    {
      "cell_type": "code",
      "source": [
        "alturas_perros = [600, 470, 170, 430, 300]"
      ],
      "metadata": {
        "id": "vAn2YHCwPaju"
      },
      "execution_count": 26,
      "outputs": []
    },
    {
      "cell_type": "code",
      "source": [
        "media_alturas_perros = stats.mean(alturas_perros)\n",
        "\n",
        "print(\"Media:\", media_alturas_perros)"
      ],
      "metadata": {
        "colab": {
          "base_uri": "https://localhost:8080/"
        },
        "id": "iFP0VPBmPjKh",
        "outputId": "18790beb-9b14-4395-eb7e-57361827ed04"
      },
      "execution_count": 27,
      "outputs": [
        {
          "output_type": "stream",
          "name": "stdout",
          "text": [
            "Media: 394\n"
          ]
        }
      ]
    },
    {
      "cell_type": "markdown",
      "source": [
        "<img src=\"https://drive.google.com/uc?export=view&id=1b_x96W1EkeChltNkVYVS8-wIaQpaC3Mt\" height=\"250\" width=\"620\" style=\"float: center;\">"
      ],
      "metadata": {
        "id": "hqg-PCb1Prff"
      }
    },
    {
      "cell_type": "markdown",
      "source": [
        "¿Cuáles son las diferencias de cada altura con la media?"
      ],
      "metadata": {
        "id": "pMwstwmjPmau"
      }
    },
    {
      "cell_type": "markdown",
      "source": [
        "<img src=\"https://drive.google.com/uc?export=view&id=1YE2M8nhbUTO1VjY6iLWAAOzi43Sw43iY\" height=\"200\" width=\"620\" style=\"float: center;\">\n",
        "\n",
        "$σ^2$\t=\t ($206^2$ + $76^2$ + (−$224)^2$ + $36^2$ + ($−94)^2$) / 5\n",
        "\n",
        "$σ^2$\t=\t108520 / 5\n",
        "\n",
        "$σ^2$\t= 21704\n"
      ],
      "metadata": {
        "id": "ALsawvFmP5qB"
      }
    },
    {
      "cell_type": "code",
      "source": [
        "alturas_perros"
      ],
      "metadata": {
        "colab": {
          "base_uri": "https://localhost:8080/"
        },
        "id": "MiWuVgIIRu0G",
        "outputId": "52d1eab6-c0dc-43f7-8332-8d23b89b153f"
      },
      "execution_count": 28,
      "outputs": [
        {
          "output_type": "execute_result",
          "data": {
            "text/plain": [
              "[600, 470, 170, 430, 300]"
            ]
          },
          "metadata": {},
          "execution_count": 28
        }
      ]
    },
    {
      "cell_type": "code",
      "source": [
        "var_alturas_perros = np.var(alturas_perros)\n",
        "\n",
        "var_alturas_perros"
      ],
      "metadata": {
        "colab": {
          "base_uri": "https://localhost:8080/"
        },
        "id": "M7xW-jqKQP-k",
        "outputId": "16750058-c5ed-44c4-c993-4799cbed2b72"
      },
      "execution_count": 29,
      "outputs": [
        {
          "output_type": "execute_result",
          "data": {
            "text/plain": [
              "np.float64(21704.0)"
            ]
          },
          "metadata": {},
          "execution_count": 29
        }
      ]
    },
    {
      "cell_type": "code",
      "source": [
        "std_alturas_perros = np.std(alturas_perros)\n",
        "\n",
        "std_alturas_perros"
      ],
      "metadata": {
        "colab": {
          "base_uri": "https://localhost:8080/"
        },
        "id": "kn6wvro1R-vu",
        "outputId": "5aec7a8b-dda2-4dac-bd6f-6de5513452b6"
      },
      "execution_count": 30,
      "outputs": [
        {
          "output_type": "execute_result",
          "data": {
            "text/plain": [
              "np.float64(147.32277488562318)"
            ]
          },
          "metadata": {},
          "execution_count": 30
        }
      ]
    },
    {
      "cell_type": "markdown",
      "source": [
        "Ahora podemos ver qué alturas están dentro de una Desviación Estándar (147mm) de la media:"
      ],
      "metadata": {
        "id": "QiV5wpWHSXjJ"
      }
    },
    {
      "cell_type": "markdown",
      "source": [
        "<img src=\"https://drive.google.com/uc?export=view&id=16A4uGjqn8s-8DDcGUTZG3jPjNpeAnU1x\" height=\"250\" width=\"620\" style=\"float: center;\">"
      ],
      "metadata": {
        "id": "n38h0dnfSKUt"
      }
    },
    {
      "cell_type": "markdown",
      "source": [
        "Tenemos una manera \"estándar\" de saber qué es normal, o extra grande o extra pequeño.\n",
        "\n",
        "Los Rottweilers son perros grandes. Y los Dachsunds son un poco pequeños."
      ],
      "metadata": {
        "id": "Jr1KC09HSdOU"
      }
    },
    {
      "cell_type": "markdown",
      "source": [
        "### 2.3 Medidas de Posición <a name=\"posicion\"></a>\n",
        "\n",
        "Indican la ubicación relativa de un valor dentro de un conjunto de datos.\n",
        "\n",
        "Estas medidas ayudan a dividir el conjunto de datos en partes y permiten entender la distribución y la ubicación de valores específicos."
      ],
      "metadata": {
        "id": "4ltxUpbMSwRg"
      }
    },
    {
      "cell_type": "markdown",
      "source": [
        "- **Percentiles**: Los percentiles dividen un conjunto de datos en 100 partes iguales y son especialmente útiles para entender la posición relativa de un valor dentro de una gran distribución.\n",
        "\n",
        "  El k-ésimo percentil indica el valor bajo el cual cae el k% de las observaciones.\n",
        "\n",
        "- **Cuartiles**: Los cuartiles dividen un conjunto de datos en cuatro partes iguales.\n",
        "\n",
        "  Primer Cuartil (Q1): También conocido como el cuartil inferior, es el valor\n",
        "  por debajo del cual se encuentra el 25% de los datos.\n",
        "\n",
        "  Segundo Cuartil (Q2): También conocido como la mediana, es el valor por debajo del cual se encuentra el 50% de los datos.\n",
        "\n",
        "  Tercer Cuartil (Q3): También conocido como el cuartil superior, es el valor por debajo del cual se encuentra el 75% de los datos.\n",
        "\n",
        "  Rango intercuartílico (IQR): Es la diferencia entre el tercer cuartil (Q3) y el primer cuartil (Q1), y mide la dispersión del 50% central de los datos."
      ],
      "metadata": {
        "id": "QvlAs1zvTNeR"
      }
    },
    {
      "cell_type": "markdown",
      "source": [
        "#### Ejemplo 1: Pandas"
      ],
      "metadata": {
        "id": "91bGOWIhUEy9"
      }
    },
    {
      "cell_type": "code",
      "source": [
        "# Calcular el primer cuartil (Q1)\n",
        "Q1 = df['price'].quantile(0.25)\n",
        "print(\"Primer Cuartil (Q1):\", Q1)\n",
        "\n",
        "# Calcular el segundo cuartil (Q2), que es la mediana\n",
        "Q2 = df['price'].quantile(0.50)\n",
        "print(\"Segundo Cuartil (Q2) - Mediana:\", Q2)\n",
        "\n",
        "# Calcular el tercer cuartil (Q3)\n",
        "Q3 = df['price'].quantile(0.75)\n",
        "print(\"Tercer Cuartil (Q3):\", Q3)"
      ],
      "metadata": {
        "colab": {
          "base_uri": "https://localhost:8080/"
        },
        "id": "rjc5zRj9T-Dp",
        "outputId": "f27059e5-bf10-4ba3-f58b-ef64e5446abf"
      },
      "execution_count": 31,
      "outputs": [
        {
          "output_type": "stream",
          "name": "stdout",
          "text": [
            "Primer Cuartil (Q1): 169000.0\n",
            "Segundo Cuartil (Q2) - Mediana: 280000.0\n",
            "Tercer Cuartil (Q3): 540000.0\n"
          ]
        }
      ]
    },
    {
      "cell_type": "code",
      "source": [
        "# Calcular el percentil 90\n",
        "P90 = df['price'].quantile(0.90)\n",
        "\n",
        "print(\"Percentil 90 (P90):\", P90)"
      ],
      "metadata": {
        "id": "dIC4xVSkUL3z"
      },
      "execution_count": null,
      "outputs": []
    },
    {
      "cell_type": "code",
      "source": [
        "# Calcular múltiples percentiles a la vez\n",
        "percentiles = df['price'].quantile([0.25, 0.5, 0.75, 0.90])\n",
        "\n",
        "print(\"Percentiles:\")\n",
        "print(percentiles)"
      ],
      "metadata": {
        "id": "_z1Fzk_fUP4N"
      },
      "execution_count": null,
      "outputs": []
    },
    {
      "cell_type": "markdown",
      "source": [
        "### 2.4 Medidas de Forma <a name=\"forma\"></a>\n",
        "\n",
        "Describen la forma de la distribución de los datos."
      ],
      "metadata": {
        "id": "T3qHJ_iQUgML"
      }
    },
    {
      "cell_type": "markdown",
      "source": [
        "- **Asimetria** (skewness): Indica la simetría de la distribución.\n",
        "\n",
        "<img src=\"https://drive.google.com/uc?export=view&id=1q2W7kCMzsAJZu7tAh8K0Pf_ejt_bHsIt\" height=\"200\" width=\"680\" style=\"float: center;\">\n",
        "\n",
        "  Una asimetría positiva indica que la mayoría de los datos están a la izquierda y hay unos pocos valores muy altos a la derecha.\n",
        "\n",
        "  Una asimetría negativa indica lo contrario.\n",
        "\n",
        "  Si el coeficiente de asimetría es cero (o muy cercano a cero), la distribución es simétrica. Si el coeficiente de asimetría es mayor que cero (positiva), la distribución tiene una cola larga hacia la derecha.\n",
        "  Si el coeficiente de asimetría es menor que cero (negativa), la distribución tiene una cola larga hacia la izquierda."
      ],
      "metadata": {
        "id": "QPf-JVVDU08I"
      }
    },
    {
      "cell_type": "markdown",
      "source": [
        "#### Ejemplo 1: Pandas"
      ],
      "metadata": {
        "id": "1VT93oNEWLqk"
      }
    },
    {
      "cell_type": "code",
      "source": [
        "asimetria_precio_pandas = df['price'].skew()\n",
        "\n",
        "print(\"Asimetría del precio con pandas:\", asimetria_precio_pandas)"
      ],
      "metadata": {
        "colab": {
          "base_uri": "https://localhost:8080/"
        },
        "id": "z2Al9DihWLLB",
        "outputId": "8ac2e011-ae80-484d-9597-373be5558635"
      },
      "execution_count": 32,
      "outputs": [
        {
          "output_type": "stream",
          "name": "stdout",
          "text": [
            "Asimetría del precio con pandas: 4.1886259100293275\n"
          ]
        }
      ]
    },
    {
      "cell_type": "markdown",
      "source": [
        "#### Ejemplo 2: Scipy"
      ],
      "metadata": {
        "id": "dVrBgIuiWVVF"
      }
    },
    {
      "cell_type": "code",
      "source": [
        "asimetria_precio_scipy = skew(df['price'])\n",
        "\n",
        "print(\"Asimetría del precio con scipy:\", asimetria_precio_scipy)"
      ],
      "metadata": {
        "colab": {
          "base_uri": "https://localhost:8080/"
        },
        "id": "d8qbNM05WSQA",
        "outputId": "71ca250f-efed-4411-e3a8-26f7723814fe"
      },
      "execution_count": 33,
      "outputs": [
        {
          "output_type": "stream",
          "name": "stdout",
          "text": [
            "Asimetría del precio con scipy: 4.188216186547989\n"
          ]
        }
      ]
    },
    {
      "cell_type": "code",
      "source": [
        "# Crear el histograma\n",
        "plt.figure(figsize=(10, 6))\n",
        "\n",
        "sns.histplot(df['price'], kde=True, bins=10, color='skyblue')\n",
        "\n",
        "plt.axvline(df['price'].mean(), color='red', linestyle='dashed', linewidth=1)\n",
        "plt.axvline(df['price'].median(), color='green', linestyle='dashed', linewidth=1)\n",
        "\n",
        "plt.title('Histograma y Densidad del Precio')\n",
        "plt.xlabel('Precio')\n",
        "plt.ylabel('Frecuencia')\n",
        "\n",
        "# Añadir la leyenda\n",
        "mean_legend = f'Media: {df[\"price\"].mean():.2f}'\n",
        "median_legend = f'Mediana: {df[\"price\"].median():.2f}'\n",
        "plt.legend({'Media': df['price'].mean(), 'Mediana': df['price'].median()})\n",
        "\n",
        "plt.show()"
      ],
      "metadata": {
        "colab": {
          "base_uri": "https://localhost:8080/",
          "height": 564
        },
        "id": "jjMjNvxfW0CY",
        "outputId": "87157614-fe8d-4ae8-dfe5-491018ffd4ce"
      },
      "execution_count": 34,
      "outputs": [
        {
          "output_type": "display_data",
          "data": {
            "text/plain": [
              "<Figure size 1000x600 with 1 Axes>"
            ],
            "image/png": "[encoded data removed]"
          },
          "metadata": {}
        }
      ]
    },
    {
      "cell_type": "markdown",
      "source": [
        "- **Curtosis**: mide la concentración de los datos en torno a la media.\n",
        "\n",
        "  Indica la \"agudeza\" de la distribución de los datos.\n",
        "\n",
        "  Una curtosis positiva indica un pico más agudo en comparación con la distribución normal.\n",
        "  \n",
        "  Una curtosis negativa indica un pico más aplanado y unas colas más ligeras.\n",
        "  \n",
        "  Una curtosis cercana a cero es lo ideal, ya que sugiere una forma similar a la de la distribución normal."
      ],
      "metadata": {
        "id": "Ph9eg9eRXvjz"
      }
    },
    {
      "cell_type": "markdown",
      "source": [
        "<img src=\"https://drive.google.com/uc?export=view&id=1fLRr-IajxKk9xS1EgHRtg2eQnD41ZBVr\" height=\"200\" width=\"480\" style=\"float: center;\">"
      ],
      "metadata": {
        "id": "RFtyTNDzXwUJ"
      }
    },
    {
      "cell_type": "markdown",
      "source": [
        "Si el coeficiente de curtosis es cero (o muy cercano a cero), la distribución tiene una curtosis similar a la de una distribución normal.\n",
        "\n",
        "Si el coeficiente de curtosis es mayor que cero (positiva), la distribución es leptocúrtica, lo que significa que tiene colas más pesadas que una distribución normal.\n",
        "\n",
        "Si el coeficiente de curtosis es menor que cero (negativa), la distribución es platicúrtica, lo que significa que tiene colas más ligeras que una distribución normal."
      ],
      "metadata": {
        "id": "bttd1fAfZZ5U"
      }
    },
    {
      "cell_type": "markdown",
      "source": [
        "#### Ejemplo 1: Pandas"
      ],
      "metadata": {
        "id": "kWQ4SjxEX-fq"
      }
    },
    {
      "cell_type": "code",
      "source": [
        "kur_precio_pandas = df['price'].kurtosis()\n",
        "\n",
        "print(\"Curtosis del precio con pandas:\", kur_precio_pandas)"
      ],
      "metadata": {
        "colab": {
          "base_uri": "https://localhost:8080/"
        },
        "id": "GFad6YOVYBWx",
        "outputId": "f3c0e611-b16a-45b2-8b1c-bc740dd35b74"
      },
      "execution_count": 35,
      "outputs": [
        {
          "output_type": "stream",
          "name": "stdout",
          "text": [
            "Curtosis del precio con pandas: 26.976955593916927\n"
          ]
        }
      ]
    }
  ]
}