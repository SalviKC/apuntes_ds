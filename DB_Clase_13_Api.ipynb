{
  "nbformat": 4,
  "nbformat_minor": 0,
  "metadata": {
    "colab": {
      "provenance": []
    },
    "kernelspec": {
      "name": "python3",
      "display_name": "Python 3"
    },
    "language_info": {
      "name": "python"
    }
  },
  "cells": [
    {
      "cell_type": "markdown",
      "source": [
        "<div align=\"right\">\n",
        "  <img src=\"https://drive.google.com/uc?export=view&id=1J8JpP65HsHXdpJvhb_sMwn3yROyU832m\" height=\"80\" width=\"200\" style=\"float: right;\">\n",
        "</div>\n",
        "<h1><b>Data Science and Machine Learning</b></h1>\n",
        "<h2><b>Clase 13</b>: API</h2>\n",
        "<h3><b>Docente</b>: <a href=\"https://www.linkedin.com/in/danielablanco/\">Daniela Blanco</a>"
      ],
      "metadata": {
        "id": "Wp4cyu16yiif"
      }
    },
    {
      "cell_type": "markdown",
      "source": [
        "# Contenido\n",
        "\n",
        "- [1. ¿Qué es una API?](#api)\n",
        "  - [1.1. Pasos de una Api](#pasos)\n",
        "  - [1.2. Api Rest](#apirest)\n",
        "- [2. Protocolo HTTP](#http)\n",
        "  - [2.2. Métodos de petición](#metodos)\n",
        "  - [2.3. Códigos de respuesta](#codigos)\n",
        "- [3. Ejemplos](#elemplos)\n",
        "- [4. Links](#links)"
      ],
      "metadata": {
        "id": "XEmijBfl2b_I"
      }
    },
    {
      "cell_type": "markdown",
      "source": [
        "## 1. ¿Qué es una API? <a name=\"api\"></a>"
      ],
      "metadata": {
        "id": "Pw6lT_8L3Bny"
      }
    },
    {
      "cell_type": "markdown",
      "source": [
        "<img src=\"https://drive.google.com/uc?export=view&id=1zw94vWzX0FP1ySjVZclCQVFZbh4BOfci\" height=\"177\" width=\"321\" style=\"float: center;\">"
      ],
      "metadata": {
        "id": "r4PQ6VCun-6J"
      }
    },
    {
      "cell_type": "markdown",
      "source": [
        "API (Application Programming Interface o Interfaz de Programación de Aplicaciones) es un conjunto de definiciones y protocolos que permiten que diferentes aplicaciones se comuniquen entre sí.\n",
        "\n",
        "Las APIs permiten a los desarrolladores usar funcionalidades de otras aplicaciones sin tener que escribir el código desde cero.\n",
        "\n",
        "Básicamente, una API es un intermediario que permite que dos aplicaciones hablen entre sí."
      ],
      "metadata": {
        "id": "MrE2Gc3Ygk8X"
      }
    },
    {
      "cell_type": "markdown",
      "source": [
        "### Ejemplo:\n",
        "\n",
        "- [Api X (Twitter)](https://developer.x.com/en/docs/twitter-api/getting-started/about-twitter-api)\n",
        "- [Endpoint Users lookup](https://developer.x.com/en/docs/twitter-api/users/lookup/api-reference/get-users-id#tab1)"
      ],
      "metadata": {
        "id": "0O9otpD1k6gM"
      }
    },
    {
      "cell_type": "markdown",
      "source": [
        "### 1.1. Pasos de una API <a name=\"pasos\"></a>"
      ],
      "metadata": {
        "id": "uSje7i7Vt1t-"
      }
    },
    {
      "cell_type": "markdown",
      "source": [
        "Para entender mejor cómo funcionan las APIs, es útil desglosar algunos conceptos clave: llamada (call), implementación (implementation) y aplicación (application).\n",
        "\n",
        "**1. Llamada**\n",
        "\n",
        "La llamada es la acción que desencadena la comunicación.\n",
        "\n",
        "La solicitud que un cliente hace a una API para ejecutar una operación específica.\n",
        "\n",
        "Por ejemplo, imagina que tienes una aplicación de clima en tu teléfono. Cuando abres la aplicación y solicitas el clima actual en tu ciudad, la aplicación realiza una llamada a una API de clima. Esta llamada incluye detalles como la ciudad de interés y la clave de la API."
      ],
      "metadata": {
        "id": "Q_aBQjqPt6Uy"
      }
    },
    {
      "cell_type": "code",
      "source": [
        "GET https://api.openweathermap.org/data/2.5/weather?q=London&appid=tu_api_key"
      ],
      "metadata": {
        "id": "O7cHJWvIuWUT"
      },
      "execution_count": null,
      "outputs": []
    },
    {
      "cell_type": "markdown",
      "source": [
        "En este ejemplo, la llamada se realiza mediante el método HTTP GET a un endpoint específico de la API de clima."
      ],
      "metadata": {
        "id": "9QIfDTMNua-T"
      }
    },
    {
      "cell_type": "markdown",
      "source": [
        "**2. Implementación**\n",
        "\n",
        "Una vez que el sistema/servidor ha recibido la llamada se desencadena un proceso que tiene como objetivo satisfacer la necesidad del emisor.\n",
        "\n",
        "La implementación se refiere a cómo una API está diseñada y construida en el servidor.\n",
        "\n",
        "Para la API de clima, la implementación puede incluir:\n",
        "- Código del Servidor: Programas escritos en lenguajes como Python, Java, Node.js, etc., que procesan las solicitudes.\n",
        "- Base de Datos: Donde se almacenan los datos meteorológicos.\n",
        "- Integraciones: Con otros servicios que proporcionan datos en tiempo real.\n",
        "\n",
        "El servidor recibe la llamada, procesa los parámetros (como la ciudad y la clave de API), busca la información en la base de datos o la obtiene de terceros, y finalmente devuelve una respuesta estructurada."
      ],
      "metadata": {
        "id": "EyyRRTvPuenB"
      }
    },
    {
      "cell_type": "code",
      "source": [
        "{\n",
        "  \"weather\": [\n",
        "    {\n",
        "      \"description\": \"clear sky\"\n",
        "    }\n",
        "  ],\n",
        "  \"main\": {\n",
        "    \"temp\": 280.32\n",
        "  },\n",
        "  \"name\": \"London\"\n",
        "}"
      ],
      "metadata": {
        "id": "3vs2zkP0vKCh"
      },
      "execution_count": null,
      "outputs": []
    },
    {
      "cell_type": "markdown",
      "source": [
        "**3. Aplicación**\n",
        "\n",
        "Una aplicación es el software que utiliza una API para ofrecer funcionalidades a los usuarios. Puede ser una aplicación móvil, una página web, o cualquier otro tipo de software.\n",
        "\n",
        "La aplicación de clima en tu teléfono es un ejemplo de aplicación. Esta aplicación utiliza la API de clima para mostrarte la temperatura actual, la previsión meteorológica, etc. Cada vez que interactúas con la aplicación (por ejemplo, buscando el clima en una nueva ciudad), la aplicación realiza llamadas a la API, recibe las respuestas y te muestra los resultados."
      ],
      "metadata": {
        "id": "o3cfaZQyu5Td"
      }
    },
    {
      "cell_type": "markdown",
      "source": [
        "### 1.2. Api rest <a name=\"apirest\"></a>\n",
        "\n",
        "La principal característica de este tipo de implementaciones es que las comunicaciones se realizan sobre el protocolo HTTP.\n",
        "\n",
        "Esto quiere decir que tanto el envío como la recepción se lleva a cabo en texto plano (cifrado y con un formato concreto, pero al final es una cadena de caracteres). Como está fundamentada en este protocolo, entonces se aprovechan y utilizan los métodos de petición vistos anteriormente."
      ],
      "metadata": {
        "id": "QOWXjBvRvP3T"
      }
    },
    {
      "cell_type": "code",
      "source": [
        "# obtener listaod de libros\n",
        "GET https://api.ejemplo.com/books\n",
        "\n",
        "# obtener un id especifico\n",
        "GET https://api.ejemplo.com/books/1\n",
        "\n",
        "# agregar un libro\n",
        "POST https://api.ejemplo.com/books\n",
        "Content-Type: application/json\n",
        "\n",
        "{\n",
        "  \"title\": \"Nuevo Libro\",\n",
        "  \"author\": \"Autor Desconocido\",\n",
        "  \"isbn\": \"1234567890\"\n",
        "}\n",
        "\n",
        "# actualizar un libro existente\n",
        "PUT https://api.ejemplo.com/books/1\n",
        "Content-Type: application/json\n",
        "\n",
        "{\n",
        "  \"title\": \"Libro Actualizado\",\n",
        "  \"author\": \"Autor Conocido\",\n",
        "  \"isbn\": \"0987654321\"\n",
        "}\n",
        "\n",
        "# eliminar un libro\n",
        "DELETE https://api.ejemplo.com/books/1"
      ],
      "metadata": {
        "id": "CruB4pyex3Vj"
      },
      "execution_count": null,
      "outputs": []
    },
    {
      "cell_type": "markdown",
      "source": [
        "## 2. Protocolo HTTP <a name=\"http\"></a>"
      ],
      "metadata": {
        "id": "aTAT7UQEfOoH"
      }
    },
    {
      "cell_type": "markdown",
      "source": [
        "HTTP (HyperText Transfer Protocol, Protocolo de Transferencia de HiperTexto) es un protocolo utilizado para transmitir en Internet.\n",
        "\n",
        "Interviene en todos los flujos de transmisión de información.\n",
        "\n",
        "Opera entre un cliente y un servidor. El cliente realiza una petición enviando un mensaje con cierto formato al servidor. Este entonces le devuelve con una respuesta también en texto.\n",
        "\n",
        "Es un protocolo de solicitud-respuesta entre un cliente (por ejemplo, un navegador web) y un servidor (donde se aloja el sitio web)."
      ],
      "metadata": {
        "id": "24i5xw76k6kl"
      }
    },
    {
      "cell_type": "markdown",
      "source": [
        "<img src=\"https://drive.google.com/uc?export=view&id=1NkyWjgHkor8g9qDdEEl25BUcmLg8iKsl\" height=\"289\" width=\"574\" style=\"float: center;\">"
      ],
      "metadata": {
        "id": "DJpBT6YDBy89"
      }
    },
    {
      "cell_type": "markdown",
      "source": [
        "- El protocolo HTTP funciona a través de solicitudes y respuestas, el cliente (por ejemplo, un navegador de internet) y un servidor (por ejemplo, las computadoras que alojan y despliegan los sitios web).\n",
        "\n",
        "- El servidor, tras recibir una solicitud, responde con un mensaje estructurado.\n",
        "\n",
        "- Este mensaje tendrá además un código de respuesta/error.\n",
        "\n",
        "- Se cuenta con diversos métodos de petición (request methods).\n",
        "\n",
        "- A una secuencia de estas solicitudes se le conoce como sesión HTTP."
      ],
      "metadata": {
        "id": "x3fu4GZoBr31"
      }
    },
    {
      "cell_type": "markdown",
      "source": [
        "### 2.1. Componentes HTTP <a name=\"componentes\"></a>"
      ],
      "metadata": {
        "id": "wm2lkUX4FrZ8"
      }
    },
    {
      "cell_type": "markdown",
      "source": [
        "1. URI (Uniform Resource Identifier): cadena de caracteres que identifican un recurso en la red Puede ser una URL, una URN (Uniform Resource Name), o ambas. Básicamente, un URI es un identificador genérico para cualquier recurso.\n",
        "2. Métodos de solicitud: Diferentes tipos de solicitudes que se pueden realizar.\n",
        "3. Códigos de estado HTTP: Respuestas del servidor que indican el resultado de la solicitud.\n",
        "4. Cabeceras HTTP: Información adicional enviada con las solicitudes y respuestas."
      ],
      "metadata": {
        "id": "zfiRr5_KF22B"
      }
    },
    {
      "cell_type": "markdown",
      "source": [
        "### 2.2. Métodos de petición <a name=\"metodos\"></a>"
      ],
      "metadata": {
        "id": "yDpxeQoJk3KD"
      }
    },
    {
      "cell_type": "markdown",
      "source": [
        "| Método | Descripción |\n",
        "|---------|--------------------------|\n",
        "| GET    | Utilizado para solicitar datos de un servidor. Los parámetros se envían en la URL.   |\n",
        "| POST   | Utilizado para enviar datos al servidor. Los datos se envían en el cuerpo de la solicitud. |\n",
        "| PUT    | Utilizado para actualizar datos existentes en el servidor o crear datos nuevos. Los datos se envían en el cuerpo de la solicitud.                      |\n",
        "| DELETE | Se utiliza para eliminar datos en el servidor.  |"
      ],
      "metadata": {
        "id": "GikqIv4JmDc0"
      }
    },
    {
      "cell_type": "markdown",
      "source": [
        "Una petición para obtener una página web, en este caso, google.com, en lenguaje HTTP sería algo así:"
      ],
      "metadata": {
        "id": "1RDYZE-RIJbS"
      }
    },
    {
      "cell_type": "markdown",
      "source": [
        "<img src=\"https://drive.google.com/uc?export=view&id=1QQ3NUsK8-ACbnK2GODh3Gg6hQi5HYucZ\" height=\"99\" width=\"550\" style=\"float: center;\">"
      ],
      "metadata": {
        "id": "cX9k7fOyHyls"
      }
    },
    {
      "cell_type": "markdown",
      "source": [
        "### 2.3. Códigos de respuesta <a name=\"codigos\"></a>"
      ],
      "metadata": {
        "id": "uT19X_Jzk4Pj"
      }
    },
    {
      "cell_type": "markdown",
      "source": [
        "Cuando el servidor recibe la petición, sabe con exactitud qué recurso necesita el cliente (a través de la URI) y qué quiere hacer con ese recurso (a través del método de petición utilizado).\n",
        "\n",
        "La respuesta contiene el recurso solicitado, además del código de respuesta. En este caso 200 indica que todo es correcto, que el recurso se ha recibido, además de que la comunicación ha sido un éxito.\n",
        "\n",
        "Los códigos de estado HTTP puedes encontrarlos [aquí](https://developer.mozilla.org/es/docs/Web/HTTP/Status) y según el número con el que empiecen, brindan información muy valiosa:\n",
        "\n",
        "  1xx – Metadata\n",
        "\n",
        "  2xx – Todo OK\n",
        "\n",
        "  3xx – Redirección\n",
        "\n",
        "  4xx – Cliente hizo algo mal\n",
        "\n",
        "  5xx – Servidor hizo algo mal"
      ],
      "metadata": {
        "id": "ERC8Ip6jjhn6"
      }
    },
    {
      "cell_type": "markdown",
      "source": [
        "## 3. Ejemplos <a name=\"ejemplos\"></a>\n",
        "\n",
        "### OpenWeatherMap\n",
        "\n",
        "[OpenWeatherMap](https://openweathermap.org/) es un servicio en línea que proporciona datos meteorológicos globales en tiempo real. La plataforma ofrece acceso a datos actuales, pronósticos meteorológicos y datos históricos mediante APIs."
      ],
      "metadata": {
        "id": "PUGVrKIU1xED"
      }
    },
    {
      "cell_type": "code",
      "source": [
        "import requests\n",
        "import pandas as pd\n",
        "\n",
        "# Tu clave de API de OpenWeatherMap\n",
        "api_key = '1a3212a4847857f11b91eec29ac73'\n",
        "# Ciudad para la que quieres obtener el clima\n",
        "city = 'Tokio'\n",
        "\n",
        "# URL de la API con los parámetros necesarios\n",
        "url = 'http://api.openweathermap.org/data/2.5/weather?q='+city+'&APPID='+api_key+'&units=metric'"
      ],
      "metadata": {
        "id": "wD7So9sS9ZHJ"
      },
      "execution_count": 45,
      "outputs": []
    },
    {
      "cell_type": "code",
      "source": [
        "city"
      ],
      "metadata": {
        "colab": {
          "base_uri": "https://localhost:8080/",
          "height": 36
        },
        "id": "Eyoj4x5wMGS2",
        "outputId": "e99d74c5-b821-45f4-e27e-dca2f8388e57"
      },
      "execution_count": 37,
      "outputs": [
        {
          "output_type": "execute_result",
          "data": {
            "text/plain": [
              "'Roma'"
            ],
            "application/vnd.google.colaboratory.intrinsic+json": {
              "type": "string"
            }
          },
          "metadata": {},
          "execution_count": 37
        }
      ]
    },
    {
      "cell_type": "code",
      "source": [
        "# Realiza una solicitud GET a la API\n",
        "response = requests.get(url)\n",
        "\n",
        "# Verifica si la solicitud fue exitosa\n",
        "if response.status_code == 200:\n",
        "    # Convierte la respuesta JSON en un diccionario de Python\n",
        "    data = response.json()\n",
        "    # Extrae información específica\n",
        "    temp = data['main']['temp']\n",
        "    weather_desc = data['weather'][0]['description']\n",
        "    city_name = data['name']\n",
        "\n",
        "    # Crear un DataFrame de Pandas\n",
        "    df = pd.DataFrame({\n",
        "        'City': [city_name],\n",
        "        'Temperature (°C)': [temp],\n",
        "        'Weather Description': [weather_desc]\n",
        "    })\n",
        "\n",
        "    # Muestra el DataFrame\n",
        "    print(df)\n",
        "else:\n",
        "    print('Error al obtener los datos del clima - Error '+str(response.status_code))\n"
      ],
      "metadata": {
        "colab": {
          "base_uri": "https://localhost:8080/"
        },
        "id": "69ldK6ZPKPM_",
        "outputId": "10811ef3-1cc0-401b-b72a-b015908ab0bb"
      },
      "execution_count": 46,
      "outputs": [
        {
          "output_type": "stream",
          "name": "stdout",
          "text": [
            "Error al obtener los datos del clima - Error 401\n"
          ]
        }
      ]
    },
    {
      "cell_type": "markdown",
      "source": [
        "### CoinGecko\n",
        "\n",
        "[CoinGecko](https://www.coingecko.com/es) es una plataforma que proporciona datos sobre criptomonedas, incluidos precios, volúmenes de comercio, capitalización de mercado y otra información relevante.\n",
        "\n",
        "Es ampliamente utilizada por inversores, desarrolladores y entusiastas de las criptomonedas para realizar seguimiento de la evolución del mercado de criptomonedas en tiempo real."
      ],
      "metadata": {
        "id": "-boGi0fZRFuK"
      }
    },
    {
      "cell_type": "code",
      "source": [
        "import requests\n",
        "import pandas as pd\n",
        "\n",
        "# Moneda para la que quieres obtener el precio\n",
        "cryptocurrency = 'bitcoin'\n",
        "# Moneda fiduciaria en la que quieres el precio\n",
        "currency = 'usd'\n",
        "\n",
        "# URL de la API con los parámetros necesarios\n",
        "url = f'https://api.coingecko.com/api/v3/simple/price?ids={cryptocurrency}&vs_currencies={currency}'\n",
        "\n",
        "# Realiza una solicitud GET a la API\n",
        "response = requests.get(url)\n",
        "\n",
        "# Verifica si la solicitud fue exitosa\n",
        "if response.status_code == 200:\n",
        "    # Convierte la respuesta JSON en un diccionario de Python\n",
        "    data = response.json()\n",
        "    # Extrae información específica\n",
        "    price = data[cryptocurrency][currency]\n",
        "\n",
        "    # Crear un DataFrame de Pandas\n",
        "    df = pd.DataFrame({\n",
        "        'Cryptocurrency': [cryptocurrency.capitalize()],\n",
        "        'Price (USD)': [price]\n",
        "    })\n",
        "\n",
        "    # Muestra el DataFrame\n",
        "    print(df)\n",
        "else:\n",
        "    print('Error al obtener los datos de la criptomoneda')\n"
      ],
      "metadata": {
        "colab": {
          "base_uri": "https://localhost:8080/"
        },
        "id": "EGwAent_Rasa",
        "outputId": "00e98dfa-a009-4e46-c359-d5102f910dc9"
      },
      "execution_count": 59,
      "outputs": [
        {
          "output_type": "stream",
          "name": "stdout",
          "text": [
            "  Cryptocurrency  Price (USD)\n",
            "0        Bitcoin        83466\n"
          ]
        }
      ]
    },
    {
      "cell_type": "markdown",
      "source": [
        "### Citybik\n",
        "\n",
        "[Citybik API](https://api.citybik.es/v2/) es una plataforma que proporciona datos en tiempo real sobre sistemas de bicicletas compartidas en ciudades de todo el mundo.\n",
        "\n",
        "Esta API permite acceder a información sobre la disponibilidad de bicicletas y estaciones, lo que es útil para desarrollar aplicaciones de movilidad, estudios de transporte y análisis de datos."
      ],
      "metadata": {
        "id": "hXjVN_QG9XnN"
      }
    },
    {
      "cell_type": "code",
      "source": [
        "import requests\n",
        "import pandas as pd\n",
        "\n",
        "# URL de la API para obtener todas las redes de bicicletas compartidas\n",
        "url = 'http://api.citybik.es/v2/networks'\n",
        "\n",
        "# Realiza una solicitud GET a la API\n",
        "response = requests.get(url)\n",
        "\n",
        "# Verifica si la solicitud fue exitosa\n",
        "if response.status_code == 200:\n",
        "    # Convierte la respuesta JSON en un diccionario de Python\n",
        "    data = response.json()\n",
        "    # Extrae la lista de redes\n",
        "    networks = data['networks']\n",
        "\n",
        "    # Crear un DataFrame de Pandas\n",
        "    df = pd.DataFrame(networks)\n",
        "else:\n",
        "    print(f'Error al obtener los datos de las redes de bicicletas compartidas: {response.status_code}')\n",
        "    print(response.json())  # Muestra el mensaje de error detallado\n"
      ],
      "metadata": {
        "id": "tcKaoiI_SRmc"
      },
      "execution_count": 57,
      "outputs": []
    },
    {
      "cell_type": "code",
      "source": [
        "df.head()"
      ],
      "metadata": {
        "colab": {
          "base_uri": "https://localhost:8080/",
          "height": 538
        },
        "id": "KgbQEXU9SbaG",
        "outputId": "5c6aedcc-4160-4431-dc18-306d6ad828de"
      },
      "execution_count": 58,
      "outputs": [
        {
          "output_type": "execute_result",
          "data": {
            "text/plain": [
              "                      id                   name  \\\n",
              "0  abu-dhabi-careem-bike  Abu Dhabi Careem BIKE   \n",
              "1    acces-velo-saguenay             Accès Vélo   \n",
              "2                   aksu                   Aksu   \n",
              "3                   alba                   Alba   \n",
              "4               albabici               AlbaBici   \n",
              "\n",
              "                                            location  \\\n",
              "0  {'latitude': 24.4866, 'longitude': 54.3728, 'c...   \n",
              "1  {'latitude': 48.433333, 'longitude': -71.08333...   \n",
              "2  {'latitude': 41.1664, 'longitude': 80.2617, 'c...   \n",
              "3  {'latitude': 44.716667, 'longitude': 8.083333,...   \n",
              "4  {'latitude': 38.9943, 'longitude': -1.8602, 'c...   \n",
              "\n",
              "                                 href  \\\n",
              "0  /v2/networks/abu-dhabi-careem-bike   \n",
              "1    /v2/networks/acces-velo-saguenay   \n",
              "2                   /v2/networks/aksu   \n",
              "3                   /v2/networks/alba   \n",
              "4               /v2/networks/albabici   \n",
              "\n",
              "                                             company  \\\n",
              "0                                           [Careem]   \n",
              "1                             [PBSC Urban Solutions]   \n",
              "2                                          [阿克苏公共服务]   \n",
              "3                                [Comunicare S.r.l.]   \n",
              "4  [Instituto Tecnológico de Castilla y León (ITCL)]   \n",
              "\n",
              "                                           gbfs_href      system  \\\n",
              "0  https://dubai.publicbikesystem.net/customer/gb...         NaN   \n",
              "1  https://saguenay.publicbikesystem.net/customer...         NaN   \n",
              "2                                                NaN         NaN   \n",
              "3                                                NaN  Bicincittà   \n",
              "4                                                NaN    bicicard   \n",
              "\n",
              "                                              source ebikes license scooters  \\\n",
              "0                                                NaN    NaN     NaN      NaN   \n",
              "1                                                NaN    NaN     NaN      NaN   \n",
              "2                                                NaN    NaN     NaN      NaN   \n",
              "3  https://www.bicincitta.com/frmLeStazioni.aspx?...    NaN     NaN      NaN   \n",
              "4                                                NaN    NaN     NaN      NaN   \n",
              "\n",
              "  instances  \n",
              "0       NaN  \n",
              "1       NaN  \n",
              "2       NaN  \n",
              "3       NaN  \n",
              "4       NaN  "
            ],
            "text/html": [
              "\n",
              "  <div id=\"df-f2be56f7-7c97-4139-810e-72df32bef222\" class=\"colab-df-container\">\n",
              "    <div>\n",
              "<style scoped>\n",
              "    .dataframe tbody tr th:only-of-type {\n",
              "        vertical-align: middle;\n",
              "    }\n",
              "\n",
              "    .dataframe tbody tr th {\n",
              "        vertical-align: top;\n",
              "    }\n",
              "\n",
              "    .dataframe thead th {\n",
              "        text-align: right;\n",
              "    }\n",
              "</style>\n",
              "<table border=\"1\" class=\"dataframe\">\n",
              "  <thead>\n",
              "    <tr style=\"text-align: right;\">\n",
              "      <th></th>\n",
              "      <th>id</th>\n",
              "      <th>name</th>\n",
              "      <th>location</th>\n",
              "      <th>href</th>\n",
              "      <th>company</th>\n",
              "      <th>gbfs_href</th>\n",
              "      <th>system</th>\n",
              "      <th>source</th>\n",
              "      <th>ebikes</th>\n",
              "      <th>license</th>\n",
              "      <th>scooters</th>\n",
              "      <th>instances</th>\n",
              "    </tr>\n",
              "  </thead>\n",
              "  <tbody>\n",
              "    <tr>\n",
              "      <th>0</th>\n",
              "      <td>abu-dhabi-careem-bike</td>\n",
              "      <td>Abu Dhabi Careem BIKE</td>\n",
              "      <td>{'latitude': 24.4866, 'longitude': 54.3728, 'c...</td>\n",
              "      <td>/v2/networks/abu-dhabi-careem-bike</td>\n",
              "      <td>[Careem]</td>\n",
              "      <td>https://dubai.publicbikesystem.net/customer/gb...</td>\n",
              "      <td>NaN</td>\n",
              "      <td>NaN</td>\n",
              "      <td>NaN</td>\n",
              "      <td>NaN</td>\n",
              "      <td>NaN</td>\n",
              "      <td>NaN</td>\n",
              "    </tr>\n",
              "    <tr>\n",
              "      <th>1</th>\n",
              "      <td>acces-velo-saguenay</td>\n",
              "      <td>Accès Vélo</td>\n",
              "      <td>{'latitude': 48.433333, 'longitude': -71.08333...</td>\n",
              "      <td>/v2/networks/acces-velo-saguenay</td>\n",
              "      <td>[PBSC Urban Solutions]</td>\n",
              "      <td>https://saguenay.publicbikesystem.net/customer...</td>\n",
              "      <td>NaN</td>\n",
              "      <td>NaN</td>\n",
              "      <td>NaN</td>\n",
              "      <td>NaN</td>\n",
              "      <td>NaN</td>\n",
              "      <td>NaN</td>\n",
              "    </tr>\n",
              "    <tr>\n",
              "      <th>2</th>\n",
              "      <td>aksu</td>\n",
              "      <td>Aksu</td>\n",
              "      <td>{'latitude': 41.1664, 'longitude': 80.2617, 'c...</td>\n",
              "      <td>/v2/networks/aksu</td>\n",
              "      <td>[阿克苏公共服务]</td>\n",
              "      <td>NaN</td>\n",
              "      <td>NaN</td>\n",
              "      <td>NaN</td>\n",
              "      <td>NaN</td>\n",
              "      <td>NaN</td>\n",
              "      <td>NaN</td>\n",
              "      <td>NaN</td>\n",
              "    </tr>\n",
              "    <tr>\n",
              "      <th>3</th>\n",
              "      <td>alba</td>\n",
              "      <td>Alba</td>\n",
              "      <td>{'latitude': 44.716667, 'longitude': 8.083333,...</td>\n",
              "      <td>/v2/networks/alba</td>\n",
              "      <td>[Comunicare S.r.l.]</td>\n",
              "      <td>NaN</td>\n",
              "      <td>Bicincittà</td>\n",
              "      <td>https://www.bicincitta.com/frmLeStazioni.aspx?...</td>\n",
              "      <td>NaN</td>\n",
              "      <td>NaN</td>\n",
              "      <td>NaN</td>\n",
              "      <td>NaN</td>\n",
              "    </tr>\n",
              "    <tr>\n",
              "      <th>4</th>\n",
              "      <td>albabici</td>\n",
              "      <td>AlbaBici</td>\n",
              "      <td>{'latitude': 38.9943, 'longitude': -1.8602, 'c...</td>\n",
              "      <td>/v2/networks/albabici</td>\n",
              "      <td>[Instituto Tecnológico de Castilla y León (ITCL)]</td>\n",
              "      <td>NaN</td>\n",
              "      <td>bicicard</td>\n",
              "      <td>NaN</td>\n",
              "      <td>NaN</td>\n",
              "      <td>NaN</td>\n",
              "      <td>NaN</td>\n",
              "      <td>NaN</td>\n",
              "    </tr>\n",
              "  </tbody>\n",
              "</table>\n",
              "</div>\n",
              "    <div class=\"colab-df-buttons\">\n",
              "\n",
              "  <div class=\"colab-df-container\">\n",
              "    <button class=\"colab-df-convert\" onclick=\"convertToInteractive('df-f2be56f7-7c97-4139-810e-72df32bef222')\"\n",
              "            title=\"Convert this dataframe to an interactive table.\"\n",
              "            style=\"display:none;\">\n",
              "\n",
              "  <svg xmlns=\"http://www.w3.org/2000/svg\" height=\"24px\" viewBox=\"0 -960 960 960\">\n",
              "    <path d=\"M120-120v-720h720v720H120Zm60-500h600v-160H180v160Zm220 220h160v-160H400v160Zm0 220h160v-160H400v160ZM180-400h160v-160H180v160Zm440 0h160v-160H620v160ZM180-180h160v-160H180v160Zm440 0h160v-160H620v160Z\"/>\n",
              "  </svg>\n",
              "    </button>\n",
              "\n",
              "  <style>\n",
              "    .colab-df-container {\n",
              "      display:flex;\n",
              "      gap: 12px;\n",
              "    }\n",
              "\n",
              "    .colab-df-convert {\n",
              "      background-color: #E8F0FE;\n",
              "      border: none;\n",
              "      border-radius: 50%;\n",
              "      cursor: pointer;\n",
              "      display: none;\n",
              "      fill: #1967D2;\n",
              "      height: 32px;\n",
              "      padding: 0 0 0 0;\n",
              "      width: 32px;\n",
              "    }\n",
              "\n",
              "    .colab-df-convert:hover {\n",
              "      background-color: #E2EBFA;\n",
              "      box-shadow: 0px 1px 2px rgba(60, 64, 67, 0.3), 0px 1px 3px 1px rgba(60, 64, 67, 0.15);\n",
              "      fill: #174EA6;\n",
              "    }\n",
              "\n",
              "    .colab-df-buttons div {\n",
              "      margin-bottom: 4px;\n",
              "    }\n",
              "\n",
              "    [theme=dark] .colab-df-convert {\n",
              "      background-color: #3B4455;\n",
              "      fill: #D2E3FC;\n",
              "    }\n",
              "\n",
              "    [theme=dark] .colab-df-convert:hover {\n",
              "      background-color: #434B5C;\n",
              "      box-shadow: 0px 1px 3px 1px rgba(0, 0, 0, 0.15);\n",
              "      filter: drop-shadow(0px 1px 2px rgba(0, 0, 0, 0.3));\n",
              "      fill: #FFFFFF;\n",
              "    }\n",
              "  </style>\n",
              "\n",
              "    <script>\n",
              "      const buttonEl =\n",
              "        document.querySelector('#df-f2be56f7-7c97-4139-810e-72df32bef222 button.colab-df-convert');\n",
              "      buttonEl.style.display =\n",
              "        google.colab.kernel.accessAllowed ? 'block' : 'none';\n",
              "\n",
              "      async function convertToInteractive(key) {\n",
              "        const element = document.querySelector('#df-f2be56f7-7c97-4139-810e-72df32bef222');\n",
              "        const dataTable =\n",
              "          await google.colab.kernel.invokeFunction('convertToInteractive',\n",
              "                                                    [key], {});\n",
              "        if (!dataTable) return;\n",
              "\n",
              "        const docLinkHtml = 'Like what you see? Visit the ' +\n",
              "          '<a target=\"_blank\" href=https://colab.research.google.com/notebooks/data_table.ipynb>data table notebook</a>'\n",
              "          + ' to learn more about interactive tables.';\n",
              "        element.innerHTML = '';\n",
              "        dataTable['output_type'] = 'display_data';\n",
              "        await google.colab.output.renderOutput(dataTable, element);\n",
              "        const docLink = document.createElement('div');\n",
              "        docLink.innerHTML = docLinkHtml;\n",
              "        element.appendChild(docLink);\n",
              "      }\n",
              "    </script>\n",
              "  </div>\n",
              "\n",
              "\n",
              "<div id=\"df-3e3f144e-1e72-42b2-92d9-1d981e9ec6fd\">\n",
              "  <button class=\"colab-df-quickchart\" onclick=\"quickchart('df-3e3f144e-1e72-42b2-92d9-1d981e9ec6fd')\"\n",
              "            title=\"Suggest charts\"\n",
              "            style=\"display:none;\">\n",
              "\n",
              "<svg xmlns=\"http://www.w3.org/2000/svg\" height=\"24px\"viewBox=\"0 0 24 24\"\n",
              "     width=\"24px\">\n",
              "    <g>\n",
              "        <path d=\"M19 3H5c-1.1 0-2 .9-2 2v14c0 1.1.9 2 2 2h14c1.1 0 2-.9 2-2V5c0-1.1-.9-2-2-2zM9 17H7v-7h2v7zm4 0h-2V7h2v10zm4 0h-2v-4h2v4z\"/>\n",
              "    </g>\n",
              "</svg>\n",
              "  </button>\n",
              "\n",
              "<style>\n",
              "  .colab-df-quickchart {\n",
              "      --bg-color: #E8F0FE;\n",
              "      --fill-color: #1967D2;\n",
              "      --hover-bg-color: #E2EBFA;\n",
              "      --hover-fill-color: #174EA6;\n",
              "      --disabled-fill-color: #AAA;\n",
              "      --disabled-bg-color: #DDD;\n",
              "  }\n",
              "\n",
              "  [theme=dark] .colab-df-quickchart {\n",
              "      --bg-color: #3B4455;\n",
              "      --fill-color: #D2E3FC;\n",
              "      --hover-bg-color: #434B5C;\n",
              "      --hover-fill-color: #FFFFFF;\n",
              "      --disabled-bg-color: #3B4455;\n",
              "      --disabled-fill-color: #666;\n",
              "  }\n",
              "\n",
              "  .colab-df-quickchart {\n",
              "    background-color: var(--bg-color);\n",
              "    border: none;\n",
              "    border-radius: 50%;\n",
              "    cursor: pointer;\n",
              "    display: none;\n",
              "    fill: var(--fill-color);\n",
              "    height: 32px;\n",
              "    padding: 0;\n",
              "    width: 32px;\n",
              "  }\n",
              "\n",
              "  .colab-df-quickchart:hover {\n",
              "    background-color: var(--hover-bg-color);\n",
              "    box-shadow: 0 1px 2px rgba(60, 64, 67, 0.3), 0 1px 3px 1px rgba(60, 64, 67, 0.15);\n",
              "    fill: var(--button-hover-fill-color);\n",
              "  }\n",
              "\n",
              "  .colab-df-quickchart-complete:disabled,\n",
              "  .colab-df-quickchart-complete:disabled:hover {\n",
              "    background-color: var(--disabled-bg-color);\n",
              "    fill: var(--disabled-fill-color);\n",
              "    box-shadow: none;\n",
              "  }\n",
              "\n",
              "  .colab-df-spinner {\n",
              "    border: 2px solid var(--fill-color);\n",
              "    border-color: transparent;\n",
              "    border-bottom-color: var(--fill-color);\n",
              "    animation:\n",
              "      spin 1s steps(1) infinite;\n",
              "  }\n",
              "\n",
              "  @keyframes spin {\n",
              "    0% {\n",
              "      border-color: transparent;\n",
              "      border-bottom-color: var(--fill-color);\n",
              "      border-left-color: var(--fill-color);\n",
              "    }\n",
              "    20% {\n",
              "      border-color: transparent;\n",
              "      border-left-color: var(--fill-color);\n",
              "      border-top-color: var(--fill-color);\n",
              "    }\n",
              "    30% {\n",
              "      border-color: transparent;\n",
              "      border-left-color: var(--fill-color);\n",
              "      border-top-color: var(--fill-color);\n",
              "      border-right-color: var(--fill-color);\n",
              "    }\n",
              "    40% {\n",
              "      border-color: transparent;\n",
              "      border-right-color: var(--fill-color);\n",
              "      border-top-color: var(--fill-color);\n",
              "    }\n",
              "    60% {\n",
              "      border-color: transparent;\n",
              "      border-right-color: var(--fill-color);\n",
              "    }\n",
              "    80% {\n",
              "      border-color: transparent;\n",
              "      border-right-color: var(--fill-color);\n",
              "      border-bottom-color: var(--fill-color);\n",
              "    }\n",
              "    90% {\n",
              "      border-color: transparent;\n",
              "      border-bottom-color: var(--fill-color);\n",
              "    }\n",
              "  }\n",
              "</style>\n",
              "\n",
              "  <script>\n",
              "    async function quickchart(key) {\n",
              "      const quickchartButtonEl =\n",
              "        document.querySelector('#' + key + ' button');\n",
              "      quickchartButtonEl.disabled = true;  // To prevent multiple clicks.\n",
              "      quickchartButtonEl.classList.add('colab-df-spinner');\n",
              "      try {\n",
              "        const charts = await google.colab.kernel.invokeFunction(\n",
              "            'suggestCharts', [key], {});\n",
              "      } catch (error) {\n",
              "        console.error('Error during call to suggestCharts:', error);\n",
              "      }\n",
              "      quickchartButtonEl.classList.remove('colab-df-spinner');\n",
              "      quickchartButtonEl.classList.add('colab-df-quickchart-complete');\n",
              "    }\n",
              "    (() => {\n",
              "      let quickchartButtonEl =\n",
              "        document.querySelector('#df-3e3f144e-1e72-42b2-92d9-1d981e9ec6fd button');\n",
              "      quickchartButtonEl.style.display =\n",
              "        google.colab.kernel.accessAllowed ? 'block' : 'none';\n",
              "    })();\n",
              "  </script>\n",
              "</div>\n",
              "\n",
              "    </div>\n",
              "  </div>\n"
            ],
            "application/vnd.google.colaboratory.intrinsic+json": {
              "type": "dataframe",
              "variable_name": "df",
              "summary": "{\n  \"name\": \"df\",\n  \"rows\": 793,\n  \"fields\": [\n    {\n      \"column\": \"id\",\n      \"properties\": {\n        \"dtype\": \"string\",\n        \"num_unique_values\": 793,\n        \"samples\": [\n          \"bicipalma\",\n          \"capital-bikeshare\",\n          \"vrn-bensheim\"\n        ],\n        \"semantic_type\": \"\",\n        \"description\": \"\"\n      }\n    },\n    {\n      \"column\": \"name\",\n      \"properties\": {\n        \"dtype\": \"string\",\n        \"num_unique_values\": 555,\n        \"samples\": [\n          \"Greenville BCycle\",\n          \"OV-fiets\",\n          \"Bici in Busto\"\n        ],\n        \"semantic_type\": \"\",\n        \"description\": \"\"\n      }\n    },\n    {\n      \"column\": \"location\",\n      \"properties\": {\n        \"dtype\": \"object\",\n        \"semantic_type\": \"\",\n        \"description\": \"\"\n      }\n    },\n    {\n      \"column\": \"href\",\n      \"properties\": {\n        \"dtype\": \"string\",\n        \"num_unique_values\": 793,\n        \"samples\": [\n          \"/v2/networks/bicipalma\",\n          \"/v2/networks/capital-bikeshare\",\n          \"/v2/networks/vrn-bensheim\"\n        ],\n        \"semantic_type\": \"\",\n        \"description\": \"\"\n      }\n    },\n    {\n      \"column\": \"company\",\n      \"properties\": {\n        \"dtype\": \"object\",\n        \"semantic_type\": \"\",\n        \"description\": \"\"\n      }\n    },\n    {\n      \"column\": \"gbfs_href\",\n      \"properties\": {\n        \"dtype\": \"category\",\n        \"num_unique_values\": 166,\n        \"samples\": [\n          \"https://www.mibicitubici.gob.ar/opendata/gbfs.json\",\n          \"https://api.gbfs.v2.2.ecovelo.mobi/tanlib/gbfs.json\",\n          \"https://gbfs.bcycle.com/bcycle_greenbikeslc/gbfs.json\"\n        ],\n        \"semantic_type\": \"\",\n        \"description\": \"\"\n      }\n    },\n    {\n      \"column\": \"system\",\n      \"properties\": {\n        \"dtype\": \"category\",\n        \"num_unique_values\": 41,\n        \"samples\": [\n          \"TFI Bikes\",\n          \"OpenSourceBikeShare\",\n          \"Baksi\"\n        ],\n        \"semantic_type\": \"\",\n        \"description\": \"\"\n      }\n    },\n    {\n      \"column\": \"source\",\n      \"properties\": {\n        \"dtype\": \"category\",\n        \"num_unique_values\": 138,\n        \"samples\": [\n          \"https://www.bicincitta.com/frmLeStazioni.aspx?ID=49\",\n          \"https://www.bicincitta.com/frmLeStazioni.aspx?ID=71\",\n          \"https://www.bicincitta.com/frmLeStazioni.aspx?ID=160\"\n        ],\n        \"semantic_type\": \"\",\n        \"description\": \"\"\n      }\n    },\n    {\n      \"column\": \"ebikes\",\n      \"properties\": {\n        \"dtype\": \"category\",\n        \"num_unique_values\": 1,\n        \"samples\": [\n          true\n        ],\n        \"semantic_type\": \"\",\n        \"description\": \"\"\n      }\n    },\n    {\n      \"column\": \"license\",\n      \"properties\": {\n        \"dtype\": \"object\",\n        \"semantic_type\": \"\",\n        \"description\": \"\"\n      }\n    },\n    {\n      \"column\": \"scooters\",\n      \"properties\": {\n        \"dtype\": \"category\",\n        \"num_unique_values\": 1,\n        \"samples\": [\n          true\n        ],\n        \"semantic_type\": \"\",\n        \"description\": \"\"\n      }\n    },\n    {\n      \"column\": \"instances\",\n      \"properties\": {\n        \"dtype\": \"object\",\n        \"semantic_type\": \"\",\n        \"description\": \"\"\n      }\n    }\n  ]\n}"
            }
          },
          "metadata": {},
          "execution_count": 58
        }
      ]
    },
    {
      "cell_type": "markdown",
      "source": [
        "## 4. Links <a name=\"links\"></a>\n",
        "\n",
        "- Un catálogo de [APIs](https://public-apis.io/)  organizadas por categorías, con detalles sobre autenticación y uso.\n",
        "- [RapidAPI](https://rapidapi.com/hub) un marketplace donde puedes encontrar, probar e integrar APIs en distintos lenguajes.\n",
        "- [API List](https://apilist.fun/) proporciona APIs gratuitas y de pago en varias categorías.\n",
        "- [API Ninjas](https://api-ninjas.com/) Colección de APIs útiles en distintas categorías con documentación detallada."
      ],
      "metadata": {
        "id": "02yk_gPkPobq"
      }
    }
  ]
}